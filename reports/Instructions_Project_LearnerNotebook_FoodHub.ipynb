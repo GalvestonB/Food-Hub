{
  "cells": [
    {
      "cell_type": "markdown",
      "metadata": {
        "id": "Gc8x8QimJY_H"
      },
      "source": [
        "# Project Python Foundations: FoodHub Data Analysis\n",
        "\n",
        "**Marks: 60**"
      ]
    },
    {
      "cell_type": "markdown",
      "metadata": {
        "id": "NqikjkWwJY_L"
      },
      "source": [
        "### Context\n",
        "\n",
        "The number of restaurants in New York is increasing day by day. Lots of students and busy professionals rely on those restaurants due to their hectic lifestyles. Online food delivery service is a great option for them. It provides them with good food from their favorite restaurants. A food aggregator company FoodHub offers access to multiple restaurants through a single smartphone app.\n",
        "\n",
        "The app allows the restaurants to receive a direct online order from a customer. The app assigns a delivery person from the company to pick up the order after it is confirmed by the restaurant. The delivery person then uses the map to reach the restaurant and waits for the food package. Once the food package is handed over to the delivery person, he/she confirms the pick-up in the app and travels to the customer's location to deliver the food. The delivery person confirms the drop-off in the app after delivering the food package to the customer. The customer can rate the order in the app. The food aggregator earns money by collecting a fixed margin of the delivery order from the restaurants.\n",
        "\n",
        "### Objective\n",
        "\n",
        "The food aggregator company has stored the data of the different orders made by the registered customers in their online portal. They want to analyze the data to get a fair idea about the demand of different restaurants which will help them in enhancing their customer experience. Suppose you are hired as a Data Scientist in this company and the Data Science team has shared some of the key questions that need to be answered. Perform the data analysis to find answers to these questions that will help the company to improve the business.\n",
        "\n",
        "### Data Description\n",
        "\n",
        "The data contains the different data related to a food order. The detailed data dictionary is given below.\n",
        "\n",
        "### Data Dictionary\n",
        "\n",
        "* order_id: Unique ID of the order\n",
        "* customer_id: ID of the customer who ordered the food\n",
        "* restaurant_name: Name of the restaurant\n",
        "* cuisine_type: Cuisine ordered by the customer\n",
        "* cost_of_the_order: Cost of the order\n",
        "* day_of_the_week: Indicates whether the order is placed on a weekday or weekend (The weekday is from Monday to Friday and the weekend is Saturday and Sunday)\n",
        "* rating: Rating given by the customer out of 5\n",
        "* food_preparation_time: Time (in minutes) taken by the restaurant to prepare the food. This is calculated by taking the difference between the timestamps of the restaurant's order confirmation and the delivery person's pick-up confirmation.\n",
        "* delivery_time: Time (in minutes) taken by the delivery person to deliver the food package. This is calculated by taking the difference between the timestamps of the delivery person's pick-up confirmation and drop-off information"
      ]
    },
    {
      "cell_type": "markdown",
      "metadata": {
        "id": "cEtNUxNAJY_M"
      },
      "source": [
        "### Let us start by importing the required libraries"
      ]
    },
    {
      "cell_type": "code",
      "execution_count": null,
      "metadata": {
        "id": "u6PlpJAPJY_N"
      },
      "outputs": [],
      "source": [
        "# import libraries for data manipulation\n",
        "import numpy as np\n",
        "import pandas as pd\n",
        "\n",
        "# import libraries for data visualization\n",
        "import matplotlib.pyplot as plt\n",
        "import seaborn as sns\n",
        "\n",
        "# Command to tell Python to actually display the graphs\n",
        "%matplotlib inline\n",
        "pd.set_option(\"display.float_format\", lambda x: \"%.2f\" % x) #to display values up to 2 decimal places"
      ]
    },
    {
      "cell_type": "code",
      "source": [
        "#Seems like a great chance to see how plotly differs from seaborn\n",
        "import plotly.express as px"
      ],
      "metadata": {
        "id": "TOaiHXX0R5Fa"
      },
      "execution_count": null,
      "outputs": []
    },
    {
      "cell_type": "markdown",
      "metadata": {
        "id": "AdracY0HJY_O"
      },
      "source": [
        "### Understanding the structure of the data"
      ]
    },
    {
      "cell_type": "code",
      "source": [
        "# uncomment and run the following lines for Google Colab\n",
        "# from google.colab import drive\n",
        "# drive.mount('/content/foodhub_order.csv')"
      ],
      "metadata": {
        "id": "WBh2ZGB9kFhU"
      },
      "execution_count": null,
      "outputs": []
    },
    {
      "cell_type": "code",
      "execution_count": null,
      "metadata": {
        "id": "GF01IZDbJY_O",
        "scrolled": true,
        "colab": {
          "base_uri": "https://localhost:8080/",
          "height": 206
        },
        "outputId": "50da928c-8955-4fb2-c61a-3f8609c4a648"
      },
      "outputs": [
        {
          "output_type": "execute_result",
          "data": {
            "text/plain": [
              "   order_id  customer_id            restaurant_name cuisine_type  \\\n",
              "0   1477147       337525                    Hangawi       Korean   \n",
              "1   1477685       358141  Blue Ribbon Sushi Izakaya     Japanese   \n",
              "2   1477070        66393                Cafe Habana      Mexican   \n",
              "3   1477334       106968  Blue Ribbon Fried Chicken     American   \n",
              "4   1478249        76942           Dirty Bird to Go     American   \n",
              "\n",
              "   cost_of_the_order day_of_the_week     rating  food_preparation_time  \\\n",
              "0              30.75         Weekend  Not given                     25   \n",
              "1              12.08         Weekend  Not given                     25   \n",
              "2              12.23         Weekday          5                     23   \n",
              "3              29.20         Weekend          3                     25   \n",
              "4              11.59         Weekday          4                     25   \n",
              "\n",
              "   delivery_time  \n",
              "0             20  \n",
              "1             23  \n",
              "2             28  \n",
              "3             15  \n",
              "4             24  "
            ],
            "text/html": [
              "\n",
              "  <div id=\"df-c5fd4fa2-6660-42f6-a6aa-e2b9f809b615\" class=\"colab-df-container\">\n",
              "    <div>\n",
              "<style scoped>\n",
              "    .dataframe tbody tr th:only-of-type {\n",
              "        vertical-align: middle;\n",
              "    }\n",
              "\n",
              "    .dataframe tbody tr th {\n",
              "        vertical-align: top;\n",
              "    }\n",
              "\n",
              "    .dataframe thead th {\n",
              "        text-align: right;\n",
              "    }\n",
              "</style>\n",
              "<table border=\"1\" class=\"dataframe\">\n",
              "  <thead>\n",
              "    <tr style=\"text-align: right;\">\n",
              "      <th></th>\n",
              "      <th>order_id</th>\n",
              "      <th>customer_id</th>\n",
              "      <th>restaurant_name</th>\n",
              "      <th>cuisine_type</th>\n",
              "      <th>cost_of_the_order</th>\n",
              "      <th>day_of_the_week</th>\n",
              "      <th>rating</th>\n",
              "      <th>food_preparation_time</th>\n",
              "      <th>delivery_time</th>\n",
              "    </tr>\n",
              "  </thead>\n",
              "  <tbody>\n",
              "    <tr>\n",
              "      <th>0</th>\n",
              "      <td>1477147</td>\n",
              "      <td>337525</td>\n",
              "      <td>Hangawi</td>\n",
              "      <td>Korean</td>\n",
              "      <td>30.75</td>\n",
              "      <td>Weekend</td>\n",
              "      <td>Not given</td>\n",
              "      <td>25</td>\n",
              "      <td>20</td>\n",
              "    </tr>\n",
              "    <tr>\n",
              "      <th>1</th>\n",
              "      <td>1477685</td>\n",
              "      <td>358141</td>\n",
              "      <td>Blue Ribbon Sushi Izakaya</td>\n",
              "      <td>Japanese</td>\n",
              "      <td>12.08</td>\n",
              "      <td>Weekend</td>\n",
              "      <td>Not given</td>\n",
              "      <td>25</td>\n",
              "      <td>23</td>\n",
              "    </tr>\n",
              "    <tr>\n",
              "      <th>2</th>\n",
              "      <td>1477070</td>\n",
              "      <td>66393</td>\n",
              "      <td>Cafe Habana</td>\n",
              "      <td>Mexican</td>\n",
              "      <td>12.23</td>\n",
              "      <td>Weekday</td>\n",
              "      <td>5</td>\n",
              "      <td>23</td>\n",
              "      <td>28</td>\n",
              "    </tr>\n",
              "    <tr>\n",
              "      <th>3</th>\n",
              "      <td>1477334</td>\n",
              "      <td>106968</td>\n",
              "      <td>Blue Ribbon Fried Chicken</td>\n",
              "      <td>American</td>\n",
              "      <td>29.20</td>\n",
              "      <td>Weekend</td>\n",
              "      <td>3</td>\n",
              "      <td>25</td>\n",
              "      <td>15</td>\n",
              "    </tr>\n",
              "    <tr>\n",
              "      <th>4</th>\n",
              "      <td>1478249</td>\n",
              "      <td>76942</td>\n",
              "      <td>Dirty Bird to Go</td>\n",
              "      <td>American</td>\n",
              "      <td>11.59</td>\n",
              "      <td>Weekday</td>\n",
              "      <td>4</td>\n",
              "      <td>25</td>\n",
              "      <td>24</td>\n",
              "    </tr>\n",
              "  </tbody>\n",
              "</table>\n",
              "</div>\n",
              "    <div class=\"colab-df-buttons\">\n",
              "\n",
              "  <div class=\"colab-df-container\">\n",
              "    <button class=\"colab-df-convert\" onclick=\"convertToInteractive('df-c5fd4fa2-6660-42f6-a6aa-e2b9f809b615')\"\n",
              "            title=\"Convert this dataframe to an interactive table.\"\n",
              "            style=\"display:none;\">\n",
              "\n",
              "  <svg xmlns=\"http://www.w3.org/2000/svg\" height=\"24px\" viewBox=\"0 -960 960 960\">\n",
              "    <path d=\"M120-120v-720h720v720H120Zm60-500h600v-160H180v160Zm220 220h160v-160H400v160Zm0 220h160v-160H400v160ZM180-400h160v-160H180v160Zm440 0h160v-160H620v160ZM180-180h160v-160H180v160Zm440 0h160v-160H620v160Z\"/>\n",
              "  </svg>\n",
              "    </button>\n",
              "\n",
              "  <style>\n",
              "    .colab-df-container {\n",
              "      display:flex;\n",
              "      gap: 12px;\n",
              "    }\n",
              "\n",
              "    .colab-df-convert {\n",
              "      background-color: #E8F0FE;\n",
              "      border: none;\n",
              "      border-radius: 50%;\n",
              "      cursor: pointer;\n",
              "      display: none;\n",
              "      fill: #1967D2;\n",
              "      height: 32px;\n",
              "      padding: 0 0 0 0;\n",
              "      width: 32px;\n",
              "    }\n",
              "\n",
              "    .colab-df-convert:hover {\n",
              "      background-color: #E2EBFA;\n",
              "      box-shadow: 0px 1px 2px rgba(60, 64, 67, 0.3), 0px 1px 3px 1px rgba(60, 64, 67, 0.15);\n",
              "      fill: #174EA6;\n",
              "    }\n",
              "\n",
              "    .colab-df-buttons div {\n",
              "      margin-bottom: 4px;\n",
              "    }\n",
              "\n",
              "    [theme=dark] .colab-df-convert {\n",
              "      background-color: #3B4455;\n",
              "      fill: #D2E3FC;\n",
              "    }\n",
              "\n",
              "    [theme=dark] .colab-df-convert:hover {\n",
              "      background-color: #434B5C;\n",
              "      box-shadow: 0px 1px 3px 1px rgba(0, 0, 0, 0.15);\n",
              "      filter: drop-shadow(0px 1px 2px rgba(0, 0, 0, 0.3));\n",
              "      fill: #FFFFFF;\n",
              "    }\n",
              "  </style>\n",
              "\n",
              "    <script>\n",
              "      const buttonEl =\n",
              "        document.querySelector('#df-c5fd4fa2-6660-42f6-a6aa-e2b9f809b615 button.colab-df-convert');\n",
              "      buttonEl.style.display =\n",
              "        google.colab.kernel.accessAllowed ? 'block' : 'none';\n",
              "\n",
              "      async function convertToInteractive(key) {\n",
              "        const element = document.querySelector('#df-c5fd4fa2-6660-42f6-a6aa-e2b9f809b615');\n",
              "        const dataTable =\n",
              "          await google.colab.kernel.invokeFunction('convertToInteractive',\n",
              "                                                    [key], {});\n",
              "        if (!dataTable) return;\n",
              "\n",
              "        const docLinkHtml = 'Like what you see? Visit the ' +\n",
              "          '<a target=\"_blank\" href=https://colab.research.google.com/notebooks/data_table.ipynb>data table notebook</a>'\n",
              "          + ' to learn more about interactive tables.';\n",
              "        element.innerHTML = '';\n",
              "        dataTable['output_type'] = 'display_data';\n",
              "        await google.colab.output.renderOutput(dataTable, element);\n",
              "        const docLink = document.createElement('div');\n",
              "        docLink.innerHTML = docLinkHtml;\n",
              "        element.appendChild(docLink);\n",
              "      }\n",
              "    </script>\n",
              "  </div>\n",
              "\n",
              "\n",
              "<div id=\"df-053130b0-600c-429a-863b-d092c10df6c9\">\n",
              "  <button class=\"colab-df-quickchart\" onclick=\"quickchart('df-053130b0-600c-429a-863b-d092c10df6c9')\"\n",
              "            title=\"Suggest charts\"\n",
              "            style=\"display:none;\">\n",
              "\n",
              "<svg xmlns=\"http://www.w3.org/2000/svg\" height=\"24px\"viewBox=\"0 0 24 24\"\n",
              "     width=\"24px\">\n",
              "    <g>\n",
              "        <path d=\"M19 3H5c-1.1 0-2 .9-2 2v14c0 1.1.9 2 2 2h14c1.1 0 2-.9 2-2V5c0-1.1-.9-2-2-2zM9 17H7v-7h2v7zm4 0h-2V7h2v10zm4 0h-2v-4h2v4z\"/>\n",
              "    </g>\n",
              "</svg>\n",
              "  </button>\n",
              "\n",
              "<style>\n",
              "  .colab-df-quickchart {\n",
              "      --bg-color: #E8F0FE;\n",
              "      --fill-color: #1967D2;\n",
              "      --hover-bg-color: #E2EBFA;\n",
              "      --hover-fill-color: #174EA6;\n",
              "      --disabled-fill-color: #AAA;\n",
              "      --disabled-bg-color: #DDD;\n",
              "  }\n",
              "\n",
              "  [theme=dark] .colab-df-quickchart {\n",
              "      --bg-color: #3B4455;\n",
              "      --fill-color: #D2E3FC;\n",
              "      --hover-bg-color: #434B5C;\n",
              "      --hover-fill-color: #FFFFFF;\n",
              "      --disabled-bg-color: #3B4455;\n",
              "      --disabled-fill-color: #666;\n",
              "  }\n",
              "\n",
              "  .colab-df-quickchart {\n",
              "    background-color: var(--bg-color);\n",
              "    border: none;\n",
              "    border-radius: 50%;\n",
              "    cursor: pointer;\n",
              "    display: none;\n",
              "    fill: var(--fill-color);\n",
              "    height: 32px;\n",
              "    padding: 0;\n",
              "    width: 32px;\n",
              "  }\n",
              "\n",
              "  .colab-df-quickchart:hover {\n",
              "    background-color: var(--hover-bg-color);\n",
              "    box-shadow: 0 1px 2px rgba(60, 64, 67, 0.3), 0 1px 3px 1px rgba(60, 64, 67, 0.15);\n",
              "    fill: var(--button-hover-fill-color);\n",
              "  }\n",
              "\n",
              "  .colab-df-quickchart-complete:disabled,\n",
              "  .colab-df-quickchart-complete:disabled:hover {\n",
              "    background-color: var(--disabled-bg-color);\n",
              "    fill: var(--disabled-fill-color);\n",
              "    box-shadow: none;\n",
              "  }\n",
              "\n",
              "  .colab-df-spinner {\n",
              "    border: 2px solid var(--fill-color);\n",
              "    border-color: transparent;\n",
              "    border-bottom-color: var(--fill-color);\n",
              "    animation:\n",
              "      spin 1s steps(1) infinite;\n",
              "  }\n",
              "\n",
              "  @keyframes spin {\n",
              "    0% {\n",
              "      border-color: transparent;\n",
              "      border-bottom-color: var(--fill-color);\n",
              "      border-left-color: var(--fill-color);\n",
              "    }\n",
              "    20% {\n",
              "      border-color: transparent;\n",
              "      border-left-color: var(--fill-color);\n",
              "      border-top-color: var(--fill-color);\n",
              "    }\n",
              "    30% {\n",
              "      border-color: transparent;\n",
              "      border-left-color: var(--fill-color);\n",
              "      border-top-color: var(--fill-color);\n",
              "      border-right-color: var(--fill-color);\n",
              "    }\n",
              "    40% {\n",
              "      border-color: transparent;\n",
              "      border-right-color: var(--fill-color);\n",
              "      border-top-color: var(--fill-color);\n",
              "    }\n",
              "    60% {\n",
              "      border-color: transparent;\n",
              "      border-right-color: var(--fill-color);\n",
              "    }\n",
              "    80% {\n",
              "      border-color: transparent;\n",
              "      border-right-color: var(--fill-color);\n",
              "      border-bottom-color: var(--fill-color);\n",
              "    }\n",
              "    90% {\n",
              "      border-color: transparent;\n",
              "      border-bottom-color: var(--fill-color);\n",
              "    }\n",
              "  }\n",
              "</style>\n",
              "\n",
              "  <script>\n",
              "    async function quickchart(key) {\n",
              "      const quickchartButtonEl =\n",
              "        document.querySelector('#' + key + ' button');\n",
              "      quickchartButtonEl.disabled = true;  // To prevent multiple clicks.\n",
              "      quickchartButtonEl.classList.add('colab-df-spinner');\n",
              "      try {\n",
              "        const charts = await google.colab.kernel.invokeFunction(\n",
              "            'suggestCharts', [key], {});\n",
              "      } catch (error) {\n",
              "        console.error('Error during call to suggestCharts:', error);\n",
              "      }\n",
              "      quickchartButtonEl.classList.remove('colab-df-spinner');\n",
              "      quickchartButtonEl.classList.add('colab-df-quickchart-complete');\n",
              "    }\n",
              "    (() => {\n",
              "      let quickchartButtonEl =\n",
              "        document.querySelector('#df-053130b0-600c-429a-863b-d092c10df6c9 button');\n",
              "      quickchartButtonEl.style.display =\n",
              "        google.colab.kernel.accessAllowed ? 'block' : 'none';\n",
              "    })();\n",
              "  </script>\n",
              "</div>\n",
              "\n",
              "    </div>\n",
              "  </div>\n"
            ],
            "application/vnd.google.colaboratory.intrinsic+json": {
              "type": "dataframe",
              "variable_name": "df",
              "summary": "{\n  \"name\": \"df\",\n  \"rows\": 1898,\n  \"fields\": [\n    {\n      \"column\": \"order_id\",\n      \"properties\": {\n        \"dtype\": \"number\",\n        \"std\": 548,\n        \"min\": 1476547,\n        \"max\": 1478444,\n        \"num_unique_values\": 1898,\n        \"samples\": [\n          1477722,\n          1478319,\n          1477650\n        ],\n        \"semantic_type\": \"\",\n        \"description\": \"\"\n      }\n    },\n    {\n      \"column\": \"customer_id\",\n      \"properties\": {\n        \"dtype\": \"number\",\n        \"std\": 113698,\n        \"min\": 1311,\n        \"max\": 405334,\n        \"num_unique_values\": 1200,\n        \"samples\": [\n          351329,\n          49987,\n          345899\n        ],\n        \"semantic_type\": \"\",\n        \"description\": \"\"\n      }\n    },\n    {\n      \"column\": \"restaurant_name\",\n      \"properties\": {\n        \"dtype\": \"category\",\n        \"num_unique_values\": 178,\n        \"samples\": [\n          \"Tortaria\",\n          \"Osteria Morini\",\n          \"Philippe Chow\"\n        ],\n        \"semantic_type\": \"\",\n        \"description\": \"\"\n      }\n    },\n    {\n      \"column\": \"cuisine_type\",\n      \"properties\": {\n        \"dtype\": \"category\",\n        \"num_unique_values\": 14,\n        \"samples\": [\n          \"Thai\",\n          \"French\",\n          \"Korean\"\n        ],\n        \"semantic_type\": \"\",\n        \"description\": \"\"\n      }\n    },\n    {\n      \"column\": \"cost_of_the_order\",\n      \"properties\": {\n        \"dtype\": \"number\",\n        \"std\": 7.48381211004957,\n        \"min\": 4.47,\n        \"max\": 35.41,\n        \"num_unique_values\": 312,\n        \"samples\": [\n          21.29,\n          7.18,\n          13.34\n        ],\n        \"semantic_type\": \"\",\n        \"description\": \"\"\n      }\n    },\n    {\n      \"column\": \"day_of_the_week\",\n      \"properties\": {\n        \"dtype\": \"category\",\n        \"num_unique_values\": 2,\n        \"samples\": [\n          \"Weekday\",\n          \"Weekend\"\n        ],\n        \"semantic_type\": \"\",\n        \"description\": \"\"\n      }\n    },\n    {\n      \"column\": \"rating\",\n      \"properties\": {\n        \"dtype\": \"category\",\n        \"num_unique_values\": 4,\n        \"samples\": [\n          \"5\",\n          \"4\"\n        ],\n        \"semantic_type\": \"\",\n        \"description\": \"\"\n      }\n    },\n    {\n      \"column\": \"food_preparation_time\",\n      \"properties\": {\n        \"dtype\": \"number\",\n        \"std\": 4,\n        \"min\": 20,\n        \"max\": 35,\n        \"num_unique_values\": 16,\n        \"samples\": [\n          25,\n          23\n        ],\n        \"semantic_type\": \"\",\n        \"description\": \"\"\n      }\n    },\n    {\n      \"column\": \"delivery_time\",\n      \"properties\": {\n        \"dtype\": \"number\",\n        \"std\": 4,\n        \"min\": 15,\n        \"max\": 33,\n        \"num_unique_values\": 19,\n        \"samples\": [\n          20,\n          21\n        ],\n        \"semantic_type\": \"\",\n        \"description\": \"\"\n      }\n    }\n  ]\n}"
            }
          },
          "metadata": {},
          "execution_count": 74
        }
      ],
      "source": [
        "# read the data\n",
        "df = pd.read_csv('foodhub_order.csv')\n",
        "# returns the first 5 rows\n",
        "df.head()"
      ]
    },
    {
      "cell_type": "markdown",
      "metadata": {
        "id": "J_Y9aJDJJY_P"
      },
      "source": [
        "#### **Observations:**\n",
        "\n",
        "The DataFrame has 9 columns as mentioned in the Data Dictionary. Data in each row corresponds to the order placed by a customer.\n",
        "Already I notice that some of the ratings are marked \"Not Given\", and I assume ratings are given on a 5 point scale?"
      ]
    },
    {
      "cell_type": "markdown",
      "metadata": {
        "id": "c3kenV4vJY_Q"
      },
      "source": [
        "### **Question 1:** How many rows and columns are present in the data? [0.5 mark]"
      ]
    },
    {
      "cell_type": "code",
      "execution_count": null,
      "metadata": {
        "id": "Yvz5i-PhJY_Q",
        "colab": {
          "base_uri": "https://localhost:8080/"
        },
        "outputId": "6d92b651-b2d7-4db0-8913-15b4ade29dc4"
      },
      "outputs": [
        {
          "output_type": "execute_result",
          "data": {
            "text/plain": [
              "(1898, 9)"
            ]
          },
          "metadata": {},
          "execution_count": 195
        }
      ],
      "source": [
        "#Delineate the size of the matrix.\n",
        "df.shape"
      ]
    },
    {
      "cell_type": "markdown",
      "metadata": {
        "id": "UsTNy3unJY_R"
      },
      "source": [
        "#### **Observations:**\n",
        "There are 1898 orders spread across 9 rows of data, **including** order_id which probably has no significance.\n"
      ]
    },
    {
      "cell_type": "markdown",
      "metadata": {
        "id": "jRXakVrUJY_R"
      },
      "source": [
        "### **Question 2:** What are the datatypes of the different columns in the dataset? (The info() function can be used) [0.5 mark]"
      ]
    },
    {
      "cell_type": "code",
      "execution_count": null,
      "metadata": {
        "id": "Kp70Z0BNJY_R",
        "colab": {
          "base_uri": "https://localhost:8080/"
        },
        "outputId": "d7a79f6d-91a5-49d3-9e10-953b98991c53"
      },
      "outputs": [
        {
          "output_type": "stream",
          "name": "stdout",
          "text": [
            "<class 'pandas.core.frame.DataFrame'>\n",
            "RangeIndex: 1898 entries, 0 to 1897\n",
            "Data columns (total 9 columns):\n",
            " #   Column                 Non-Null Count  Dtype  \n",
            "---  ------                 --------------  -----  \n",
            " 0   order_id               1898 non-null   int64  \n",
            " 1   customer_id            1898 non-null   int64  \n",
            " 2   restaurant_name        1898 non-null   object \n",
            " 3   cuisine_type           1898 non-null   object \n",
            " 4   cost_of_the_order      1898 non-null   float64\n",
            " 5   day_of_the_week        1898 non-null   object \n",
            " 6   rating                 1898 non-null   object \n",
            " 7   food_preparation_time  1898 non-null   int64  \n",
            " 8   delivery_time          1898 non-null   int64  \n",
            "dtypes: float64(1), int64(4), object(4)\n",
            "memory usage: 133.6+ KB\n"
          ]
        }
      ],
      "source": [
        "# Use info() to print a concise summary of the DataFrame\n",
        "df.info()"
      ]
    },
    {
      "cell_type": "markdown",
      "metadata": {
        "id": "WJes5GP2JY_S"
      },
      "source": [
        "#### **Observations:**\n",
        "The nine rows of data have no missing entries, which is good.\n",
        "Integers include the order_id, customer_id, food_prep_time, and delivery_time, which are all numeric.\n",
        "(Are there duplicate customers?) (can we set up a scale of speed for both food prep and delivery, e.g. fast, appropriate, slow?)\n",
        "Restaurant_names, and cuisine types are objects - need to check into how many types of cuisines, and if any overlap or are coded similarly.\n",
        "The cost of the order is a float, appropriately.\n",
        "The day of the week and the ratings are both objects, but perhaps should be a boolean value and categories, respectively.\n",
        "\n"
      ]
    },
    {
      "cell_type": "markdown",
      "metadata": {
        "id": "pF_92MN6JY_S"
      },
      "source": [
        "### **Question 3:** Are there any missing values in the data? If yes, treat them using an appropriate method. [1 mark]"
      ]
    },
    {
      "cell_type": "code",
      "execution_count": null,
      "metadata": {
        "id": "Zth-RR1PJY_S",
        "colab": {
          "base_uri": "https://localhost:8080/"
        },
        "outputId": "1a9a73d3-7d7c-400e-b7d2-7ca49c64fa68"
      },
      "outputs": [
        {
          "output_type": "execute_result",
          "data": {
            "text/plain": [
              "order_id                 0\n",
              "customer_id              0\n",
              "restaurant_name          0\n",
              "cuisine_type             0\n",
              "cost_of_the_order        0\n",
              "day_of_the_week          0\n",
              "rating                   0\n",
              "food_preparation_time    0\n",
              "delivery_time            0\n",
              "dtype: int64"
            ]
          },
          "metadata": {},
          "execution_count": 75
        }
      ],
      "source": [
        "#Double checking that there are no missing values\n",
        "df.isnull().sum()"
      ]
    },
    {
      "cell_type": "markdown",
      "metadata": {
        "id": "jDHT3vD1JY_S"
      },
      "source": [
        "#### **Observations:**\n",
        "There does not seem to be any missing values, though some values may still be NaN or inappropriate responses."
      ]
    },
    {
      "cell_type": "markdown",
      "metadata": {
        "id": "MnJo7MWrJY_S"
      },
      "source": [
        "### **Question 4:** Check the statistical summary of the data. What is the minimum, average, and maximum time it takes for food to be prepared once an order is placed? [2 marks]"
      ]
    },
    {
      "cell_type": "code",
      "execution_count": null,
      "metadata": {
        "id": "WprQBgOSJY_T",
        "colab": {
          "base_uri": "https://localhost:8080/",
          "height": 206
        },
        "outputId": "a43175b0-fd2b-4ec0-86c2-c57700b311cf"
      },
      "outputs": [
        {
          "output_type": "execute_result",
          "data": {
            "text/plain": [
              "                        count       mean       std        min        25%  \\\n",
              "order_id              1898.00 1477496.00    548.00 1476547.00 1477021.00   \n",
              "customer_id           1898.00  171168.00 113698.00    1311.00   77788.00   \n",
              "cost_of_the_order     1898.00      16.00      7.00       4.00      12.00   \n",
              "food_preparation_time 1898.00      27.00      5.00      20.00      23.00   \n",
              "delivery_time         1898.00      24.00      5.00      15.00      20.00   \n",
              "\n",
              "                             50%        75%        max  \n",
              "order_id              1477496.00 1477970.00 1478444.00  \n",
              "customer_id            128600.00  270525.00  405334.00  \n",
              "cost_of_the_order          14.00      22.00      35.00  \n",
              "food_preparation_time      27.00      31.00      35.00  \n",
              "delivery_time              25.00      28.00      33.00  "
            ],
            "text/html": [
              "\n",
              "  <div id=\"df-f6cdc6ee-5840-41d9-8678-b782a4373355\" class=\"colab-df-container\">\n",
              "    <div>\n",
              "<style scoped>\n",
              "    .dataframe tbody tr th:only-of-type {\n",
              "        vertical-align: middle;\n",
              "    }\n",
              "\n",
              "    .dataframe tbody tr th {\n",
              "        vertical-align: top;\n",
              "    }\n",
              "\n",
              "    .dataframe thead th {\n",
              "        text-align: right;\n",
              "    }\n",
              "</style>\n",
              "<table border=\"1\" class=\"dataframe\">\n",
              "  <thead>\n",
              "    <tr style=\"text-align: right;\">\n",
              "      <th></th>\n",
              "      <th>count</th>\n",
              "      <th>mean</th>\n",
              "      <th>std</th>\n",
              "      <th>min</th>\n",
              "      <th>25%</th>\n",
              "      <th>50%</th>\n",
              "      <th>75%</th>\n",
              "      <th>max</th>\n",
              "    </tr>\n",
              "  </thead>\n",
              "  <tbody>\n",
              "    <tr>\n",
              "      <th>order_id</th>\n",
              "      <td>1898.00</td>\n",
              "      <td>1477496.00</td>\n",
              "      <td>548.00</td>\n",
              "      <td>1476547.00</td>\n",
              "      <td>1477021.00</td>\n",
              "      <td>1477496.00</td>\n",
              "      <td>1477970.00</td>\n",
              "      <td>1478444.00</td>\n",
              "    </tr>\n",
              "    <tr>\n",
              "      <th>customer_id</th>\n",
              "      <td>1898.00</td>\n",
              "      <td>171168.00</td>\n",
              "      <td>113698.00</td>\n",
              "      <td>1311.00</td>\n",
              "      <td>77788.00</td>\n",
              "      <td>128600.00</td>\n",
              "      <td>270525.00</td>\n",
              "      <td>405334.00</td>\n",
              "    </tr>\n",
              "    <tr>\n",
              "      <th>cost_of_the_order</th>\n",
              "      <td>1898.00</td>\n",
              "      <td>16.00</td>\n",
              "      <td>7.00</td>\n",
              "      <td>4.00</td>\n",
              "      <td>12.00</td>\n",
              "      <td>14.00</td>\n",
              "      <td>22.00</td>\n",
              "      <td>35.00</td>\n",
              "    </tr>\n",
              "    <tr>\n",
              "      <th>food_preparation_time</th>\n",
              "      <td>1898.00</td>\n",
              "      <td>27.00</td>\n",
              "      <td>5.00</td>\n",
              "      <td>20.00</td>\n",
              "      <td>23.00</td>\n",
              "      <td>27.00</td>\n",
              "      <td>31.00</td>\n",
              "      <td>35.00</td>\n",
              "    </tr>\n",
              "    <tr>\n",
              "      <th>delivery_time</th>\n",
              "      <td>1898.00</td>\n",
              "      <td>24.00</td>\n",
              "      <td>5.00</td>\n",
              "      <td>15.00</td>\n",
              "      <td>20.00</td>\n",
              "      <td>25.00</td>\n",
              "      <td>28.00</td>\n",
              "      <td>33.00</td>\n",
              "    </tr>\n",
              "  </tbody>\n",
              "</table>\n",
              "</div>\n",
              "    <div class=\"colab-df-buttons\">\n",
              "\n",
              "  <div class=\"colab-df-container\">\n",
              "    <button class=\"colab-df-convert\" onclick=\"convertToInteractive('df-f6cdc6ee-5840-41d9-8678-b782a4373355')\"\n",
              "            title=\"Convert this dataframe to an interactive table.\"\n",
              "            style=\"display:none;\">\n",
              "\n",
              "  <svg xmlns=\"http://www.w3.org/2000/svg\" height=\"24px\" viewBox=\"0 -960 960 960\">\n",
              "    <path d=\"M120-120v-720h720v720H120Zm60-500h600v-160H180v160Zm220 220h160v-160H400v160Zm0 220h160v-160H400v160ZM180-400h160v-160H180v160Zm440 0h160v-160H620v160ZM180-180h160v-160H180v160Zm440 0h160v-160H620v160Z\"/>\n",
              "  </svg>\n",
              "    </button>\n",
              "\n",
              "  <style>\n",
              "    .colab-df-container {\n",
              "      display:flex;\n",
              "      gap: 12px;\n",
              "    }\n",
              "\n",
              "    .colab-df-convert {\n",
              "      background-color: #E8F0FE;\n",
              "      border: none;\n",
              "      border-radius: 50%;\n",
              "      cursor: pointer;\n",
              "      display: none;\n",
              "      fill: #1967D2;\n",
              "      height: 32px;\n",
              "      padding: 0 0 0 0;\n",
              "      width: 32px;\n",
              "    }\n",
              "\n",
              "    .colab-df-convert:hover {\n",
              "      background-color: #E2EBFA;\n",
              "      box-shadow: 0px 1px 2px rgba(60, 64, 67, 0.3), 0px 1px 3px 1px rgba(60, 64, 67, 0.15);\n",
              "      fill: #174EA6;\n",
              "    }\n",
              "\n",
              "    .colab-df-buttons div {\n",
              "      margin-bottom: 4px;\n",
              "    }\n",
              "\n",
              "    [theme=dark] .colab-df-convert {\n",
              "      background-color: #3B4455;\n",
              "      fill: #D2E3FC;\n",
              "    }\n",
              "\n",
              "    [theme=dark] .colab-df-convert:hover {\n",
              "      background-color: #434B5C;\n",
              "      box-shadow: 0px 1px 3px 1px rgba(0, 0, 0, 0.15);\n",
              "      filter: drop-shadow(0px 1px 2px rgba(0, 0, 0, 0.3));\n",
              "      fill: #FFFFFF;\n",
              "    }\n",
              "  </style>\n",
              "\n",
              "    <script>\n",
              "      const buttonEl =\n",
              "        document.querySelector('#df-f6cdc6ee-5840-41d9-8678-b782a4373355 button.colab-df-convert');\n",
              "      buttonEl.style.display =\n",
              "        google.colab.kernel.accessAllowed ? 'block' : 'none';\n",
              "\n",
              "      async function convertToInteractive(key) {\n",
              "        const element = document.querySelector('#df-f6cdc6ee-5840-41d9-8678-b782a4373355');\n",
              "        const dataTable =\n",
              "          await google.colab.kernel.invokeFunction('convertToInteractive',\n",
              "                                                    [key], {});\n",
              "        if (!dataTable) return;\n",
              "\n",
              "        const docLinkHtml = 'Like what you see? Visit the ' +\n",
              "          '<a target=\"_blank\" href=https://colab.research.google.com/notebooks/data_table.ipynb>data table notebook</a>'\n",
              "          + ' to learn more about interactive tables.';\n",
              "        element.innerHTML = '';\n",
              "        dataTable['output_type'] = 'display_data';\n",
              "        await google.colab.output.renderOutput(dataTable, element);\n",
              "        const docLink = document.createElement('div');\n",
              "        docLink.innerHTML = docLinkHtml;\n",
              "        element.appendChild(docLink);\n",
              "      }\n",
              "    </script>\n",
              "  </div>\n",
              "\n",
              "\n",
              "<div id=\"df-a02fd343-7b2a-441c-922d-dc43e8b39b6f\">\n",
              "  <button class=\"colab-df-quickchart\" onclick=\"quickchart('df-a02fd343-7b2a-441c-922d-dc43e8b39b6f')\"\n",
              "            title=\"Suggest charts\"\n",
              "            style=\"display:none;\">\n",
              "\n",
              "<svg xmlns=\"http://www.w3.org/2000/svg\" height=\"24px\"viewBox=\"0 0 24 24\"\n",
              "     width=\"24px\">\n",
              "    <g>\n",
              "        <path d=\"M19 3H5c-1.1 0-2 .9-2 2v14c0 1.1.9 2 2 2h14c1.1 0 2-.9 2-2V5c0-1.1-.9-2-2-2zM9 17H7v-7h2v7zm4 0h-2V7h2v10zm4 0h-2v-4h2v4z\"/>\n",
              "    </g>\n",
              "</svg>\n",
              "  </button>\n",
              "\n",
              "<style>\n",
              "  .colab-df-quickchart {\n",
              "      --bg-color: #E8F0FE;\n",
              "      --fill-color: #1967D2;\n",
              "      --hover-bg-color: #E2EBFA;\n",
              "      --hover-fill-color: #174EA6;\n",
              "      --disabled-fill-color: #AAA;\n",
              "      --disabled-bg-color: #DDD;\n",
              "  }\n",
              "\n",
              "  [theme=dark] .colab-df-quickchart {\n",
              "      --bg-color: #3B4455;\n",
              "      --fill-color: #D2E3FC;\n",
              "      --hover-bg-color: #434B5C;\n",
              "      --hover-fill-color: #FFFFFF;\n",
              "      --disabled-bg-color: #3B4455;\n",
              "      --disabled-fill-color: #666;\n",
              "  }\n",
              "\n",
              "  .colab-df-quickchart {\n",
              "    background-color: var(--bg-color);\n",
              "    border: none;\n",
              "    border-radius: 50%;\n",
              "    cursor: pointer;\n",
              "    display: none;\n",
              "    fill: var(--fill-color);\n",
              "    height: 32px;\n",
              "    padding: 0;\n",
              "    width: 32px;\n",
              "  }\n",
              "\n",
              "  .colab-df-quickchart:hover {\n",
              "    background-color: var(--hover-bg-color);\n",
              "    box-shadow: 0 1px 2px rgba(60, 64, 67, 0.3), 0 1px 3px 1px rgba(60, 64, 67, 0.15);\n",
              "    fill: var(--button-hover-fill-color);\n",
              "  }\n",
              "\n",
              "  .colab-df-quickchart-complete:disabled,\n",
              "  .colab-df-quickchart-complete:disabled:hover {\n",
              "    background-color: var(--disabled-bg-color);\n",
              "    fill: var(--disabled-fill-color);\n",
              "    box-shadow: none;\n",
              "  }\n",
              "\n",
              "  .colab-df-spinner {\n",
              "    border: 2px solid var(--fill-color);\n",
              "    border-color: transparent;\n",
              "    border-bottom-color: var(--fill-color);\n",
              "    animation:\n",
              "      spin 1s steps(1) infinite;\n",
              "  }\n",
              "\n",
              "  @keyframes spin {\n",
              "    0% {\n",
              "      border-color: transparent;\n",
              "      border-bottom-color: var(--fill-color);\n",
              "      border-left-color: var(--fill-color);\n",
              "    }\n",
              "    20% {\n",
              "      border-color: transparent;\n",
              "      border-left-color: var(--fill-color);\n",
              "      border-top-color: var(--fill-color);\n",
              "    }\n",
              "    30% {\n",
              "      border-color: transparent;\n",
              "      border-left-color: var(--fill-color);\n",
              "      border-top-color: var(--fill-color);\n",
              "      border-right-color: var(--fill-color);\n",
              "    }\n",
              "    40% {\n",
              "      border-color: transparent;\n",
              "      border-right-color: var(--fill-color);\n",
              "      border-top-color: var(--fill-color);\n",
              "    }\n",
              "    60% {\n",
              "      border-color: transparent;\n",
              "      border-right-color: var(--fill-color);\n",
              "    }\n",
              "    80% {\n",
              "      border-color: transparent;\n",
              "      border-right-color: var(--fill-color);\n",
              "      border-bottom-color: var(--fill-color);\n",
              "    }\n",
              "    90% {\n",
              "      border-color: transparent;\n",
              "      border-bottom-color: var(--fill-color);\n",
              "    }\n",
              "  }\n",
              "</style>\n",
              "\n",
              "  <script>\n",
              "    async function quickchart(key) {\n",
              "      const quickchartButtonEl =\n",
              "        document.querySelector('#' + key + ' button');\n",
              "      quickchartButtonEl.disabled = true;  // To prevent multiple clicks.\n",
              "      quickchartButtonEl.classList.add('colab-df-spinner');\n",
              "      try {\n",
              "        const charts = await google.colab.kernel.invokeFunction(\n",
              "            'suggestCharts', [key], {});\n",
              "      } catch (error) {\n",
              "        console.error('Error during call to suggestCharts:', error);\n",
              "      }\n",
              "      quickchartButtonEl.classList.remove('colab-df-spinner');\n",
              "      quickchartButtonEl.classList.add('colab-df-quickchart-complete');\n",
              "    }\n",
              "    (() => {\n",
              "      let quickchartButtonEl =\n",
              "        document.querySelector('#df-a02fd343-7b2a-441c-922d-dc43e8b39b6f button');\n",
              "      quickchartButtonEl.style.display =\n",
              "        google.colab.kernel.accessAllowed ? 'block' : 'none';\n",
              "    })();\n",
              "  </script>\n",
              "</div>\n",
              "\n",
              "    </div>\n",
              "  </div>\n"
            ],
            "application/vnd.google.colaboratory.intrinsic+json": {
              "type": "dataframe",
              "summary": "{\n  \"name\": \"df\",\n  \"rows\": 5,\n  \"fields\": [\n    {\n      \"column\": \"count\",\n      \"properties\": {\n        \"dtype\": \"number\",\n        \"std\": 0.0,\n        \"min\": 1898.0,\n        \"max\": 1898.0,\n        \"num_unique_values\": 1,\n        \"samples\": [\n          1898.0\n        ],\n        \"semantic_type\": \"\",\n        \"description\": \"\"\n      }\n    },\n    {\n      \"column\": \"mean\",\n      \"properties\": {\n        \"dtype\": \"number\",\n        \"std\": 645877.3362119157,\n        \"min\": 16.0,\n        \"max\": 1477496.0,\n        \"num_unique_values\": 5,\n        \"samples\": [\n          171168.0\n        ],\n        \"semantic_type\": \"\",\n        \"description\": \"\"\n      }\n    },\n    {\n      \"column\": \"std\",\n      \"properties\": {\n        \"dtype\": \"number\",\n        \"std\": 50784.6654345581,\n        \"min\": 5.0,\n        \"max\": 113698.0,\n        \"num_unique_values\": 4,\n        \"samples\": [\n          113698.0\n        ],\n        \"semantic_type\": \"\",\n        \"description\": \"\"\n      }\n    },\n    {\n      \"column\": \"min\",\n      \"properties\": {\n        \"dtype\": \"number\",\n        \"std\": 660181.1974846754,\n        \"min\": 4.0,\n        \"max\": 1476547.0,\n        \"num_unique_values\": 5,\n        \"samples\": [\n          1311.0\n        ],\n        \"semantic_type\": \"\",\n        \"description\": \"\"\n      }\n    },\n    {\n      \"column\": \"25%\",\n      \"properties\": {\n        \"dtype\": \"number\",\n        \"std\": 652710.0422007462,\n        \"min\": 12.0,\n        \"max\": 1477021.0,\n        \"num_unique_values\": 5,\n        \"samples\": [\n          77788.0\n        ],\n        \"semantic_type\": \"\",\n        \"description\": \"\"\n      }\n    },\n    {\n      \"column\": \"50%\",\n      \"properties\": {\n        \"dtype\": \"number\",\n        \"std\": 648764.4251801266,\n        \"min\": 14.0,\n        \"max\": 1477496.0,\n        \"num_unique_values\": 5,\n        \"samples\": [\n          128600.0\n        ],\n        \"semantic_type\": \"\",\n        \"description\": \"\"\n      }\n    },\n    {\n      \"column\": \"75%\",\n      \"properties\": {\n        \"dtype\": \"number\",\n        \"std\": 641497.3681159572,\n        \"min\": 22.0,\n        \"max\": 1477970.0,\n        \"num_unique_values\": 5,\n        \"samples\": [\n          270525.0\n        ],\n        \"semantic_type\": \"\",\n        \"description\": \"\"\n      }\n    },\n    {\n      \"column\": \"max\",\n      \"properties\": {\n        \"dtype\": \"number\",\n        \"std\": 640369.1887885457,\n        \"min\": 33.0,\n        \"max\": 1478444.0,\n        \"num_unique_values\": 4,\n        \"samples\": [\n          405334.0\n        ],\n        \"semantic_type\": \"\",\n        \"description\": \"\"\n      }\n    }\n  ]\n}"
            }
          },
          "metadata": {},
          "execution_count": 6
        }
      ],
      "source": [
        "#code to give 5-number summary, transposed for easier reading\n",
        "df.describe().T.round()"
      ]
    },
    {
      "cell_type": "markdown",
      "metadata": {
        "id": "9YbSOR5wJY_T"
      },
      "source": [
        "#### **Observations:**\n",
        "Of the 1898 orders, the average cost is 16 dollars, though it ranges from 4 to 35 dollars.\n",
        "Half of the orders are actually lower at 14 dollars.\n",
        "The average time to prepare food is almost half an hour at 27 minutes, though it may range from 20 to 35 minutes, a difference of only fifteen minutes.\n",
        "Delivery times averages just less at 24 minutes, ranging from 15 to 33 minutes, a three minute longer range."
      ]
    },
    {
      "cell_type": "markdown",
      "metadata": {
        "id": "cw3l58z_JY_T"
      },
      "source": [
        "### **Question 5:** How many orders are not rated? [1 mark]"
      ]
    },
    {
      "cell_type": "code",
      "source": [
        "#code to count number of ratings\n",
        "df['rating'].value_counts()"
      ],
      "metadata": {
        "colab": {
          "base_uri": "https://localhost:8080/"
        },
        "id": "Y5snUxjmn2ew",
        "outputId": "4245ee3d-8f80-4702-9dc8-8d75c27232e0"
      },
      "execution_count": null,
      "outputs": [
        {
          "output_type": "execute_result",
          "data": {
            "text/plain": [
              "Not given    736\n",
              "5            588\n",
              "4            386\n",
              "3            188\n",
              "Name: rating, dtype: int64"
            ]
          },
          "metadata": {},
          "execution_count": 76
        }
      ]
    },
    {
      "cell_type": "code",
      "source": [
        "#code to count percentage of ratings\n",
        "df['rating'].value_counts(normalize=True)"
      ],
      "metadata": {
        "id": "hEzDUL9wgksi",
        "colab": {
          "base_uri": "https://localhost:8080/"
        },
        "outputId": "39de3845-0528-4c5f-a4b0-a14f5af0560c"
      },
      "execution_count": null,
      "outputs": [
        {
          "output_type": "execute_result",
          "data": {
            "text/plain": [
              "Not given   0.39\n",
              "5           0.31\n",
              "4           0.20\n",
              "3           0.10\n",
              "Name: rating, dtype: float64"
            ]
          },
          "metadata": {},
          "execution_count": 78
        }
      ]
    },
    {
      "cell_type": "markdown",
      "metadata": {
        "id": "5E0O_oviJY_T"
      },
      "source": [
        "#### **Observations:**\n",
        "736 orders (39%) have ratings that are 'not given'. This is a significant portion and needs to be considered. It is interesting that the lowest rating is a 3, and this includes only 10% of the orders; can some of the 'not given' ratings reflect people who did not want to give poor ratings?"
      ]
    },
    {
      "cell_type": "markdown",
      "metadata": {
        "id": "7msIfXE-JY_T"
      },
      "source": [
        "### Exploratory Data Analysis (EDA)"
      ]
    },
    {
      "cell_type": "markdown",
      "metadata": {
        "id": "-2xfI28YJY_T"
      },
      "source": [
        "### Univariate Analysis"
      ]
    },
    {
      "cell_type": "markdown",
      "metadata": {
        "id": "0RHZnugBJY_U"
      },
      "source": [
        "### **Question 6:** Explore all the variables and provide observations on their distributions. (Generally, histograms, boxplots, countplots, etc. are used for univariate exploration.) [9 marks]"
      ]
    },
    {
      "cell_type": "markdown",
      "source": [
        "##### Question 6: Customer ID"
      ],
      "metadata": {
        "id": "GdPku9U0TdSH"
      }
    },
    {
      "cell_type": "code",
      "execution_count": null,
      "metadata": {
        "id": "rU5ZqISjJY_U",
        "colab": {
          "base_uri": "https://localhost:8080/"
        },
        "outputId": "f1b7ea81-17fd-4e28-8d5d-fd3f3361e10f"
      },
      "outputs": [
        {
          "output_type": "execute_result",
          "data": {
            "text/plain": [
              "1200"
            ]
          },
          "metadata": {},
          "execution_count": 134
        }
      ],
      "source": [
        "#how many unique customers are in the dataframe?\n",
        "df['customer_id'].nunique()"
      ]
    },
    {
      "cell_type": "code",
      "source": [
        "#which customers order repeatedly and how many times?\n",
        "df['customer_id'].value_counts()"
      ],
      "metadata": {
        "colab": {
          "base_uri": "https://localhost:8080/"
        },
        "id": "J4i1io2tEOV4",
        "outputId": "44c701b0-bf4f-4d29-b452-90618d66b6c7"
      },
      "execution_count": null,
      "outputs": [
        {
          "output_type": "execute_result",
          "data": {
            "text/plain": [
              "52832     13\n",
              "47440     10\n",
              "83287      9\n",
              "250494     8\n",
              "259341     7\n",
              "          ..\n",
              "385426     1\n",
              "254913     1\n",
              "289597     1\n",
              "74412      1\n",
              "397537     1\n",
              "Name: customer_id, Length: 1200, dtype: int64"
            ]
          },
          "metadata": {},
          "execution_count": 135
        }
      ]
    },
    {
      "cell_type": "code",
      "source": [
        "#a graph gives the frequency of repeated orders\n",
        "sns.histplot(df['customer_id'].value_counts());"
      ],
      "metadata": {
        "colab": {
          "base_uri": "https://localhost:8080/",
          "height": 450
        },
        "id": "1XzrxAo7KMmY",
        "outputId": "225432b2-83a7-44d6-fae3-c1b190b03a47"
      },
      "execution_count": null,
      "outputs": [
        {
          "output_type": "display_data",
          "data": {
            "text/plain": [
              "<Figure size 640x480 with 1 Axes>"
            ],
            "image/png": "[encoded data removed]"
          },
          "metadata": {}
        }
      ]
    },
    {
      "cell_type": "code",
      "source": [
        "#plotly allows more exploration into exactly how many customers are ordering frequently\n",
        "his=px.histogram(df, x=(df['customer_id'].value_counts()))\n",
        "his.show()"
      ],
      "metadata": {
        "colab": {
          "base_uri": "https://localhost:8080/",
          "height": 542
        },
        "id": "G_h_VveuR_CJ",
        "outputId": "80e0b2ac-1a83-4f9d-f161-d224649b8703"
      },
      "execution_count": null,
      "outputs": [
        {
          "output_type": "display_data",
          "data": {
            "text/html": [
              "<html>\n",
              "<head><meta charset=\"utf-8\" /></head>\n",
              "<body>\n",
              "    <div>            <script src=\"https://cdnjs.cloudflare.com/ajax/libs/mathjax/2.7.5/MathJax.js?config=TeX-AMS-MML_SVG\"></script><script type=\"text/javascript\">if (window.MathJax && window.MathJax.Hub && window.MathJax.Hub.Config) {window.MathJax.Hub.Config({SVG: {font: \"STIX-Web\"}});}</script>                <script type=\"text/javascript\">window.PlotlyConfig = {MathJaxConfig: 'local'};</script>\n",
              "        <script charset=\"utf-8\" src=\"https://cdn.plot.ly/plotly-2.24.1.min.js\"></script>                <div id=\"df76f5d4-bb3c-4523-9488-3f645a8b4ed1\" class=\"plotly-graph-div\" style=\"height:525px; width:100%;\"></div>            <script type=\"text/javascript\">                                    window.PLOTLYENV=window.PLOTLYENV || {};                                    if (document.getElementById(\"df76f5d4-bb3c-4523-9488-3f645a8b4ed1\")) {                    Plotly.newPlot(                        \"df76f5d4-bb3c-4523-9488-3f645a8b4ed1\",                        [{\"alignmentgroup\":\"True\",\"bingroup\":\"x\",\"hovertemplate\":\"x=%{x}\\u003cbr\\u003ecount=%{y}\\u003cextra\\u003e\\u003c\\u002fextra\\u003e\",\"legendgroup\":\"\",\"marker\":{\"color\":\"#636efa\",\"pattern\":{\"shape\":\"\"}},\"name\":\"\",\"offsetgroup\":\"\",\"orientation\":\"v\",\"showlegend\":false,\"x\":[13,10,9,8,7,7,7,7,6,6,6,6,6,6,5,5,5,5,5,5,5,5,5,5,5,5,5,5,5,5,5,5,5,4,4,4,4,4,4,4,4,4,4,4,4,4,4,4,4,4,4,4,4,4,4,4,4,4,4,4,4,4,4,4,4,4,3,3,3,3,3,3,3,3,3,3,3,3,3,3,3,3,3,3,3,3,3,3,3,3,3,3,3,3,3,3,3,3,3,3,3,3,3,3,3,3,3,3,3,3,3,3,3,3,3,3,3,3,3,3,3,3,3,3,3,3,3,3,3,3,3,3,3,3,3,3,3,3,3,3,3,3,3,3,3,3,3,3,3,2,2,2,2,2,2,2,2,2,2,2,2,2,2,2,2,2,2,2,2,2,2,2,2,2,2,2,2,2,2,2,2,2,2,2,2,2,2,2,2,2,2,2,2,2,2,2,2,2,2,2,2,2,2,2,2,2,2,2,2,2,2,2,2,2,2,2,2,2,2,2,2,2,2,2,2,2,2,2,2,2,2,2,2,2,2,2,2,2,2,2,2,2,2,2,2,2,2,2,2,2,2,2,2,2,2,2,2,2,2,2,2,2,2,2,2,2,2,2,2,2,2,2,2,2,2,2,2,2,2,2,2,2,2,2,2,2,2,2,2,2,2,2,2,2,2,2,2,2,2,2,2,2,2,2,2,2,2,2,2,2,2,2,2,2,2,2,2,2,2,2,2,2,2,2,2,2,2,2,2,2,2,2,2,2,2,2,2,2,2,2,2,2,2,2,2,2,2,2,2,2,2,2,2,2,2,2,2,2,2,2,2,2,2,2,2,2,2,2,2,2,2,2,2,2,2,2,2,2,2,2,2,2,2,2,2,2,2,2,2,2,2,2,2,2,2,2,2,2,2,2,2,2,2,2,2,2,2,2,2,2,2,2,2,2,2,2,1,1,1,1,1,1,1,1,1,1,1,1,1,1,1,1,1,1,1,1,1,1,1,1,1,1,1,1,1,1,1,1,1,1,1,1,1,1,1,1,1,1,1,1,1,1,1,1,1,1,1,1,1,1,1,1,1,1,1,1,1,1,1,1,1,1,1,1,1,1,1,1,1,1,1,1,1,1,1,1,1,1,1,1,1,1,1,1,1,1,1,1,1,1,1,1,1,1,1,1,1,1,1,1,1,1,1,1,1,1,1,1,1,1,1,1,1,1,1,1,1,1,1,1,1,1,1,1,1,1,1,1,1,1,1,1,1,1,1,1,1,1,1,1,1,1,1,1,1,1,1,1,1,1,1,1,1,1,1,1,1,1,1,1,1,1,1,1,1,1,1,1,1,1,1,1,1,1,1,1,1,1,1,1,1,1,1,1,1,1,1,1,1,1,1,1,1,1,1,1,1,1,1,1,1,1,1,1,1,1,1,1,1,1,1,1,1,1,1,1,1,1,1,1,1,1,1,1,1,1,1,1,1,1,1,1,1,1,1,1,1,1,1,1,1,1,1,1,1,1,1,1,1,1,1,1,1,1,1,1,1,1,1,1,1,1,1,1,1,1,1,1,1,1,1,1,1,1,1,1,1,1,1,1,1,1,1,1,1,1,1,1,1,1,1,1,1,1,1,1,1,1,1,1,1,1,1,1,1,1,1,1,1,1,1,1,1,1,1,1,1,1,1,1,1,1,1,1,1,1,1,1,1,1,1,1,1,1,1,1,1,1,1,1,1,1,1,1,1,1,1,1,1,1,1,1,1,1,1,1,1,1,1,1,1,1,1,1,1,1,1,1,1,1,1,1,1,1,1,1,1,1,1,1,1,1,1,1,1,1,1,1,1,1,1,1,1,1,1,1,1,1,1,1,1,1,1,1,1,1,1,1,1,1,1,1,1,1,1,1,1,1,1,1,1,1,1,1,1,1,1,1,1,1,1,1,1,1,1,1,1,1,1,1,1,1,1,1,1,1,1,1,1,1,1,1,1,1,1,1,1,1,1,1,1,1,1,1,1,1,1,1,1,1,1,1,1,1,1,1,1,1,1,1,1,1,1,1,1,1,1,1,1,1,1,1,1,1,1,1,1,1,1,1,1,1,1,1,1,1,1,1,1,1,1,1,1,1,1,1,1,1,1,1,1,1,1,1,1,1,1,1,1,1,1,1,1,1,1,1,1,1,1,1,1,1,1,1,1,1,1,1,1,1,1,1,1,1,1,1,1,1,1,1,1,1,1,1,1,1,1,1,1,1,1,1,1,1,1,1,1,1,1,1,1,1,1,1,1,1,1,1,1,1,1,1,1,1,1,1,1,1,1,1,1,1,1,1,1,1,1,1,1,1,1,1,1,1,1,1,1,1,1,1,1,1,1,1,1,1,1,1,1,1,1,1,1,1,1,1,1,1,1,1,1,1,1,1,1,1,1,1,1,1,1,1,1,1,1,1,1,1,1,1,1,1,1,1,1,1,1,1,1,1,1,1,1,1,1,1,1,1,1,1,1,1,1,1,1,1,1,1,1,1,1,1,1,1,1,1,1,1,1,1,1,1,1,1,1,1,1,1,1,1,1,1,1,1,1,1,1,1,1,1,1,1,1,1,1,1,1,1,1,1,1,1,1,1,1,1,1,1,1,1,1,1,1,1,1,1,1,1,1,1,1,1,1,1,1,1,1,1,1,1,1,1,1,1,1,1,1,1,1,1,1,1,1,1,1,1,1,1,1,1],\"xaxis\":\"x\",\"yaxis\":\"y\",\"type\":\"histogram\"}],                        {\"template\":{\"data\":{\"histogram2dcontour\":[{\"type\":\"histogram2dcontour\",\"colorbar\":{\"outlinewidth\":0,\"ticks\":\"\"},\"colorscale\":[[0.0,\"#0d0887\"],[0.1111111111111111,\"#46039f\"],[0.2222222222222222,\"#7201a8\"],[0.3333333333333333,\"#9c179e\"],[0.4444444444444444,\"#bd3786\"],[0.5555555555555556,\"#d8576b\"],[0.6666666666666666,\"#ed7953\"],[0.7777777777777778,\"#fb9f3a\"],[0.8888888888888888,\"#fdca26\"],[1.0,\"#f0f921\"]]}],\"choropleth\":[{\"type\":\"choropleth\",\"colorbar\":{\"outlinewidth\":0,\"ticks\":\"\"}}],\"histogram2d\":[{\"type\":\"histogram2d\",\"colorbar\":{\"outlinewidth\":0,\"ticks\":\"\"},\"colorscale\":[[0.0,\"#0d0887\"],[0.1111111111111111,\"#46039f\"],[0.2222222222222222,\"#7201a8\"],[0.3333333333333333,\"#9c179e\"],[0.4444444444444444,\"#bd3786\"],[0.5555555555555556,\"#d8576b\"],[0.6666666666666666,\"#ed7953\"],[0.7777777777777778,\"#fb9f3a\"],[0.8888888888888888,\"#fdca26\"],[1.0,\"#f0f921\"]]}],\"heatmap\":[{\"type\":\"heatmap\",\"colorbar\":{\"outlinewidth\":0,\"ticks\":\"\"},\"colorscale\":[[0.0,\"#0d0887\"],[0.1111111111111111,\"#46039f\"],[0.2222222222222222,\"#7201a8\"],[0.3333333333333333,\"#9c179e\"],[0.4444444444444444,\"#bd3786\"],[0.5555555555555556,\"#d8576b\"],[0.6666666666666666,\"#ed7953\"],[0.7777777777777778,\"#fb9f3a\"],[0.8888888888888888,\"#fdca26\"],[1.0,\"#f0f921\"]]}],\"heatmapgl\":[{\"type\":\"heatmapgl\",\"colorbar\":{\"outlinewidth\":0,\"ticks\":\"\"},\"colorscale\":[[0.0,\"#0d0887\"],[0.1111111111111111,\"#46039f\"],[0.2222222222222222,\"#7201a8\"],[0.3333333333333333,\"#9c179e\"],[0.4444444444444444,\"#bd3786\"],[0.5555555555555556,\"#d8576b\"],[0.6666666666666666,\"#ed7953\"],[0.7777777777777778,\"#fb9f3a\"],[0.8888888888888888,\"#fdca26\"],[1.0,\"#f0f921\"]]}],\"contourcarpet\":[{\"type\":\"contourcarpet\",\"colorbar\":{\"outlinewidth\":0,\"ticks\":\"\"}}],\"contour\":[{\"type\":\"contour\",\"colorbar\":{\"outlinewidth\":0,\"ticks\":\"\"},\"colorscale\":[[0.0,\"#0d0887\"],[0.1111111111111111,\"#46039f\"],[0.2222222222222222,\"#7201a8\"],[0.3333333333333333,\"#9c179e\"],[0.4444444444444444,\"#bd3786\"],[0.5555555555555556,\"#d8576b\"],[0.6666666666666666,\"#ed7953\"],[0.7777777777777778,\"#fb9f3a\"],[0.8888888888888888,\"#fdca26\"],[1.0,\"#f0f921\"]]}],\"surface\":[{\"type\":\"surface\",\"colorbar\":{\"outlinewidth\":0,\"ticks\":\"\"},\"colorscale\":[[0.0,\"#0d0887\"],[0.1111111111111111,\"#46039f\"],[0.2222222222222222,\"#7201a8\"],[0.3333333333333333,\"#9c179e\"],[0.4444444444444444,\"#bd3786\"],[0.5555555555555556,\"#d8576b\"],[0.6666666666666666,\"#ed7953\"],[0.7777777777777778,\"#fb9f3a\"],[0.8888888888888888,\"#fdca26\"],[1.0,\"#f0f921\"]]}],\"mesh3d\":[{\"type\":\"mesh3d\",\"colorbar\":{\"outlinewidth\":0,\"ticks\":\"\"}}],\"scatter\":[{\"fillpattern\":{\"fillmode\":\"overlay\",\"size\":10,\"solidity\":0.2},\"type\":\"scatter\"}],\"parcoords\":[{\"type\":\"parcoords\",\"line\":{\"colorbar\":{\"outlinewidth\":0,\"ticks\":\"\"}}}],\"scatterpolargl\":[{\"type\":\"scatterpolargl\",\"marker\":{\"colorbar\":{\"outlinewidth\":0,\"ticks\":\"\"}}}],\"bar\":[{\"error_x\":{\"color\":\"#2a3f5f\"},\"error_y\":{\"color\":\"#2a3f5f\"},\"marker\":{\"line\":{\"color\":\"#E5ECF6\",\"width\":0.5},\"pattern\":{\"fillmode\":\"overlay\",\"size\":10,\"solidity\":0.2}},\"type\":\"bar\"}],\"scattergeo\":[{\"type\":\"scattergeo\",\"marker\":{\"colorbar\":{\"outlinewidth\":0,\"ticks\":\"\"}}}],\"scatterpolar\":[{\"type\":\"scatterpolar\",\"marker\":{\"colorbar\":{\"outlinewidth\":0,\"ticks\":\"\"}}}],\"histogram\":[{\"marker\":{\"pattern\":{\"fillmode\":\"overlay\",\"size\":10,\"solidity\":0.2}},\"type\":\"histogram\"}],\"scattergl\":[{\"type\":\"scattergl\",\"marker\":{\"colorbar\":{\"outlinewidth\":0,\"ticks\":\"\"}}}],\"scatter3d\":[{\"type\":\"scatter3d\",\"line\":{\"colorbar\":{\"outlinewidth\":0,\"ticks\":\"\"}},\"marker\":{\"colorbar\":{\"outlinewidth\":0,\"ticks\":\"\"}}}],\"scattermapbox\":[{\"type\":\"scattermapbox\",\"marker\":{\"colorbar\":{\"outlinewidth\":0,\"ticks\":\"\"}}}],\"scatterternary\":[{\"type\":\"scatterternary\",\"marker\":{\"colorbar\":{\"outlinewidth\":0,\"ticks\":\"\"}}}],\"scattercarpet\":[{\"type\":\"scattercarpet\",\"marker\":{\"colorbar\":{\"outlinewidth\":0,\"ticks\":\"\"}}}],\"carpet\":[{\"aaxis\":{\"endlinecolor\":\"#2a3f5f\",\"gridcolor\":\"white\",\"linecolor\":\"white\",\"minorgridcolor\":\"white\",\"startlinecolor\":\"#2a3f5f\"},\"baxis\":{\"endlinecolor\":\"#2a3f5f\",\"gridcolor\":\"white\",\"linecolor\":\"white\",\"minorgridcolor\":\"white\",\"startlinecolor\":\"#2a3f5f\"},\"type\":\"carpet\"}],\"table\":[{\"cells\":{\"fill\":{\"color\":\"#EBF0F8\"},\"line\":{\"color\":\"white\"}},\"header\":{\"fill\":{\"color\":\"#C8D4E3\"},\"line\":{\"color\":\"white\"}},\"type\":\"table\"}],\"barpolar\":[{\"marker\":{\"line\":{\"color\":\"#E5ECF6\",\"width\":0.5},\"pattern\":{\"fillmode\":\"overlay\",\"size\":10,\"solidity\":0.2}},\"type\":\"barpolar\"}],\"pie\":[{\"automargin\":true,\"type\":\"pie\"}]},\"layout\":{\"autotypenumbers\":\"strict\",\"colorway\":[\"#636efa\",\"#EF553B\",\"#00cc96\",\"#ab63fa\",\"#FFA15A\",\"#19d3f3\",\"#FF6692\",\"#B6E880\",\"#FF97FF\",\"#FECB52\"],\"font\":{\"color\":\"#2a3f5f\"},\"hovermode\":\"closest\",\"hoverlabel\":{\"align\":\"left\"},\"paper_bgcolor\":\"white\",\"plot_bgcolor\":\"#E5ECF6\",\"polar\":{\"bgcolor\":\"#E5ECF6\",\"angularaxis\":{\"gridcolor\":\"white\",\"linecolor\":\"white\",\"ticks\":\"\"},\"radialaxis\":{\"gridcolor\":\"white\",\"linecolor\":\"white\",\"ticks\":\"\"}},\"ternary\":{\"bgcolor\":\"#E5ECF6\",\"aaxis\":{\"gridcolor\":\"white\",\"linecolor\":\"white\",\"ticks\":\"\"},\"baxis\":{\"gridcolor\":\"white\",\"linecolor\":\"white\",\"ticks\":\"\"},\"caxis\":{\"gridcolor\":\"white\",\"linecolor\":\"white\",\"ticks\":\"\"}},\"coloraxis\":{\"colorbar\":{\"outlinewidth\":0,\"ticks\":\"\"}},\"colorscale\":{\"sequential\":[[0.0,\"#0d0887\"],[0.1111111111111111,\"#46039f\"],[0.2222222222222222,\"#7201a8\"],[0.3333333333333333,\"#9c179e\"],[0.4444444444444444,\"#bd3786\"],[0.5555555555555556,\"#d8576b\"],[0.6666666666666666,\"#ed7953\"],[0.7777777777777778,\"#fb9f3a\"],[0.8888888888888888,\"#fdca26\"],[1.0,\"#f0f921\"]],\"sequentialminus\":[[0.0,\"#0d0887\"],[0.1111111111111111,\"#46039f\"],[0.2222222222222222,\"#7201a8\"],[0.3333333333333333,\"#9c179e\"],[0.4444444444444444,\"#bd3786\"],[0.5555555555555556,\"#d8576b\"],[0.6666666666666666,\"#ed7953\"],[0.7777777777777778,\"#fb9f3a\"],[0.8888888888888888,\"#fdca26\"],[1.0,\"#f0f921\"]],\"diverging\":[[0,\"#8e0152\"],[0.1,\"#c51b7d\"],[0.2,\"#de77ae\"],[0.3,\"#f1b6da\"],[0.4,\"#fde0ef\"],[0.5,\"#f7f7f7\"],[0.6,\"#e6f5d0\"],[0.7,\"#b8e186\"],[0.8,\"#7fbc41\"],[0.9,\"#4d9221\"],[1,\"#276419\"]]},\"xaxis\":{\"gridcolor\":\"white\",\"linecolor\":\"white\",\"ticks\":\"\",\"title\":{\"standoff\":15},\"zerolinecolor\":\"white\",\"automargin\":true,\"zerolinewidth\":2},\"yaxis\":{\"gridcolor\":\"white\",\"linecolor\":\"white\",\"ticks\":\"\",\"title\":{\"standoff\":15},\"zerolinecolor\":\"white\",\"automargin\":true,\"zerolinewidth\":2},\"scene\":{\"xaxis\":{\"backgroundcolor\":\"#E5ECF6\",\"gridcolor\":\"white\",\"linecolor\":\"white\",\"showbackground\":true,\"ticks\":\"\",\"zerolinecolor\":\"white\",\"gridwidth\":2},\"yaxis\":{\"backgroundcolor\":\"#E5ECF6\",\"gridcolor\":\"white\",\"linecolor\":\"white\",\"showbackground\":true,\"ticks\":\"\",\"zerolinecolor\":\"white\",\"gridwidth\":2},\"zaxis\":{\"backgroundcolor\":\"#E5ECF6\",\"gridcolor\":\"white\",\"linecolor\":\"white\",\"showbackground\":true,\"ticks\":\"\",\"zerolinecolor\":\"white\",\"gridwidth\":2}},\"shapedefaults\":{\"line\":{\"color\":\"#2a3f5f\"}},\"annotationdefaults\":{\"arrowcolor\":\"#2a3f5f\",\"arrowhead\":0,\"arrowwidth\":1},\"geo\":{\"bgcolor\":\"white\",\"landcolor\":\"#E5ECF6\",\"subunitcolor\":\"white\",\"showland\":true,\"showlakes\":true,\"lakecolor\":\"white\"},\"title\":{\"x\":0.05},\"mapbox\":{\"style\":\"light\"}}},\"xaxis\":{\"anchor\":\"y\",\"domain\":[0.0,1.0],\"title\":{\"text\":\"x\"}},\"yaxis\":{\"anchor\":\"x\",\"domain\":[0.0,1.0],\"title\":{\"text\":\"count\"}},\"legend\":{\"tracegroupgap\":0},\"margin\":{\"t\":60},\"barmode\":\"relative\"},                        {\"responsive\": true}                    ).then(function(){\n",
              "                            \n",
              "var gd = document.getElementById('df76f5d4-bb3c-4523-9488-3f645a8b4ed1');\n",
              "var x = new MutationObserver(function (mutations, observer) {{\n",
              "        var display = window.getComputedStyle(gd).display;\n",
              "        if (!display || display === 'none') {{\n",
              "            console.log([gd, 'removed!']);\n",
              "            Plotly.purge(gd);\n",
              "            observer.disconnect();\n",
              "        }}\n",
              "}});\n",
              "\n",
              "// Listen for the removal of the full notebook cells\n",
              "var notebookContainer = gd.closest('#notebook-container');\n",
              "if (notebookContainer) {{\n",
              "    x.observe(notebookContainer, {childList: true});\n",
              "}}\n",
              "\n",
              "// Listen for the clearing of the current output cell\n",
              "var outputEl = gd.closest('.output');\n",
              "if (outputEl) {{\n",
              "    x.observe(outputEl, {childList: true});\n",
              "}}\n",
              "\n",
              "                        })                };                            </script>        </div>\n",
              "</body>\n",
              "</html>"
            ]
          },
          "metadata": {}
        }
      ]
    },
    {
      "cell_type": "markdown",
      "source": [
        "**Observations:** About the Customer ID:\n",
        "There are 1200 unique customers, with almost 800 placing only one order. However, there are 267 customers ordering twice, and 83 placing three orders. The four customers who order the most frequently have placed 8, 9, 10, and 13 orders."
      ],
      "metadata": {
        "id": "5hQVyO2AyVUq"
      }
    },
    {
      "cell_type": "markdown",
      "source": [
        "##### Question 6: Number of restaurants and types of cuisine"
      ],
      "metadata": {
        "id": "l2vXJRK9e7Ib"
      }
    },
    {
      "cell_type": "code",
      "source": [
        "#number of unique restaurants\n",
        "df['restaurant_name'].nunique()"
      ],
      "metadata": {
        "colab": {
          "base_uri": "https://localhost:8080/"
        },
        "id": "IZg2GRaFebJ7",
        "outputId": "b8a816e1-4574-4f2f-9e72-fae058eeb01e"
      },
      "execution_count": null,
      "outputs": [
        {
          "output_type": "execute_result",
          "data": {
            "text/plain": [
              "178"
            ]
          },
          "metadata": {},
          "execution_count": 236
        }
      ]
    },
    {
      "cell_type": "code",
      "source": [
        "#number of types of cuisine\n",
        "df.groupby(['cuisine_type'])['cuisine_type'].value_counts()"
      ],
      "metadata": {
        "colab": {
          "base_uri": "https://localhost:8080/"
        },
        "id": "eqpRm4Hce9iu",
        "outputId": "b3139ed6-384b-4812-d2e5-e062da3261cd"
      },
      "execution_count": null,
      "outputs": [
        {
          "output_type": "execute_result",
          "data": {
            "text/plain": [
              "cuisine_type    cuisine_type  \n",
              "American        American          584\n",
              "Chinese         Chinese           215\n",
              "French          French             18\n",
              "Indian          Indian             73\n",
              "Italian         Italian           298\n",
              "Japanese        Japanese          470\n",
              "Korean          Korean             13\n",
              "Mediterranean   Mediterranean      46\n",
              "Mexican         Mexican            77\n",
              "Middle Eastern  Middle Eastern     49\n",
              "Southern        Southern           17\n",
              "Spanish         Spanish            12\n",
              "Thai            Thai               19\n",
              "Vietnamese      Vietnamese          7\n",
              "Name: cuisine_type, dtype: int64"
            ]
          },
          "metadata": {},
          "execution_count": 237
        }
      ]
    },
    {
      "cell_type": "code",
      "source": [
        "#number of types of cuisine\n",
        "df.groupby(['cuisine_type'])['restaurant_name'].value_counts()"
      ],
      "metadata": {
        "colab": {
          "base_uri": "https://localhost:8080/"
        },
        "id": "LFZjVg2XitNm",
        "outputId": "b245b9b7-3a04-41e2-c1f7-4ba30c1169a9"
      },
      "execution_count": null,
      "outputs": [
        {
          "output_type": "execute_result",
          "data": {
            "text/plain": [
              "cuisine_type  restaurant_name            \n",
              "American      Shake Shack                    219\n",
              "              Blue Ribbon Fried Chicken       96\n",
              "              Five Guys Burgers and Fries     29\n",
              "              Bareburger                      27\n",
              "              The Meatball Shop               20\n",
              "                                            ... \n",
              "Thai          Rohm Thai                        1\n",
              "              Spice Thai                       1\n",
              "Vietnamese    V-Nam Cafe                       4\n",
              "              Xe May Sandwich Shop             2\n",
              "              Nha Trang One                    1\n",
              "Name: restaurant_name, Length: 179, dtype: int64"
            ]
          },
          "metadata": {},
          "execution_count": 238
        }
      ]
    },
    {
      "cell_type": "code",
      "source": [
        "his=px.histogram(df, x='cuisine_type', y= (df.groupby(['cuisine_type']).value_counts()), color='restaurant_name')\n",
        "his.show()"
      ],
      "metadata": {
        "colab": {
          "base_uri": "https://localhost:8080/",
          "height": 542
        },
        "id": "ELgm1eN0jXC3",
        "outputId": "06592994-6490-4d18-dc39-73d0279969a3"
      },
      "execution_count": null,
      "outputs": [
        {
          "output_type": "display_data",
          "data": {
            "text/html": [
              "<html>\n",
              "<head><meta charset=\"utf-8\" /></head>\n",
              "<body>\n",
              "    <div>            <script src=\"https://cdnjs.cloudflare.com/ajax/libs/mathjax/2.7.5/MathJax.js?config=TeX-AMS-MML_SVG\"></script><script type=\"text/javascript\">if (window.MathJax && window.MathJax.Hub && window.MathJax.Hub.Config) {window.MathJax.Hub.Config({SVG: {font: \"STIX-Web\"}});}</script>                <script type=\"text/javascript\">window.PlotlyConfig = {MathJaxConfig: 'local'};</script>\n",
              "        <script charset=\"utf-8\" src=\"https://cdn.plot.ly/plotly-2.24.1.min.js\"></script>                <div id=\"3474a5aa-14d3-4120-b8b7-eb7577d66c4b\" class=\"plotly-graph-div\" style=\"height:525px; width:100%;\"></div>            <script type=\"text/javascript\">                                    window.PLOTLYENV=window.PLOTLYENV || {};                                    if (document.getElementById(\"3474a5aa-14d3-4120-b8b7-eb7577d66c4b\")) {                    Plotly.newPlot(                        \"3474a5aa-14d3-4120-b8b7-eb7577d66c4b\",                        [{\"alignmentgroup\":\"True\",\"bingroup\":\"x\",\"histfunc\":\"sum\",\"hovertemplate\":\"restaurant_name=Hangawi\\u003cbr\\u003ecuisine_type=%{x}\\u003cbr\\u003esum of y=%{y}\\u003cextra\\u003e\\u003c\\u002fextra\\u003e\",\"legendgroup\":\"Hangawi\",\"marker\":{\"color\":\"#636efa\",\"pattern\":{\"shape\":\"\"}},\"name\":\"Hangawi\",\"offsetgroup\":\"Hangawi\",\"orientation\":\"v\",\"showlegend\":true,\"x\":[\"Korean\",\"Korean\"],\"xaxis\":\"x\",\"y\":[1,1],\"yaxis\":\"y\",\"type\":\"histogram\"},{\"alignmentgroup\":\"True\",\"bingroup\":\"x\",\"histfunc\":\"sum\",\"hovertemplate\":\"restaurant_name=Blue Ribbon Sushi Izakaya\\u003cbr\\u003ecuisine_type=%{x}\\u003cbr\\u003esum of y=%{y}\\u003cextra\\u003e\\u003c\\u002fextra\\u003e\",\"legendgroup\":\"Blue Ribbon Sushi Izakaya\",\"marker\":{\"color\":\"#EF553B\",\"pattern\":{\"shape\":\"\"}},\"name\":\"Blue Ribbon Sushi Izakaya\",\"offsetgroup\":\"Blue Ribbon Sushi Izakaya\",\"orientation\":\"v\",\"showlegend\":true,\"x\":[\"Japanese\",\"Japanese\",\"Japanese\",\"Japanese\",\"Japanese\",\"Japanese\",\"Japanese\",\"Japanese\",\"Japanese\",\"Japanese\",\"Japanese\",\"Japanese\",\"Japanese\",\"Japanese\",\"Japanese\",\"Japanese\",\"Japanese\",\"Japanese\",\"Japanese\",\"Japanese\",\"Japanese\",\"Japanese\",\"Japanese\",\"Japanese\",\"Japanese\",\"Japanese\",\"Japanese\",\"Japanese\",\"Japanese\"],\"xaxis\":\"x\",\"y\":[1,1,1,1,1,1,1,1,1,1,1,1,1,1,1,1,1,1,1,1,1,1,1,1,1,1,1,1,1],\"yaxis\":\"y\",\"type\":\"histogram\"},{\"alignmentgroup\":\"True\",\"bingroup\":\"x\",\"histfunc\":\"sum\",\"hovertemplate\":\"restaurant_name=Cafe Habana\\u003cbr\\u003ecuisine_type=%{x}\\u003cbr\\u003esum of y=%{y}\\u003cextra\\u003e\\u003c\\u002fextra\\u003e\",\"legendgroup\":\"Cafe Habana\",\"marker\":{\"color\":\"#00cc96\",\"pattern\":{\"shape\":\"\"}},\"name\":\"Cafe Habana\",\"offsetgroup\":\"Cafe Habana\",\"orientation\":\"v\",\"showlegend\":true,\"x\":[\"Mexican\",\"Mexican\",\"Mexican\",\"Mexican\",\"Mexican\",\"Mexican\",\"Mexican\",\"Mexican\",\"Mexican\",\"Mexican\",\"Mexican\",\"Mexican\",\"Mexican\",\"Mexican\",\"Mexican\",\"Mexican\"],\"xaxis\":\"x\",\"y\":[1,1,1,1,1,1,1,1,1,1,1,1,1,1,1,1],\"yaxis\":\"y\",\"type\":\"histogram\"},{\"alignmentgroup\":\"True\",\"bingroup\":\"x\",\"histfunc\":\"sum\",\"hovertemplate\":\"restaurant_name=Blue Ribbon Fried Chicken\\u003cbr\\u003ecuisine_type=%{x}\\u003cbr\\u003esum of y=%{y}\\u003cextra\\u003e\\u003c\\u002fextra\\u003e\",\"legendgroup\":\"Blue Ribbon Fried Chicken\",\"marker\":{\"color\":\"#ab63fa\",\"pattern\":{\"shape\":\"\"}},\"name\":\"Blue Ribbon Fried Chicken\",\"offsetgroup\":\"Blue Ribbon Fried Chicken\",\"orientation\":\"v\",\"showlegend\":true,\"x\":[\"American\",\"American\",\"American\",\"American\",\"American\",\"American\",\"American\",\"American\",\"American\",\"American\",\"American\",\"American\",\"American\",\"American\",\"American\",\"American\",\"American\",\"American\",\"American\",\"American\",\"American\",\"American\",\"American\",\"American\",\"American\",\"American\",\"American\",\"American\",\"American\",\"American\",\"American\",\"American\",\"American\",\"American\",\"American\",\"American\",\"American\",\"American\",\"American\",\"American\",\"American\",\"American\",\"American\",\"American\",\"American\",\"American\",\"American\",\"American\",\"American\",\"American\",\"American\",\"American\",\"American\",\"American\",\"American\",\"American\",\"American\",\"American\",\"American\",\"American\",\"American\",\"American\",\"American\",\"American\",\"American\",\"American\",\"American\",\"American\",\"American\",\"American\",\"American\",\"American\",\"American\",\"American\",\"American\",\"American\",\"American\",\"American\",\"American\",\"American\",\"American\",\"American\",\"American\",\"American\",\"American\",\"American\",\"American\",\"American\",\"American\",\"American\",\"American\",\"American\",\"American\",\"American\",\"American\",\"American\"],\"xaxis\":\"x\",\"y\":[1,1,1,1,1,1,1,1,1,1,1,1,1,1,1,1,1,1,1,1,1,1,1,1,1,1,1,1,1,1,1,1,1,1,1,1,1,1,1,1,1,1,1,1,1,1,1,1,1,1,1,1,1,1,1,1,1,1,1,1,1,1,1,1,1,1,1,1,1,1,1,1,1,1,1,1,1,1,1,1,1,1,1,1,1,1,1,1,1,1,1,1,1,1,1,1],\"yaxis\":\"y\",\"type\":\"histogram\"},{\"alignmentgroup\":\"True\",\"bingroup\":\"x\",\"histfunc\":\"sum\",\"hovertemplate\":\"restaurant_name=Dirty Bird to Go\\u003cbr\\u003ecuisine_type=%{x}\\u003cbr\\u003esum of y=%{y}\\u003cextra\\u003e\\u003c\\u002fextra\\u003e\",\"legendgroup\":\"Dirty Bird to Go\",\"marker\":{\"color\":\"#FFA15A\",\"pattern\":{\"shape\":\"\"}},\"name\":\"Dirty Bird to Go\",\"offsetgroup\":\"Dirty Bird to Go\",\"orientation\":\"v\",\"showlegend\":true,\"x\":[\"American\",\"American\",\"American\",\"American\"],\"xaxis\":\"x\",\"y\":[1,1,1,1],\"yaxis\":\"y\",\"type\":\"histogram\"},{\"alignmentgroup\":\"True\",\"bingroup\":\"x\",\"histfunc\":\"sum\",\"hovertemplate\":\"restaurant_name=Tamarind TriBeCa\\u003cbr\\u003ecuisine_type=%{x}\\u003cbr\\u003esum of y=%{y}\\u003cextra\\u003e\\u003c\\u002fextra\\u003e\",\"legendgroup\":\"Tamarind TriBeCa\",\"marker\":{\"color\":\"#19d3f3\",\"pattern\":{\"shape\":\"\"}},\"name\":\"Tamarind TriBeCa\",\"offsetgroup\":\"Tamarind TriBeCa\",\"orientation\":\"v\",\"showlegend\":true,\"x\":[\"Indian\",\"Indian\",\"Indian\",\"Indian\",\"Indian\",\"Indian\",\"Indian\",\"Indian\",\"Indian\",\"Indian\",\"Indian\",\"Indian\",\"Indian\",\"Indian\",\"Indian\",\"Indian\",\"Indian\",\"Indian\",\"Indian\",\"Indian\",\"Indian\",\"Indian\",\"Indian\",\"Indian\",\"Indian\",\"Indian\",\"Indian\"],\"xaxis\":\"x\",\"y\":[1,1,1,1,1,1,1,1,1,1,1,1,1,1,1,1,1,1,1,1,1,1,1,1,1,1,1],\"yaxis\":\"y\",\"type\":\"histogram\"},{\"alignmentgroup\":\"True\",\"bingroup\":\"x\",\"histfunc\":\"sum\",\"hovertemplate\":\"restaurant_name=The Meatball Shop\\u003cbr\\u003ecuisine_type=%{x}\\u003cbr\\u003esum of y=%{y}\\u003cextra\\u003e\\u003c\\u002fextra\\u003e\",\"legendgroup\":\"The Meatball Shop\",\"marker\":{\"color\":\"#FF6692\",\"pattern\":{\"shape\":\"\"}},\"name\":\"The Meatball Shop\",\"offsetgroup\":\"The Meatball Shop\",\"orientation\":\"v\",\"showlegend\":true,\"x\":[\"Italian\",\"Italian\",\"Italian\",\"Italian\",\"Italian\",\"Italian\",\"Italian\",\"American\",\"Italian\",\"Italian\",\"Italian\",\"Italian\",\"Italian\",\"Italian\",\"Italian\",\"Italian\",\"Italian\",\"Italian\",\"Italian\",\"Italian\",\"Italian\",\"Italian\",\"Italian\",\"Italian\",\"Italian\",\"Italian\",\"American\",\"Italian\",\"Italian\",\"Italian\",\"Italian\",\"Italian\",\"Italian\",\"Italian\",\"Italian\",\"Italian\",\"Italian\",\"American\",\"Italian\",\"Italian\",\"Italian\",\"Italian\",\"Italian\",\"Italian\",\"Italian\",\"American\",\"Italian\",\"Italian\",\"Italian\",\"Italian\",\"Italian\",\"Italian\",\"Italian\",\"Italian\",\"Italian\",\"Italian\",\"Italian\",\"Italian\",\"Italian\",\"Italian\",\"Italian\",\"Italian\",\"American\",\"American\",\"Italian\",\"Italian\",\"Italian\",\"American\",\"Italian\",\"American\",\"Italian\",\"Italian\",\"Italian\",\"American\",\"Italian\",\"Italian\",\"Italian\",\"Italian\",\"Italian\",\"Italian\",\"American\",\"Italian\",\"American\",\"American\",\"Italian\",\"American\",\"Italian\",\"Italian\",\"Italian\",\"Italian\",\"American\",\"Italian\",\"American\",\"Italian\",\"Italian\",\"Italian\",\"Italian\",\"Italian\",\"Italian\",\"Italian\",\"Italian\",\"Italian\",\"Italian\",\"American\",\"Italian\",\"Italian\",\"Italian\",\"American\",\"Italian\",\"Italian\",\"Italian\",\"Italian\",\"Italian\",\"Italian\",\"Italian\",\"Italian\",\"American\",\"Italian\",\"Italian\",\"Italian\",\"Italian\",\"Italian\",\"Italian\",\"Italian\",\"Italian\",\"Italian\",\"Italian\",\"Italian\",\"Italian\",\"American\",\"American\",\"Italian\"],\"xaxis\":\"x\",\"y\":[1,1,1,1,1,1,1,1,1,1,1,1,1,1,1,1,1,1,1,1,1,1,1,1,1,1,1,1,1,1,1,1,1,1,1,1,1,1,1,1,1,1,1,1,1,1,1,1,1,1,1,1,1,1,1,1,1,1,1,1,1,1,1,1,1,1,1,1,1,1,1,1,1,1,1,1,1,1,1,1,1,1,1,1,1,1,1,1,1,1,1,1,1,1,1,1,1,1,1,1,1,1,1,1,1,1,1,1,1,1,1,1,1,1,1,1,1,1,1,1,1,1,1,1,1,1,1,1,1,1,1,1],\"yaxis\":\"y\",\"type\":\"histogram\"},{\"alignmentgroup\":\"True\",\"bingroup\":\"x\",\"histfunc\":\"sum\",\"hovertemplate\":\"restaurant_name=Barbounia\\u003cbr\\u003ecuisine_type=%{x}\\u003cbr\\u003esum of y=%{y}\\u003cextra\\u003e\\u003c\\u002fextra\\u003e\",\"legendgroup\":\"Barbounia\",\"marker\":{\"color\":\"#B6E880\",\"pattern\":{\"shape\":\"\"}},\"name\":\"Barbounia\",\"offsetgroup\":\"Barbounia\",\"orientation\":\"v\",\"showlegend\":true,\"x\":[\"Mediterranean\",\"Mediterranean\",\"Mediterranean\",\"Mediterranean\",\"Mediterranean\",\"Mediterranean\"],\"xaxis\":\"x\",\"y\":[1,1,1,1,1,1],\"yaxis\":\"y\",\"type\":\"histogram\"},{\"alignmentgroup\":\"True\",\"bingroup\":\"x\",\"histfunc\":\"sum\",\"hovertemplate\":\"restaurant_name=Anjappar Chettinad\\u003cbr\\u003ecuisine_type=%{x}\\u003cbr\\u003esum of y=%{y}\\u003cextra\\u003e\\u003c\\u002fextra\\u003e\",\"legendgroup\":\"Anjappar Chettinad\",\"marker\":{\"color\":\"#FF97FF\",\"pattern\":{\"shape\":\"\"}},\"name\":\"Anjappar Chettinad\",\"offsetgroup\":\"Anjappar Chettinad\",\"orientation\":\"v\",\"showlegend\":true,\"x\":[\"Indian\"],\"xaxis\":\"x\",\"y\":[1],\"yaxis\":\"y\",\"type\":\"histogram\"},{\"alignmentgroup\":\"True\",\"bingroup\":\"x\",\"histfunc\":\"sum\",\"hovertemplate\":\"restaurant_name=Bukhara Grill\\u003cbr\\u003ecuisine_type=%{x}\\u003cbr\\u003esum of y=%{y}\\u003cextra\\u003e\\u003c\\u002fextra\\u003e\",\"legendgroup\":\"Bukhara Grill\",\"marker\":{\"color\":\"#FECB52\",\"pattern\":{\"shape\":\"\"}},\"name\":\"Bukhara Grill\",\"offsetgroup\":\"Bukhara Grill\",\"orientation\":\"v\",\"showlegend\":true,\"x\":[\"Indian\",\"Indian\"],\"xaxis\":\"x\",\"y\":[1,1],\"yaxis\":\"y\",\"type\":\"histogram\"},{\"alignmentgroup\":\"True\",\"bingroup\":\"x\",\"histfunc\":\"sum\",\"hovertemplate\":\"restaurant_name=Big Wong Restaurant \\u008c_\\u00a4\\u00be\\u00d1\\u00bc\\u003cbr\\u003ecuisine_type=%{x}\\u003cbr\\u003esum of y=%{y}\\u003cextra\\u003e\\u003c\\u002fextra\\u003e\",\"legendgroup\":\"Big Wong Restaurant \\u008c_\\u00a4\\u00be\\u00d1\\u00bc\",\"marker\":{\"color\":\"#636efa\",\"pattern\":{\"shape\":\"\"}},\"name\":\"Big Wong Restaurant \\u008c_\\u00a4\\u00be\\u00d1\\u00bc\",\"offsetgroup\":\"Big Wong Restaurant \\u008c_\\u00a4\\u00be\\u00d1\\u00bc\",\"orientation\":\"v\",\"showlegend\":true,\"x\":[\"Chinese\"],\"xaxis\":\"x\",\"y\":[1],\"yaxis\":\"y\",\"type\":\"histogram\"},{\"alignmentgroup\":\"True\",\"bingroup\":\"x\",\"histfunc\":\"sum\",\"hovertemplate\":\"restaurant_name=Empanada Mama (closed)\\u003cbr\\u003ecuisine_type=%{x}\\u003cbr\\u003esum of y=%{y}\\u003cextra\\u003e\\u003c\\u002fextra\\u003e\",\"legendgroup\":\"Empanada Mama (closed)\",\"marker\":{\"color\":\"#EF553B\",\"pattern\":{\"shape\":\"\"}},\"name\":\"Empanada Mama (closed)\",\"offsetgroup\":\"Empanada Mama (closed)\",\"orientation\":\"v\",\"showlegend\":true,\"x\":[\"Mexican\",\"Mexican\",\"Mexican\",\"Mexican\",\"Mexican\",\"Mexican\",\"Mexican\",\"Mexican\",\"Mexican\",\"Mexican\",\"Mexican\",\"Mexican\",\"Mexican\"],\"xaxis\":\"x\",\"y\":[1,1,1,1,1,1,1,1,1,1,1,1,1],\"yaxis\":\"y\",\"type\":\"histogram\"},{\"alignmentgroup\":\"True\",\"bingroup\":\"x\",\"histfunc\":\"sum\",\"hovertemplate\":\"restaurant_name=Pylos\\u003cbr\\u003ecuisine_type=%{x}\\u003cbr\\u003esum of y=%{y}\\u003cextra\\u003e\\u003c\\u002fextra\\u003e\",\"legendgroup\":\"Pylos\",\"marker\":{\"color\":\"#00cc96\",\"pattern\":{\"shape\":\"\"}},\"name\":\"Pylos\",\"offsetgroup\":\"Pylos\",\"orientation\":\"v\",\"showlegend\":true,\"x\":[\"Mediterranean\",\"Mediterranean\",\"Mediterranean\",\"Mediterranean\",\"Mediterranean\"],\"xaxis\":\"x\",\"y\":[1,1,1,1,1],\"yaxis\":\"y\",\"type\":\"histogram\"},{\"alignmentgroup\":\"True\",\"bingroup\":\"x\",\"histfunc\":\"sum\",\"hovertemplate\":\"restaurant_name=Lucky's Famous Burgers\\u003cbr\\u003ecuisine_type=%{x}\\u003cbr\\u003esum of y=%{y}\\u003cextra\\u003e\\u003c\\u002fextra\\u003e\",\"legendgroup\":\"Lucky's Famous Burgers\",\"marker\":{\"color\":\"#ab63fa\",\"pattern\":{\"shape\":\"\"}},\"name\":\"Lucky's Famous Burgers\",\"offsetgroup\":\"Lucky's Famous Burgers\",\"orientation\":\"v\",\"showlegend\":true,\"x\":[\"American\",\"American\",\"American\",\"American\",\"American\",\"American\"],\"xaxis\":\"x\",\"y\":[1,1,1,1,1,1],\"yaxis\":\"y\",\"type\":\"histogram\"},{\"alignmentgroup\":\"True\",\"bingroup\":\"x\",\"histfunc\":\"sum\",\"hovertemplate\":\"restaurant_name=Shake Shack\\u003cbr\\u003ecuisine_type=%{x}\\u003cbr\\u003esum of y=%{y}\\u003cextra\\u003e\\u003c\\u002fextra\\u003e\",\"legendgroup\":\"Shake Shack\",\"marker\":{\"color\":\"#FFA15A\",\"pattern\":{\"shape\":\"\"}},\"name\":\"Shake Shack\",\"offsetgroup\":\"Shake Shack\",\"orientation\":\"v\",\"showlegend\":true,\"x\":[\"American\",\"American\",\"American\",\"American\",\"American\",\"American\",\"American\",\"American\",\"American\",\"American\",\"American\",\"American\",\"American\",\"American\",\"American\",\"American\",\"American\",\"American\",\"American\",\"American\",\"American\",\"American\",\"American\",\"American\",\"American\",\"American\",\"American\",\"American\",\"American\",\"American\",\"American\",\"American\",\"American\",\"American\",\"American\",\"American\",\"American\",\"American\",\"American\",\"American\",\"American\",\"American\",\"American\",\"American\",\"American\",\"American\",\"American\",\"American\",\"American\",\"American\",\"American\",\"American\",\"American\",\"American\",\"American\",\"American\",\"American\",\"American\",\"American\",\"American\",\"American\",\"American\",\"American\",\"American\",\"American\",\"American\",\"American\",\"American\",\"American\",\"American\",\"American\",\"American\",\"American\",\"American\",\"American\",\"American\",\"American\",\"American\",\"American\",\"American\",\"American\",\"American\",\"American\",\"American\",\"American\",\"American\",\"American\",\"American\",\"American\",\"American\",\"American\",\"American\",\"American\",\"American\",\"American\",\"American\",\"American\",\"American\",\"American\",\"American\",\"American\",\"American\",\"American\",\"American\",\"American\",\"American\",\"American\",\"American\",\"American\",\"American\",\"American\",\"American\",\"American\",\"American\",\"American\",\"American\",\"American\",\"American\",\"American\",\"American\",\"American\",\"American\",\"American\",\"American\",\"American\",\"American\",\"American\",\"American\",\"American\",\"American\",\"American\",\"American\",\"American\",\"American\",\"American\",\"American\",\"American\",\"American\",\"American\",\"American\",\"American\",\"American\",\"American\",\"American\",\"American\",\"American\",\"American\",\"American\",\"American\",\"American\",\"American\",\"American\",\"American\",\"American\",\"American\",\"American\",\"American\",\"American\",\"American\",\"American\",\"American\",\"American\",\"American\",\"American\",\"American\",\"American\",\"American\",\"American\",\"American\",\"American\",\"American\",\"American\",\"American\",\"American\",\"American\",\"American\",\"American\",\"American\",\"American\",\"American\",\"American\",\"American\",\"American\",\"American\",\"American\",\"American\",\"American\",\"American\",\"American\",\"American\",\"American\",\"American\",\"American\",\"American\",\"American\",\"American\",\"American\",\"American\",\"American\",\"American\",\"American\",\"American\",\"American\",\"American\",\"American\",\"American\",\"American\",\"American\",\"American\",\"American\",\"American\",\"American\",\"American\",\"American\",\"American\",\"American\",\"American\",\"American\",\"American\"],\"xaxis\":\"x\",\"y\":[1,1,1,1,1,1,1,1,1,1,1,1,1,1,1,1,1,1,1,1,1,1,1,1,1,1,1,1,1,1,1,1,1,1,1,1,1,1,1,1,1,1,1,1,1,1,1,1,1,1,1,1,1,1,1,1,1,1,1,1,1,1,1,1,1,1,1,1,1,1,1,1,1,1,1,1,1,1,1,1,1,1,1,1,1,1,1,1,1,1,1,1,1,1,1,1,1,1,1,1,1,1,1,1,1,1,1,1,1,1,1,1,1,1,1,1,1,1,1,1,1,1,1,1,1,1,1,1,1,1,1,1,1,1,1,1,1,1,1,1,1,1,1,1,1,1,1,1,1,1,1,1,1,1,1,1,1,1,1,1,1,1,1,1,1,1,1,1,1,1,1,1,1,1,1,1,1,1,1,1,1,1,1,1,1,1,1,1,1,1,1,1,1,1,1,1,1,1,1,1,1,1,1,1,1,1,1,1,1,1,1,1,1,1,1,1,1,1,1],\"yaxis\":\"y\",\"type\":\"histogram\"},{\"alignmentgroup\":\"True\",\"bingroup\":\"x\",\"histfunc\":\"sum\",\"hovertemplate\":\"restaurant_name=Sushi of Gari\\u003cbr\\u003ecuisine_type=%{x}\\u003cbr\\u003esum of y=%{y}\\u003cextra\\u003e\\u003c\\u002fextra\\u003e\",\"legendgroup\":\"Sushi of Gari\",\"marker\":{\"color\":\"#19d3f3\",\"pattern\":{\"shape\":\"\"}},\"name\":\"Sushi of Gari\",\"offsetgroup\":\"Sushi of Gari\",\"orientation\":\"v\",\"showlegend\":true,\"x\":[\"Japanese\",\"Japanese\",\"Japanese\",\"Japanese\",\"Japanese\",\"Japanese\",\"Japanese\",\"Japanese\",\"Japanese\",\"Japanese\",\"Japanese\",\"Japanese\",\"Japanese\",\"Japanese\",\"Japanese\",\"Japanese\"],\"xaxis\":\"x\",\"y\":[1,1,1,1,1,1,1,1,1,1,1,1,1,1,1,1],\"yaxis\":\"y\",\"type\":\"histogram\"},{\"alignmentgroup\":\"True\",\"bingroup\":\"x\",\"histfunc\":\"sum\",\"hovertemplate\":\"restaurant_name=RedFarm Hudson\\u003cbr\\u003ecuisine_type=%{x}\\u003cbr\\u003esum of y=%{y}\\u003cextra\\u003e\\u003c\\u002fextra\\u003e\",\"legendgroup\":\"RedFarm Hudson\",\"marker\":{\"color\":\"#FF6692\",\"pattern\":{\"shape\":\"\"}},\"name\":\"RedFarm Hudson\",\"offsetgroup\":\"RedFarm Hudson\",\"orientation\":\"v\",\"showlegend\":true,\"x\":[\"Chinese\",\"Chinese\",\"Chinese\",\"Chinese\",\"Chinese\",\"Chinese\",\"Chinese\",\"Chinese\",\"Chinese\",\"Chinese\",\"Chinese\",\"Chinese\",\"Chinese\",\"Chinese\",\"Chinese\",\"Chinese\",\"Chinese\",\"Chinese\",\"Chinese\",\"Chinese\",\"Chinese\",\"Chinese\",\"Chinese\",\"Chinese\",\"Chinese\",\"Chinese\",\"Chinese\",\"Chinese\",\"Chinese\",\"Chinese\",\"Chinese\",\"Chinese\",\"Chinese\",\"Chinese\",\"Chinese\",\"Chinese\",\"Chinese\",\"Chinese\",\"Chinese\",\"Chinese\",\"Chinese\",\"Chinese\",\"Chinese\",\"Chinese\",\"Chinese\",\"Chinese\",\"Chinese\",\"Chinese\",\"Chinese\",\"Chinese\",\"Chinese\",\"Chinese\",\"Chinese\",\"Chinese\",\"Chinese\"],\"xaxis\":\"x\",\"y\":[1,1,1,1,1,1,1,1,1,1,1,1,1,1,1,1,1,1,1,1,1,1,1,1,1,1,1,1,1,1,1,1,1,1,1,1,1,1,1,1,1,1,1,1,1,1,1,1,1,1,1,1,1,1,1],\"yaxis\":\"y\",\"type\":\"histogram\"},{\"alignmentgroup\":\"True\",\"bingroup\":\"x\",\"histfunc\":\"sum\",\"hovertemplate\":\"restaurant_name=Blue Ribbon Sushi\\u003cbr\\u003ecuisine_type=%{x}\\u003cbr\\u003esum of y=%{y}\\u003cextra\\u003e\\u003c\\u002fextra\\u003e\",\"legendgroup\":\"Blue Ribbon Sushi\",\"marker\":{\"color\":\"#B6E880\",\"pattern\":{\"shape\":\"\"}},\"name\":\"Blue Ribbon Sushi\",\"offsetgroup\":\"Blue Ribbon Sushi\",\"orientation\":\"v\",\"showlegend\":true,\"x\":[\"Japanese\",\"Japanese\",\"Japanese\",\"Japanese\",\"Japanese\",\"Japanese\",\"Japanese\",\"Japanese\",\"Japanese\",\"Japanese\",\"Japanese\",\"Japanese\",\"Japanese\",\"Japanese\",\"Japanese\",\"Japanese\",\"Japanese\",\"Japanese\",\"Japanese\",\"Japanese\",\"Japanese\",\"Japanese\",\"Japanese\",\"Japanese\",\"Japanese\",\"Japanese\",\"Japanese\",\"Japanese\",\"Japanese\",\"Japanese\",\"Japanese\",\"Japanese\",\"Japanese\",\"Japanese\",\"Japanese\",\"Japanese\",\"Japanese\",\"Japanese\",\"Japanese\",\"Japanese\",\"Japanese\",\"Japanese\",\"Japanese\",\"Japanese\",\"Japanese\",\"Japanese\",\"Japanese\",\"Japanese\",\"Japanese\",\"Japanese\",\"Japanese\",\"Japanese\",\"Japanese\",\"Japanese\",\"Japanese\",\"Japanese\",\"Japanese\",\"Japanese\",\"Japanese\",\"Japanese\",\"Japanese\",\"Japanese\",\"Japanese\",\"Japanese\",\"Japanese\",\"Japanese\",\"Japanese\",\"Japanese\",\"Japanese\",\"Japanese\",\"Japanese\",\"Japanese\",\"Japanese\",\"Japanese\",\"Japanese\",\"Japanese\",\"Japanese\",\"Japanese\",\"Japanese\",\"Japanese\",\"Japanese\",\"Japanese\",\"Japanese\",\"Japanese\",\"Japanese\",\"Japanese\",\"Japanese\",\"Japanese\",\"Japanese\",\"Japanese\",\"Japanese\",\"Japanese\",\"Japanese\",\"Japanese\",\"Japanese\",\"Japanese\",\"Japanese\",\"Japanese\",\"Japanese\",\"Japanese\",\"Japanese\",\"Japanese\",\"Japanese\",\"Japanese\",\"Japanese\",\"Japanese\",\"Japanese\",\"Japanese\",\"Japanese\",\"Japanese\",\"Japanese\",\"Japanese\",\"Japanese\",\"Japanese\",\"Japanese\",\"Japanese\",\"Japanese\",\"Japanese\",\"Japanese\"],\"xaxis\":\"x\",\"y\":[1,1,1,1,1,1,1,1,1,1,1,1,1,1,1,1,1,1,1,1,1,1,1,1,1,1,1,1,1,1,1,1,1,1,1,1,1,1,1,1,1,1,1,1,1,1,1,1,1,1,1,1,1,1,1,1,1,1,1,1,1,1,1,1,1,1,1,1,1,1,1,1,1,1,1,1,1,1,1,1,1,1,1,1,1,1,1,1,1,1,1,1,1,1,1,1,1,1,1,1,1,1,1,1,1,1,1,1,1,1,1,1,1,1,1,1,1,1,1],\"yaxis\":\"y\",\"type\":\"histogram\"},{\"alignmentgroup\":\"True\",\"bingroup\":\"x\",\"histfunc\":\"sum\",\"hovertemplate\":\"restaurant_name=Five Guys Burgers and Fries\\u003cbr\\u003ecuisine_type=%{x}\\u003cbr\\u003esum of y=%{y}\\u003cextra\\u003e\\u003c\\u002fextra\\u003e\",\"legendgroup\":\"Five Guys Burgers and Fries\",\"marker\":{\"color\":\"#FF97FF\",\"pattern\":{\"shape\":\"\"}},\"name\":\"Five Guys Burgers and Fries\",\"offsetgroup\":\"Five Guys Burgers and Fries\",\"orientation\":\"v\",\"showlegend\":true,\"x\":[\"American\",\"American\",\"American\",\"American\",\"American\",\"American\",\"American\",\"American\",\"American\",\"American\",\"American\",\"American\",\"American\",\"American\",\"American\",\"American\",\"American\",\"American\",\"American\",\"American\",\"American\",\"American\",\"American\",\"American\",\"American\",\"American\",\"American\",\"American\",\"American\"],\"xaxis\":\"x\",\"y\":[1,1,1,1,1,1,1,1,1,1,1,1,1,1,1,1,1,1,1,1,1,1,1,1,1,1,1,1,1],\"yaxis\":\"y\",\"type\":\"histogram\"},{\"alignmentgroup\":\"True\",\"bingroup\":\"x\",\"histfunc\":\"sum\",\"hovertemplate\":\"restaurant_name=Tortaria\\u003cbr\\u003ecuisine_type=%{x}\\u003cbr\\u003esum of y=%{y}\\u003cextra\\u003e\\u003c\\u002fextra\\u003e\",\"legendgroup\":\"Tortaria\",\"marker\":{\"color\":\"#FECB52\",\"pattern\":{\"shape\":\"\"}},\"name\":\"Tortaria\",\"offsetgroup\":\"Tortaria\",\"orientation\":\"v\",\"showlegend\":true,\"x\":[\"Mexican\",\"Mexican\",\"Mexican\",\"Mexican\"],\"xaxis\":\"x\",\"y\":[1,1,1,1],\"yaxis\":\"y\",\"type\":\"histogram\"},{\"alignmentgroup\":\"True\",\"bingroup\":\"x\",\"histfunc\":\"sum\",\"hovertemplate\":\"restaurant_name=Cafe Mogador\\u003cbr\\u003ecuisine_type=%{x}\\u003cbr\\u003esum of y=%{y}\\u003cextra\\u003e\\u003c\\u002fextra\\u003e\",\"legendgroup\":\"Cafe Mogador\",\"marker\":{\"color\":\"#636efa\",\"pattern\":{\"shape\":\"\"}},\"name\":\"Cafe Mogador\",\"offsetgroup\":\"Cafe Mogador\",\"orientation\":\"v\",\"showlegend\":true,\"x\":[\"Middle Eastern\",\"Middle Eastern\",\"Middle Eastern\",\"Middle Eastern\",\"Middle Eastern\",\"Middle Eastern\",\"Middle Eastern\",\"Middle Eastern\",\"Middle Eastern\",\"Middle Eastern\",\"Middle Eastern\",\"Middle Eastern\",\"Middle Eastern\",\"Middle Eastern\",\"Middle Eastern\",\"Middle Eastern\",\"Middle Eastern\",\"Middle Eastern\"],\"xaxis\":\"x\",\"y\":[1,1,1,1,1,1,1,1,1,1,1,1,1,1,1,1,1,1],\"yaxis\":\"y\",\"type\":\"histogram\"},{\"alignmentgroup\":\"True\",\"bingroup\":\"x\",\"histfunc\":\"sum\",\"hovertemplate\":\"restaurant_name=Otto Enoteca Pizzeria\\u003cbr\\u003ecuisine_type=%{x}\\u003cbr\\u003esum of y=%{y}\\u003cextra\\u003e\\u003c\\u002fextra\\u003e\",\"legendgroup\":\"Otto Enoteca Pizzeria\",\"marker\":{\"color\":\"#EF553B\",\"pattern\":{\"shape\":\"\"}},\"name\":\"Otto Enoteca Pizzeria\",\"offsetgroup\":\"Otto Enoteca Pizzeria\",\"orientation\":\"v\",\"showlegend\":true,\"x\":[\"Italian\",\"Italian\",\"Italian\",\"Italian\",\"Italian\",\"Italian\",\"Italian\",\"Italian\",\"Italian\",\"Italian\",\"Italian\",\"Italian\"],\"xaxis\":\"x\",\"y\":[1,1,1,1,1,1,1,1,1,1,1,1],\"yaxis\":\"y\",\"type\":\"histogram\"},{\"alignmentgroup\":\"True\",\"bingroup\":\"x\",\"histfunc\":\"sum\",\"hovertemplate\":\"restaurant_name=Vezzo Thin Crust Pizza\\u003cbr\\u003ecuisine_type=%{x}\\u003cbr\\u003esum of y=%{y}\\u003cextra\\u003e\\u003c\\u002fextra\\u003e\",\"legendgroup\":\"Vezzo Thin Crust Pizza\",\"marker\":{\"color\":\"#00cc96\",\"pattern\":{\"shape\":\"\"}},\"name\":\"Vezzo Thin Crust Pizza\",\"offsetgroup\":\"Vezzo Thin Crust Pizza\",\"orientation\":\"v\",\"showlegend\":true,\"x\":[\"Italian\",\"Italian\",\"Italian\",\"Italian\",\"Italian\"],\"xaxis\":\"x\",\"y\":[1,1,1,1,1],\"yaxis\":\"y\",\"type\":\"histogram\"},{\"alignmentgroup\":\"True\",\"bingroup\":\"x\",\"histfunc\":\"sum\",\"hovertemplate\":\"restaurant_name=Sushi of Gari 46\\u003cbr\\u003ecuisine_type=%{x}\\u003cbr\\u003esum of y=%{y}\\u003cextra\\u003e\\u003c\\u002fextra\\u003e\",\"legendgroup\":\"Sushi of Gari 46\",\"marker\":{\"color\":\"#ab63fa\",\"pattern\":{\"shape\":\"\"}},\"name\":\"Sushi of Gari 46\",\"offsetgroup\":\"Sushi of Gari 46\",\"orientation\":\"v\",\"showlegend\":true,\"x\":[\"Japanese\",\"Japanese\",\"Japanese\",\"Japanese\",\"Japanese\",\"Japanese\",\"Japanese\",\"Japanese\",\"Japanese\",\"Japanese\",\"Japanese\",\"Japanese\",\"Japanese\",\"Japanese\",\"Japanese\",\"Japanese\",\"Japanese\",\"Japanese\",\"Japanese\",\"Japanese\",\"Japanese\",\"Japanese\",\"Japanese\",\"Japanese\",\"Japanese\",\"Japanese\",\"Japanese\",\"Japanese\",\"Japanese\",\"Japanese\",\"Japanese\",\"Japanese\",\"Japanese\",\"Japanese\",\"Japanese\",\"Japanese\",\"Japanese\"],\"xaxis\":\"x\",\"y\":[1,1,1,1,1,1,1,1,1,1,1,1,1,1,1,1,1,1,1,1,1,1,1,1,1,1,1,1,1,1,1,1,1,1,1,1,1],\"yaxis\":\"y\",\"type\":\"histogram\"},{\"alignmentgroup\":\"True\",\"bingroup\":\"x\",\"histfunc\":\"sum\",\"hovertemplate\":\"restaurant_name=The Kati Roll Company\\u003cbr\\u003ecuisine_type=%{x}\\u003cbr\\u003esum of y=%{y}\\u003cextra\\u003e\\u003c\\u002fextra\\u003e\",\"legendgroup\":\"The Kati Roll Company\",\"marker\":{\"color\":\"#FFA15A\",\"pattern\":{\"shape\":\"\"}},\"name\":\"The Kati Roll Company\",\"offsetgroup\":\"The Kati Roll Company\",\"orientation\":\"v\",\"showlegend\":true,\"x\":[\"Indian\",\"Indian\",\"Indian\",\"Indian\",\"Indian\",\"Indian\",\"Indian\",\"Indian\",\"Indian\",\"Indian\",\"Indian\",\"Indian\",\"Indian\",\"Indian\",\"Indian\",\"Indian\"],\"xaxis\":\"x\",\"y\":[1,1,1,1,1,1,1,1,1,1,1,1,1,1,1,1],\"yaxis\":\"y\",\"type\":\"histogram\"},{\"alignmentgroup\":\"True\",\"bingroup\":\"x\",\"histfunc\":\"sum\",\"hovertemplate\":\"restaurant_name=Klong\\u003cbr\\u003ecuisine_type=%{x}\\u003cbr\\u003esum of y=%{y}\\u003cextra\\u003e\\u003c\\u002fextra\\u003e\",\"legendgroup\":\"Klong\",\"marker\":{\"color\":\"#19d3f3\",\"pattern\":{\"shape\":\"\"}},\"name\":\"Klong\",\"offsetgroup\":\"Klong\",\"orientation\":\"v\",\"showlegend\":true,\"x\":[\"Thai\"],\"xaxis\":\"x\",\"y\":[1],\"yaxis\":\"y\",\"type\":\"histogram\"},{\"alignmentgroup\":\"True\",\"bingroup\":\"x\",\"histfunc\":\"sum\",\"hovertemplate\":\"restaurant_name=5 Napkin Burger\\u003cbr\\u003ecuisine_type=%{x}\\u003cbr\\u003esum of y=%{y}\\u003cextra\\u003e\\u003c\\u002fextra\\u003e\",\"legendgroup\":\"5 Napkin Burger\",\"marker\":{\"color\":\"#FF6692\",\"pattern\":{\"shape\":\"\"}},\"name\":\"5 Napkin Burger\",\"offsetgroup\":\"5 Napkin Burger\",\"orientation\":\"v\",\"showlegend\":true,\"x\":[\"American\",\"American\",\"American\",\"American\",\"American\"],\"xaxis\":\"x\",\"y\":[1,1,1,1,1],\"yaxis\":\"y\",\"type\":\"histogram\"},{\"alignmentgroup\":\"True\",\"bingroup\":\"x\",\"histfunc\":\"sum\",\"hovertemplate\":\"restaurant_name=TAO\\u003cbr\\u003ecuisine_type=%{x}\\u003cbr\\u003esum of y=%{y}\\u003cextra\\u003e\\u003c\\u002fextra\\u003e\",\"legendgroup\":\"TAO\",\"marker\":{\"color\":\"#B6E880\",\"pattern\":{\"shape\":\"\"}},\"name\":\"TAO\",\"offsetgroup\":\"TAO\",\"orientation\":\"v\",\"showlegend\":true,\"x\":[\"Japanese\",\"Japanese\",\"Japanese\",\"Japanese\",\"Japanese\",\"Japanese\",\"Japanese\",\"Japanese\",\"Japanese\",\"Japanese\",\"Japanese\",\"Japanese\",\"Japanese\",\"Japanese\",\"Japanese\",\"Japanese\",\"Japanese\",\"Japanese\",\"Japanese\",\"Japanese\",\"Japanese\",\"Japanese\",\"Japanese\",\"Japanese\",\"Japanese\",\"Japanese\",\"Japanese\",\"Japanese\",\"Japanese\",\"Japanese\",\"Japanese\",\"Japanese\",\"Japanese\",\"Japanese\",\"Japanese\",\"Japanese\",\"Japanese\",\"Japanese\",\"Japanese\",\"Japanese\",\"Japanese\",\"Japanese\",\"Japanese\",\"Japanese\",\"Japanese\",\"Japanese\",\"Japanese\",\"Japanese\",\"Japanese\"],\"xaxis\":\"x\",\"y\":[1,1,1,1,1,1,1,1,1,1,1,1,1,1,1,1,1,1,1,1,1,1,1,1,1,1,1,1,1,1,1,1,1,1,1,1,1,1,1,1,1,1,1,1,1,1,1,1,1],\"yaxis\":\"y\",\"type\":\"histogram\"},{\"alignmentgroup\":\"True\",\"bingroup\":\"x\",\"histfunc\":\"sum\",\"hovertemplate\":\"restaurant_name=Parm\\u003cbr\\u003ecuisine_type=%{x}\\u003cbr\\u003esum of y=%{y}\\u003cextra\\u003e\\u003c\\u002fextra\\u003e\",\"legendgroup\":\"Parm\",\"marker\":{\"color\":\"#FF97FF\",\"pattern\":{\"shape\":\"\"}},\"name\":\"Parm\",\"offsetgroup\":\"Parm\",\"orientation\":\"v\",\"showlegend\":true,\"x\":[\"Italian\",\"Italian\",\"Italian\",\"Italian\",\"Italian\",\"Italian\",\"Italian\",\"Italian\",\"Italian\",\"Italian\",\"Italian\",\"Italian\",\"Italian\",\"Italian\",\"Italian\",\"Italian\",\"Italian\",\"Italian\",\"Italian\",\"Italian\",\"Italian\",\"Italian\",\"Italian\",\"Italian\",\"Italian\",\"Italian\",\"Italian\",\"Italian\",\"Italian\",\"Italian\",\"Italian\",\"Italian\",\"Italian\",\"Italian\",\"Italian\",\"Italian\",\"Italian\",\"Italian\",\"Italian\",\"Italian\",\"Italian\",\"Italian\",\"Italian\",\"Italian\",\"Italian\",\"Italian\",\"Italian\",\"Italian\",\"Italian\",\"Italian\",\"Italian\",\"Italian\",\"Italian\",\"Italian\",\"Italian\",\"Italian\",\"Italian\",\"Italian\",\"Italian\",\"Italian\",\"Italian\",\"Italian\",\"Italian\",\"Italian\",\"Italian\",\"Italian\",\"Italian\",\"Italian\"],\"xaxis\":\"x\",\"y\":[1,1,1,1,1,1,1,1,1,1,1,1,1,1,1,1,1,1,1,1,1,1,1,1,1,1,1,1,1,1,1,1,1,1,1,1,1,1,1,1,1,1,1,1,1,1,1,1,1,1,1,1,1,1,1,1,1,1,1,1,1,1,1,1,1,1,1,1],\"yaxis\":\"y\",\"type\":\"histogram\"},{\"alignmentgroup\":\"True\",\"bingroup\":\"x\",\"histfunc\":\"sum\",\"hovertemplate\":\"restaurant_name=Sushi Samba\\u003cbr\\u003ecuisine_type=%{x}\\u003cbr\\u003esum of y=%{y}\\u003cextra\\u003e\\u003c\\u002fextra\\u003e\",\"legendgroup\":\"Sushi Samba\",\"marker\":{\"color\":\"#FECB52\",\"pattern\":{\"shape\":\"\"}},\"name\":\"Sushi Samba\",\"offsetgroup\":\"Sushi Samba\",\"orientation\":\"v\",\"showlegend\":true,\"x\":[\"Japanese\",\"Japanese\",\"Japanese\",\"Japanese\",\"Japanese\",\"Japanese\",\"Japanese\",\"Japanese\",\"Japanese\",\"Japanese\",\"Japanese\"],\"xaxis\":\"x\",\"y\":[1,1,1,1,1,1,1,1,1,1,1],\"yaxis\":\"y\",\"type\":\"histogram\"},{\"alignmentgroup\":\"True\",\"bingroup\":\"x\",\"histfunc\":\"sum\",\"hovertemplate\":\"restaurant_name=Haru Gramercy Park\\u003cbr\\u003ecuisine_type=%{x}\\u003cbr\\u003esum of y=%{y}\\u003cextra\\u003e\\u003c\\u002fextra\\u003e\",\"legendgroup\":\"Haru Gramercy Park\",\"marker\":{\"color\":\"#636efa\",\"pattern\":{\"shape\":\"\"}},\"name\":\"Haru Gramercy Park\",\"offsetgroup\":\"Haru Gramercy Park\",\"orientation\":\"v\",\"showlegend\":true,\"x\":[\"Japanese\"],\"xaxis\":\"x\",\"y\":[1],\"yaxis\":\"y\",\"type\":\"histogram\"},{\"alignmentgroup\":\"True\",\"bingroup\":\"x\",\"histfunc\":\"sum\",\"hovertemplate\":\"restaurant_name=Chipotle Mexican Grill $1.99 Delivery\\u003cbr\\u003ecuisine_type=%{x}\\u003cbr\\u003esum of y=%{y}\\u003cextra\\u003e\\u003c\\u002fextra\\u003e\",\"legendgroup\":\"Chipotle Mexican Grill $1.99 Delivery\",\"marker\":{\"color\":\"#EF553B\",\"pattern\":{\"shape\":\"\"}},\"name\":\"Chipotle Mexican Grill $1.99 Delivery\",\"offsetgroup\":\"Chipotle Mexican Grill $1.99 Delivery\",\"orientation\":\"v\",\"showlegend\":true,\"x\":[\"Mexican\",\"Mexican\",\"Mexican\",\"Mexican\",\"Mexican\",\"Mexican\",\"Mexican\",\"Mexican\",\"Mexican\",\"Mexican\",\"Mexican\",\"Mexican\",\"Mexican\",\"Mexican\",\"Mexican\",\"Mexican\",\"Mexican\",\"Mexican\",\"Mexican\",\"Mexican\",\"Mexican\",\"Mexican\",\"Mexican\"],\"xaxis\":\"x\",\"y\":[1,1,1,1,1,1,1,1,1,1,1,1,1,1,1,1,1,1,1,1,1,1,1],\"yaxis\":\"y\",\"type\":\"histogram\"},{\"alignmentgroup\":\"True\",\"bingroup\":\"x\",\"histfunc\":\"sum\",\"hovertemplate\":\"restaurant_name=RedFarm Broadway\\u003cbr\\u003ecuisine_type=%{x}\\u003cbr\\u003esum of y=%{y}\\u003cextra\\u003e\\u003c\\u002fextra\\u003e\",\"legendgroup\":\"RedFarm Broadway\",\"marker\":{\"color\":\"#00cc96\",\"pattern\":{\"shape\":\"\"}},\"name\":\"RedFarm Broadway\",\"offsetgroup\":\"RedFarm Broadway\",\"orientation\":\"v\",\"showlegend\":true,\"x\":[\"Chinese\",\"Chinese\",\"Chinese\",\"Chinese\",\"Chinese\",\"Chinese\",\"Chinese\",\"Chinese\",\"Chinese\",\"Chinese\",\"Chinese\",\"Chinese\",\"Chinese\",\"Chinese\",\"Chinese\",\"Chinese\",\"Chinese\",\"Chinese\",\"Chinese\",\"Chinese\",\"Chinese\",\"Chinese\",\"Chinese\",\"Chinese\",\"Chinese\",\"Chinese\",\"Chinese\",\"Chinese\",\"Chinese\",\"Chinese\",\"Chinese\",\"Chinese\",\"Chinese\",\"Chinese\",\"Chinese\",\"Chinese\",\"Chinese\",\"Chinese\",\"Chinese\",\"Chinese\",\"Chinese\",\"Chinese\",\"Chinese\",\"Chinese\",\"Chinese\",\"Chinese\",\"Chinese\",\"Chinese\",\"Chinese\",\"Chinese\",\"Chinese\",\"Chinese\",\"Chinese\",\"Chinese\",\"Chinese\",\"Chinese\",\"Chinese\",\"Chinese\",\"Chinese\"],\"xaxis\":\"x\",\"y\":[1,1,1,1,1,1,1,1,1,1,1,1,1,1,1,1,1,1,1,1,1,1,1,1,1,1,1,1,1,1,1,1,1,1,1,1,1,1,1,1,1,1,1,1,1,1,1,1,1,1,1,1,1,1,1,1,1,1,1],\"yaxis\":\"y\",\"type\":\"histogram\"},{\"alignmentgroup\":\"True\",\"bingroup\":\"x\",\"histfunc\":\"sum\",\"hovertemplate\":\"restaurant_name=Cafeteria\\u003cbr\\u003ecuisine_type=%{x}\\u003cbr\\u003esum of y=%{y}\\u003cextra\\u003e\\u003c\\u002fextra\\u003e\",\"legendgroup\":\"Cafeteria\",\"marker\":{\"color\":\"#ab63fa\",\"pattern\":{\"shape\":\"\"}},\"name\":\"Cafeteria\",\"offsetgroup\":\"Cafeteria\",\"orientation\":\"v\",\"showlegend\":true,\"x\":[\"American\",\"American\",\"American\",\"American\",\"American\",\"American\",\"American\",\"American\",\"American\"],\"xaxis\":\"x\",\"y\":[1,1,1,1,1,1,1,1,1],\"yaxis\":\"y\",\"type\":\"histogram\"},{\"alignmentgroup\":\"True\",\"bingroup\":\"x\",\"histfunc\":\"sum\",\"hovertemplate\":\"restaurant_name=DuMont Burger\\u003cbr\\u003ecuisine_type=%{x}\\u003cbr\\u003esum of y=%{y}\\u003cextra\\u003e\\u003c\\u002fextra\\u003e\",\"legendgroup\":\"DuMont Burger\",\"marker\":{\"color\":\"#FFA15A\",\"pattern\":{\"shape\":\"\"}},\"name\":\"DuMont Burger\",\"offsetgroup\":\"DuMont Burger\",\"orientation\":\"v\",\"showlegend\":true,\"x\":[\"American\",\"American\",\"American\"],\"xaxis\":\"x\",\"y\":[1,1,1],\"yaxis\":\"y\",\"type\":\"histogram\"},{\"alignmentgroup\":\"True\",\"bingroup\":\"x\",\"histfunc\":\"sum\",\"hovertemplate\":\"restaurant_name=Sarabeth's East\\u003cbr\\u003ecuisine_type=%{x}\\u003cbr\\u003esum of y=%{y}\\u003cextra\\u003e\\u003c\\u002fextra\\u003e\",\"legendgroup\":\"Sarabeth's East\",\"marker\":{\"color\":\"#19d3f3\",\"pattern\":{\"shape\":\"\"}},\"name\":\"Sarabeth's East\",\"offsetgroup\":\"Sarabeth's East\",\"orientation\":\"v\",\"showlegend\":true,\"x\":[\"American\",\"American\",\"American\",\"American\",\"American\",\"American\",\"American\"],\"xaxis\":\"x\",\"y\":[1,1,1,1,1,1,1],\"yaxis\":\"y\",\"type\":\"histogram\"},{\"alignmentgroup\":\"True\",\"bingroup\":\"x\",\"histfunc\":\"sum\",\"hovertemplate\":\"restaurant_name=Hill Country Fried Chicken\\u003cbr\\u003ecuisine_type=%{x}\\u003cbr\\u003esum of y=%{y}\\u003cextra\\u003e\\u003c\\u002fextra\\u003e\",\"legendgroup\":\"Hill Country Fried Chicken\",\"marker\":{\"color\":\"#FF6692\",\"pattern\":{\"shape\":\"\"}},\"name\":\"Hill Country Fried Chicken\",\"offsetgroup\":\"Hill Country Fried Chicken\",\"orientation\":\"v\",\"showlegend\":true,\"x\":[\"Southern\",\"Southern\",\"Southern\",\"Southern\",\"Southern\",\"Southern\",\"Southern\",\"Southern\",\"Southern\",\"Southern\",\"Southern\",\"Southern\",\"Southern\",\"Southern\"],\"xaxis\":\"x\",\"y\":[1,1,1,1,1,1,1,1,1,1,1,1,1,1],\"yaxis\":\"y\",\"type\":\"histogram\"},{\"alignmentgroup\":\"True\",\"bingroup\":\"x\",\"histfunc\":\"sum\",\"hovertemplate\":\"restaurant_name=Bistango\\u003cbr\\u003ecuisine_type=%{x}\\u003cbr\\u003esum of y=%{y}\\u003cextra\\u003e\\u003c\\u002fextra\\u003e\",\"legendgroup\":\"Bistango\",\"marker\":{\"color\":\"#B6E880\",\"pattern\":{\"shape\":\"\"}},\"name\":\"Bistango\",\"offsetgroup\":\"Bistango\",\"orientation\":\"v\",\"showlegend\":true,\"x\":[\"Italian\",\"Italian\"],\"xaxis\":\"x\",\"y\":[1,1],\"yaxis\":\"y\",\"type\":\"histogram\"},{\"alignmentgroup\":\"True\",\"bingroup\":\"x\",\"histfunc\":\"sum\",\"hovertemplate\":\"restaurant_name=Jack's Wife Freda\\u003cbr\\u003ecuisine_type=%{x}\\u003cbr\\u003esum of y=%{y}\\u003cextra\\u003e\\u003c\\u002fextra\\u003e\",\"legendgroup\":\"Jack's Wife Freda\",\"marker\":{\"color\":\"#FF97FF\",\"pattern\":{\"shape\":\"\"}},\"name\":\"Jack's Wife Freda\",\"offsetgroup\":\"Jack's Wife Freda\",\"orientation\":\"v\",\"showlegend\":true,\"x\":[\"Mediterranean\",\"Mediterranean\",\"Mediterranean\",\"Mediterranean\",\"Mediterranean\",\"Mediterranean\",\"Mediterranean\",\"Mediterranean\",\"Mediterranean\",\"Mediterranean\",\"Mediterranean\",\"Mediterranean\",\"Mediterranean\",\"Mediterranean\",\"Mediterranean\",\"Mediterranean\",\"Mediterranean\",\"Mediterranean\",\"Mediterranean\",\"Mediterranean\",\"Mediterranean\",\"Mediterranean\",\"Mediterranean\",\"Mediterranean\",\"Mediterranean\"],\"xaxis\":\"x\",\"y\":[1,1,1,1,1,1,1,1,1,1,1,1,1,1,1,1,1,1,1,1,1,1,1,1,1],\"yaxis\":\"y\",\"type\":\"histogram\"},{\"alignmentgroup\":\"True\",\"bingroup\":\"x\",\"histfunc\":\"sum\",\"hovertemplate\":\"restaurant_name=Mamoun's Falafel\\u003cbr\\u003ecuisine_type=%{x}\\u003cbr\\u003esum of y=%{y}\\u003cextra\\u003e\\u003c\\u002fextra\\u003e\",\"legendgroup\":\"Mamoun's Falafel\",\"marker\":{\"color\":\"#FECB52\",\"pattern\":{\"shape\":\"\"}},\"name\":\"Mamoun's Falafel\",\"offsetgroup\":\"Mamoun's Falafel\",\"orientation\":\"v\",\"showlegend\":true,\"x\":[\"Mediterranean\",\"Mediterranean\",\"Mediterranean\",\"Mediterranean\",\"Mediterranean\",\"Mediterranean\",\"Mediterranean\"],\"xaxis\":\"x\",\"y\":[1,1,1,1,1,1,1],\"yaxis\":\"y\",\"type\":\"histogram\"},{\"alignmentgroup\":\"True\",\"bingroup\":\"x\",\"histfunc\":\"sum\",\"hovertemplate\":\"restaurant_name=Prosperity Dumpling\\u003cbr\\u003ecuisine_type=%{x}\\u003cbr\\u003esum of y=%{y}\\u003cextra\\u003e\\u003c\\u002fextra\\u003e\",\"legendgroup\":\"Prosperity Dumpling\",\"marker\":{\"color\":\"#636efa\",\"pattern\":{\"shape\":\"\"}},\"name\":\"Prosperity Dumpling\",\"offsetgroup\":\"Prosperity Dumpling\",\"orientation\":\"v\",\"showlegend\":true,\"x\":[\"Chinese\",\"Chinese\",\"Chinese\"],\"xaxis\":\"x\",\"y\":[1,1,1],\"yaxis\":\"y\",\"type\":\"histogram\"},{\"alignmentgroup\":\"True\",\"bingroup\":\"x\",\"histfunc\":\"sum\",\"hovertemplate\":\"restaurant_name=Blue Ribbon Sushi Bar & Grill\\u003cbr\\u003ecuisine_type=%{x}\\u003cbr\\u003esum of y=%{y}\\u003cextra\\u003e\\u003c\\u002fextra\\u003e\",\"legendgroup\":\"Blue Ribbon Sushi Bar & Grill\",\"marker\":{\"color\":\"#EF553B\",\"pattern\":{\"shape\":\"\"}},\"name\":\"Blue Ribbon Sushi Bar & Grill\",\"offsetgroup\":\"Blue Ribbon Sushi Bar & Grill\",\"orientation\":\"v\",\"showlegend\":true,\"x\":[\"Japanese\",\"Japanese\",\"Japanese\",\"Japanese\",\"Japanese\",\"Japanese\",\"Japanese\",\"Japanese\",\"Japanese\",\"Japanese\",\"Japanese\",\"Japanese\",\"Japanese\",\"Japanese\",\"Japanese\",\"Japanese\",\"Japanese\",\"Japanese\",\"Japanese\",\"Japanese\",\"Japanese\",\"Japanese\",\"Japanese\",\"Japanese\",\"Japanese\",\"Japanese\",\"Japanese\",\"Japanese\",\"Japanese\",\"Japanese\",\"Japanese\",\"Japanese\",\"Japanese\",\"Japanese\",\"Japanese\",\"Japanese\",\"Japanese\",\"Japanese\",\"Japanese\",\"Japanese\",\"Japanese\",\"Japanese\",\"Japanese\",\"Japanese\"],\"xaxis\":\"x\",\"y\":[1,1,1,1,1,1,1,1,1,1,1,1,1,1,1,1,1,1,1,1,1,1,1,1,1,1,1,1,1,1,1,1,1,1,1,1,1,1,1,1,1,1,1,1],\"yaxis\":\"y\",\"type\":\"histogram\"},{\"alignmentgroup\":\"True\",\"bingroup\":\"x\",\"histfunc\":\"sum\",\"hovertemplate\":\"restaurant_name=Westville Hudson\\u003cbr\\u003ecuisine_type=%{x}\\u003cbr\\u003esum of y=%{y}\\u003cextra\\u003e\\u003c\\u002fextra\\u003e\",\"legendgroup\":\"Westville Hudson\",\"marker\":{\"color\":\"#00cc96\",\"pattern\":{\"shape\":\"\"}},\"name\":\"Westville Hudson\",\"offsetgroup\":\"Westville Hudson\",\"orientation\":\"v\",\"showlegend\":true,\"x\":[\"American\",\"American\",\"American\",\"American\",\"American\",\"American\",\"American\",\"American\",\"American\",\"American\",\"American\",\"American\",\"American\",\"American\",\"American\"],\"xaxis\":\"x\",\"y\":[1,1,1,1,1,1,1,1,1,1,1,1,1,1,1],\"yaxis\":\"y\",\"type\":\"histogram\"},{\"alignmentgroup\":\"True\",\"bingroup\":\"x\",\"histfunc\":\"sum\",\"hovertemplate\":\"restaurant_name=Blue Ribbon Brooklyn\\u003cbr\\u003ecuisine_type=%{x}\\u003cbr\\u003esum of y=%{y}\\u003cextra\\u003e\\u003c\\u002fextra\\u003e\",\"legendgroup\":\"Blue Ribbon Brooklyn\",\"marker\":{\"color\":\"#ab63fa\",\"pattern\":{\"shape\":\"\"}},\"name\":\"Blue Ribbon Brooklyn\",\"offsetgroup\":\"Blue Ribbon Brooklyn\",\"orientation\":\"v\",\"showlegend\":true,\"x\":[\"American\",\"American\",\"American\",\"American\"],\"xaxis\":\"x\",\"y\":[1,1,1,1],\"yaxis\":\"y\",\"type\":\"histogram\"},{\"alignmentgroup\":\"True\",\"bingroup\":\"x\",\"histfunc\":\"sum\",\"hovertemplate\":\"restaurant_name=Nobu Next Door\\u003cbr\\u003ecuisine_type=%{x}\\u003cbr\\u003esum of y=%{y}\\u003cextra\\u003e\\u003c\\u002fextra\\u003e\",\"legendgroup\":\"Nobu Next Door\",\"marker\":{\"color\":\"#FFA15A\",\"pattern\":{\"shape\":\"\"}},\"name\":\"Nobu Next Door\",\"offsetgroup\":\"Nobu Next Door\",\"orientation\":\"v\",\"showlegend\":true,\"x\":[\"Japanese\",\"Japanese\",\"Japanese\",\"Japanese\",\"Japanese\",\"Japanese\",\"Japanese\",\"Japanese\",\"Japanese\",\"Japanese\",\"Japanese\",\"Japanese\",\"Japanese\",\"Japanese\",\"Japanese\",\"Japanese\",\"Japanese\",\"Japanese\",\"Japanese\",\"Japanese\",\"Japanese\",\"Japanese\",\"Japanese\",\"Japanese\",\"Japanese\",\"Japanese\",\"Japanese\",\"Japanese\",\"Japanese\",\"Japanese\",\"Japanese\",\"Japanese\",\"Japanese\",\"Japanese\",\"Japanese\",\"Japanese\",\"Japanese\",\"Japanese\",\"Japanese\",\"Japanese\",\"Japanese\",\"Japanese\"],\"xaxis\":\"x\",\"y\":[1,1,1,1,1,1,1,1,1,1,1,1,1,1,1,1,1,1,1,1,1,1,1,1,1,1,1,1,1,1,1,1,1,1,1,1,1,1,1,1,1,1],\"yaxis\":\"y\",\"type\":\"histogram\"},{\"alignmentgroup\":\"True\",\"bingroup\":\"x\",\"histfunc\":\"sum\",\"hovertemplate\":\"restaurant_name=Osteria Morini\\u003cbr\\u003ecuisine_type=%{x}\\u003cbr\\u003esum of y=%{y}\\u003cextra\\u003e\\u003c\\u002fextra\\u003e\",\"legendgroup\":\"Osteria Morini\",\"marker\":{\"color\":\"#19d3f3\",\"pattern\":{\"shape\":\"\"}},\"name\":\"Osteria Morini\",\"offsetgroup\":\"Osteria Morini\",\"orientation\":\"v\",\"showlegend\":true,\"x\":[\"Italian\",\"Italian\",\"Italian\",\"Italian\",\"Italian\",\"Italian\",\"Italian\",\"Italian\",\"Italian\",\"Italian\",\"Italian\",\"Italian\",\"Italian\",\"Italian\"],\"xaxis\":\"x\",\"y\":[1,1,1,1,1,1,1,1,1,1,1,1,1,1],\"yaxis\":\"y\",\"type\":\"histogram\"},{\"alignmentgroup\":\"True\",\"bingroup\":\"x\",\"histfunc\":\"sum\",\"hovertemplate\":\"restaurant_name=Haandi\\u003cbr\\u003ecuisine_type=%{x}\\u003cbr\\u003esum of y=%{y}\\u003cextra\\u003e\\u003c\\u002fextra\\u003e\",\"legendgroup\":\"Haandi\",\"marker\":{\"color\":\"#FF6692\",\"pattern\":{\"shape\":\"\"}},\"name\":\"Haandi\",\"offsetgroup\":\"Haandi\",\"orientation\":\"v\",\"showlegend\":true,\"x\":[\"Indian\",\"Indian\"],\"xaxis\":\"x\",\"y\":[1,1],\"yaxis\":\"y\",\"type\":\"histogram\"},{\"alignmentgroup\":\"True\",\"bingroup\":\"x\",\"histfunc\":\"sum\",\"hovertemplate\":\"restaurant_name=Benihana\\u003cbr\\u003ecuisine_type=%{x}\\u003cbr\\u003esum of y=%{y}\\u003cextra\\u003e\\u003c\\u002fextra\\u003e\",\"legendgroup\":\"Benihana\",\"marker\":{\"color\":\"#B6E880\",\"pattern\":{\"shape\":\"\"}},\"name\":\"Benihana\",\"offsetgroup\":\"Benihana\",\"orientation\":\"v\",\"showlegend\":true,\"x\":[\"Japanese\",\"Japanese\",\"Japanese\",\"Japanese\",\"Japanese\"],\"xaxis\":\"x\",\"y\":[1,1,1,1,1],\"yaxis\":\"y\",\"type\":\"histogram\"},{\"alignmentgroup\":\"True\",\"bingroup\":\"x\",\"histfunc\":\"sum\",\"hovertemplate\":\"restaurant_name=Han Dynasty\\u003cbr\\u003ecuisine_type=%{x}\\u003cbr\\u003esum of y=%{y}\\u003cextra\\u003e\\u003c\\u002fextra\\u003e\",\"legendgroup\":\"Han Dynasty\",\"marker\":{\"color\":\"#FF97FF\",\"pattern\":{\"shape\":\"\"}},\"name\":\"Han Dynasty\",\"offsetgroup\":\"Han Dynasty\",\"orientation\":\"v\",\"showlegend\":true,\"x\":[\"Chinese\",\"Chinese\",\"Chinese\",\"Chinese\",\"Chinese\",\"Chinese\",\"Chinese\",\"Chinese\",\"Chinese\",\"Chinese\",\"Chinese\",\"Chinese\",\"Chinese\",\"Chinese\",\"Chinese\",\"Chinese\",\"Chinese\",\"Chinese\",\"Chinese\",\"Chinese\",\"Chinese\",\"Chinese\",\"Chinese\",\"Chinese\",\"Chinese\",\"Chinese\",\"Chinese\",\"Chinese\",\"Chinese\",\"Chinese\",\"Chinese\",\"Chinese\",\"Chinese\",\"Chinese\",\"Chinese\",\"Chinese\",\"Chinese\",\"Chinese\",\"Chinese\",\"Chinese\",\"Chinese\",\"Chinese\",\"Chinese\",\"Chinese\",\"Chinese\",\"Chinese\"],\"xaxis\":\"x\",\"y\":[1,1,1,1,1,1,1,1,1,1,1,1,1,1,1,1,1,1,1,1,1,1,1,1,1,1,1,1,1,1,1,1,1,1,1,1,1,1,1,1,1,1,1,1,1,1],\"yaxis\":\"y\",\"type\":\"histogram\"},{\"alignmentgroup\":\"True\",\"bingroup\":\"x\",\"histfunc\":\"sum\",\"hovertemplate\":\"restaurant_name=Chote Nawab\\u003cbr\\u003ecuisine_type=%{x}\\u003cbr\\u003esum of y=%{y}\\u003cextra\\u003e\\u003c\\u002fextra\\u003e\",\"legendgroup\":\"Chote Nawab\",\"marker\":{\"color\":\"#FECB52\",\"pattern\":{\"shape\":\"\"}},\"name\":\"Chote Nawab\",\"offsetgroup\":\"Chote Nawab\",\"orientation\":\"v\",\"showlegend\":true,\"x\":[\"Indian\"],\"xaxis\":\"x\",\"y\":[1],\"yaxis\":\"y\",\"type\":\"histogram\"},{\"alignmentgroup\":\"True\",\"bingroup\":\"x\",\"histfunc\":\"sum\",\"hovertemplate\":\"restaurant_name=Mission Cantina\\u003cbr\\u003ecuisine_type=%{x}\\u003cbr\\u003esum of y=%{y}\\u003cextra\\u003e\\u003c\\u002fextra\\u003e\",\"legendgroup\":\"Mission Cantina\",\"marker\":{\"color\":\"#636efa\",\"pattern\":{\"shape\":\"\"}},\"name\":\"Mission Cantina\",\"offsetgroup\":\"Mission Cantina\",\"orientation\":\"v\",\"showlegend\":true,\"x\":[\"Mexican\",\"Mexican\",\"Mexican\",\"Mexican\",\"Mexican\"],\"xaxis\":\"x\",\"y\":[1,1,1,1,1],\"yaxis\":\"y\",\"type\":\"histogram\"},{\"alignmentgroup\":\"True\",\"bingroup\":\"x\",\"histfunc\":\"sum\",\"hovertemplate\":\"restaurant_name=Xi'an Famous Foods\\u003cbr\\u003ecuisine_type=%{x}\\u003cbr\\u003esum of y=%{y}\\u003cextra\\u003e\\u003c\\u002fextra\\u003e\",\"legendgroup\":\"Xi'an Famous Foods\",\"marker\":{\"color\":\"#EF553B\",\"pattern\":{\"shape\":\"\"}},\"name\":\"Xi'an Famous Foods\",\"offsetgroup\":\"Xi'an Famous Foods\",\"orientation\":\"v\",\"showlegend\":true,\"x\":[\"Chinese\",\"Chinese\",\"Chinese\",\"Chinese\",\"Chinese\",\"Chinese\",\"Chinese\",\"Chinese\",\"Chinese\"],\"xaxis\":\"x\",\"y\":[1,1,1,1,1,1,1,1,1],\"yaxis\":\"y\",\"type\":\"histogram\"},{\"alignmentgroup\":\"True\",\"bingroup\":\"x\",\"histfunc\":\"sum\",\"hovertemplate\":\"restaurant_name=Rubirosa\\u003cbr\\u003ecuisine_type=%{x}\\u003cbr\\u003esum of y=%{y}\\u003cextra\\u003e\\u003c\\u002fextra\\u003e\",\"legendgroup\":\"Rubirosa\",\"marker\":{\"color\":\"#00cc96\",\"pattern\":{\"shape\":\"\"}},\"name\":\"Rubirosa\",\"offsetgroup\":\"Rubirosa\",\"orientation\":\"v\",\"showlegend\":true,\"x\":[\"Italian\",\"Italian\",\"Italian\",\"Italian\",\"Italian\",\"Italian\",\"Italian\",\"Italian\",\"Italian\",\"Italian\",\"Italian\",\"Italian\",\"Italian\",\"Italian\",\"Italian\",\"Italian\",\"Italian\",\"Italian\",\"Italian\",\"Italian\",\"Italian\",\"Italian\",\"Italian\",\"Italian\",\"Italian\",\"Italian\",\"Italian\",\"Italian\",\"Italian\",\"Italian\",\"Italian\",\"Italian\",\"Italian\",\"Italian\",\"Italian\",\"Italian\",\"Italian\"],\"xaxis\":\"x\",\"y\":[1,1,1,1,1,1,1,1,1,1,1,1,1,1,1,1,1,1,1,1,1,1,1,1,1,1,1,1,1,1,1,1,1,1,1,1,1],\"yaxis\":\"y\",\"type\":\"histogram\"},{\"alignmentgroup\":\"True\",\"bingroup\":\"x\",\"histfunc\":\"sum\",\"hovertemplate\":\"restaurant_name=Joe's Shanghai \\u008e_\\u00c0\\u008e\\u00fc\\u00a3\\u00be\\u00f7\\u00b4\\u003cbr\\u003ecuisine_type=%{x}\\u003cbr\\u003esum of y=%{y}\\u003cextra\\u003e\\u003c\\u002fextra\\u003e\",\"legendgroup\":\"Joe's Shanghai \\u008e_\\u00c0\\u008e\\u00fc\\u00a3\\u00be\\u00f7\\u00b4\",\"marker\":{\"color\":\"#ab63fa\",\"pattern\":{\"shape\":\"\"}},\"name\":\"Joe's Shanghai \\u008e_\\u00c0\\u008e\\u00fc\\u00a3\\u00be\\u00f7\\u00b4\",\"offsetgroup\":\"Joe's Shanghai \\u008e_\\u00c0\\u008e\\u00fc\\u00a3\\u00be\\u00f7\\u00b4\",\"orientation\":\"v\",\"showlegend\":true,\"x\":[\"Chinese\",\"Chinese\",\"Chinese\",\"Chinese\"],\"xaxis\":\"x\",\"y\":[1,1,1,1],\"yaxis\":\"y\",\"type\":\"histogram\"},{\"alignmentgroup\":\"True\",\"bingroup\":\"x\",\"histfunc\":\"sum\",\"hovertemplate\":\"restaurant_name=Bareburger\\u003cbr\\u003ecuisine_type=%{x}\\u003cbr\\u003esum of y=%{y}\\u003cextra\\u003e\\u003c\\u002fextra\\u003e\",\"legendgroup\":\"Bareburger\",\"marker\":{\"color\":\"#FFA15A\",\"pattern\":{\"shape\":\"\"}},\"name\":\"Bareburger\",\"offsetgroup\":\"Bareburger\",\"orientation\":\"v\",\"showlegend\":true,\"x\":[\"American\",\"American\",\"American\",\"American\",\"American\",\"American\",\"American\",\"American\",\"American\",\"American\",\"American\",\"American\",\"American\",\"American\",\"American\",\"American\",\"American\",\"American\",\"American\",\"American\",\"American\",\"American\",\"American\",\"American\",\"American\",\"American\",\"American\"],\"xaxis\":\"x\",\"y\":[1,1,1,1,1,1,1,1,1,1,1,1,1,1,1,1,1,1,1,1,1,1,1,1,1,1,1],\"yaxis\":\"y\",\"type\":\"histogram\"},{\"alignmentgroup\":\"True\",\"bingroup\":\"x\",\"histfunc\":\"sum\",\"hovertemplate\":\"restaurant_name=The Odeon\\u003cbr\\u003ecuisine_type=%{x}\\u003cbr\\u003esum of y=%{y}\\u003cextra\\u003e\\u003c\\u002fextra\\u003e\",\"legendgroup\":\"The Odeon\",\"marker\":{\"color\":\"#19d3f3\",\"pattern\":{\"shape\":\"\"}},\"name\":\"The Odeon\",\"offsetgroup\":\"The Odeon\",\"orientation\":\"v\",\"showlegend\":true,\"x\":[\"American\",\"American\",\"American\"],\"xaxis\":\"x\",\"y\":[1,1,1],\"yaxis\":\"y\",\"type\":\"histogram\"},{\"alignmentgroup\":\"True\",\"bingroup\":\"x\",\"histfunc\":\"sum\",\"hovertemplate\":\"restaurant_name=Pongsri Thai\\u003cbr\\u003ecuisine_type=%{x}\\u003cbr\\u003esum of y=%{y}\\u003cextra\\u003e\\u003c\\u002fextra\\u003e\",\"legendgroup\":\"Pongsri Thai\",\"marker\":{\"color\":\"#FF6692\",\"pattern\":{\"shape\":\"\"}},\"name\":\"Pongsri Thai\",\"offsetgroup\":\"Pongsri Thai\",\"orientation\":\"v\",\"showlegend\":true,\"x\":[\"Thai\",\"Thai\"],\"xaxis\":\"x\",\"y\":[1,1],\"yaxis\":\"y\",\"type\":\"histogram\"},{\"alignmentgroup\":\"True\",\"bingroup\":\"x\",\"histfunc\":\"sum\",\"hovertemplate\":\"restaurant_name=Yama Japanese Restaurant\\u003cbr\\u003ecuisine_type=%{x}\\u003cbr\\u003esum of y=%{y}\\u003cextra\\u003e\\u003c\\u002fextra\\u003e\",\"legendgroup\":\"Yama Japanese Restaurant\",\"marker\":{\"color\":\"#B6E880\",\"pattern\":{\"shape\":\"\"}},\"name\":\"Yama Japanese Restaurant\",\"offsetgroup\":\"Yama Japanese Restaurant\",\"orientation\":\"v\",\"showlegend\":true,\"x\":[\"Japanese\",\"Japanese\",\"Japanese\",\"Japanese\",\"Japanese\",\"Japanese\",\"Japanese\",\"Japanese\",\"Japanese\",\"Japanese\",\"Japanese\",\"Japanese\",\"Japanese\",\"Japanese\",\"Japanese\",\"Japanese\",\"Japanese\",\"Japanese\"],\"xaxis\":\"x\",\"y\":[1,1,1,1,1,1,1,1,1,1,1,1,1,1,1,1,1,1],\"yaxis\":\"y\",\"type\":\"histogram\"},{\"alignmentgroup\":\"True\",\"bingroup\":\"x\",\"histfunc\":\"sum\",\"hovertemplate\":\"restaurant_name=Momoya\\u003cbr\\u003ecuisine_type=%{x}\\u003cbr\\u003esum of y=%{y}\\u003cextra\\u003e\\u003c\\u002fextra\\u003e\",\"legendgroup\":\"Momoya\",\"marker\":{\"color\":\"#FF97FF\",\"pattern\":{\"shape\":\"\"}},\"name\":\"Momoya\",\"offsetgroup\":\"Momoya\",\"orientation\":\"v\",\"showlegend\":true,\"x\":[\"Japanese\",\"Japanese\",\"Japanese\",\"Japanese\",\"Japanese\",\"Japanese\",\"Japanese\",\"Japanese\",\"Japanese\",\"Japanese\",\"Japanese\",\"Japanese\",\"Japanese\",\"Japanese\",\"Japanese\",\"Japanese\",\"Japanese\",\"Japanese\",\"Japanese\",\"Japanese\",\"Japanese\",\"Japanese\",\"Japanese\",\"Japanese\",\"Japanese\",\"Japanese\",\"Japanese\",\"Japanese\",\"Japanese\",\"Japanese\"],\"xaxis\":\"x\",\"y\":[1,1,1,1,1,1,1,1,1,1,1,1,1,1,1,1,1,1,1,1,1,1,1,1,1,1,1,1,1,1],\"yaxis\":\"y\",\"type\":\"histogram\"},{\"alignmentgroup\":\"True\",\"bingroup\":\"x\",\"histfunc\":\"sum\",\"hovertemplate\":\"restaurant_name=Balthazar Boulangerie\\u003cbr\\u003ecuisine_type=%{x}\\u003cbr\\u003esum of y=%{y}\\u003cextra\\u003e\\u003c\\u002fextra\\u003e\",\"legendgroup\":\"Balthazar Boulangerie\",\"marker\":{\"color\":\"#FECB52\",\"pattern\":{\"shape\":\"\"}},\"name\":\"Balthazar Boulangerie\",\"offsetgroup\":\"Balthazar Boulangerie\",\"orientation\":\"v\",\"showlegend\":true,\"x\":[\"French\",\"French\",\"French\",\"French\",\"French\",\"French\",\"French\",\"French\",\"French\",\"French\"],\"xaxis\":\"x\",\"y\":[1,1,1,1,1,1,1,1,1,1],\"yaxis\":\"y\",\"type\":\"histogram\"},{\"alignmentgroup\":\"True\",\"bingroup\":\"x\",\"histfunc\":\"sum\",\"hovertemplate\":\"restaurant_name=Caf\\u00cc\\u00a9 China\\u003cbr\\u003ecuisine_type=%{x}\\u003cbr\\u003esum of y=%{y}\\u003cextra\\u003e\\u003c\\u002fextra\\u003e\",\"legendgroup\":\"Caf\\u00cc\\u00a9 China\",\"marker\":{\"color\":\"#636efa\",\"pattern\":{\"shape\":\"\"}},\"name\":\"Caf\\u00cc\\u00a9 China\",\"offsetgroup\":\"Caf\\u00cc\\u00a9 China\",\"orientation\":\"v\",\"showlegend\":true,\"x\":[\"Chinese\",\"Chinese\",\"Chinese\",\"Chinese\",\"Chinese\",\"Chinese\"],\"xaxis\":\"x\",\"y\":[1,1,1,1,1,1],\"yaxis\":\"y\",\"type\":\"histogram\"},{\"alignmentgroup\":\"True\",\"bingroup\":\"x\",\"histfunc\":\"sum\",\"hovertemplate\":\"restaurant_name=Boqueria\\u003cbr\\u003ecuisine_type=%{x}\\u003cbr\\u003esum of y=%{y}\\u003cextra\\u003e\\u003c\\u002fextra\\u003e\",\"legendgroup\":\"Boqueria\",\"marker\":{\"color\":\"#EF553B\",\"pattern\":{\"shape\":\"\"}},\"name\":\"Boqueria\",\"offsetgroup\":\"Boqueria\",\"orientation\":\"v\",\"showlegend\":true,\"x\":[\"Spanish\",\"Spanish\",\"Spanish\",\"Spanish\",\"Spanish\",\"Spanish\",\"Spanish\",\"Spanish\",\"Spanish\"],\"xaxis\":\"x\",\"y\":[1,1,1,1,1,1,1,1,1],\"yaxis\":\"y\",\"type\":\"histogram\"},{\"alignmentgroup\":\"True\",\"bingroup\":\"x\",\"histfunc\":\"sum\",\"hovertemplate\":\"restaurant_name=Song Thai Restaurant & Bar\\u003cbr\\u003ecuisine_type=%{x}\\u003cbr\\u003esum of y=%{y}\\u003cextra\\u003e\\u003c\\u002fextra\\u003e\",\"legendgroup\":\"Song Thai Restaurant & Bar\",\"marker\":{\"color\":\"#00cc96\",\"pattern\":{\"shape\":\"\"}},\"name\":\"Song Thai Restaurant & Bar\",\"offsetgroup\":\"Song Thai Restaurant & Bar\",\"orientation\":\"v\",\"showlegend\":true,\"x\":[\"Thai\",\"Thai\"],\"xaxis\":\"x\",\"y\":[1,1],\"yaxis\":\"y\",\"type\":\"histogram\"},{\"alignmentgroup\":\"True\",\"bingroup\":\"x\",\"histfunc\":\"sum\",\"hovertemplate\":\"restaurant_name=Five Leaves\\u003cbr\\u003ecuisine_type=%{x}\\u003cbr\\u003esum of y=%{y}\\u003cextra\\u003e\\u003c\\u002fextra\\u003e\",\"legendgroup\":\"Five Leaves\",\"marker\":{\"color\":\"#ab63fa\",\"pattern\":{\"shape\":\"\"}},\"name\":\"Five Leaves\",\"offsetgroup\":\"Five Leaves\",\"orientation\":\"v\",\"showlegend\":true,\"x\":[\"American\",\"American\",\"American\",\"American\"],\"xaxis\":\"x\",\"y\":[1,1,1,1],\"yaxis\":\"y\",\"type\":\"histogram\"},{\"alignmentgroup\":\"True\",\"bingroup\":\"x\",\"histfunc\":\"sum\",\"hovertemplate\":\"restaurant_name=Pinto Nouveau Thai Bistro\\u003cbr\\u003ecuisine_type=%{x}\\u003cbr\\u003esum of y=%{y}\\u003cextra\\u003e\\u003c\\u002fextra\\u003e\",\"legendgroup\":\"Pinto Nouveau Thai Bistro\",\"marker\":{\"color\":\"#FFA15A\",\"pattern\":{\"shape\":\"\"}},\"name\":\"Pinto Nouveau Thai Bistro\",\"offsetgroup\":\"Pinto Nouveau Thai Bistro\",\"orientation\":\"v\",\"showlegend\":true,\"x\":[\"Thai\",\"Thai\",\"Thai\",\"Thai\"],\"xaxis\":\"x\",\"y\":[1,1,1,1],\"yaxis\":\"y\",\"type\":\"histogram\"},{\"alignmentgroup\":\"True\",\"bingroup\":\"x\",\"histfunc\":\"sum\",\"hovertemplate\":\"restaurant_name=Amy Ruth's\\u003cbr\\u003ecuisine_type=%{x}\\u003cbr\\u003esum of y=%{y}\\u003cextra\\u003e\\u003c\\u002fextra\\u003e\",\"legendgroup\":\"Amy Ruth's\",\"marker\":{\"color\":\"#19d3f3\",\"pattern\":{\"shape\":\"\"}},\"name\":\"Amy Ruth's\",\"offsetgroup\":\"Amy Ruth's\",\"orientation\":\"v\",\"showlegend\":true,\"x\":[\"Southern\",\"Southern\",\"Southern\"],\"xaxis\":\"x\",\"y\":[1,1,1],\"yaxis\":\"y\",\"type\":\"histogram\"},{\"alignmentgroup\":\"True\",\"bingroup\":\"x\",\"histfunc\":\"sum\",\"hovertemplate\":\"restaurant_name=Pepe Giallo\\u003cbr\\u003ecuisine_type=%{x}\\u003cbr\\u003esum of y=%{y}\\u003cextra\\u003e\\u003c\\u002fextra\\u003e\",\"legendgroup\":\"Pepe Giallo\",\"marker\":{\"color\":\"#FF6692\",\"pattern\":{\"shape\":\"\"}},\"name\":\"Pepe Giallo\",\"offsetgroup\":\"Pepe Giallo\",\"orientation\":\"v\",\"showlegend\":true,\"x\":[\"Italian\"],\"xaxis\":\"x\",\"y\":[1],\"yaxis\":\"y\",\"type\":\"histogram\"},{\"alignmentgroup\":\"True\",\"bingroup\":\"x\",\"histfunc\":\"sum\",\"hovertemplate\":\"restaurant_name=indikitch\\u003cbr\\u003ecuisine_type=%{x}\\u003cbr\\u003esum of y=%{y}\\u003cextra\\u003e\\u003c\\u002fextra\\u003e\",\"legendgroup\":\"indikitch\",\"marker\":{\"color\":\"#B6E880\",\"pattern\":{\"shape\":\"\"}},\"name\":\"indikitch\",\"offsetgroup\":\"indikitch\",\"orientation\":\"v\",\"showlegend\":true,\"x\":[\"Indian\",\"Indian\",\"Indian\",\"Indian\"],\"xaxis\":\"x\",\"y\":[1,1,1,1],\"yaxis\":\"y\",\"type\":\"histogram\"},{\"alignmentgroup\":\"True\",\"bingroup\":\"x\",\"histfunc\":\"sum\",\"hovertemplate\":\"restaurant_name=Yama 49\\u003cbr\\u003ecuisine_type=%{x}\\u003cbr\\u003esum of y=%{y}\\u003cextra\\u003e\\u003c\\u002fextra\\u003e\",\"legendgroup\":\"Yama 49\",\"marker\":{\"color\":\"#FF97FF\",\"pattern\":{\"shape\":\"\"}},\"name\":\"Yama 49\",\"offsetgroup\":\"Yama 49\",\"orientation\":\"v\",\"showlegend\":true,\"x\":[\"Japanese\",\"Japanese\",\"Japanese\",\"Japanese\",\"Japanese\"],\"xaxis\":\"x\",\"y\":[1,1,1,1,1],\"yaxis\":\"y\",\"type\":\"histogram\"},{\"alignmentgroup\":\"True\",\"bingroup\":\"x\",\"histfunc\":\"sum\",\"hovertemplate\":\"restaurant_name=Piccolo Angolo\\u003cbr\\u003ecuisine_type=%{x}\\u003cbr\\u003esum of y=%{y}\\u003cextra\\u003e\\u003c\\u002fextra\\u003e\",\"legendgroup\":\"Piccolo Angolo\",\"marker\":{\"color\":\"#FECB52\",\"pattern\":{\"shape\":\"\"}},\"name\":\"Piccolo Angolo\",\"offsetgroup\":\"Piccolo Angolo\",\"orientation\":\"v\",\"showlegend\":true,\"x\":[\"Italian\",\"Italian\"],\"xaxis\":\"x\",\"y\":[1,1],\"yaxis\":\"y\",\"type\":\"histogram\"},{\"alignmentgroup\":\"True\",\"bingroup\":\"x\",\"histfunc\":\"sum\",\"hovertemplate\":\"restaurant_name=Pepe Rosso To Go\\u003cbr\\u003ecuisine_type=%{x}\\u003cbr\\u003esum of y=%{y}\\u003cextra\\u003e\\u003c\\u002fextra\\u003e\",\"legendgroup\":\"Pepe Rosso To Go\",\"marker\":{\"color\":\"#636efa\",\"pattern\":{\"shape\":\"\"}},\"name\":\"Pepe Rosso To Go\",\"offsetgroup\":\"Pepe Rosso To Go\",\"orientation\":\"v\",\"showlegend\":true,\"x\":[\"Italian\",\"Italian\",\"Italian\",\"Italian\",\"Italian\",\"Italian\",\"Italian\"],\"xaxis\":\"x\",\"y\":[1,1,1,1,1,1,1],\"yaxis\":\"y\",\"type\":\"histogram\"},{\"alignmentgroup\":\"True\",\"bingroup\":\"x\",\"histfunc\":\"sum\",\"hovertemplate\":\"restaurant_name=L'Express\\u003cbr\\u003ecuisine_type=%{x}\\u003cbr\\u003esum of y=%{y}\\u003cextra\\u003e\\u003c\\u002fextra\\u003e\",\"legendgroup\":\"L'Express\",\"marker\":{\"color\":\"#EF553B\",\"pattern\":{\"shape\":\"\"}},\"name\":\"L'Express\",\"offsetgroup\":\"L'Express\",\"orientation\":\"v\",\"showlegend\":true,\"x\":[\"French\",\"French\",\"French\",\"French\",\"French\",\"French\"],\"xaxis\":\"x\",\"y\":[1,1,1,1,1,1],\"yaxis\":\"y\",\"type\":\"histogram\"},{\"alignmentgroup\":\"True\",\"bingroup\":\"x\",\"histfunc\":\"sum\",\"hovertemplate\":\"restaurant_name=Amma\\u003cbr\\u003ecuisine_type=%{x}\\u003cbr\\u003esum of y=%{y}\\u003cextra\\u003e\\u003c\\u002fextra\\u003e\",\"legendgroup\":\"Amma\",\"marker\":{\"color\":\"#00cc96\",\"pattern\":{\"shape\":\"\"}},\"name\":\"Amma\",\"offsetgroup\":\"Amma\",\"orientation\":\"v\",\"showlegend\":true,\"x\":[\"Indian\",\"Indian\",\"Indian\",\"Indian\"],\"xaxis\":\"x\",\"y\":[1,1,1,1],\"yaxis\":\"y\",\"type\":\"histogram\"},{\"alignmentgroup\":\"True\",\"bingroup\":\"x\",\"histfunc\":\"sum\",\"hovertemplate\":\"restaurant_name=Delicatessen\\u003cbr\\u003ecuisine_type=%{x}\\u003cbr\\u003esum of y=%{y}\\u003cextra\\u003e\\u003c\\u002fextra\\u003e\",\"legendgroup\":\"Delicatessen\",\"marker\":{\"color\":\"#ab63fa\",\"pattern\":{\"shape\":\"\"}},\"name\":\"Delicatessen\",\"offsetgroup\":\"Delicatessen\",\"orientation\":\"v\",\"showlegend\":true,\"x\":[\"American\",\"American\",\"American\",\"American\",\"American\"],\"xaxis\":\"x\",\"y\":[1,1,1,1,1],\"yaxis\":\"y\",\"type\":\"histogram\"},{\"alignmentgroup\":\"True\",\"bingroup\":\"x\",\"histfunc\":\"sum\",\"hovertemplate\":\"restaurant_name=S'MAC\\u003cbr\\u003ecuisine_type=%{x}\\u003cbr\\u003esum of y=%{y}\\u003cextra\\u003e\\u003c\\u002fextra\\u003e\",\"legendgroup\":\"S'MAC\",\"marker\":{\"color\":\"#FFA15A\",\"pattern\":{\"shape\":\"\"}},\"name\":\"S'MAC\",\"offsetgroup\":\"S'MAC\",\"orientation\":\"v\",\"showlegend\":true,\"x\":[\"American\",\"American\",\"American\",\"American\",\"American\",\"American\",\"American\",\"American\",\"American\",\"American\",\"American\",\"American\"],\"xaxis\":\"x\",\"y\":[1,1,1,1,1,1,1,1,1,1,1,1],\"yaxis\":\"y\",\"type\":\"histogram\"},{\"alignmentgroup\":\"True\",\"bingroup\":\"x\",\"histfunc\":\"sum\",\"hovertemplate\":\"restaurant_name=Vanessa's Dumplings\\u003cbr\\u003ecuisine_type=%{x}\\u003cbr\\u003esum of y=%{y}\\u003cextra\\u003e\\u003c\\u002fextra\\u003e\",\"legendgroup\":\"Vanessa's Dumplings\",\"marker\":{\"color\":\"#19d3f3\",\"pattern\":{\"shape\":\"\"}},\"name\":\"Vanessa's Dumplings\",\"offsetgroup\":\"Vanessa's Dumplings\",\"orientation\":\"v\",\"showlegend\":true,\"x\":[\"Chinese\",\"Chinese\",\"Chinese\",\"Chinese\",\"Chinese\",\"Chinese\",\"Chinese\",\"Chinese\",\"Chinese\",\"Chinese\",\"Chinese\",\"Chinese\",\"Chinese\"],\"xaxis\":\"x\",\"y\":[1,1,1,1,1,1,1,1,1,1,1,1,1],\"yaxis\":\"y\",\"type\":\"histogram\"},{\"alignmentgroup\":\"True\",\"bingroup\":\"x\",\"histfunc\":\"sum\",\"hovertemplate\":\"restaurant_name=Bhatti Indian Grill\\u003cbr\\u003ecuisine_type=%{x}\\u003cbr\\u003esum of y=%{y}\\u003cextra\\u003e\\u003c\\u002fextra\\u003e\",\"legendgroup\":\"Bhatti Indian Grill\",\"marker\":{\"color\":\"#FF6692\",\"pattern\":{\"shape\":\"\"}},\"name\":\"Bhatti Indian Grill\",\"offsetgroup\":\"Bhatti Indian Grill\",\"orientation\":\"v\",\"showlegend\":true,\"x\":[\"Indian\",\"Indian\"],\"xaxis\":\"x\",\"y\":[1,1],\"yaxis\":\"y\",\"type\":\"histogram\"},{\"alignmentgroup\":\"True\",\"bingroup\":\"x\",\"histfunc\":\"sum\",\"hovertemplate\":\"restaurant_name=Taro Sushi\\u003cbr\\u003ecuisine_type=%{x}\\u003cbr\\u003esum of y=%{y}\\u003cextra\\u003e\\u003c\\u002fextra\\u003e\",\"legendgroup\":\"Taro Sushi\",\"marker\":{\"color\":\"#B6E880\",\"pattern\":{\"shape\":\"\"}},\"name\":\"Taro Sushi\",\"offsetgroup\":\"Taro Sushi\",\"orientation\":\"v\",\"showlegend\":true,\"x\":[\"Japanese\"],\"xaxis\":\"x\",\"y\":[1],\"yaxis\":\"y\",\"type\":\"histogram\"},{\"alignmentgroup\":\"True\",\"bingroup\":\"x\",\"histfunc\":\"sum\",\"hovertemplate\":\"restaurant_name=Donburi-ya\\u003cbr\\u003ecuisine_type=%{x}\\u003cbr\\u003esum of y=%{y}\\u003cextra\\u003e\\u003c\\u002fextra\\u003e\",\"legendgroup\":\"Donburi-ya\",\"marker\":{\"color\":\"#FF97FF\",\"pattern\":{\"shape\":\"\"}},\"name\":\"Donburi-ya\",\"offsetgroup\":\"Donburi-ya\",\"orientation\":\"v\",\"showlegend\":true,\"x\":[\"Japanese\",\"Japanese\",\"Japanese\",\"Japanese\",\"Japanese\",\"Japanese\",\"Japanese\"],\"xaxis\":\"x\",\"y\":[1,1,1,1,1,1,1],\"yaxis\":\"y\",\"type\":\"histogram\"},{\"alignmentgroup\":\"True\",\"bingroup\":\"x\",\"histfunc\":\"sum\",\"hovertemplate\":\"restaurant_name=Hatsuhana\\u003cbr\\u003ecuisine_type=%{x}\\u003cbr\\u003esum of y=%{y}\\u003cextra\\u003e\\u003c\\u002fextra\\u003e\",\"legendgroup\":\"Hatsuhana\",\"marker\":{\"color\":\"#FECB52\",\"pattern\":{\"shape\":\"\"}},\"name\":\"Hatsuhana\",\"offsetgroup\":\"Hatsuhana\",\"orientation\":\"v\",\"showlegend\":true,\"x\":[\"Japanese\",\"Japanese\",\"Japanese\",\"Japanese\",\"Japanese\",\"Japanese\"],\"xaxis\":\"x\",\"y\":[1,1,1,1,1,1],\"yaxis\":\"y\",\"type\":\"histogram\"},{\"alignmentgroup\":\"True\",\"bingroup\":\"x\",\"histfunc\":\"sum\",\"hovertemplate\":\"restaurant_name=Samurai Mama\\u003cbr\\u003ecuisine_type=%{x}\\u003cbr\\u003esum of y=%{y}\\u003cextra\\u003e\\u003c\\u002fextra\\u003e\",\"legendgroup\":\"Samurai Mama\",\"marker\":{\"color\":\"#636efa\",\"pattern\":{\"shape\":\"\"}},\"name\":\"Samurai Mama\",\"offsetgroup\":\"Samurai Mama\",\"orientation\":\"v\",\"showlegend\":true,\"x\":[\"Japanese\"],\"xaxis\":\"x\",\"y\":[1],\"yaxis\":\"y\",\"type\":\"histogram\"},{\"alignmentgroup\":\"True\",\"bingroup\":\"x\",\"histfunc\":\"sum\",\"hovertemplate\":\"restaurant_name=Waverly Diner\\u003cbr\\u003ecuisine_type=%{x}\\u003cbr\\u003esum of y=%{y}\\u003cextra\\u003e\\u003c\\u002fextra\\u003e\",\"legendgroup\":\"Waverly Diner\",\"marker\":{\"color\":\"#EF553B\",\"pattern\":{\"shape\":\"\"}},\"name\":\"Waverly Diner\",\"offsetgroup\":\"Waverly Diner\",\"orientation\":\"v\",\"showlegend\":true,\"x\":[\"American\",\"American\",\"American\",\"American\",\"American\",\"American\",\"American\"],\"xaxis\":\"x\",\"y\":[1,1,1,1,1,1,1],\"yaxis\":\"y\",\"type\":\"histogram\"},{\"alignmentgroup\":\"True\",\"bingroup\":\"x\",\"histfunc\":\"sum\",\"hovertemplate\":\"restaurant_name=Tarallucci e Vino Restaurant\\u003cbr\\u003ecuisine_type=%{x}\\u003cbr\\u003esum of y=%{y}\\u003cextra\\u003e\\u003c\\u002fextra\\u003e\",\"legendgroup\":\"Tarallucci e Vino Restaurant\",\"marker\":{\"color\":\"#00cc96\",\"pattern\":{\"shape\":\"\"}},\"name\":\"Tarallucci e Vino Restaurant\",\"offsetgroup\":\"Tarallucci e Vino Restaurant\",\"orientation\":\"v\",\"showlegend\":true,\"x\":[\"Italian\",\"Italian\"],\"xaxis\":\"x\",\"y\":[1,1],\"yaxis\":\"y\",\"type\":\"histogram\"},{\"alignmentgroup\":\"True\",\"bingroup\":\"x\",\"histfunc\":\"sum\",\"hovertemplate\":\"restaurant_name=P.J. Clarke's\\u003cbr\\u003ecuisine_type=%{x}\\u003cbr\\u003esum of y=%{y}\\u003cextra\\u003e\\u003c\\u002fextra\\u003e\",\"legendgroup\":\"P.J. Clarke's\",\"marker\":{\"color\":\"#ab63fa\",\"pattern\":{\"shape\":\"\"}},\"name\":\"P.J. Clarke's\",\"offsetgroup\":\"P.J. Clarke's\",\"orientation\":\"v\",\"showlegend\":true,\"x\":[\"American\",\"American\",\"American\",\"American\",\"American\",\"American\",\"American\",\"American\",\"American\",\"American\",\"American\",\"American\",\"American\",\"American\",\"American\"],\"xaxis\":\"x\",\"y\":[1,1,1,1,1,1,1,1,1,1,1,1,1,1,1],\"yaxis\":\"y\",\"type\":\"histogram\"},{\"alignmentgroup\":\"True\",\"bingroup\":\"x\",\"histfunc\":\"sum\",\"hovertemplate\":\"restaurant_name=Lantern Thai Kitchen\\u003cbr\\u003ecuisine_type=%{x}\\u003cbr\\u003esum of y=%{y}\\u003cextra\\u003e\\u003c\\u002fextra\\u003e\",\"legendgroup\":\"Lantern Thai Kitchen\",\"marker\":{\"color\":\"#FFA15A\",\"pattern\":{\"shape\":\"\"}},\"name\":\"Lantern Thai Kitchen\",\"offsetgroup\":\"Lantern Thai Kitchen\",\"orientation\":\"v\",\"showlegend\":true,\"x\":[\"Thai\",\"Thai\",\"Thai\",\"Thai\"],\"xaxis\":\"x\",\"y\":[1,1,1,1],\"yaxis\":\"y\",\"type\":\"histogram\"},{\"alignmentgroup\":\"True\",\"bingroup\":\"x\",\"histfunc\":\"sum\",\"hovertemplate\":\"restaurant_name=ilili Restaurant\\u003cbr\\u003ecuisine_type=%{x}\\u003cbr\\u003esum of y=%{y}\\u003cextra\\u003e\\u003c\\u002fextra\\u003e\",\"legendgroup\":\"ilili Restaurant\",\"marker\":{\"color\":\"#19d3f3\",\"pattern\":{\"shape\":\"\"}},\"name\":\"ilili Restaurant\",\"offsetgroup\":\"ilili Restaurant\",\"orientation\":\"v\",\"showlegend\":true,\"x\":[\"Middle Eastern\",\"Middle Eastern\",\"Middle Eastern\",\"Middle Eastern\",\"Middle Eastern\",\"Middle Eastern\",\"Middle Eastern\",\"Middle Eastern\",\"Middle Eastern\",\"Middle Eastern\",\"Middle Eastern\",\"Middle Eastern\",\"Middle Eastern\",\"Middle Eastern\",\"Middle Eastern\",\"Middle Eastern\",\"Middle Eastern\",\"Middle Eastern\"],\"xaxis\":\"x\",\"y\":[1,1,1,1,1,1,1,1,1,1,1,1,1,1,1,1,1,1],\"yaxis\":\"y\",\"type\":\"histogram\"},{\"alignmentgroup\":\"True\",\"bingroup\":\"x\",\"histfunc\":\"sum\",\"hovertemplate\":\"restaurant_name=The Smile\\u003cbr\\u003ecuisine_type=%{x}\\u003cbr\\u003esum of y=%{y}\\u003cextra\\u003e\\u003c\\u002fextra\\u003e\",\"legendgroup\":\"The Smile\",\"marker\":{\"color\":\"#FF6692\",\"pattern\":{\"shape\":\"\"}},\"name\":\"The Smile\",\"offsetgroup\":\"The Smile\",\"orientation\":\"v\",\"showlegend\":true,\"x\":[\"American\",\"American\",\"American\",\"American\",\"American\",\"American\",\"American\",\"American\",\"American\",\"American\",\"American\",\"American\",\"American\",\"American\",\"American\",\"American\",\"American\",\"American\"],\"xaxis\":\"x\",\"y\":[1,1,1,1,1,1,1,1,1,1,1,1,1,1,1,1,1,1],\"yaxis\":\"y\",\"type\":\"histogram\"},{\"alignmentgroup\":\"True\",\"bingroup\":\"x\",\"histfunc\":\"sum\",\"hovertemplate\":\"restaurant_name=Vanessa's Dumpling House\\u003cbr\\u003ecuisine_type=%{x}\\u003cbr\\u003esum of y=%{y}\\u003cextra\\u003e\\u003c\\u002fextra\\u003e\",\"legendgroup\":\"Vanessa's Dumpling House\",\"marker\":{\"color\":\"#B6E880\",\"pattern\":{\"shape\":\"\"}},\"name\":\"Vanessa's Dumpling House\",\"offsetgroup\":\"Vanessa's Dumpling House\",\"orientation\":\"v\",\"showlegend\":true,\"x\":[\"Chinese\",\"Chinese\",\"Chinese\",\"Chinese\",\"Chinese\",\"Chinese\",\"Chinese\",\"Chinese\",\"Chinese\"],\"xaxis\":\"x\",\"y\":[1,1,1,1,1,1,1,1,1],\"yaxis\":\"y\",\"type\":\"histogram\"},{\"alignmentgroup\":\"True\",\"bingroup\":\"x\",\"histfunc\":\"sum\",\"hovertemplate\":\"restaurant_name=Bubby's \\u003cbr\\u003ecuisine_type=%{x}\\u003cbr\\u003esum of y=%{y}\\u003cextra\\u003e\\u003c\\u002fextra\\u003e\",\"legendgroup\":\"Bubby's \",\"marker\":{\"color\":\"#FF97FF\",\"pattern\":{\"shape\":\"\"}},\"name\":\"Bubby's \",\"offsetgroup\":\"Bubby's \",\"orientation\":\"v\",\"showlegend\":true,\"x\":[\"American\",\"American\",\"American\"],\"xaxis\":\"x\",\"y\":[1,1,1],\"yaxis\":\"y\",\"type\":\"histogram\"},{\"alignmentgroup\":\"True\",\"bingroup\":\"x\",\"histfunc\":\"sum\",\"hovertemplate\":\"restaurant_name=Woorijip\\u003cbr\\u003ecuisine_type=%{x}\\u003cbr\\u003esum of y=%{y}\\u003cextra\\u003e\\u003c\\u002fextra\\u003e\",\"legendgroup\":\"Woorijip\",\"marker\":{\"color\":\"#FECB52\",\"pattern\":{\"shape\":\"\"}},\"name\":\"Woorijip\",\"offsetgroup\":\"Woorijip\",\"orientation\":\"v\",\"showlegend\":true,\"x\":[\"Korean\"],\"xaxis\":\"x\",\"y\":[1],\"yaxis\":\"y\",\"type\":\"histogram\"},{\"alignmentgroup\":\"True\",\"bingroup\":\"x\",\"histfunc\":\"sum\",\"hovertemplate\":\"restaurant_name=Dirty Bird To Go (archived)\\u003cbr\\u003ecuisine_type=%{x}\\u003cbr\\u003esum of y=%{y}\\u003cextra\\u003e\\u003c\\u002fextra\\u003e\",\"legendgroup\":\"Dirty Bird To Go (archived)\",\"marker\":{\"color\":\"#636efa\",\"pattern\":{\"shape\":\"\"}},\"name\":\"Dirty Bird To Go (archived)\",\"offsetgroup\":\"Dirty Bird To Go (archived)\",\"orientation\":\"v\",\"showlegend\":true,\"x\":[\"American\",\"American\",\"American\"],\"xaxis\":\"x\",\"y\":[1,1,1],\"yaxis\":\"y\",\"type\":\"histogram\"},{\"alignmentgroup\":\"True\",\"bingroup\":\"x\",\"histfunc\":\"sum\",\"hovertemplate\":\"restaurant_name=Haveli Indian Restaurant\\u003cbr\\u003ecuisine_type=%{x}\\u003cbr\\u003esum of y=%{y}\\u003cextra\\u003e\\u003c\\u002fextra\\u003e\",\"legendgroup\":\"Haveli Indian Restaurant\",\"marker\":{\"color\":\"#EF553B\",\"pattern\":{\"shape\":\"\"}},\"name\":\"Haveli Indian Restaurant\",\"offsetgroup\":\"Haveli Indian Restaurant\",\"orientation\":\"v\",\"showlegend\":true,\"x\":[\"Indian\",\"Indian\"],\"xaxis\":\"x\",\"y\":[1,1],\"yaxis\":\"y\",\"type\":\"histogram\"},{\"alignmentgroup\":\"True\",\"bingroup\":\"x\",\"histfunc\":\"sum\",\"hovertemplate\":\"restaurant_name=Dos Caminos\\u003cbr\\u003ecuisine_type=%{x}\\u003cbr\\u003esum of y=%{y}\\u003cextra\\u003e\\u003c\\u002fextra\\u003e\",\"legendgroup\":\"Dos Caminos\",\"marker\":{\"color\":\"#00cc96\",\"pattern\":{\"shape\":\"\"}},\"name\":\"Dos Caminos\",\"offsetgroup\":\"Dos Caminos\",\"orientation\":\"v\",\"showlegend\":true,\"x\":[\"Mexican\",\"Mexican\",\"Mexican\",\"Mexican\",\"Mexican\",\"Mexican\",\"Mexican\",\"Mexican\"],\"xaxis\":\"x\",\"y\":[1,1,1,1,1,1,1,1],\"yaxis\":\"y\",\"type\":\"histogram\"},{\"alignmentgroup\":\"True\",\"bingroup\":\"x\",\"histfunc\":\"sum\",\"hovertemplate\":\"restaurant_name=da Umberto\\u003cbr\\u003ecuisine_type=%{x}\\u003cbr\\u003esum of y=%{y}\\u003cextra\\u003e\\u003c\\u002fextra\\u003e\",\"legendgroup\":\"da Umberto\",\"marker\":{\"color\":\"#ab63fa\",\"pattern\":{\"shape\":\"\"}},\"name\":\"da Umberto\",\"offsetgroup\":\"da Umberto\",\"orientation\":\"v\",\"showlegend\":true,\"x\":[\"Italian\",\"Italian\",\"Italian\"],\"xaxis\":\"x\",\"y\":[1,1,1],\"yaxis\":\"y\",\"type\":\"histogram\"},{\"alignmentgroup\":\"True\",\"bingroup\":\"x\",\"histfunc\":\"sum\",\"hovertemplate\":\"restaurant_name=Sushi of Gari Tribeca\\u003cbr\\u003ecuisine_type=%{x}\\u003cbr\\u003esum of y=%{y}\\u003cextra\\u003e\\u003c\\u002fextra\\u003e\",\"legendgroup\":\"Sushi of Gari Tribeca\",\"marker\":{\"color\":\"#FFA15A\",\"pattern\":{\"shape\":\"\"}},\"name\":\"Sushi of Gari Tribeca\",\"offsetgroup\":\"Sushi of Gari Tribeca\",\"orientation\":\"v\",\"showlegend\":true,\"x\":[\"Japanese\",\"Japanese\",\"Japanese\",\"Japanese\",\"Japanese\",\"Japanese\",\"Japanese\",\"Japanese\",\"Japanese\",\"Japanese\",\"Japanese\",\"Japanese\",\"Japanese\",\"Japanese\",\"Japanese\",\"Japanese\",\"Japanese\",\"Japanese\",\"Japanese\",\"Japanese\",\"Japanese\",\"Japanese\",\"Japanese\",\"Japanese\"],\"xaxis\":\"x\",\"y\":[1,1,1,1,1,1,1,1,1,1,1,1,1,1,1,1,1,1,1,1,1,1,1,1],\"yaxis\":\"y\",\"type\":\"histogram\"},{\"alignmentgroup\":\"True\",\"bingroup\":\"x\",\"histfunc\":\"sum\",\"hovertemplate\":\"restaurant_name=Burger Joint\\u003cbr\\u003ecuisine_type=%{x}\\u003cbr\\u003esum of y=%{y}\\u003cextra\\u003e\\u003c\\u002fextra\\u003e\",\"legendgroup\":\"Burger Joint\",\"marker\":{\"color\":\"#19d3f3\",\"pattern\":{\"shape\":\"\"}},\"name\":\"Burger Joint\",\"offsetgroup\":\"Burger Joint\",\"orientation\":\"v\",\"showlegend\":true,\"x\":[\"American\",\"American\",\"American\",\"American\",\"American\",\"American\",\"American\",\"American\",\"American\",\"American\",\"American\",\"American\"],\"xaxis\":\"x\",\"y\":[1,1,1,1,1,1,1,1,1,1,1,1],\"yaxis\":\"y\",\"type\":\"histogram\"},{\"alignmentgroup\":\"True\",\"bingroup\":\"x\",\"histfunc\":\"sum\",\"hovertemplate\":\"restaurant_name=Room Service\\u003cbr\\u003ecuisine_type=%{x}\\u003cbr\\u003esum of y=%{y}\\u003cextra\\u003e\\u003c\\u002fextra\\u003e\",\"legendgroup\":\"Room Service\",\"marker\":{\"color\":\"#FF6692\",\"pattern\":{\"shape\":\"\"}},\"name\":\"Room Service\",\"offsetgroup\":\"Room Service\",\"orientation\":\"v\",\"showlegend\":true,\"x\":[\"Thai\",\"Thai\",\"Thai\"],\"xaxis\":\"x\",\"y\":[1,1,1],\"yaxis\":\"y\",\"type\":\"histogram\"},{\"alignmentgroup\":\"True\",\"bingroup\":\"x\",\"histfunc\":\"sum\",\"hovertemplate\":\"restaurant_name=Sarabeth's Restaurant\\u003cbr\\u003ecuisine_type=%{x}\\u003cbr\\u003esum of y=%{y}\\u003cextra\\u003e\\u003c\\u002fextra\\u003e\",\"legendgroup\":\"Sarabeth's Restaurant\",\"marker\":{\"color\":\"#B6E880\",\"pattern\":{\"shape\":\"\"}},\"name\":\"Sarabeth's Restaurant\",\"offsetgroup\":\"Sarabeth's Restaurant\",\"orientation\":\"v\",\"showlegend\":true,\"x\":[\"American\",\"American\",\"American\",\"American\",\"American\",\"American\",\"American\"],\"xaxis\":\"x\",\"y\":[1,1,1,1,1,1,1],\"yaxis\":\"y\",\"type\":\"histogram\"},{\"alignmentgroup\":\"True\",\"bingroup\":\"x\",\"histfunc\":\"sum\",\"hovertemplate\":\"restaurant_name=Xe May Sandwich Shop\\u003cbr\\u003ecuisine_type=%{x}\\u003cbr\\u003esum of y=%{y}\\u003cextra\\u003e\\u003c\\u002fextra\\u003e\",\"legendgroup\":\"Xe May Sandwich Shop\",\"marker\":{\"color\":\"#FF97FF\",\"pattern\":{\"shape\":\"\"}},\"name\":\"Xe May Sandwich Shop\",\"offsetgroup\":\"Xe May Sandwich Shop\",\"orientation\":\"v\",\"showlegend\":true,\"x\":[\"Vietnamese\",\"Vietnamese\"],\"xaxis\":\"x\",\"y\":[1,1],\"yaxis\":\"y\",\"type\":\"histogram\"},{\"alignmentgroup\":\"True\",\"bingroup\":\"x\",\"histfunc\":\"sum\",\"hovertemplate\":\"restaurant_name=Hibino\\u003cbr\\u003ecuisine_type=%{x}\\u003cbr\\u003esum of y=%{y}\\u003cextra\\u003e\\u003c\\u002fextra\\u003e\",\"legendgroup\":\"Hibino\",\"marker\":{\"color\":\"#FECB52\",\"pattern\":{\"shape\":\"\"}},\"name\":\"Hibino\",\"offsetgroup\":\"Hibino\",\"orientation\":\"v\",\"showlegend\":true,\"x\":[\"Japanese\"],\"xaxis\":\"x\",\"y\":[1],\"yaxis\":\"y\",\"type\":\"histogram\"},{\"alignmentgroup\":\"True\",\"bingroup\":\"x\",\"histfunc\":\"sum\",\"hovertemplate\":\"restaurant_name=Mira Sushi\\u003cbr\\u003ecuisine_type=%{x}\\u003cbr\\u003esum of y=%{y}\\u003cextra\\u003e\\u003c\\u002fextra\\u003e\",\"legendgroup\":\"Mira Sushi\",\"marker\":{\"color\":\"#636efa\",\"pattern\":{\"shape\":\"\"}},\"name\":\"Mira Sushi\",\"offsetgroup\":\"Mira Sushi\",\"orientation\":\"v\",\"showlegend\":true,\"x\":[\"Japanese\",\"Japanese\"],\"xaxis\":\"x\",\"y\":[1,1],\"yaxis\":\"y\",\"type\":\"histogram\"},{\"alignmentgroup\":\"True\",\"bingroup\":\"x\",\"histfunc\":\"sum\",\"hovertemplate\":\"restaurant_name=Melt Shop\\u003cbr\\u003ecuisine_type=%{x}\\u003cbr\\u003esum of y=%{y}\\u003cextra\\u003e\\u003c\\u002fextra\\u003e\",\"legendgroup\":\"Melt Shop\",\"marker\":{\"color\":\"#EF553B\",\"pattern\":{\"shape\":\"\"}},\"name\":\"Melt Shop\",\"offsetgroup\":\"Melt Shop\",\"orientation\":\"v\",\"showlegend\":true,\"x\":[\"American\",\"American\",\"American\",\"American\",\"American\",\"American\",\"American\",\"American\",\"American\",\"American\",\"American\"],\"xaxis\":\"x\",\"y\":[1,1,1,1,1,1,1,1,1,1,1],\"yaxis\":\"y\",\"type\":\"histogram\"},{\"alignmentgroup\":\"True\",\"bingroup\":\"x\",\"histfunc\":\"sum\",\"hovertemplate\":\"restaurant_name=J. G. Melon\\u003cbr\\u003ecuisine_type=%{x}\\u003cbr\\u003esum of y=%{y}\\u003cextra\\u003e\\u003c\\u002fextra\\u003e\",\"legendgroup\":\"J. G. Melon\",\"marker\":{\"color\":\"#00cc96\",\"pattern\":{\"shape\":\"\"}},\"name\":\"J. G. Melon\",\"offsetgroup\":\"J. G. Melon\",\"orientation\":\"v\",\"showlegend\":true,\"x\":[\"American\",\"American\",\"American\",\"American\",\"American\",\"American\",\"American\",\"American\",\"American\",\"American\",\"American\",\"American\",\"American\",\"American\",\"American\"],\"xaxis\":\"x\",\"y\":[1,1,1,1,1,1,1,1,1,1,1,1,1,1,1],\"yaxis\":\"y\",\"type\":\"histogram\"},{\"alignmentgroup\":\"True\",\"bingroup\":\"x\",\"histfunc\":\"sum\",\"hovertemplate\":\"restaurant_name=Hummus Place\\u003cbr\\u003ecuisine_type=%{x}\\u003cbr\\u003esum of y=%{y}\\u003cextra\\u003e\\u003c\\u002fextra\\u003e\",\"legendgroup\":\"Hummus Place\",\"marker\":{\"color\":\"#ab63fa\",\"pattern\":{\"shape\":\"\"}},\"name\":\"Hummus Place\",\"offsetgroup\":\"Hummus Place\",\"orientation\":\"v\",\"showlegend\":true,\"x\":[\"Middle Eastern\",\"Middle Eastern\",\"Middle Eastern\"],\"xaxis\":\"x\",\"y\":[1,1,1],\"yaxis\":\"y\",\"type\":\"histogram\"},{\"alignmentgroup\":\"True\",\"bingroup\":\"x\",\"histfunc\":\"sum\",\"hovertemplate\":\"restaurant_name=Saravanaa Bhavan\\u003cbr\\u003ecuisine_type=%{x}\\u003cbr\\u003esum of y=%{y}\\u003cextra\\u003e\\u003c\\u002fextra\\u003e\",\"legendgroup\":\"Saravanaa Bhavan\",\"marker\":{\"color\":\"#FFA15A\",\"pattern\":{\"shape\":\"\"}},\"name\":\"Saravanaa Bhavan\",\"offsetgroup\":\"Saravanaa Bhavan\",\"orientation\":\"v\",\"showlegend\":true,\"x\":[\"Indian\",\"Indian\",\"Indian\",\"Indian\",\"Indian\"],\"xaxis\":\"x\",\"y\":[1,1,1,1,1],\"yaxis\":\"y\",\"type\":\"histogram\"},{\"alignmentgroup\":\"True\",\"bingroup\":\"x\",\"histfunc\":\"sum\",\"hovertemplate\":\"restaurant_name=Friend of a Farmer\\u003cbr\\u003ecuisine_type=%{x}\\u003cbr\\u003esum of y=%{y}\\u003cextra\\u003e\\u003c\\u002fextra\\u003e\",\"legendgroup\":\"Friend of a Farmer\",\"marker\":{\"color\":\"#19d3f3\",\"pattern\":{\"shape\":\"\"}},\"name\":\"Friend of a Farmer\",\"offsetgroup\":\"Friend of a Farmer\",\"orientation\":\"v\",\"showlegend\":true,\"x\":[\"American\",\"American\",\"American\"],\"xaxis\":\"x\",\"y\":[1,1,1],\"yaxis\":\"y\",\"type\":\"histogram\"},{\"alignmentgroup\":\"True\",\"bingroup\":\"x\",\"histfunc\":\"sum\",\"hovertemplate\":\"restaurant_name=The Loop\\u003cbr\\u003ecuisine_type=%{x}\\u003cbr\\u003esum of y=%{y}\\u003cextra\\u003e\\u003c\\u002fextra\\u003e\",\"legendgroup\":\"The Loop\",\"marker\":{\"color\":\"#FF6692\",\"pattern\":{\"shape\":\"\"}},\"name\":\"The Loop\",\"offsetgroup\":\"The Loop\",\"orientation\":\"v\",\"showlegend\":true,\"x\":[\"Japanese\",\"Japanese\",\"Japanese\",\"Japanese\"],\"xaxis\":\"x\",\"y\":[1,1,1,1],\"yaxis\":\"y\",\"type\":\"histogram\"},{\"alignmentgroup\":\"True\",\"bingroup\":\"x\",\"histfunc\":\"sum\",\"hovertemplate\":\"restaurant_name=Balade\\u003cbr\\u003ecuisine_type=%{x}\\u003cbr\\u003esum of y=%{y}\\u003cextra\\u003e\\u003c\\u002fextra\\u003e\",\"legendgroup\":\"Balade\",\"marker\":{\"color\":\"#B6E880\",\"pattern\":{\"shape\":\"\"}},\"name\":\"Balade\",\"offsetgroup\":\"Balade\",\"orientation\":\"v\",\"showlegend\":true,\"x\":[\"Middle Eastern\"],\"xaxis\":\"x\",\"y\":[1],\"yaxis\":\"y\",\"type\":\"histogram\"},{\"alignmentgroup\":\"True\",\"bingroup\":\"x\",\"histfunc\":\"sum\",\"hovertemplate\":\"restaurant_name=Posto\\u003cbr\\u003ecuisine_type=%{x}\\u003cbr\\u003esum of y=%{y}\\u003cextra\\u003e\\u003c\\u002fextra\\u003e\",\"legendgroup\":\"Posto\",\"marker\":{\"color\":\"#FF97FF\",\"pattern\":{\"shape\":\"\"}},\"name\":\"Posto\",\"offsetgroup\":\"Posto\",\"orientation\":\"v\",\"showlegend\":true,\"x\":[\"Italian\"],\"xaxis\":\"x\",\"y\":[1],\"yaxis\":\"y\",\"type\":\"histogram\"},{\"alignmentgroup\":\"True\",\"bingroup\":\"x\",\"histfunc\":\"sum\",\"hovertemplate\":\"restaurant_name=Terakawa Ramen\\u003cbr\\u003ecuisine_type=%{x}\\u003cbr\\u003esum of y=%{y}\\u003cextra\\u003e\\u003c\\u002fextra\\u003e\",\"legendgroup\":\"Terakawa Ramen\",\"marker\":{\"color\":\"#FECB52\",\"pattern\":{\"shape\":\"\"}},\"name\":\"Terakawa Ramen\",\"offsetgroup\":\"Terakawa Ramen\",\"orientation\":\"v\",\"showlegend\":true,\"x\":[\"Japanese\",\"Japanese\",\"Japanese\"],\"xaxis\":\"x\",\"y\":[1,1,1],\"yaxis\":\"y\",\"type\":\"histogram\"},{\"alignmentgroup\":\"True\",\"bingroup\":\"x\",\"histfunc\":\"sum\",\"hovertemplate\":\"restaurant_name=Kambi Ramen House\\u003cbr\\u003ecuisine_type=%{x}\\u003cbr\\u003esum of y=%{y}\\u003cextra\\u003e\\u003c\\u002fextra\\u003e\",\"legendgroup\":\"Kambi Ramen House\",\"marker\":{\"color\":\"#636efa\",\"pattern\":{\"shape\":\"\"}},\"name\":\"Kambi Ramen House\",\"offsetgroup\":\"Kambi Ramen House\",\"orientation\":\"v\",\"showlegend\":true,\"x\":[\"Japanese\"],\"xaxis\":\"x\",\"y\":[1],\"yaxis\":\"y\",\"type\":\"histogram\"},{\"alignmentgroup\":\"True\",\"bingroup\":\"x\",\"histfunc\":\"sum\",\"hovertemplate\":\"restaurant_name=Wo Hop Restaurant\\u003cbr\\u003ecuisine_type=%{x}\\u003cbr\\u003esum of y=%{y}\\u003cextra\\u003e\\u003c\\u002fextra\\u003e\",\"legendgroup\":\"Wo Hop Restaurant\",\"marker\":{\"color\":\"#EF553B\",\"pattern\":{\"shape\":\"\"}},\"name\":\"Wo Hop Restaurant\",\"offsetgroup\":\"Wo Hop Restaurant\",\"orientation\":\"v\",\"showlegend\":true,\"x\":[\"Chinese\"],\"xaxis\":\"x\",\"y\":[1],\"yaxis\":\"y\",\"type\":\"histogram\"},{\"alignmentgroup\":\"True\",\"bingroup\":\"x\",\"histfunc\":\"sum\",\"hovertemplate\":\"restaurant_name=Spice Thai\\u003cbr\\u003ecuisine_type=%{x}\\u003cbr\\u003esum of y=%{y}\\u003cextra\\u003e\\u003c\\u002fextra\\u003e\",\"legendgroup\":\"Spice Thai\",\"marker\":{\"color\":\"#00cc96\",\"pattern\":{\"shape\":\"\"}},\"name\":\"Spice Thai\",\"offsetgroup\":\"Spice Thai\",\"orientation\":\"v\",\"showlegend\":true,\"x\":[\"Thai\"],\"xaxis\":\"x\",\"y\":[1],\"yaxis\":\"y\",\"type\":\"histogram\"},{\"alignmentgroup\":\"True\",\"bingroup\":\"x\",\"histfunc\":\"sum\",\"hovertemplate\":\"restaurant_name=Dickson's Farmstand Meats\\u003cbr\\u003ecuisine_type=%{x}\\u003cbr\\u003esum of y=%{y}\\u003cextra\\u003e\\u003c\\u002fextra\\u003e\",\"legendgroup\":\"Dickson's Farmstand Meats\",\"marker\":{\"color\":\"#ab63fa\",\"pattern\":{\"shape\":\"\"}},\"name\":\"Dickson's Farmstand Meats\",\"offsetgroup\":\"Dickson's Farmstand Meats\",\"orientation\":\"v\",\"showlegend\":true,\"x\":[\"American\",\"American\",\"American\"],\"xaxis\":\"x\",\"y\":[1,1,1],\"yaxis\":\"y\",\"type\":\"histogram\"},{\"alignmentgroup\":\"True\",\"bingroup\":\"x\",\"histfunc\":\"sum\",\"hovertemplate\":\"restaurant_name=UVA Wine Bar & Restaurant\\u003cbr\\u003ecuisine_type=%{x}\\u003cbr\\u003esum of y=%{y}\\u003cextra\\u003e\\u003c\\u002fextra\\u003e\",\"legendgroup\":\"UVA Wine Bar & Restaurant\",\"marker\":{\"color\":\"#FFA15A\",\"pattern\":{\"shape\":\"\"}},\"name\":\"UVA Wine Bar & Restaurant\",\"offsetgroup\":\"UVA Wine Bar & Restaurant\",\"orientation\":\"v\",\"showlegend\":true,\"x\":[\"Italian\",\"Italian\"],\"xaxis\":\"x\",\"y\":[1,1],\"yaxis\":\"y\",\"type\":\"histogram\"},{\"alignmentgroup\":\"True\",\"bingroup\":\"x\",\"histfunc\":\"sum\",\"hovertemplate\":\"restaurant_name=Serafina Fabulous Pizza\\u003cbr\\u003ecuisine_type=%{x}\\u003cbr\\u003esum of y=%{y}\\u003cextra\\u003e\\u003c\\u002fextra\\u003e\",\"legendgroup\":\"Serafina Fabulous Pizza\",\"marker\":{\"color\":\"#19d3f3\",\"pattern\":{\"shape\":\"\"}},\"name\":\"Serafina Fabulous Pizza\",\"offsetgroup\":\"Serafina Fabulous Pizza\",\"orientation\":\"v\",\"showlegend\":true,\"x\":[\"Italian\",\"Italian\",\"Italian\",\"Italian\",\"Italian\"],\"xaxis\":\"x\",\"y\":[1,1,1,1,1],\"yaxis\":\"y\",\"type\":\"histogram\"},{\"alignmentgroup\":\"True\",\"bingroup\":\"x\",\"histfunc\":\"sum\",\"hovertemplate\":\"restaurant_name=Gaia Italian Cafe\\u003cbr\\u003ecuisine_type=%{x}\\u003cbr\\u003esum of y=%{y}\\u003cextra\\u003e\\u003c\\u002fextra\\u003e\",\"legendgroup\":\"Gaia Italian Cafe\",\"marker\":{\"color\":\"#FF6692\",\"pattern\":{\"shape\":\"\"}},\"name\":\"Gaia Italian Cafe\",\"offsetgroup\":\"Gaia Italian Cafe\",\"orientation\":\"v\",\"showlegend\":true,\"x\":[\"Italian\"],\"xaxis\":\"x\",\"y\":[1],\"yaxis\":\"y\",\"type\":\"histogram\"},{\"alignmentgroup\":\"True\",\"bingroup\":\"x\",\"histfunc\":\"sum\",\"hovertemplate\":\"restaurant_name=Chola Eclectic Indian Cuisine\\u003cbr\\u003ecuisine_type=%{x}\\u003cbr\\u003esum of y=%{y}\\u003cextra\\u003e\\u003c\\u002fextra\\u003e\",\"legendgroup\":\"Chola Eclectic Indian Cuisine\",\"marker\":{\"color\":\"#B6E880\",\"pattern\":{\"shape\":\"\"}},\"name\":\"Chola Eclectic Indian Cuisine\",\"offsetgroup\":\"Chola Eclectic Indian Cuisine\",\"orientation\":\"v\",\"showlegend\":true,\"x\":[\"Indian\"],\"xaxis\":\"x\",\"y\":[1],\"yaxis\":\"y\",\"type\":\"histogram\"},{\"alignmentgroup\":\"True\",\"bingroup\":\"x\",\"histfunc\":\"sum\",\"hovertemplate\":\"restaurant_name=Hot Kitchen\\u003cbr\\u003ecuisine_type=%{x}\\u003cbr\\u003esum of y=%{y}\\u003cextra\\u003e\\u003c\\u002fextra\\u003e\",\"legendgroup\":\"Hot Kitchen\",\"marker\":{\"color\":\"#FF97FF\",\"pattern\":{\"shape\":\"\"}},\"name\":\"Hot Kitchen\",\"offsetgroup\":\"Hot Kitchen\",\"orientation\":\"v\",\"showlegend\":true,\"x\":[\"Chinese\",\"Chinese\"],\"xaxis\":\"x\",\"y\":[1,1],\"yaxis\":\"y\",\"type\":\"histogram\"},{\"alignmentgroup\":\"True\",\"bingroup\":\"x\",\"histfunc\":\"sum\",\"hovertemplate\":\"restaurant_name=Junoon\\u003cbr\\u003ecuisine_type=%{x}\\u003cbr\\u003esum of y=%{y}\\u003cextra\\u003e\\u003c\\u002fextra\\u003e\",\"legendgroup\":\"Junoon\",\"marker\":{\"color\":\"#FECB52\",\"pattern\":{\"shape\":\"\"}},\"name\":\"Junoon\",\"offsetgroup\":\"Junoon\",\"orientation\":\"v\",\"showlegend\":true,\"x\":[\"Indian\",\"Indian\",\"Indian\",\"Indian\",\"Indian\"],\"xaxis\":\"x\",\"y\":[1,1,1,1,1],\"yaxis\":\"y\",\"type\":\"histogram\"},{\"alignmentgroup\":\"True\",\"bingroup\":\"x\",\"histfunc\":\"sum\",\"hovertemplate\":\"restaurant_name=Ravagh Persian Grill\\u003cbr\\u003ecuisine_type=%{x}\\u003cbr\\u003esum of y=%{y}\\u003cextra\\u003e\\u003c\\u002fextra\\u003e\",\"legendgroup\":\"Ravagh Persian Grill\",\"marker\":{\"color\":\"#636efa\",\"pattern\":{\"shape\":\"\"}},\"name\":\"Ravagh Persian Grill\",\"offsetgroup\":\"Ravagh Persian Grill\",\"orientation\":\"v\",\"showlegend\":true,\"x\":[\"Middle Eastern\",\"Middle Eastern\",\"Middle Eastern\"],\"xaxis\":\"x\",\"y\":[1,1,1],\"yaxis\":\"y\",\"type\":\"histogram\"},{\"alignmentgroup\":\"True\",\"bingroup\":\"x\",\"histfunc\":\"sum\",\"hovertemplate\":\"restaurant_name=Rohm Thai\\u003cbr\\u003ecuisine_type=%{x}\\u003cbr\\u003esum of y=%{y}\\u003cextra\\u003e\\u003c\\u002fextra\\u003e\",\"legendgroup\":\"Rohm Thai\",\"marker\":{\"color\":\"#EF553B\",\"pattern\":{\"shape\":\"\"}},\"name\":\"Rohm Thai\",\"offsetgroup\":\"Rohm Thai\",\"orientation\":\"v\",\"showlegend\":true,\"x\":[\"Thai\"],\"xaxis\":\"x\",\"y\":[1],\"yaxis\":\"y\",\"type\":\"histogram\"},{\"alignmentgroup\":\"True\",\"bingroup\":\"x\",\"histfunc\":\"sum\",\"hovertemplate\":\"restaurant_name=Dig Inn Seasonal Market\\u003cbr\\u003ecuisine_type=%{x}\\u003cbr\\u003esum of y=%{y}\\u003cextra\\u003e\\u003c\\u002fextra\\u003e\",\"legendgroup\":\"Dig Inn Seasonal Market\",\"marker\":{\"color\":\"#00cc96\",\"pattern\":{\"shape\":\"\"}},\"name\":\"Dig Inn Seasonal Market\",\"offsetgroup\":\"Dig Inn Seasonal Market\",\"orientation\":\"v\",\"showlegend\":true,\"x\":[\"American\"],\"xaxis\":\"x\",\"y\":[1],\"yaxis\":\"y\",\"type\":\"histogram\"},{\"alignmentgroup\":\"True\",\"bingroup\":\"x\",\"histfunc\":\"sum\",\"hovertemplate\":\"restaurant_name=Olea\\u003cbr\\u003ecuisine_type=%{x}\\u003cbr\\u003esum of y=%{y}\\u003cextra\\u003e\\u003c\\u002fextra\\u003e\",\"legendgroup\":\"Olea\",\"marker\":{\"color\":\"#ab63fa\",\"pattern\":{\"shape\":\"\"}},\"name\":\"Olea\",\"offsetgroup\":\"Olea\",\"orientation\":\"v\",\"showlegend\":true,\"x\":[\"Mediterranean\",\"Mediterranean\",\"Mediterranean\"],\"xaxis\":\"x\",\"y\":[1,1,1],\"yaxis\":\"y\",\"type\":\"histogram\"},{\"alignmentgroup\":\"True\",\"bingroup\":\"x\",\"histfunc\":\"sum\",\"hovertemplate\":\"restaurant_name=Cho Dang Gol\\u003cbr\\u003ecuisine_type=%{x}\\u003cbr\\u003esum of y=%{y}\\u003cextra\\u003e\\u003c\\u002fextra\\u003e\",\"legendgroup\":\"Cho Dang Gol\",\"marker\":{\"color\":\"#FFA15A\",\"pattern\":{\"shape\":\"\"}},\"name\":\"Cho Dang Gol\",\"offsetgroup\":\"Cho Dang Gol\",\"orientation\":\"v\",\"showlegend\":true,\"x\":[\"Korean\",\"Korean\",\"Korean\",\"Korean\",\"Korean\",\"Korean\"],\"xaxis\":\"x\",\"y\":[1,1,1,1,1,1],\"yaxis\":\"y\",\"type\":\"histogram\"},{\"alignmentgroup\":\"True\",\"bingroup\":\"x\",\"histfunc\":\"sum\",\"hovertemplate\":\"restaurant_name=El Parador Cafe\\u003cbr\\u003ecuisine_type=%{x}\\u003cbr\\u003esum of y=%{y}\\u003cextra\\u003e\\u003c\\u002fextra\\u003e\",\"legendgroup\":\"El Parador Cafe\",\"marker\":{\"color\":\"#19d3f3\",\"pattern\":{\"shape\":\"\"}},\"name\":\"El Parador Cafe\",\"offsetgroup\":\"El Parador Cafe\",\"orientation\":\"v\",\"showlegend\":true,\"x\":[\"Mexican\",\"Mexican\"],\"xaxis\":\"x\",\"y\":[1,1],\"yaxis\":\"y\",\"type\":\"histogram\"},{\"alignmentgroup\":\"True\",\"bingroup\":\"x\",\"histfunc\":\"sum\",\"hovertemplate\":\"restaurant_name=Socarrat Paella Bar\\u003cbr\\u003ecuisine_type=%{x}\\u003cbr\\u003esum of y=%{y}\\u003cextra\\u003e\\u003c\\u002fextra\\u003e\",\"legendgroup\":\"Socarrat Paella Bar\",\"marker\":{\"color\":\"#FF6692\",\"pattern\":{\"shape\":\"\"}},\"name\":\"Socarrat Paella Bar\",\"offsetgroup\":\"Socarrat Paella Bar\",\"orientation\":\"v\",\"showlegend\":true,\"x\":[\"Spanish\"],\"xaxis\":\"x\",\"y\":[1],\"yaxis\":\"y\",\"type\":\"histogram\"},{\"alignmentgroup\":\"True\",\"bingroup\":\"x\",\"histfunc\":\"sum\",\"hovertemplate\":\"restaurant_name=Don's Bogam BBQ & Wine Bar\\u003cbr\\u003ecuisine_type=%{x}\\u003cbr\\u003esum of y=%{y}\\u003cextra\\u003e\\u003c\\u002fextra\\u003e\",\"legendgroup\":\"Don's Bogam BBQ & Wine Bar\",\"marker\":{\"color\":\"#B6E880\",\"pattern\":{\"shape\":\"\"}},\"name\":\"Don's Bogam BBQ & Wine Bar\",\"offsetgroup\":\"Don's Bogam BBQ & Wine Bar\",\"orientation\":\"v\",\"showlegend\":true,\"x\":[\"Korean\",\"Korean\",\"Korean\"],\"xaxis\":\"x\",\"y\":[1,1,1],\"yaxis\":\"y\",\"type\":\"histogram\"},{\"alignmentgroup\":\"True\",\"bingroup\":\"x\",\"histfunc\":\"sum\",\"hovertemplate\":\"restaurant_name=Alidoro\\u003cbr\\u003ecuisine_type=%{x}\\u003cbr\\u003esum of y=%{y}\\u003cextra\\u003e\\u003c\\u002fextra\\u003e\",\"legendgroup\":\"Alidoro\",\"marker\":{\"color\":\"#FF97FF\",\"pattern\":{\"shape\":\"\"}},\"name\":\"Alidoro\",\"offsetgroup\":\"Alidoro\",\"orientation\":\"v\",\"showlegend\":true,\"x\":[\"American\"],\"xaxis\":\"x\",\"y\":[1],\"yaxis\":\"y\",\"type\":\"histogram\"},{\"alignmentgroup\":\"True\",\"bingroup\":\"x\",\"histfunc\":\"sum\",\"hovertemplate\":\"restaurant_name=Tony's Di Napoli\\u003cbr\\u003ecuisine_type=%{x}\\u003cbr\\u003esum of y=%{y}\\u003cextra\\u003e\\u003c\\u002fextra\\u003e\",\"legendgroup\":\"Tony's Di Napoli\",\"marker\":{\"color\":\"#FECB52\",\"pattern\":{\"shape\":\"\"}},\"name\":\"Tony's Di Napoli\",\"offsetgroup\":\"Tony's Di Napoli\",\"orientation\":\"v\",\"showlegend\":true,\"x\":[\"Italian\",\"Italian\",\"Italian\",\"Italian\",\"Italian\"],\"xaxis\":\"x\",\"y\":[1,1,1,1,1],\"yaxis\":\"y\",\"type\":\"histogram\"},{\"alignmentgroup\":\"True\",\"bingroup\":\"x\",\"histfunc\":\"sum\",\"hovertemplate\":\"restaurant_name=Cipriani Le Specialita\\u003cbr\\u003ecuisine_type=%{x}\\u003cbr\\u003esum of y=%{y}\\u003cextra\\u003e\\u003c\\u002fextra\\u003e\",\"legendgroup\":\"Cipriani Le Specialita\",\"marker\":{\"color\":\"#636efa\",\"pattern\":{\"shape\":\"\"}},\"name\":\"Cipriani Le Specialita\",\"offsetgroup\":\"Cipriani Le Specialita\",\"orientation\":\"v\",\"showlegend\":true,\"x\":[\"Italian\"],\"xaxis\":\"x\",\"y\":[1],\"yaxis\":\"y\",\"type\":\"histogram\"},{\"alignmentgroup\":\"True\",\"bingroup\":\"x\",\"histfunc\":\"sum\",\"hovertemplate\":\"restaurant_name=Sushi Choshi\\u003cbr\\u003ecuisine_type=%{x}\\u003cbr\\u003esum of y=%{y}\\u003cextra\\u003e\\u003c\\u002fextra\\u003e\",\"legendgroup\":\"Sushi Choshi\",\"marker\":{\"color\":\"#EF553B\",\"pattern\":{\"shape\":\"\"}},\"name\":\"Sushi Choshi\",\"offsetgroup\":\"Sushi Choshi\",\"orientation\":\"v\",\"showlegend\":true,\"x\":[\"Japanese\"],\"xaxis\":\"x\",\"y\":[1],\"yaxis\":\"y\",\"type\":\"histogram\"},{\"alignmentgroup\":\"True\",\"bingroup\":\"x\",\"histfunc\":\"sum\",\"hovertemplate\":\"restaurant_name=Kanoyama\\u003cbr\\u003ecuisine_type=%{x}\\u003cbr\\u003esum of y=%{y}\\u003cextra\\u003e\\u003c\\u002fextra\\u003e\",\"legendgroup\":\"Kanoyama\",\"marker\":{\"color\":\"#00cc96\",\"pattern\":{\"shape\":\"\"}},\"name\":\"Kanoyama\",\"offsetgroup\":\"Kanoyama\",\"orientation\":\"v\",\"showlegend\":true,\"x\":[\"Japanese\",\"Japanese\",\"Japanese\"],\"xaxis\":\"x\",\"y\":[1,1,1],\"yaxis\":\"y\",\"type\":\"histogram\"},{\"alignmentgroup\":\"True\",\"bingroup\":\"x\",\"histfunc\":\"sum\",\"hovertemplate\":\"restaurant_name=V-Nam Cafe\\u003cbr\\u003ecuisine_type=%{x}\\u003cbr\\u003esum of y=%{y}\\u003cextra\\u003e\\u003c\\u002fextra\\u003e\",\"legendgroup\":\"V-Nam Cafe\",\"marker\":{\"color\":\"#ab63fa\",\"pattern\":{\"shape\":\"\"}},\"name\":\"V-Nam Cafe\",\"offsetgroup\":\"V-Nam Cafe\",\"orientation\":\"v\",\"showlegend\":true,\"x\":[\"Vietnamese\",\"Vietnamese\",\"Vietnamese\",\"Vietnamese\"],\"xaxis\":\"x\",\"y\":[1,1,1,1],\"yaxis\":\"y\",\"type\":\"histogram\"},{\"alignmentgroup\":\"True\",\"bingroup\":\"x\",\"histfunc\":\"sum\",\"hovertemplate\":\"restaurant_name=Zero Otto Nove\\u003cbr\\u003ecuisine_type=%{x}\\u003cbr\\u003esum of y=%{y}\\u003cextra\\u003e\\u003c\\u002fextra\\u003e\",\"legendgroup\":\"Zero Otto Nove\",\"marker\":{\"color\":\"#FFA15A\",\"pattern\":{\"shape\":\"\"}},\"name\":\"Zero Otto Nove\",\"offsetgroup\":\"Zero Otto Nove\",\"orientation\":\"v\",\"showlegend\":true,\"x\":[\"Italian\",\"Italian\"],\"xaxis\":\"x\",\"y\":[1,1],\"yaxis\":\"y\",\"type\":\"histogram\"},{\"alignmentgroup\":\"True\",\"bingroup\":\"x\",\"histfunc\":\"sum\",\"hovertemplate\":\"restaurant_name=Dos Caminos Soho\\u003cbr\\u003ecuisine_type=%{x}\\u003cbr\\u003esum of y=%{y}\\u003cextra\\u003e\\u003c\\u002fextra\\u003e\",\"legendgroup\":\"Dos Caminos Soho\",\"marker\":{\"color\":\"#19d3f3\",\"pattern\":{\"shape\":\"\"}},\"name\":\"Dos Caminos Soho\",\"offsetgroup\":\"Dos Caminos Soho\",\"orientation\":\"v\",\"showlegend\":true,\"x\":[\"Mexican\"],\"xaxis\":\"x\",\"y\":[1],\"yaxis\":\"y\",\"type\":\"histogram\"},{\"alignmentgroup\":\"True\",\"bingroup\":\"x\",\"histfunc\":\"sum\",\"hovertemplate\":\"restaurant_name=Go! Go! Curry!\\u003cbr\\u003ecuisine_type=%{x}\\u003cbr\\u003esum of y=%{y}\\u003cextra\\u003e\\u003c\\u002fextra\\u003e\",\"legendgroup\":\"Go! Go! Curry!\",\"marker\":{\"color\":\"#FF6692\",\"pattern\":{\"shape\":\"\"}},\"name\":\"Go! Go! Curry!\",\"offsetgroup\":\"Go! Go! Curry!\",\"orientation\":\"v\",\"showlegend\":true,\"x\":[\"Japanese\",\"Japanese\",\"Japanese\"],\"xaxis\":\"x\",\"y\":[1,1,1],\"yaxis\":\"y\",\"type\":\"histogram\"},{\"alignmentgroup\":\"True\",\"bingroup\":\"x\",\"histfunc\":\"sum\",\"hovertemplate\":\"restaurant_name=La Follia\\u003cbr\\u003ecuisine_type=%{x}\\u003cbr\\u003esum of y=%{y}\\u003cextra\\u003e\\u003c\\u002fextra\\u003e\",\"legendgroup\":\"La Follia\",\"marker\":{\"color\":\"#B6E880\",\"pattern\":{\"shape\":\"\"}},\"name\":\"La Follia\",\"offsetgroup\":\"La Follia\",\"orientation\":\"v\",\"showlegend\":true,\"x\":[\"Italian\"],\"xaxis\":\"x\",\"y\":[1],\"yaxis\":\"y\",\"type\":\"histogram\"},{\"alignmentgroup\":\"True\",\"bingroup\":\"x\",\"histfunc\":\"sum\",\"hovertemplate\":\"restaurant_name=Izakaya Ten\\u003cbr\\u003ecuisine_type=%{x}\\u003cbr\\u003esum of y=%{y}\\u003cextra\\u003e\\u003c\\u002fextra\\u003e\",\"legendgroup\":\"Izakaya Ten\",\"marker\":{\"color\":\"#FF97FF\",\"pattern\":{\"shape\":\"\"}},\"name\":\"Izakaya Ten\",\"offsetgroup\":\"Izakaya Ten\",\"orientation\":\"v\",\"showlegend\":true,\"x\":[\"Japanese\",\"Japanese\",\"Japanese\"],\"xaxis\":\"x\",\"y\":[1,1,1],\"yaxis\":\"y\",\"type\":\"histogram\"},{\"alignmentgroup\":\"True\",\"bingroup\":\"x\",\"histfunc\":\"sum\",\"hovertemplate\":\"restaurant_name=12 Chairs\\u003cbr\\u003ecuisine_type=%{x}\\u003cbr\\u003esum of y=%{y}\\u003cextra\\u003e\\u003c\\u002fextra\\u003e\",\"legendgroup\":\"12 Chairs\",\"marker\":{\"color\":\"#FECB52\",\"pattern\":{\"shape\":\"\"}},\"name\":\"12 Chairs\",\"offsetgroup\":\"12 Chairs\",\"orientation\":\"v\",\"showlegend\":true,\"x\":[\"Middle Eastern\",\"Middle Eastern\",\"Middle Eastern\",\"Middle Eastern\"],\"xaxis\":\"x\",\"y\":[1,1,1,1],\"yaxis\":\"y\",\"type\":\"histogram\"},{\"alignmentgroup\":\"True\",\"bingroup\":\"x\",\"histfunc\":\"sum\",\"hovertemplate\":\"restaurant_name=Philippe Chow\\u003cbr\\u003ecuisine_type=%{x}\\u003cbr\\u003esum of y=%{y}\\u003cextra\\u003e\\u003c\\u002fextra\\u003e\",\"legendgroup\":\"Philippe Chow\",\"marker\":{\"color\":\"#636efa\",\"pattern\":{\"shape\":\"\"}},\"name\":\"Philippe Chow\",\"offsetgroup\":\"Philippe Chow\",\"orientation\":\"v\",\"showlegend\":true,\"x\":[\"Chinese\"],\"xaxis\":\"x\",\"y\":[1],\"yaxis\":\"y\",\"type\":\"histogram\"},{\"alignmentgroup\":\"True\",\"bingroup\":\"x\",\"histfunc\":\"sum\",\"hovertemplate\":\"restaurant_name=The MasalaWala\\u003cbr\\u003ecuisine_type=%{x}\\u003cbr\\u003esum of y=%{y}\\u003cextra\\u003e\\u003c\\u002fextra\\u003e\",\"legendgroup\":\"The MasalaWala\",\"marker\":{\"color\":\"#EF553B\",\"pattern\":{\"shape\":\"\"}},\"name\":\"The MasalaWala\",\"offsetgroup\":\"The MasalaWala\",\"orientation\":\"v\",\"showlegend\":true,\"x\":[\"Indian\"],\"xaxis\":\"x\",\"y\":[1],\"yaxis\":\"y\",\"type\":\"histogram\"},{\"alignmentgroup\":\"True\",\"bingroup\":\"x\",\"histfunc\":\"sum\",\"hovertemplate\":\"restaurant_name=brgr\\u003cbr\\u003ecuisine_type=%{x}\\u003cbr\\u003esum of y=%{y}\\u003cextra\\u003e\\u003c\\u002fextra\\u003e\",\"legendgroup\":\"brgr\",\"marker\":{\"color\":\"#00cc96\",\"pattern\":{\"shape\":\"\"}},\"name\":\"brgr\",\"offsetgroup\":\"brgr\",\"orientation\":\"v\",\"showlegend\":true,\"x\":[\"American\",\"American\"],\"xaxis\":\"x\",\"y\":[1,1],\"yaxis\":\"y\",\"type\":\"histogram\"},{\"alignmentgroup\":\"True\",\"bingroup\":\"x\",\"histfunc\":\"sum\",\"hovertemplate\":\"restaurant_name=Carmine's\\u003cbr\\u003ecuisine_type=%{x}\\u003cbr\\u003esum of y=%{y}\\u003cextra\\u003e\\u003c\\u002fextra\\u003e\",\"legendgroup\":\"Carmine's\",\"marker\":{\"color\":\"#ab63fa\",\"pattern\":{\"shape\":\"\"}},\"name\":\"Carmine's\",\"offsetgroup\":\"Carmine's\",\"orientation\":\"v\",\"showlegend\":true,\"x\":[\"Italian\",\"Italian\",\"Italian\"],\"xaxis\":\"x\",\"y\":[1,1,1],\"yaxis\":\"y\",\"type\":\"histogram\"},{\"alignmentgroup\":\"True\",\"bingroup\":\"x\",\"histfunc\":\"sum\",\"hovertemplate\":\"restaurant_name=Asuka Sushi\\u003cbr\\u003ecuisine_type=%{x}\\u003cbr\\u003esum of y=%{y}\\u003cextra\\u003e\\u003c\\u002fextra\\u003e\",\"legendgroup\":\"Asuka Sushi\",\"marker\":{\"color\":\"#FFA15A\",\"pattern\":{\"shape\":\"\"}},\"name\":\"Asuka Sushi\",\"offsetgroup\":\"Asuka Sushi\",\"orientation\":\"v\",\"showlegend\":true,\"x\":[\"Japanese\",\"Japanese\",\"Japanese\"],\"xaxis\":\"x\",\"y\":[1,1,1],\"yaxis\":\"y\",\"type\":\"histogram\"},{\"alignmentgroup\":\"True\",\"bingroup\":\"x\",\"histfunc\":\"sum\",\"hovertemplate\":\"restaurant_name=Aurora\\u003cbr\\u003ecuisine_type=%{x}\\u003cbr\\u003esum of y=%{y}\\u003cextra\\u003e\\u003c\\u002fextra\\u003e\",\"legendgroup\":\"Aurora\",\"marker\":{\"color\":\"#19d3f3\",\"pattern\":{\"shape\":\"\"}},\"name\":\"Aurora\",\"offsetgroup\":\"Aurora\",\"orientation\":\"v\",\"showlegend\":true,\"x\":[\"Italian\",\"Italian\"],\"xaxis\":\"x\",\"y\":[1,1],\"yaxis\":\"y\",\"type\":\"histogram\"},{\"alignmentgroup\":\"True\",\"bingroup\":\"x\",\"histfunc\":\"sum\",\"hovertemplate\":\"restaurant_name=Sarabeth's\\u003cbr\\u003ecuisine_type=%{x}\\u003cbr\\u003esum of y=%{y}\\u003cextra\\u003e\\u003c\\u002fextra\\u003e\",\"legendgroup\":\"Sarabeth's\",\"marker\":{\"color\":\"#FF6692\",\"pattern\":{\"shape\":\"\"}},\"name\":\"Sarabeth's\",\"offsetgroup\":\"Sarabeth's\",\"orientation\":\"v\",\"showlegend\":true,\"x\":[\"American\",\"American\",\"American\"],\"xaxis\":\"x\",\"y\":[1,1,1],\"yaxis\":\"y\",\"type\":\"histogram\"},{\"alignmentgroup\":\"True\",\"bingroup\":\"x\",\"histfunc\":\"sum\",\"hovertemplate\":\"restaurant_name=Crema Restaurante\\u003cbr\\u003ecuisine_type=%{x}\\u003cbr\\u003esum of y=%{y}\\u003cextra\\u003e\\u003c\\u002fextra\\u003e\",\"legendgroup\":\"Crema Restaurante\",\"marker\":{\"color\":\"#B6E880\",\"pattern\":{\"shape\":\"\"}},\"name\":\"Crema Restaurante\",\"offsetgroup\":\"Crema Restaurante\",\"orientation\":\"v\",\"showlegend\":true,\"x\":[\"Mexican\"],\"xaxis\":\"x\",\"y\":[1],\"yaxis\":\"y\",\"type\":\"histogram\"},{\"alignmentgroup\":\"True\",\"bingroup\":\"x\",\"histfunc\":\"sum\",\"hovertemplate\":\"restaurant_name=Big Daddy's\\u003cbr\\u003ecuisine_type=%{x}\\u003cbr\\u003esum of y=%{y}\\u003cextra\\u003e\\u003c\\u002fextra\\u003e\",\"legendgroup\":\"Big Daddy's\",\"marker\":{\"color\":\"#FF97FF\",\"pattern\":{\"shape\":\"\"}},\"name\":\"Big Daddy's\",\"offsetgroup\":\"Big Daddy's\",\"orientation\":\"v\",\"showlegend\":true,\"x\":[\"American\",\"American\"],\"xaxis\":\"x\",\"y\":[1,1],\"yaxis\":\"y\",\"type\":\"histogram\"},{\"alignmentgroup\":\"True\",\"bingroup\":\"x\",\"histfunc\":\"sum\",\"hovertemplate\":\"restaurant_name=Moonstruck on Second\\u003cbr\\u003ecuisine_type=%{x}\\u003cbr\\u003esum of y=%{y}\\u003cextra\\u003e\\u003c\\u002fextra\\u003e\",\"legendgroup\":\"Moonstruck on Second\",\"marker\":{\"color\":\"#FECB52\",\"pattern\":{\"shape\":\"\"}},\"name\":\"Moonstruck on Second\",\"offsetgroup\":\"Moonstruck on Second\",\"orientation\":\"v\",\"showlegend\":true,\"x\":[\"American\"],\"xaxis\":\"x\",\"y\":[1],\"yaxis\":\"y\",\"type\":\"histogram\"},{\"alignmentgroup\":\"True\",\"bingroup\":\"x\",\"histfunc\":\"sum\",\"hovertemplate\":\"restaurant_name=Cafe de La Esquina\\u003cbr\\u003ecuisine_type=%{x}\\u003cbr\\u003esum of y=%{y}\\u003cextra\\u003e\\u003c\\u002fextra\\u003e\",\"legendgroup\":\"Cafe de La Esquina\",\"marker\":{\"color\":\"#636efa\",\"pattern\":{\"shape\":\"\"}},\"name\":\"Cafe de La Esquina\",\"offsetgroup\":\"Cafe de La Esquina\",\"orientation\":\"v\",\"showlegend\":true,\"x\":[\"Mexican\"],\"xaxis\":\"x\",\"y\":[1],\"yaxis\":\"y\",\"type\":\"histogram\"},{\"alignmentgroup\":\"True\",\"bingroup\":\"x\",\"histfunc\":\"sum\",\"hovertemplate\":\"restaurant_name=Olive Garden\\u003cbr\\u003ecuisine_type=%{x}\\u003cbr\\u003esum of y=%{y}\\u003cextra\\u003e\\u003c\\u002fextra\\u003e\",\"legendgroup\":\"Olive Garden\",\"marker\":{\"color\":\"#EF553B\",\"pattern\":{\"shape\":\"\"}},\"name\":\"Olive Garden\",\"offsetgroup\":\"Olive Garden\",\"orientation\":\"v\",\"showlegend\":true,\"x\":[\"Italian\",\"Italian\"],\"xaxis\":\"x\",\"y\":[1,1],\"yaxis\":\"y\",\"type\":\"histogram\"},{\"alignmentgroup\":\"True\",\"bingroup\":\"x\",\"histfunc\":\"sum\",\"hovertemplate\":\"restaurant_name=67 Burger\\u003cbr\\u003ecuisine_type=%{x}\\u003cbr\\u003esum of y=%{y}\\u003cextra\\u003e\\u003c\\u002fextra\\u003e\",\"legendgroup\":\"67 Burger\",\"marker\":{\"color\":\"#00cc96\",\"pattern\":{\"shape\":\"\"}},\"name\":\"67 Burger\",\"offsetgroup\":\"67 Burger\",\"orientation\":\"v\",\"showlegend\":true,\"x\":[\"American\"],\"xaxis\":\"x\",\"y\":[1],\"yaxis\":\"y\",\"type\":\"histogram\"},{\"alignmentgroup\":\"True\",\"bingroup\":\"x\",\"histfunc\":\"sum\",\"hovertemplate\":\"restaurant_name=Tres Carnes\\u003cbr\\u003ecuisine_type=%{x}\\u003cbr\\u003esum of y=%{y}\\u003cextra\\u003e\\u003c\\u002fextra\\u003e\",\"legendgroup\":\"Tres Carnes\",\"marker\":{\"color\":\"#ab63fa\",\"pattern\":{\"shape\":\"\"}},\"name\":\"Tres Carnes\",\"offsetgroup\":\"Tres Carnes\",\"orientation\":\"v\",\"showlegend\":true,\"x\":[\"Mexican\",\"Mexican\",\"Mexican\"],\"xaxis\":\"x\",\"y\":[1,1,1],\"yaxis\":\"y\",\"type\":\"histogram\"},{\"alignmentgroup\":\"True\",\"bingroup\":\"x\",\"histfunc\":\"sum\",\"hovertemplate\":\"restaurant_name=Schnipper's Quality Kitchen\\u003cbr\\u003ecuisine_type=%{x}\\u003cbr\\u003esum of y=%{y}\\u003cextra\\u003e\\u003c\\u002fextra\\u003e\",\"legendgroup\":\"Schnipper's Quality Kitchen\",\"marker\":{\"color\":\"#FFA15A\",\"pattern\":{\"shape\":\"\"}},\"name\":\"Schnipper's Quality Kitchen\",\"offsetgroup\":\"Schnipper's Quality Kitchen\",\"orientation\":\"v\",\"showlegend\":true,\"x\":[\"American\",\"American\",\"American\"],\"xaxis\":\"x\",\"y\":[1,1,1],\"yaxis\":\"y\",\"type\":\"histogram\"},{\"alignmentgroup\":\"True\",\"bingroup\":\"x\",\"histfunc\":\"sum\",\"hovertemplate\":\"restaurant_name=Nha Trang One\\u003cbr\\u003ecuisine_type=%{x}\\u003cbr\\u003esum of y=%{y}\\u003cextra\\u003e\\u003c\\u002fextra\\u003e\",\"legendgroup\":\"Nha Trang One\",\"marker\":{\"color\":\"#19d3f3\",\"pattern\":{\"shape\":\"\"}},\"name\":\"Nha Trang One\",\"offsetgroup\":\"Nha Trang One\",\"orientation\":\"v\",\"showlegend\":true,\"x\":[\"Vietnamese\"],\"xaxis\":\"x\",\"y\":[1],\"yaxis\":\"y\",\"type\":\"histogram\"},{\"alignmentgroup\":\"True\",\"bingroup\":\"x\",\"histfunc\":\"sum\",\"hovertemplate\":\"restaurant_name=Market Table\\u003cbr\\u003ecuisine_type=%{x}\\u003cbr\\u003esum of y=%{y}\\u003cextra\\u003e\\u003c\\u002fextra\\u003e\",\"legendgroup\":\"Market Table\",\"marker\":{\"color\":\"#FF6692\",\"pattern\":{\"shape\":\"\"}},\"name\":\"Market Table\",\"offsetgroup\":\"Market Table\",\"orientation\":\"v\",\"showlegend\":true,\"x\":[\"American\"],\"xaxis\":\"x\",\"y\":[1],\"yaxis\":\"y\",\"type\":\"histogram\"},{\"alignmentgroup\":\"True\",\"bingroup\":\"x\",\"histfunc\":\"sum\",\"hovertemplate\":\"restaurant_name=Galli Restaurant\\u003cbr\\u003ecuisine_type=%{x}\\u003cbr\\u003esum of y=%{y}\\u003cextra\\u003e\\u003c\\u002fextra\\u003e\",\"legendgroup\":\"Galli Restaurant\",\"marker\":{\"color\":\"#B6E880\",\"pattern\":{\"shape\":\"\"}},\"name\":\"Galli Restaurant\",\"offsetgroup\":\"Galli Restaurant\",\"orientation\":\"v\",\"showlegend\":true,\"x\":[\"Italian\"],\"xaxis\":\"x\",\"y\":[1],\"yaxis\":\"y\",\"type\":\"histogram\"},{\"alignmentgroup\":\"True\",\"bingroup\":\"x\",\"histfunc\":\"sum\",\"hovertemplate\":\"restaurant_name=Hampton Chutney Co.\\u003cbr\\u003ecuisine_type=%{x}\\u003cbr\\u003esum of y=%{y}\\u003cextra\\u003e\\u003c\\u002fextra\\u003e\",\"legendgroup\":\"Hampton Chutney Co.\",\"marker\":{\"color\":\"#FF97FF\",\"pattern\":{\"shape\":\"\"}},\"name\":\"Hampton Chutney Co.\",\"offsetgroup\":\"Hampton Chutney Co.\",\"orientation\":\"v\",\"showlegend\":true,\"x\":[\"Thai\"],\"xaxis\":\"x\",\"y\":[1],\"yaxis\":\"y\",\"type\":\"histogram\"},{\"alignmentgroup\":\"True\",\"bingroup\":\"x\",\"histfunc\":\"sum\",\"hovertemplate\":\"restaurant_name=Byblos Restaurant\\u003cbr\\u003ecuisine_type=%{x}\\u003cbr\\u003esum of y=%{y}\\u003cextra\\u003e\\u003c\\u002fextra\\u003e\",\"legendgroup\":\"Byblos Restaurant\",\"marker\":{\"color\":\"#FECB52\",\"pattern\":{\"shape\":\"\"}},\"name\":\"Byblos Restaurant\",\"offsetgroup\":\"Byblos Restaurant\",\"orientation\":\"v\",\"showlegend\":true,\"x\":[\"Middle Eastern\",\"Middle Eastern\"],\"xaxis\":\"x\",\"y\":[1,1],\"yaxis\":\"y\",\"type\":\"histogram\"},{\"alignmentgroup\":\"True\",\"bingroup\":\"x\",\"histfunc\":\"sum\",\"hovertemplate\":\"restaurant_name=Grand Sichuan International\\u003cbr\\u003ecuisine_type=%{x}\\u003cbr\\u003esum of y=%{y}\\u003cextra\\u003e\\u003c\\u002fextra\\u003e\",\"legendgroup\":\"Grand Sichuan International\",\"marker\":{\"color\":\"#636efa\",\"pattern\":{\"shape\":\"\"}},\"name\":\"Grand Sichuan International\",\"offsetgroup\":\"Grand Sichuan International\",\"orientation\":\"v\",\"showlegend\":true,\"x\":[\"Chinese\",\"Chinese\",\"Chinese\",\"Chinese\"],\"xaxis\":\"x\",\"y\":[1,1,1,1],\"yaxis\":\"y\",\"type\":\"histogram\"},{\"alignmentgroup\":\"True\",\"bingroup\":\"x\",\"histfunc\":\"sum\",\"hovertemplate\":\"restaurant_name=Le Grainne Cafe\\u003cbr\\u003ecuisine_type=%{x}\\u003cbr\\u003esum of y=%{y}\\u003cextra\\u003e\\u003c\\u002fextra\\u003e\",\"legendgroup\":\"Le Grainne Cafe\",\"marker\":{\"color\":\"#EF553B\",\"pattern\":{\"shape\":\"\"}},\"name\":\"Le Grainne Cafe\",\"offsetgroup\":\"Le Grainne Cafe\",\"orientation\":\"v\",\"showlegend\":true,\"x\":[\"French\",\"French\"],\"xaxis\":\"x\",\"y\":[1,1],\"yaxis\":\"y\",\"type\":\"histogram\"},{\"alignmentgroup\":\"True\",\"bingroup\":\"x\",\"histfunc\":\"sum\",\"hovertemplate\":\"restaurant_name=Il Bambino\\u003cbr\\u003ecuisine_type=%{x}\\u003cbr\\u003esum of y=%{y}\\u003cextra\\u003e\\u003c\\u002fextra\\u003e\",\"legendgroup\":\"Il Bambino\",\"marker\":{\"color\":\"#00cc96\",\"pattern\":{\"shape\":\"\"}},\"name\":\"Il Bambino\",\"offsetgroup\":\"Il Bambino\",\"orientation\":\"v\",\"showlegend\":true,\"x\":[\"Italian\"],\"xaxis\":\"x\",\"y\":[1],\"yaxis\":\"y\",\"type\":\"histogram\"},{\"alignmentgroup\":\"True\",\"bingroup\":\"x\",\"histfunc\":\"sum\",\"hovertemplate\":\"restaurant_name=Kori Restaurant and Bar\\u003cbr\\u003ecuisine_type=%{x}\\u003cbr\\u003esum of y=%{y}\\u003cextra\\u003e\\u003c\\u002fextra\\u003e\",\"legendgroup\":\"Kori Restaurant and Bar\",\"marker\":{\"color\":\"#ab63fa\",\"pattern\":{\"shape\":\"\"}},\"name\":\"Kori Restaurant and Bar\",\"offsetgroup\":\"Kori Restaurant and Bar\",\"orientation\":\"v\",\"showlegend\":true,\"x\":[\"Korean\"],\"xaxis\":\"x\",\"y\":[1],\"yaxis\":\"y\",\"type\":\"histogram\"},{\"alignmentgroup\":\"True\",\"bingroup\":\"x\",\"histfunc\":\"sum\",\"hovertemplate\":\"restaurant_name=Despa\\u00cc\\u00b1a\\u003cbr\\u003ecuisine_type=%{x}\\u003cbr\\u003esum of y=%{y}\\u003cextra\\u003e\\u003c\\u002fextra\\u003e\",\"legendgroup\":\"Despa\\u00cc\\u00b1a\",\"marker\":{\"color\":\"#FFA15A\",\"pattern\":{\"shape\":\"\"}},\"name\":\"Despa\\u00cc\\u00b1a\",\"offsetgroup\":\"Despa\\u00cc\\u00b1a\",\"orientation\":\"v\",\"showlegend\":true,\"x\":[\"Spanish\",\"Spanish\"],\"xaxis\":\"x\",\"y\":[1,1],\"yaxis\":\"y\",\"type\":\"histogram\"},{\"alignmentgroup\":\"True\",\"bingroup\":\"x\",\"histfunc\":\"sum\",\"hovertemplate\":\"restaurant_name=Lamarca Pasta\\u003cbr\\u003ecuisine_type=%{x}\\u003cbr\\u003esum of y=%{y}\\u003cextra\\u003e\\u003c\\u002fextra\\u003e\",\"legendgroup\":\"Lamarca Pasta\",\"marker\":{\"color\":\"#19d3f3\",\"pattern\":{\"shape\":\"\"}},\"name\":\"Lamarca Pasta\",\"offsetgroup\":\"Lamarca Pasta\",\"orientation\":\"v\",\"showlegend\":true,\"x\":[\"Italian\"],\"xaxis\":\"x\",\"y\":[1],\"yaxis\":\"y\",\"type\":\"histogram\"},{\"alignmentgroup\":\"True\",\"bingroup\":\"x\",\"histfunc\":\"sum\",\"hovertemplate\":\"restaurant_name=Lucky Strike\\u003cbr\\u003ecuisine_type=%{x}\\u003cbr\\u003esum of y=%{y}\\u003cextra\\u003e\\u003c\\u002fextra\\u003e\",\"legendgroup\":\"Lucky Strike\",\"marker\":{\"color\":\"#FF6692\",\"pattern\":{\"shape\":\"\"}},\"name\":\"Lucky Strike\",\"offsetgroup\":\"Lucky Strike\",\"orientation\":\"v\",\"showlegend\":true,\"x\":[\"American\"],\"xaxis\":\"x\",\"y\":[1],\"yaxis\":\"y\",\"type\":\"histogram\"},{\"alignmentgroup\":\"True\",\"bingroup\":\"x\",\"histfunc\":\"sum\",\"hovertemplate\":\"restaurant_name=Paul & Jimmy's\\u003cbr\\u003ecuisine_type=%{x}\\u003cbr\\u003esum of y=%{y}\\u003cextra\\u003e\\u003c\\u002fextra\\u003e\",\"legendgroup\":\"Paul & Jimmy's\",\"marker\":{\"color\":\"#B6E880\",\"pattern\":{\"shape\":\"\"}},\"name\":\"Paul & Jimmy's\",\"offsetgroup\":\"Paul & Jimmy's\",\"orientation\":\"v\",\"showlegend\":true,\"x\":[\"Italian\"],\"xaxis\":\"x\",\"y\":[1],\"yaxis\":\"y\",\"type\":\"histogram\"},{\"alignmentgroup\":\"True\",\"bingroup\":\"x\",\"histfunc\":\"sum\",\"hovertemplate\":\"restaurant_name=Hunan Manor\\u003cbr\\u003ecuisine_type=%{x}\\u003cbr\\u003esum of y=%{y}\\u003cextra\\u003e\\u003c\\u002fextra\\u003e\",\"legendgroup\":\"Hunan Manor\",\"marker\":{\"color\":\"#FF97FF\",\"pattern\":{\"shape\":\"\"}},\"name\":\"Hunan Manor\",\"offsetgroup\":\"Hunan Manor\",\"orientation\":\"v\",\"showlegend\":true,\"x\":[\"Chinese\"],\"xaxis\":\"x\",\"y\":[1],\"yaxis\":\"y\",\"type\":\"histogram\"},{\"alignmentgroup\":\"True\",\"bingroup\":\"x\",\"histfunc\":\"sum\",\"hovertemplate\":\"restaurant_name=Coppola's East\\u003cbr\\u003ecuisine_type=%{x}\\u003cbr\\u003esum of y=%{y}\\u003cextra\\u003e\\u003c\\u002fextra\\u003e\",\"legendgroup\":\"Coppola's East\",\"marker\":{\"color\":\"#FECB52\",\"pattern\":{\"shape\":\"\"}},\"name\":\"Coppola's East\",\"offsetgroup\":\"Coppola's East\",\"orientation\":\"v\",\"showlegend\":true,\"x\":[\"Italian\"],\"xaxis\":\"x\",\"y\":[1],\"yaxis\":\"y\",\"type\":\"histogram\"},{\"alignmentgroup\":\"True\",\"bingroup\":\"x\",\"histfunc\":\"sum\",\"hovertemplate\":\"restaurant_name=Emporio\\u003cbr\\u003ecuisine_type=%{x}\\u003cbr\\u003esum of y=%{y}\\u003cextra\\u003e\\u003c\\u002fextra\\u003e\",\"legendgroup\":\"Emporio\",\"marker\":{\"color\":\"#636efa\",\"pattern\":{\"shape\":\"\"}},\"name\":\"Emporio\",\"offsetgroup\":\"Emporio\",\"orientation\":\"v\",\"showlegend\":true,\"x\":[\"Italian\"],\"xaxis\":\"x\",\"y\":[1],\"yaxis\":\"y\",\"type\":\"histogram\"},{\"alignmentgroup\":\"True\",\"bingroup\":\"x\",\"histfunc\":\"sum\",\"hovertemplate\":\"restaurant_name=Wa Jeal\\u003cbr\\u003ecuisine_type=%{x}\\u003cbr\\u003esum of y=%{y}\\u003cextra\\u003e\\u003c\\u002fextra\\u003e\",\"legendgroup\":\"Wa Jeal\",\"marker\":{\"color\":\"#EF553B\",\"pattern\":{\"shape\":\"\"}},\"name\":\"Wa Jeal\",\"offsetgroup\":\"Wa Jeal\",\"orientation\":\"v\",\"showlegend\":true,\"x\":[\"Chinese\"],\"xaxis\":\"x\",\"y\":[1],\"yaxis\":\"y\",\"type\":\"histogram\"},{\"alignmentgroup\":\"True\",\"bingroup\":\"x\",\"histfunc\":\"sum\",\"hovertemplate\":\"restaurant_name=Le Zie 2000 Trattoria\\u003cbr\\u003ecuisine_type=%{x}\\u003cbr\\u003esum of y=%{y}\\u003cextra\\u003e\\u003c\\u002fextra\\u003e\",\"legendgroup\":\"Le Zie 2000 Trattoria\",\"marker\":{\"color\":\"#00cc96\",\"pattern\":{\"shape\":\"\"}},\"name\":\"Le Zie 2000 Trattoria\",\"offsetgroup\":\"Le Zie 2000 Trattoria\",\"orientation\":\"v\",\"showlegend\":true,\"x\":[\"Italian\"],\"xaxis\":\"x\",\"y\":[1],\"yaxis\":\"y\",\"type\":\"histogram\"},{\"alignmentgroup\":\"True\",\"bingroup\":\"x\",\"histfunc\":\"sum\",\"hovertemplate\":\"restaurant_name=Rye House\\u003cbr\\u003ecuisine_type=%{x}\\u003cbr\\u003esum of y=%{y}\\u003cextra\\u003e\\u003c\\u002fextra\\u003e\",\"legendgroup\":\"Rye House\",\"marker\":{\"color\":\"#ab63fa\",\"pattern\":{\"shape\":\"\"}},\"name\":\"Rye House\",\"offsetgroup\":\"Rye House\",\"orientation\":\"v\",\"showlegend\":true,\"x\":[\"American\"],\"xaxis\":\"x\",\"y\":[1],\"yaxis\":\"y\",\"type\":\"histogram\"},{\"alignmentgroup\":\"True\",\"bingroup\":\"x\",\"histfunc\":\"sum\",\"hovertemplate\":\"restaurant_name=Hiroko's Place\\u003cbr\\u003ecuisine_type=%{x}\\u003cbr\\u003esum of y=%{y}\\u003cextra\\u003e\\u003c\\u002fextra\\u003e\",\"legendgroup\":\"Hiroko's Place\",\"marker\":{\"color\":\"#FFA15A\",\"pattern\":{\"shape\":\"\"}},\"name\":\"Hiroko's Place\",\"offsetgroup\":\"Hiroko's Place\",\"orientation\":\"v\",\"showlegend\":true,\"x\":[\"Japanese\"],\"xaxis\":\"x\",\"y\":[1],\"yaxis\":\"y\",\"type\":\"histogram\"},{\"alignmentgroup\":\"True\",\"bingroup\":\"x\",\"histfunc\":\"sum\",\"hovertemplate\":\"restaurant_name=Frank Restaurant\\u003cbr\\u003ecuisine_type=%{x}\\u003cbr\\u003esum of y=%{y}\\u003cextra\\u003e\\u003c\\u002fextra\\u003e\",\"legendgroup\":\"Frank Restaurant\",\"marker\":{\"color\":\"#19d3f3\",\"pattern\":{\"shape\":\"\"}},\"name\":\"Frank Restaurant\",\"offsetgroup\":\"Frank Restaurant\",\"orientation\":\"v\",\"showlegend\":true,\"x\":[\"Italian\"],\"xaxis\":\"x\",\"y\":[1],\"yaxis\":\"y\",\"type\":\"histogram\"},{\"alignmentgroup\":\"True\",\"bingroup\":\"x\",\"histfunc\":\"sum\",\"hovertemplate\":\"restaurant_name=Sarabeth's West\\u003cbr\\u003ecuisine_type=%{x}\\u003cbr\\u003esum of y=%{y}\\u003cextra\\u003e\\u003c\\u002fextra\\u003e\",\"legendgroup\":\"Sarabeth's West\",\"marker\":{\"color\":\"#FF6692\",\"pattern\":{\"shape\":\"\"}},\"name\":\"Sarabeth's West\",\"offsetgroup\":\"Sarabeth's West\",\"orientation\":\"v\",\"showlegend\":true,\"x\":[\"American\"],\"xaxis\":\"x\",\"y\":[1],\"yaxis\":\"y\",\"type\":\"histogram\"},{\"alignmentgroup\":\"True\",\"bingroup\":\"x\",\"histfunc\":\"sum\",\"hovertemplate\":\"restaurant_name='wichcraft\\u003cbr\\u003ecuisine_type=%{x}\\u003cbr\\u003esum of y=%{y}\\u003cextra\\u003e\\u003c\\u002fextra\\u003e\",\"legendgroup\":\"'wichcraft\",\"marker\":{\"color\":\"#B6E880\",\"pattern\":{\"shape\":\"\"}},\"name\":\"'wichcraft\",\"offsetgroup\":\"'wichcraft\",\"orientation\":\"v\",\"showlegend\":true,\"x\":[\"American\"],\"xaxis\":\"x\",\"y\":[1],\"yaxis\":\"y\",\"type\":\"histogram\"}],                        {\"template\":{\"data\":{\"histogram2dcontour\":[{\"type\":\"histogram2dcontour\",\"colorbar\":{\"outlinewidth\":0,\"ticks\":\"\"},\"colorscale\":[[0.0,\"#0d0887\"],[0.1111111111111111,\"#46039f\"],[0.2222222222222222,\"#7201a8\"],[0.3333333333333333,\"#9c179e\"],[0.4444444444444444,\"#bd3786\"],[0.5555555555555556,\"#d8576b\"],[0.6666666666666666,\"#ed7953\"],[0.7777777777777778,\"#fb9f3a\"],[0.8888888888888888,\"#fdca26\"],[1.0,\"#f0f921\"]]}],\"choropleth\":[{\"type\":\"choropleth\",\"colorbar\":{\"outlinewidth\":0,\"ticks\":\"\"}}],\"histogram2d\":[{\"type\":\"histogram2d\",\"colorbar\":{\"outlinewidth\":0,\"ticks\":\"\"},\"colorscale\":[[0.0,\"#0d0887\"],[0.1111111111111111,\"#46039f\"],[0.2222222222222222,\"#7201a8\"],[0.3333333333333333,\"#9c179e\"],[0.4444444444444444,\"#bd3786\"],[0.5555555555555556,\"#d8576b\"],[0.6666666666666666,\"#ed7953\"],[0.7777777777777778,\"#fb9f3a\"],[0.8888888888888888,\"#fdca26\"],[1.0,\"#f0f921\"]]}],\"heatmap\":[{\"type\":\"heatmap\",\"colorbar\":{\"outlinewidth\":0,\"ticks\":\"\"},\"colorscale\":[[0.0,\"#0d0887\"],[0.1111111111111111,\"#46039f\"],[0.2222222222222222,\"#7201a8\"],[0.3333333333333333,\"#9c179e\"],[0.4444444444444444,\"#bd3786\"],[0.5555555555555556,\"#d8576b\"],[0.6666666666666666,\"#ed7953\"],[0.7777777777777778,\"#fb9f3a\"],[0.8888888888888888,\"#fdca26\"],[1.0,\"#f0f921\"]]}],\"heatmapgl\":[{\"type\":\"heatmapgl\",\"colorbar\":{\"outlinewidth\":0,\"ticks\":\"\"},\"colorscale\":[[0.0,\"#0d0887\"],[0.1111111111111111,\"#46039f\"],[0.2222222222222222,\"#7201a8\"],[0.3333333333333333,\"#9c179e\"],[0.4444444444444444,\"#bd3786\"],[0.5555555555555556,\"#d8576b\"],[0.6666666666666666,\"#ed7953\"],[0.7777777777777778,\"#fb9f3a\"],[0.8888888888888888,\"#fdca26\"],[1.0,\"#f0f921\"]]}],\"contourcarpet\":[{\"type\":\"contourcarpet\",\"colorbar\":{\"outlinewidth\":0,\"ticks\":\"\"}}],\"contour\":[{\"type\":\"contour\",\"colorbar\":{\"outlinewidth\":0,\"ticks\":\"\"},\"colorscale\":[[0.0,\"#0d0887\"],[0.1111111111111111,\"#46039f\"],[0.2222222222222222,\"#7201a8\"],[0.3333333333333333,\"#9c179e\"],[0.4444444444444444,\"#bd3786\"],[0.5555555555555556,\"#d8576b\"],[0.6666666666666666,\"#ed7953\"],[0.7777777777777778,\"#fb9f3a\"],[0.8888888888888888,\"#fdca26\"],[1.0,\"#f0f921\"]]}],\"surface\":[{\"type\":\"surface\",\"colorbar\":{\"outlinewidth\":0,\"ticks\":\"\"},\"colorscale\":[[0.0,\"#0d0887\"],[0.1111111111111111,\"#46039f\"],[0.2222222222222222,\"#7201a8\"],[0.3333333333333333,\"#9c179e\"],[0.4444444444444444,\"#bd3786\"],[0.5555555555555556,\"#d8576b\"],[0.6666666666666666,\"#ed7953\"],[0.7777777777777778,\"#fb9f3a\"],[0.8888888888888888,\"#fdca26\"],[1.0,\"#f0f921\"]]}],\"mesh3d\":[{\"type\":\"mesh3d\",\"colorbar\":{\"outlinewidth\":0,\"ticks\":\"\"}}],\"scatter\":[{\"fillpattern\":{\"fillmode\":\"overlay\",\"size\":10,\"solidity\":0.2},\"type\":\"scatter\"}],\"parcoords\":[{\"type\":\"parcoords\",\"line\":{\"colorbar\":{\"outlinewidth\":0,\"ticks\":\"\"}}}],\"scatterpolargl\":[{\"type\":\"scatterpolargl\",\"marker\":{\"colorbar\":{\"outlinewidth\":0,\"ticks\":\"\"}}}],\"bar\":[{\"error_x\":{\"color\":\"#2a3f5f\"},\"error_y\":{\"color\":\"#2a3f5f\"},\"marker\":{\"line\":{\"color\":\"#E5ECF6\",\"width\":0.5},\"pattern\":{\"fillmode\":\"overlay\",\"size\":10,\"solidity\":0.2}},\"type\":\"bar\"}],\"scattergeo\":[{\"type\":\"scattergeo\",\"marker\":{\"colorbar\":{\"outlinewidth\":0,\"ticks\":\"\"}}}],\"scatterpolar\":[{\"type\":\"scatterpolar\",\"marker\":{\"colorbar\":{\"outlinewidth\":0,\"ticks\":\"\"}}}],\"histogram\":[{\"marker\":{\"pattern\":{\"fillmode\":\"overlay\",\"size\":10,\"solidity\":0.2}},\"type\":\"histogram\"}],\"scattergl\":[{\"type\":\"scattergl\",\"marker\":{\"colorbar\":{\"outlinewidth\":0,\"ticks\":\"\"}}}],\"scatter3d\":[{\"type\":\"scatter3d\",\"line\":{\"colorbar\":{\"outlinewidth\":0,\"ticks\":\"\"}},\"marker\":{\"colorbar\":{\"outlinewidth\":0,\"ticks\":\"\"}}}],\"scattermapbox\":[{\"type\":\"scattermapbox\",\"marker\":{\"colorbar\":{\"outlinewidth\":0,\"ticks\":\"\"}}}],\"scatterternary\":[{\"type\":\"scatterternary\",\"marker\":{\"colorbar\":{\"outlinewidth\":0,\"ticks\":\"\"}}}],\"scattercarpet\":[{\"type\":\"scattercarpet\",\"marker\":{\"colorbar\":{\"outlinewidth\":0,\"ticks\":\"\"}}}],\"carpet\":[{\"aaxis\":{\"endlinecolor\":\"#2a3f5f\",\"gridcolor\":\"white\",\"linecolor\":\"white\",\"minorgridcolor\":\"white\",\"startlinecolor\":\"#2a3f5f\"},\"baxis\":{\"endlinecolor\":\"#2a3f5f\",\"gridcolor\":\"white\",\"linecolor\":\"white\",\"minorgridcolor\":\"white\",\"startlinecolor\":\"#2a3f5f\"},\"type\":\"carpet\"}],\"table\":[{\"cells\":{\"fill\":{\"color\":\"#EBF0F8\"},\"line\":{\"color\":\"white\"}},\"header\":{\"fill\":{\"color\":\"#C8D4E3\"},\"line\":{\"color\":\"white\"}},\"type\":\"table\"}],\"barpolar\":[{\"marker\":{\"line\":{\"color\":\"#E5ECF6\",\"width\":0.5},\"pattern\":{\"fillmode\":\"overlay\",\"size\":10,\"solidity\":0.2}},\"type\":\"barpolar\"}],\"pie\":[{\"automargin\":true,\"type\":\"pie\"}]},\"layout\":{\"autotypenumbers\":\"strict\",\"colorway\":[\"#636efa\",\"#EF553B\",\"#00cc96\",\"#ab63fa\",\"#FFA15A\",\"#19d3f3\",\"#FF6692\",\"#B6E880\",\"#FF97FF\",\"#FECB52\"],\"font\":{\"color\":\"#2a3f5f\"},\"hovermode\":\"closest\",\"hoverlabel\":{\"align\":\"left\"},\"paper_bgcolor\":\"white\",\"plot_bgcolor\":\"#E5ECF6\",\"polar\":{\"bgcolor\":\"#E5ECF6\",\"angularaxis\":{\"gridcolor\":\"white\",\"linecolor\":\"white\",\"ticks\":\"\"},\"radialaxis\":{\"gridcolor\":\"white\",\"linecolor\":\"white\",\"ticks\":\"\"}},\"ternary\":{\"bgcolor\":\"#E5ECF6\",\"aaxis\":{\"gridcolor\":\"white\",\"linecolor\":\"white\",\"ticks\":\"\"},\"baxis\":{\"gridcolor\":\"white\",\"linecolor\":\"white\",\"ticks\":\"\"},\"caxis\":{\"gridcolor\":\"white\",\"linecolor\":\"white\",\"ticks\":\"\"}},\"coloraxis\":{\"colorbar\":{\"outlinewidth\":0,\"ticks\":\"\"}},\"colorscale\":{\"sequential\":[[0.0,\"#0d0887\"],[0.1111111111111111,\"#46039f\"],[0.2222222222222222,\"#7201a8\"],[0.3333333333333333,\"#9c179e\"],[0.4444444444444444,\"#bd3786\"],[0.5555555555555556,\"#d8576b\"],[0.6666666666666666,\"#ed7953\"],[0.7777777777777778,\"#fb9f3a\"],[0.8888888888888888,\"#fdca26\"],[1.0,\"#f0f921\"]],\"sequentialminus\":[[0.0,\"#0d0887\"],[0.1111111111111111,\"#46039f\"],[0.2222222222222222,\"#7201a8\"],[0.3333333333333333,\"#9c179e\"],[0.4444444444444444,\"#bd3786\"],[0.5555555555555556,\"#d8576b\"],[0.6666666666666666,\"#ed7953\"],[0.7777777777777778,\"#fb9f3a\"],[0.8888888888888888,\"#fdca26\"],[1.0,\"#f0f921\"]],\"diverging\":[[0,\"#8e0152\"],[0.1,\"#c51b7d\"],[0.2,\"#de77ae\"],[0.3,\"#f1b6da\"],[0.4,\"#fde0ef\"],[0.5,\"#f7f7f7\"],[0.6,\"#e6f5d0\"],[0.7,\"#b8e186\"],[0.8,\"#7fbc41\"],[0.9,\"#4d9221\"],[1,\"#276419\"]]},\"xaxis\":{\"gridcolor\":\"white\",\"linecolor\":\"white\",\"ticks\":\"\",\"title\":{\"standoff\":15},\"zerolinecolor\":\"white\",\"automargin\":true,\"zerolinewidth\":2},\"yaxis\":{\"gridcolor\":\"white\",\"linecolor\":\"white\",\"ticks\":\"\",\"title\":{\"standoff\":15},\"zerolinecolor\":\"white\",\"automargin\":true,\"zerolinewidth\":2},\"scene\":{\"xaxis\":{\"backgroundcolor\":\"#E5ECF6\",\"gridcolor\":\"white\",\"linecolor\":\"white\",\"showbackground\":true,\"ticks\":\"\",\"zerolinecolor\":\"white\",\"gridwidth\":2},\"yaxis\":{\"backgroundcolor\":\"#E5ECF6\",\"gridcolor\":\"white\",\"linecolor\":\"white\",\"showbackground\":true,\"ticks\":\"\",\"zerolinecolor\":\"white\",\"gridwidth\":2},\"zaxis\":{\"backgroundcolor\":\"#E5ECF6\",\"gridcolor\":\"white\",\"linecolor\":\"white\",\"showbackground\":true,\"ticks\":\"\",\"zerolinecolor\":\"white\",\"gridwidth\":2}},\"shapedefaults\":{\"line\":{\"color\":\"#2a3f5f\"}},\"annotationdefaults\":{\"arrowcolor\":\"#2a3f5f\",\"arrowhead\":0,\"arrowwidth\":1},\"geo\":{\"bgcolor\":\"white\",\"landcolor\":\"#E5ECF6\",\"subunitcolor\":\"white\",\"showland\":true,\"showlakes\":true,\"lakecolor\":\"white\"},\"title\":{\"x\":0.05},\"mapbox\":{\"style\":\"light\"}}},\"xaxis\":{\"anchor\":\"y\",\"domain\":[0.0,1.0],\"title\":{\"text\":\"cuisine_type\"}},\"yaxis\":{\"anchor\":\"x\",\"domain\":[0.0,1.0],\"title\":{\"text\":\"sum of y\"}},\"legend\":{\"title\":{\"text\":\"restaurant_name\"},\"tracegroupgap\":0},\"margin\":{\"t\":60},\"barmode\":\"relative\"},                        {\"responsive\": true}                    ).then(function(){\n",
              "                            \n",
              "var gd = document.getElementById('3474a5aa-14d3-4120-b8b7-eb7577d66c4b');\n",
              "var x = new MutationObserver(function (mutations, observer) {{\n",
              "        var display = window.getComputedStyle(gd).display;\n",
              "        if (!display || display === 'none') {{\n",
              "            console.log([gd, 'removed!']);\n",
              "            Plotly.purge(gd);\n",
              "            observer.disconnect();\n",
              "        }}\n",
              "}});\n",
              "\n",
              "// Listen for the removal of the full notebook cells\n",
              "var notebookContainer = gd.closest('#notebook-container');\n",
              "if (notebookContainer) {{\n",
              "    x.observe(notebookContainer, {childList: true});\n",
              "}}\n",
              "\n",
              "// Listen for the clearing of the current output cell\n",
              "var outputEl = gd.closest('.output');\n",
              "if (outputEl) {{\n",
              "    x.observe(outputEl, {childList: true});\n",
              "}}\n",
              "\n",
              "                        })                };                            </script>        </div>\n",
              "</body>\n",
              "</html>"
            ]
          },
          "metadata": {}
        }
      ]
    },
    {
      "cell_type": "markdown",
      "source": [
        "**Observations:** About the restaurants and cuisines available: There are fourteen types of cuisine available from 178 different restaurants. The most popular restaurants serve American (more than 575 orders), Japanese (more than 450 orders) and Italian (almost 300 orders). Chinese comes in fourth with over 200 orders and no other cuisine gets more than 80 orders."
      ],
      "metadata": {
        "id": "FRXEL9sri5S3"
      }
    },
    {
      "cell_type": "markdown",
      "source": [
        "##### Question 6: Cost of the Order"
      ],
      "metadata": {
        "id": "N7Hk0B2NT0dT"
      }
    },
    {
      "cell_type": "code",
      "source": [
        "#distribution of the number of orders and the general cost of the order\n",
        "sns.histplot(data=df, x='cost_of_the_order',binwidth=1,kde=True);"
      ],
      "metadata": {
        "id": "aXBnU9TXydUL"
      },
      "execution_count": null,
      "outputs": []
    },
    {
      "cell_type": "code",
      "source": [
        "#establish the quartiles and outliers for money spent per order\n",
        "sns.boxplot(data=df, x='cost_of_the_order');"
      ],
      "metadata": {
        "id": "hbMMf6UTyVwE"
      },
      "execution_count": null,
      "outputs": []
    },
    {
      "cell_type": "markdown",
      "source": [
        "**Observations:** About the cost of the order:\n",
        "More than 300 orders are around twelve dollars, with 50% of the orders ranging between 12 and 23 dollars. Half of the orders are under 14 dollars, in a slightly right skewed graph. Interestingly, there seem to be few orders between 26 and 29 dollars, and no orders less than 4, or more than 35 dollars."
      ],
      "metadata": {
        "id": "35Nlz6HSza08"
      }
    },
    {
      "cell_type": "markdown",
      "source": [
        "##### Question 6: Food Preparation Time"
      ],
      "metadata": {
        "id": "SFj6WOhUT7W_"
      }
    },
    {
      "cell_type": "code",
      "source": [
        "#distribution of the number of orders and how long each order took\n",
        "sns.histplot(data=df, x='food_preparation_time',kde=True);"
      ],
      "metadata": {
        "id": "5RirmKt403L_"
      },
      "execution_count": null,
      "outputs": []
    },
    {
      "cell_type": "code",
      "source": [
        "#establish the quartiles and outliers for length of time to prepare each order\n",
        "sns.boxplot(data=df, x='food_preparation_time');"
      ],
      "metadata": {
        "id": "WOk6rYnW11L1"
      },
      "execution_count": null,
      "outputs": []
    },
    {
      "cell_type": "markdown",
      "source": [
        "**Observations:** About the food preparation time:\n",
        "In general, 50% of the food orders take between 23 and 31 minutes. The graph is almost evenly skewed, with the median right at 27 minutes.\n",
        "Interestingly, the histogram shows four spikes, at 20, 26, 30 and 34 minutes, with the remaining times evenly split at around 110 orders apiece. Perhaps those four time intervals relate to specific food cooking times (e.g. chicken must be cooked x number of minutes?)"
      ],
      "metadata": {
        "id": "D0tAYueY17Ze"
      }
    },
    {
      "cell_type": "markdown",
      "source": [
        "##### Question 6: Food Delivery Time"
      ],
      "metadata": {
        "id": "z9p13nZWUDs_"
      }
    },
    {
      "cell_type": "code",
      "source": [
        "#distribution of the number of orders and the general time for each delivery\n",
        "sns.histplot(data=df, x='delivery_time',kde=True);"
      ],
      "metadata": {
        "id": "byKHCwKbXnAp"
      },
      "execution_count": null,
      "outputs": []
    },
    {
      "cell_type": "code",
      "source": [
        "#establish the quartiles and outliers for length of time to deliver each order\n",
        "sns.boxplot(data=df, x='delivery_time');"
      ],
      "metadata": {
        "id": "jF6HsqKAXo0h"
      },
      "execution_count": null,
      "outputs": []
    },
    {
      "cell_type": "markdown",
      "source": [
        "**Observations:** About the food delivery time:\n",
        "The data is slightly left skewed, with two modes of almost three hundred orders taking 25 and 28 minutes. The median length of time for an order was 25 minutes, though fifty percent of the orders took between 20 and 28 minutes. The most time for delivery was almost 33 minutes, while the minimum was 15 minutes."
      ],
      "metadata": {
        "id": "T7w9lsKgXnxR"
      }
    },
    {
      "cell_type": "markdown",
      "metadata": {
        "id": "K9CqA5H_JY_U"
      },
      "source": [
        "### **Question 7**: Which are the top 5 restaurants in terms of the number of orders received? [1 mark]"
      ]
    },
    {
      "cell_type": "code",
      "execution_count": null,
      "metadata": {
        "id": "PaJZ3wlOJY_U",
        "colab": {
          "base_uri": "https://localhost:8080/"
        },
        "outputId": "5f66259a-2289-4760-d403-9be85fe1fb62"
      },
      "outputs": [
        {
          "output_type": "execute_result",
          "data": {
            "text/plain": [
              "Shake Shack                  219\n",
              "The Meatball Shop            132\n",
              "Blue Ribbon Sushi            119\n",
              "Blue Ribbon Fried Chicken     96\n",
              "Parm                          68\n",
              "                            ... \n",
              "Sushi Choshi                   1\n",
              "Dos Caminos Soho               1\n",
              "La Follia                      1\n",
              "Philippe Chow                  1\n",
              "'wichcraft                     1\n",
              "Name: restaurant_name, Length: 178, dtype: int64"
            ]
          },
          "metadata": {},
          "execution_count": 242
        }
      ],
      "source": [
        "# look at relationship between restaurants and number of orders\n",
        "df['restaurant_name'].value_counts()"
      ]
    },
    {
      "cell_type": "code",
      "source": [
        "#explore the connection between cuisines, number of orders, and the individual restaurants\n",
        "his=px.histogram(df, x='restaurant_name', y= (df.groupby(['restaurant_name']).value_counts()), color='cuisine_type')\n",
        "his.update_yaxes(title_text=\"Number of orders\")\n",
        "his.show()"
      ],
      "metadata": {
        "colab": {
          "base_uri": "https://localhost:8080/",
          "height": 542
        },
        "id": "uEUPsDF5p7_T",
        "outputId": "aad498c3-b711-4fb2-da71-4c0bf3d1ff87"
      },
      "execution_count": null,
      "outputs": [
        {
          "output_type": "display_data",
          "data": {
            "text/html": [
              "<html>\n",
              "<head><meta charset=\"utf-8\" /></head>\n",
              "<body>\n",
              "    <div>            <script src=\"https://cdnjs.cloudflare.com/ajax/libs/mathjax/2.7.5/MathJax.js?config=TeX-AMS-MML_SVG\"></script><script type=\"text/javascript\">if (window.MathJax && window.MathJax.Hub && window.MathJax.Hub.Config) {window.MathJax.Hub.Config({SVG: {font: \"STIX-Web\"}});}</script>                <script type=\"text/javascript\">window.PlotlyConfig = {MathJaxConfig: 'local'};</script>\n",
              "        <script charset=\"utf-8\" src=\"https://cdn.plot.ly/plotly-2.24.1.min.js\"></script>                <div id=\"20f9cf03-261f-4aa7-93d6-1acccc62c9ed\" class=\"plotly-graph-div\" style=\"height:525px; width:100%;\"></div>            <script type=\"text/javascript\">                                    window.PLOTLYENV=window.PLOTLYENV || {};                                    if (document.getElementById(\"20f9cf03-261f-4aa7-93d6-1acccc62c9ed\")) {                    Plotly.newPlot(                        \"20f9cf03-261f-4aa7-93d6-1acccc62c9ed\",                        [{\"alignmentgroup\":\"True\",\"bingroup\":\"x\",\"histfunc\":\"sum\",\"hovertemplate\":\"cuisine_type=Korean\\u003cbr\\u003erestaurant_name=%{x}\\u003cbr\\u003esum of y=%{y}\\u003cextra\\u003e\\u003c\\u002fextra\\u003e\",\"legendgroup\":\"Korean\",\"marker\":{\"color\":\"#636efa\",\"pattern\":{\"shape\":\"\"}},\"name\":\"Korean\",\"offsetgroup\":\"Korean\",\"orientation\":\"v\",\"showlegend\":true,\"x\":[\"Hangawi\",\"Woorijip\",\"Hangawi\",\"Cho Dang Gol\",\"Don's Bogam BBQ & Wine Bar\",\"Don's Bogam BBQ & Wine Bar\",\"Don's Bogam BBQ & Wine Bar\",\"Cho Dang Gol\",\"Cho Dang Gol\",\"Kori Restaurant and Bar\",\"Cho Dang Gol\",\"Cho Dang Gol\",\"Cho Dang Gol\"],\"xaxis\":\"x\",\"y\":[1,1,1,1,1,1,1,1,1,1,1,1,1],\"yaxis\":\"y\",\"type\":\"histogram\"},{\"alignmentgroup\":\"True\",\"bingroup\":\"x\",\"histfunc\":\"sum\",\"hovertemplate\":\"cuisine_type=Japanese\\u003cbr\\u003erestaurant_name=%{x}\\u003cbr\\u003esum of y=%{y}\\u003cextra\\u003e\\u003c\\u002fextra\\u003e\",\"legendgroup\":\"Japanese\",\"marker\":{\"color\":\"#EF553B\",\"pattern\":{\"shape\":\"\"}},\"name\":\"Japanese\",\"offsetgroup\":\"Japanese\",\"orientation\":\"v\",\"showlegend\":true,\"x\":[\"Blue Ribbon Sushi Izakaya\",\"Sushi of Gari\",\"Blue Ribbon Sushi Izakaya\",\"Blue Ribbon Sushi\",\"Sushi of Gari 46\",\"TAO\",\"Sushi Samba\",\"Blue Ribbon Sushi\",\"Haru Gramercy Park\",\"TAO\",\"TAO\",\"Sushi of Gari 46\",\"Blue Ribbon Sushi Bar & Grill\",\"Nobu Next Door\",\"Sushi Samba\",\"Benihana\",\"Nobu Next Door\",\"TAO\",\"Blue Ribbon Sushi\",\"TAO\",\"Blue Ribbon Sushi\",\"Blue Ribbon Sushi\",\"Yama Japanese Restaurant\",\"Yama Japanese Restaurant\",\"Momoya\",\"Sushi of Gari\",\"Blue Ribbon Sushi Bar & Grill\",\"Nobu Next Door\",\"TAO\",\"Sushi of Gari\",\"Blue Ribbon Sushi\",\"Blue Ribbon Sushi Bar & Grill\",\"Benihana\",\"TAO\",\"Sushi of Gari 46\",\"Blue Ribbon Sushi\",\"TAO\",\"Sushi of Gari\",\"Yama 49\",\"Yama Japanese Restaurant\",\"Momoya\",\"Momoya\",\"Momoya\",\"Nobu Next Door\",\"Blue Ribbon Sushi Bar & Grill\",\"Blue Ribbon Sushi Izakaya\",\"Sushi of Gari 46\",\"Blue Ribbon Sushi Bar & Grill\",\"Blue Ribbon Sushi Izakaya\",\"Sushi of Gari 46\",\"Taro Sushi\",\"Yama Japanese Restaurant\",\"Blue Ribbon Sushi\",\"Blue Ribbon Sushi Bar & Grill\",\"Donburi-ya\",\"Hatsuhana\",\"Samurai Mama\",\"Momoya\",\"Yama 49\",\"Momoya\",\"Blue Ribbon Sushi Bar & Grill\",\"Blue Ribbon Sushi Bar & Grill\",\"Momoya\",\"TAO\",\"Blue Ribbon Sushi\",\"Blue Ribbon Sushi Bar & Grill\",\"Sushi of Gari\",\"Blue Ribbon Sushi Bar & Grill\",\"Blue Ribbon Sushi\",\"Sushi Samba\",\"Sushi of Gari Tribeca\",\"Blue Ribbon Sushi\",\"Blue Ribbon Sushi\",\"Momoya\",\"Blue Ribbon Sushi\",\"Blue Ribbon Sushi\",\"Hibino\",\"Yama Japanese Restaurant\",\"Nobu Next Door\",\"Yama Japanese Restaurant\",\"Mira Sushi\",\"Momoya\",\"Yama Japanese Restaurant\",\"Blue Ribbon Sushi Izakaya\",\"Blue Ribbon Sushi Bar & Grill\",\"Nobu Next Door\",\"Sushi of Gari 46\",\"TAO\",\"Blue Ribbon Sushi\",\"TAO\",\"Blue Ribbon Sushi Izakaya\",\"The Loop\",\"Sushi of Gari\",\"Blue Ribbon Sushi Bar & Grill\",\"Sushi of Gari Tribeca\",\"Nobu Next Door\",\"Sushi of Gari Tribeca\",\"Nobu Next Door\",\"Yama 49\",\"Donburi-ya\",\"The Loop\",\"Blue Ribbon Sushi\",\"Nobu Next Door\",\"Terakawa Ramen\",\"Nobu Next Door\",\"Kambi Ramen House\",\"Blue Ribbon Sushi\",\"Blue Ribbon Sushi\",\"Blue Ribbon Sushi\",\"Momoya\",\"Sushi of Gari 46\",\"TAO\",\"Momoya\",\"Blue Ribbon Sushi Bar & Grill\",\"Momoya\",\"Donburi-ya\",\"TAO\",\"Sushi of Gari Tribeca\",\"Blue Ribbon Sushi\",\"Blue Ribbon Sushi Izakaya\",\"Sushi of Gari 46\",\"Blue Ribbon Sushi\",\"Sushi of Gari Tribeca\",\"Blue Ribbon Sushi\",\"Nobu Next Door\",\"Blue Ribbon Sushi\",\"Blue Ribbon Sushi\",\"Blue Ribbon Sushi\",\"Blue Ribbon Sushi Izakaya\",\"Sushi of Gari\",\"TAO\",\"Blue Ribbon Sushi Izakaya\",\"Blue Ribbon Sushi\",\"TAO\",\"Blue Ribbon Sushi\",\"Momoya\",\"Nobu Next Door\",\"Blue Ribbon Sushi Izakaya\",\"Nobu Next Door\",\"TAO\",\"Blue Ribbon Sushi\",\"Nobu Next Door\",\"Blue Ribbon Sushi Bar & Grill\",\"TAO\",\"Blue Ribbon Sushi Izakaya\",\"Blue Ribbon Sushi Bar & Grill\",\"Blue Ribbon Sushi Izakaya\",\"Blue Ribbon Sushi Izakaya\",\"Blue Ribbon Sushi\",\"Nobu Next Door\",\"Blue Ribbon Sushi\",\"The Loop\",\"Momoya\",\"Blue Ribbon Sushi\",\"TAO\",\"Blue Ribbon Sushi\",\"Blue Ribbon Sushi\",\"Blue Ribbon Sushi\",\"Sushi Choshi\",\"Kanoyama\",\"Blue Ribbon Sushi\",\"Nobu Next Door\",\"Blue Ribbon Sushi\",\"Sushi of Gari Tribeca\",\"Blue Ribbon Sushi\",\"Momoya\",\"Blue Ribbon Sushi\",\"Blue Ribbon Sushi Bar & Grill\",\"Blue Ribbon Sushi\",\"Blue Ribbon Sushi\",\"TAO\",\"Blue Ribbon Sushi\",\"Nobu Next Door\",\"TAO\",\"Hatsuhana\",\"Blue Ribbon Sushi\",\"Blue Ribbon Sushi\",\"Sushi of Gari 46\",\"TAO\",\"Terakawa Ramen\",\"Blue Ribbon Sushi\",\"Blue Ribbon Sushi Bar & Grill\",\"Sushi of Gari Tribeca\",\"Blue Ribbon Sushi\",\"TAO\",\"Blue Ribbon Sushi Izakaya\",\"Blue Ribbon Sushi\",\"Blue Ribbon Sushi Bar & Grill\",\"Blue Ribbon Sushi\",\"Sushi of Gari\",\"Blue Ribbon Sushi Bar & Grill\",\"Mira Sushi\",\"TAO\",\"Blue Ribbon Sushi Bar & Grill\",\"Blue Ribbon Sushi Bar & Grill\",\"Blue Ribbon Sushi\",\"Blue Ribbon Sushi\",\"Blue Ribbon Sushi\",\"Blue Ribbon Sushi Bar & Grill\",\"Yama 49\",\"Sushi of Gari 46\",\"Blue Ribbon Sushi Izakaya\",\"Blue Ribbon Sushi\",\"TAO\",\"Go! Go! Curry!\",\"Blue Ribbon Sushi\",\"Izakaya Ten\",\"Blue Ribbon Sushi\",\"TAO\",\"Nobu Next Door\",\"Blue Ribbon Sushi Izakaya\",\"Blue Ribbon Sushi\",\"Nobu Next Door\",\"Sushi of Gari Tribeca\",\"Nobu Next Door\",\"Blue Ribbon Sushi\",\"Kanoyama\",\"Blue Ribbon Sushi\",\"Sushi of Gari Tribeca\",\"Donburi-ya\",\"Blue Ribbon Sushi Bar & Grill\",\"Blue Ribbon Sushi Izakaya\",\"Blue Ribbon Sushi\",\"Blue Ribbon Sushi\",\"TAO\",\"Sushi of Gari 46\",\"Sushi of Gari\",\"Sushi of Gari\",\"Blue Ribbon Sushi\",\"TAO\",\"Blue Ribbon Sushi\",\"Sushi of Gari 46\",\"Blue Ribbon Sushi\",\"Sushi of Gari Tribeca\",\"Sushi of Gari Tribeca\",\"Nobu Next Door\",\"Blue Ribbon Sushi Bar & Grill\",\"Asuka Sushi\",\"Yama Japanese Restaurant\",\"Nobu Next Door\",\"Blue Ribbon Sushi Izakaya\",\"Blue Ribbon Sushi Izakaya\",\"Sushi of Gari Tribeca\",\"Blue Ribbon Sushi Bar & Grill\",\"Blue Ribbon Sushi\",\"Sushi Samba\",\"Blue Ribbon Sushi Bar & Grill\",\"Hatsuhana\",\"Blue Ribbon Sushi\",\"Blue Ribbon Sushi Bar & Grill\",\"Yama Japanese Restaurant\",\"Sushi of Gari 46\",\"Blue Ribbon Sushi Bar & Grill\",\"Sushi of Gari 46\",\"Donburi-ya\",\"TAO\",\"TAO\",\"TAO\",\"Momoya\",\"Blue Ribbon Sushi Bar & Grill\",\"Blue Ribbon Sushi\",\"Sushi of Gari 46\",\"Sushi of Gari 46\",\"Nobu Next Door\",\"Blue Ribbon Sushi\",\"Blue Ribbon Sushi\",\"Donburi-ya\",\"Blue Ribbon Sushi\",\"Blue Ribbon Sushi Izakaya\",\"Blue Ribbon Sushi Izakaya\",\"Blue Ribbon Sushi Bar & Grill\",\"Blue Ribbon Sushi Izakaya\",\"TAO\",\"Momoya\",\"Nobu Next Door\",\"Nobu Next Door\",\"Blue Ribbon Sushi\",\"Blue Ribbon Sushi\",\"TAO\",\"Blue Ribbon Sushi\",\"Blue Ribbon Sushi Izakaya\",\"Benihana\",\"Blue Ribbon Sushi\",\"Blue Ribbon Sushi Bar & Grill\",\"Blue Ribbon Sushi\",\"Blue Ribbon Sushi\",\"Yama Japanese Restaurant\",\"Sushi Samba\",\"TAO\",\"TAO\",\"Blue Ribbon Sushi\",\"Blue Ribbon Sushi Bar & Grill\",\"Blue Ribbon Sushi\",\"Blue Ribbon Sushi Izakaya\",\"Sushi of Gari Tribeca\",\"Benihana\",\"Sushi of Gari 46\",\"Sushi of Gari\",\"Go! Go! Curry!\",\"Nobu Next Door\",\"Sushi Samba\",\"TAO\",\"Sushi of Gari Tribeca\",\"Blue Ribbon Sushi\",\"Asuka Sushi\",\"Sushi of Gari Tribeca\",\"Hatsuhana\",\"Blue Ribbon Sushi\",\"Blue Ribbon Sushi\",\"Sushi Samba\",\"Blue Ribbon Sushi\",\"Sushi of Gari 46\",\"Sushi of Gari\",\"Sushi of Gari\",\"TAO\",\"Blue Ribbon Sushi\",\"Blue Ribbon Sushi Izakaya\",\"Momoya\",\"Sushi of Gari 46\",\"Go! Go! Curry!\",\"Sushi of Gari 46\",\"Izakaya Ten\",\"Kanoyama\",\"Blue Ribbon Sushi\",\"Yama Japanese Restaurant\",\"Sushi of Gari Tribeca\",\"Nobu Next Door\",\"Sushi of Gari 46\",\"Momoya\",\"Nobu Next Door\",\"Blue Ribbon Sushi\",\"TAO\",\"Blue Ribbon Sushi\",\"Blue Ribbon Sushi\",\"Donburi-ya\",\"Izakaya Ten\",\"TAO\",\"Nobu Next Door\",\"Sushi Samba\",\"Blue Ribbon Sushi Bar & Grill\",\"Blue Ribbon Sushi\",\"Blue Ribbon Sushi\",\"Blue Ribbon Sushi Bar & Grill\",\"Blue Ribbon Sushi\",\"Sushi of Gari 46\",\"Blue Ribbon Sushi Bar & Grill\",\"TAO\",\"TAO\",\"Blue Ribbon Sushi\",\"Blue Ribbon Sushi\",\"Blue Ribbon Sushi Bar & Grill\",\"Sushi of Gari 46\",\"Momoya\",\"TAO\",\"Nobu Next Door\",\"Nobu Next Door\",\"Yama Japanese Restaurant\",\"Nobu Next Door\",\"Sushi of Gari Tribeca\",\"Blue Ribbon Sushi\",\"TAO\",\"Sushi of Gari 46\",\"Blue Ribbon Sushi\",\"Sushi of Gari 46\",\"Blue Ribbon Sushi\",\"Sushi of Gari Tribeca\",\"Sushi of Gari 46\",\"Yama Japanese Restaurant\",\"Blue Ribbon Sushi\",\"Blue Ribbon Sushi Izakaya\",\"Sushi of Gari 46\",\"TAO\",\"Nobu Next Door\",\"Sushi of Gari 46\",\"Nobu Next Door\",\"Sushi of Gari 46\",\"Blue Ribbon Sushi Izakaya\",\"Blue Ribbon Sushi\",\"Blue Ribbon Sushi\",\"Hatsuhana\",\"The Loop\",\"TAO\",\"TAO\",\"TAO\",\"Momoya\",\"Momoya\",\"Blue Ribbon Sushi\",\"Nobu Next Door\",\"Nobu Next Door\",\"Blue Ribbon Sushi Bar & Grill\",\"Benihana\",\"Blue Ribbon Sushi Bar & Grill\",\"Momoya\",\"Blue Ribbon Sushi\",\"Blue Ribbon Sushi\",\"Blue Ribbon Sushi Bar & Grill\",\"Blue Ribbon Sushi\",\"Sushi of Gari\",\"Nobu Next Door\",\"Momoya\",\"Blue Ribbon Sushi Izakaya\",\"Blue Ribbon Sushi\",\"Sushi of Gari Tribeca\",\"Yama Japanese Restaurant\",\"Yama Japanese Restaurant\",\"Sushi of Gari Tribeca\",\"Hatsuhana\",\"Sushi of Gari Tribeca\",\"Sushi of Gari 46\",\"Sushi of Gari\",\"Blue Ribbon Sushi Bar & Grill\",\"Blue Ribbon Sushi\",\"Asuka Sushi\",\"Sushi of Gari 46\",\"Sushi of Gari 46\",\"Momoya\",\"Blue Ribbon Sushi\",\"TAO\",\"Blue Ribbon Sushi\",\"Sushi of Gari 46\",\"Yama Japanese Restaurant\",\"Sushi Samba\",\"Blue Ribbon Sushi Bar & Grill\",\"Blue Ribbon Sushi Bar & Grill\",\"Blue Ribbon Sushi Bar & Grill\",\"Sushi of Gari 46\",\"Sushi of Gari\",\"Momoya\",\"Blue Ribbon Sushi\",\"Blue Ribbon Sushi Bar & Grill\",\"Momoya\",\"Sushi of Gari Tribeca\",\"Blue Ribbon Sushi\",\"Blue Ribbon Sushi\",\"Sushi of Gari Tribeca\",\"Sushi Samba\",\"Terakawa Ramen\",\"Blue Ribbon Sushi\",\"Momoya\",\"TAO\",\"Blue Ribbon Sushi\",\"Hiroko's Place\",\"Nobu Next Door\",\"Sushi of Gari Tribeca\",\"Blue Ribbon Sushi\",\"Momoya\",\"Blue Ribbon Sushi\",\"Yama 49\",\"Blue Ribbon Sushi Izakaya\",\"Blue Ribbon Sushi\",\"Yama Japanese Restaurant\",\"Sushi Samba\",\"Nobu Next Door\",\"Sushi of Gari 46\",\"Nobu Next Door\",\"Blue Ribbon Sushi\",\"Sushi of Gari 46\",\"Nobu Next Door\",\"Momoya\",\"Nobu Next Door\",\"Blue Ribbon Sushi\",\"Sushi of Gari 46\",\"Blue Ribbon Sushi\",\"Blue Ribbon Sushi\",\"Yama Japanese Restaurant\",\"Blue Ribbon Sushi\",\"Blue Ribbon Sushi\",\"TAO\",\"Blue Ribbon Sushi\",\"Blue Ribbon Sushi\"],\"xaxis\":\"x\",\"y\":[1,1,1,1,1,1,1,1,1,1,1,1,1,1,1,1,1,1,1,1,1,1,1,1,1,1,1,1,1,1,1,1,1,1,1,1,1,1,1,1,1,1,1,1,1,1,1,1,1,1,1,1,1,1,1,1,1,1,1,1,1,1,1,1,1,1,1,1,1,1,1,1,1,1,1,1,1,1,1,1,1,1,1,1,1,1,1,1,1,1,1,1,1,1,1,1,1,1,1,1,1,1,1,1,1,1,1,1,1,1,1,1,1,1,1,1,1,1,1,1,1,1,1,1,1,1,1,1,1,1,1,1,1,1,1,1,1,1,1,1,1,1,1,1,1,1,1,1,1,1,1,1,1,1,1,1,1,1,1,1,1,1,1,1,1,1,1,1,1,1,1,1,1,1,1,1,1,1,1,1,1,1,1,1,1,1,1,1,1,1,1,1,1,1,1,1,1,1,1,1,1,1,1,1,1,1,1,1,1,1,1,1,1,1,1,1,1,1,1,1,1,1,1,1,1,1,1,1,1,1,1,1,1,1,1,1,1,1,1,1,1,1,1,1,1,1,1,1,1,1,1,1,1,1,1,1,1,1,1,1,1,1,1,1,1,1,1,1,1,1,1,1,1,1,1,1,1,1,1,1,1,1,1,1,1,1,1,1,1,1,1,1,1,1,1,1,1,1,1,1,1,1,1,1,1,1,1,1,1,1,1,1,1,1,1,1,1,1,1,1,1,1,1,1,1,1,1,1,1,1,1,1,1,1,1,1,1,1,1,1,1,1,1,1,1,1,1,1,1,1,1,1,1,1,1,1,1,1,1,1,1,1,1,1,1,1,1,1,1,1,1,1,1,1,1,1,1,1,1,1,1,1,1,1,1,1,1,1,1,1,1,1,1,1,1,1,1,1,1,1,1,1,1,1,1,1,1,1,1,1,1,1,1,1,1,1,1,1,1,1,1,1,1,1,1,1,1,1,1,1,1,1,1,1,1,1,1,1,1,1,1,1,1,1,1,1,1,1,1,1,1,1,1,1,1,1,1,1,1,1,1,1,1,1,1,1,1,1,1,1],\"yaxis\":\"y\",\"type\":\"histogram\"},{\"alignmentgroup\":\"True\",\"bingroup\":\"x\",\"histfunc\":\"sum\",\"hovertemplate\":\"cuisine_type=Mexican\\u003cbr\\u003erestaurant_name=%{x}\\u003cbr\\u003esum of y=%{y}\\u003cextra\\u003e\\u003c\\u002fextra\\u003e\",\"legendgroup\":\"Mexican\",\"marker\":{\"color\":\"#00cc96\",\"pattern\":{\"shape\":\"\"}},\"name\":\"Mexican\",\"offsetgroup\":\"Mexican\",\"orientation\":\"v\",\"showlegend\":true,\"x\":[\"Cafe Habana\",\"Empanada Mama (closed)\",\"Tortaria\",\"Chipotle Mexican Grill $1.99 Delivery\",\"Cafe Habana\",\"Chipotle Mexican Grill $1.99 Delivery\",\"Tortaria\",\"Mission Cantina\",\"Cafe Habana\",\"Chipotle Mexican Grill $1.99 Delivery\",\"Mission Cantina\",\"Cafe Habana\",\"Chipotle Mexican Grill $1.99 Delivery\",\"Dos Caminos\",\"Chipotle Mexican Grill $1.99 Delivery\",\"Mission Cantina\",\"Tortaria\",\"Cafe Habana\",\"Dos Caminos\",\"Cafe Habana\",\"Dos Caminos\",\"Chipotle Mexican Grill $1.99 Delivery\",\"Cafe Habana\",\"Empanada Mama (closed)\",\"Chipotle Mexican Grill $1.99 Delivery\",\"Cafe Habana\",\"Chipotle Mexican Grill $1.99 Delivery\",\"Dos Caminos\",\"El Parador Cafe\",\"Chipotle Mexican Grill $1.99 Delivery\",\"Chipotle Mexican Grill $1.99 Delivery\",\"Cafe Habana\",\"Chipotle Mexican Grill $1.99 Delivery\",\"Empanada Mama (closed)\",\"Chipotle Mexican Grill $1.99 Delivery\",\"Cafe Habana\",\"Tortaria\",\"Dos Caminos\",\"Dos Caminos Soho\",\"Chipotle Mexican Grill $1.99 Delivery\",\"Cafe Habana\",\"Chipotle Mexican Grill $1.99 Delivery\",\"Cafe Habana\",\"Crema Restaurante\",\"Chipotle Mexican Grill $1.99 Delivery\",\"Empanada Mama (closed)\",\"Cafe de La Esquina\",\"Tres Carnes\",\"Dos Caminos\",\"Empanada Mama (closed)\",\"Empanada Mama (closed)\",\"Empanada Mama (closed)\",\"Chipotle Mexican Grill $1.99 Delivery\",\"Mission Cantina\",\"Tres Carnes\",\"Chipotle Mexican Grill $1.99 Delivery\",\"Tres Carnes\",\"Cafe Habana\",\"Cafe Habana\",\"Mission Cantina\",\"Chipotle Mexican Grill $1.99 Delivery\",\"Empanada Mama (closed)\",\"El Parador Cafe\",\"Empanada Mama (closed)\",\"Dos Caminos\",\"Empanada Mama (closed)\",\"Chipotle Mexican Grill $1.99 Delivery\",\"Chipotle Mexican Grill $1.99 Delivery\",\"Cafe Habana\",\"Chipotle Mexican Grill $1.99 Delivery\",\"Empanada Mama (closed)\",\"Empanada Mama (closed)\",\"Cafe Habana\",\"Chipotle Mexican Grill $1.99 Delivery\",\"Empanada Mama (closed)\",\"Dos Caminos\",\"Chipotle Mexican Grill $1.99 Delivery\"],\"xaxis\":\"x\",\"y\":[1,1,1,1,1,1,1,1,1,1,1,1,1,1,1,1,1,1,1,1,1,1,1,1,1,1,1,1,1,1,1,1,1,1,1,1,1,1,1,1,1,1,1,1,1,1,1,1,1,1,1,1,1,1,1,1,1,1,1,1,1,1,1,1,1,1,1,1,1,1,1,1,1,1,1,1,1],\"yaxis\":\"y\",\"type\":\"histogram\"},{\"alignmentgroup\":\"True\",\"bingroup\":\"x\",\"histfunc\":\"sum\",\"hovertemplate\":\"cuisine_type=American\\u003cbr\\u003erestaurant_name=%{x}\\u003cbr\\u003esum of y=%{y}\\u003cextra\\u003e\\u003c\\u002fextra\\u003e\",\"legendgroup\":\"American\",\"marker\":{\"color\":\"#ab63fa\",\"pattern\":{\"shape\":\"\"}},\"name\":\"American\",\"offsetgroup\":\"American\",\"orientation\":\"v\",\"showlegend\":true,\"x\":[\"Blue Ribbon Fried Chicken\",\"Dirty Bird to Go\",\"Blue Ribbon Fried Chicken\",\"Lucky's Famous Burgers\",\"Shake Shack\",\"Five Guys Burgers and Fries\",\"Shake Shack\",\"Shake Shack\",\"5 Napkin Burger\",\"Shake Shack\",\"Cafeteria\",\"Five Guys Burgers and Fries\",\"DuMont Burger\",\"Sarabeth's East\",\"Blue Ribbon Fried Chicken\",\"Blue Ribbon Fried Chicken\",\"Blue Ribbon Fried Chicken\",\"Blue Ribbon Fried Chicken\",\"Westville Hudson\",\"Shake Shack\",\"Blue Ribbon Brooklyn\",\"Blue Ribbon Fried Chicken\",\"Shake Shack\",\"Shake Shack\",\"Shake Shack\",\"Cafeteria\",\"Shake Shack\",\"Shake Shack\",\"Blue Ribbon Fried Chicken\",\"Blue Ribbon Fried Chicken\",\"Shake Shack\",\"Sarabeth's East\",\"Blue Ribbon Fried Chicken\",\"Five Guys Burgers and Fries\",\"Shake Shack\",\"Bareburger\",\"The Odeon\",\"Shake Shack\",\"Blue Ribbon Fried Chicken\",\"Blue Ribbon Fried Chicken\",\"Five Guys Burgers and Fries\",\"The Meatball Shop\",\"Shake Shack\",\"Bareburger\",\"Blue Ribbon Fried Chicken\",\"Shake Shack\",\"Shake Shack\",\"Shake Shack\",\"Five Guys Burgers and Fries\",\"Shake Shack\",\"Shake Shack\",\"Shake Shack\",\"Five Leaves\",\"Five Guys Burgers and Fries\",\"Dirty Bird to Go\",\"Shake Shack\",\"Blue Ribbon Fried Chicken\",\"Blue Ribbon Fried Chicken\",\"Five Guys Burgers and Fries\",\"Shake Shack\",\"Shake Shack\",\"Shake Shack\",\"Shake Shack\",\"Shake Shack\",\"Five Guys Burgers and Fries\",\"Shake Shack\",\"Bareburger\",\"5 Napkin Burger\",\"Delicatessen\",\"Blue Ribbon Fried Chicken\",\"Sarabeth's East\",\"S'MAC\",\"Cafeteria\",\"Delicatessen\",\"Bareburger\",\"Shake Shack\",\"Waverly Diner\",\"P.J. Clarke's\",\"Blue Ribbon Fried Chicken\",\"Blue Ribbon Fried Chicken\",\"Shake Shack\",\"Blue Ribbon Brooklyn\",\"P.J. Clarke's\",\"The Smile\",\"Shake Shack\",\"Bareburger\",\"Shake Shack\",\"Blue Ribbon Fried Chicken\",\"Bubby's \",\"The Smile\",\"Shake Shack\",\"Dirty Bird To Go (archived)\",\"Lucky's Famous Burgers\",\"Five Guys Burgers and Fries\",\"Blue Ribbon Fried Chicken\",\"Shake Shack\",\"Blue Ribbon Fried Chicken\",\"Bareburger\",\"Shake Shack\",\"Shake Shack\",\"Dirty Bird To Go (archived)\",\"Shake Shack\",\"The Meatball Shop\",\"P.J. Clarke's\",\"Shake Shack\",\"Shake Shack\",\"Lucky's Famous Burgers\",\"Shake Shack\",\"Shake Shack\",\"Shake Shack\",\"Shake Shack\",\"Bubby's \",\"Shake Shack\",\"Burger Joint\",\"Sarabeth's Restaurant\",\"Shake Shack\",\"Blue Ribbon Fried Chicken\",\"Shake Shack\",\"Sarabeth's East\",\"Shake Shack\",\"Blue Ribbon Fried Chicken\",\"The Smile\",\"Bareburger\",\"Blue Ribbon Fried Chicken\",\"Waverly Diner\",\"Shake Shack\",\"Shake Shack\",\"Five Guys Burgers and Fries\",\"Blue Ribbon Fried Chicken\",\"Shake Shack\",\"Shake Shack\",\"Five Guys Burgers and Fries\",\"Melt Shop\",\"Shake Shack\",\"Blue Ribbon Fried Chicken\",\"S'MAC\",\"S'MAC\",\"S'MAC\",\"Blue Ribbon Fried Chicken\",\"Blue Ribbon Fried Chicken\",\"Shake Shack\",\"J. G. Melon\",\"Cafeteria\",\"P.J. Clarke's\",\"S'MAC\",\"Blue Ribbon Fried Chicken\",\"Shake Shack\",\"Shake Shack\",\"Westville Hudson\",\"Blue Ribbon Fried Chicken\",\"Melt Shop\",\"Friend of a Farmer\",\"Blue Ribbon Fried Chicken\",\"The Odeon\",\"The Meatball Shop\",\"Shake Shack\",\"Shake Shack\",\"Shake Shack\",\"Shake Shack\",\"The Smile\",\"Shake Shack\",\"Shake Shack\",\"Blue Ribbon Fried Chicken\",\"Shake Shack\",\"Dickson's Farmstand Meats\",\"J. G. Melon\",\"Shake Shack\",\"Waverly Diner\",\"S'MAC\",\"Shake Shack\",\"Shake Shack\",\"P.J. Clarke's\",\"Blue Ribbon Fried Chicken\",\"Blue Ribbon Fried Chicken\",\"Burger Joint\",\"Burger Joint\",\"Shake Shack\",\"Bareburger\",\"Shake Shack\",\"The Meatball Shop\",\"Bareburger\",\"J. G. Melon\",\"Five Guys Burgers and Fries\",\"Westville Hudson\",\"Shake Shack\",\"Melt Shop\",\"Blue Ribbon Fried Chicken\",\"The Smile\",\"Shake Shack\",\"Blue Ribbon Fried Chicken\",\"Shake Shack\",\"Dig Inn Seasonal Market\",\"Shake Shack\",\"Bareburger\",\"Shake Shack\",\"Cafeteria\",\"Shake Shack\",\"Shake Shack\",\"Sarabeth's Restaurant\",\"Shake Shack\",\"Shake Shack\",\"Dirty Bird to Go\",\"Blue Ribbon Fried Chicken\",\"Shake Shack\",\"Shake Shack\",\"Bareburger\",\"Five Leaves\",\"Alidoro\",\"Shake Shack\",\"Bareburger\",\"Westville Hudson\",\"Shake Shack\",\"Shake Shack\",\"Burger Joint\",\"Shake Shack\",\"Five Guys Burgers and Fries\",\"Blue Ribbon Fried Chicken\",\"Five Guys Burgers and Fries\",\"Shake Shack\",\"Blue Ribbon Fried Chicken\",\"Shake Shack\",\"Blue Ribbon Fried Chicken\",\"Shake Shack\",\"The Smile\",\"Sarabeth's East\",\"Blue Ribbon Fried Chicken\",\"P.J. Clarke's\",\"Shake Shack\",\"Shake Shack\",\"Shake Shack\",\"Shake Shack\",\"The Smile\",\"Shake Shack\",\"Shake Shack\",\"Shake Shack\",\"Bareburger\",\"Shake Shack\",\"Bareburger\",\"Shake Shack\",\"Bubby's \",\"Shake Shack\",\"Blue Ribbon Fried Chicken\",\"Blue Ribbon Fried Chicken\",\"Bareburger\",\"Shake Shack\",\"The Smile\",\"Shake Shack\",\"Shake Shack\",\"Shake Shack\",\"Shake Shack\",\"Shake Shack\",\"Blue Ribbon Fried Chicken\",\"Five Guys Burgers and Fries\",\"J. G. Melon\",\"Shake Shack\",\"Shake Shack\",\"Cafeteria\",\"Shake Shack\",\"S'MAC\",\"P.J. Clarke's\",\"Blue Ribbon Fried Chicken\",\"The Meatball Shop\",\"Sarabeth's Restaurant\",\"Shake Shack\",\"Blue Ribbon Fried Chicken\",\"Shake Shack\",\"Shake Shack\",\"The Meatball Shop\",\"J. G. Melon\",\"Blue Ribbon Fried Chicken\",\"Shake Shack\",\"Blue Ribbon Fried Chicken\",\"Blue Ribbon Fried Chicken\",\"Shake Shack\",\"P.J. Clarke's\",\"Westville Hudson\",\"Blue Ribbon Fried Chicken\",\"Westville Hudson\",\"Dirty Bird To Go (archived)\",\"Shake Shack\",\"Blue Ribbon Fried Chicken\",\"brgr\",\"Shake Shack\",\"Shake Shack\",\"Blue Ribbon Fried Chicken\",\"Melt Shop\",\"Five Guys Burgers and Fries\",\"The Smile\",\"Burger Joint\",\"Shake Shack\",\"Shake Shack\",\"The Meatball Shop\",\"Shake Shack\",\"Five Guys Burgers and Fries\",\"Blue Ribbon Fried Chicken\",\"Shake Shack\",\"Melt Shop\",\"P.J. Clarke's\",\"Blue Ribbon Fried Chicken\",\"Shake Shack\",\"Sarabeth's East\",\"The Meatball Shop\",\"P.J. Clarke's\",\"Shake Shack\",\"Burger Joint\",\"Shake Shack\",\"Sarabeth's\",\"Melt Shop\",\"Five Guys Burgers and Fries\",\"Blue Ribbon Fried Chicken\",\"Blue Ribbon Fried Chicken\",\"Waverly Diner\",\"Shake Shack\",\"Big Daddy's\",\"Shake Shack\",\"Shake Shack\",\"Shake Shack\",\"Dickson's Farmstand Meats\",\"Shake Shack\",\"Melt Shop\",\"Shake Shack\",\"Blue Ribbon Fried Chicken\",\"Shake Shack\",\"The Smile\",\"Waverly Diner\",\"Moonstruck on Second\",\"Melt Shop\",\"The Meatball Shop\",\"Shake Shack\",\"Westville Hudson\",\"Five Guys Burgers and Fries\",\"Shake Shack\",\"Shake Shack\",\"Five Guys Burgers and Fries\",\"Shake Shack\",\"Blue Ribbon Fried Chicken\",\"Cafeteria\",\"67 Burger\",\"Shake Shack\",\"Blue Ribbon Fried Chicken\",\"Burger Joint\",\"Westville Hudson\",\"Shake Shack\",\"Melt Shop\",\"Shake Shack\",\"Waverly Diner\",\"Five Guys Burgers and Fries\",\"Bareburger\",\"Bareburger\",\"Shake Shack\",\"Shake Shack\",\"Bareburger\",\"Schnipper's Quality Kitchen\",\"Shake Shack\",\"Lucky's Famous Burgers\",\"Blue Ribbon Fried Chicken\",\"Shake Shack\",\"Dirty Bird to Go\",\"Shake Shack\",\"Market Table\",\"Blue Ribbon Fried Chicken\",\"Five Leaves\",\"Shake Shack\",\"Blue Ribbon Fried Chicken\",\"Shake Shack\",\"Shake Shack\",\"Blue Ribbon Fried Chicken\",\"Westville Hudson\",\"Blue Ribbon Fried Chicken\",\"Shake Shack\",\"Shake Shack\",\"Blue Ribbon Fried Chicken\",\"Shake Shack\",\"Blue Ribbon Fried Chicken\",\"Shake Shack\",\"Shake Shack\",\"Blue Ribbon Fried Chicken\",\"Shake Shack\",\"Blue Ribbon Fried Chicken\",\"Five Guys Burgers and Fries\",\"Sarabeth's\",\"Shake Shack\",\"Blue Ribbon Fried Chicken\",\"Burger Joint\",\"Sarabeth's\",\"The Meatball Shop\",\"Five Guys Burgers and Fries\",\"Shake Shack\",\"P.J. Clarke's\",\"Westville Hudson\",\"Sarabeth's East\",\"Blue Ribbon Fried Chicken\",\"Five Guys Burgers and Fries\",\"brgr\",\"Shake Shack\",\"The Meatball Shop\",\"The Meatball Shop\",\"The Meatball Shop\",\"Blue Ribbon Fried Chicken\",\"Bareburger\",\"The Smile\",\"Burger Joint\",\"Shake Shack\",\"Blue Ribbon Fried Chicken\",\"P.J. Clarke's\",\"Blue Ribbon Fried Chicken\",\"Shake Shack\",\"S'MAC\",\"J. G. Melon\",\"Bareburger\",\"Blue Ribbon Fried Chicken\",\"Shake Shack\",\"Dickson's Farmstand Meats\",\"Shake Shack\",\"Bareburger\",\"Shake Shack\",\"Blue Ribbon Fried Chicken\",\"The Meatball Shop\",\"The Smile\",\"Schnipper's Quality Kitchen\",\"Shake Shack\",\"Shake Shack\",\"Shake Shack\",\"Westville Hudson\",\"Shake Shack\",\"Blue Ribbon Fried Chicken\",\"Shake Shack\",\"Shake Shack\",\"Bareburger\",\"Shake Shack\",\"Big Daddy's\",\"Shake Shack\",\"Sarabeth's Restaurant\",\"J. G. Melon\",\"Shake Shack\",\"Shake Shack\",\"The Meatball Shop\",\"J. G. Melon\",\"Blue Ribbon Fried Chicken\",\"Shake Shack\",\"Bareburger\",\"Shake Shack\",\"Shake Shack\",\"Westville Hudson\",\"Five Guys Burgers and Fries\",\"Shake Shack\",\"J. G. Melon\",\"Sarabeth's Restaurant\",\"P.J. Clarke's\",\"Blue Ribbon Fried Chicken\",\"Blue Ribbon Brooklyn\",\"Bareburger\",\"Burger Joint\",\"Sarabeth's Restaurant\",\"Shake Shack\",\"Shake Shack\",\"Blue Ribbon Fried Chicken\",\"Lucky Strike\",\"Shake Shack\",\"Shake Shack\",\"The Smile\",\"The Smile\",\"Blue Ribbon Fried Chicken\",\"Shake Shack\",\"The Meatball Shop\",\"The Meatball Shop\",\"Shake Shack\",\"Sarabeth's Restaurant\",\"Lucky's Famous Burgers\",\"Blue Ribbon Fried Chicken\",\"Shake Shack\",\"Burger Joint\",\"Shake Shack\",\"Five Leaves\",\"Shake Shack\",\"Bareburger\",\"S'MAC\",\"Burger Joint\",\"Delicatessen\",\"Bareburger\",\"Shake Shack\",\"Shake Shack\",\"Blue Ribbon Fried Chicken\",\"P.J. Clarke's\",\"Shake Shack\",\"Shake Shack\",\"Waverly Diner\",\"Shake Shack\",\"Blue Ribbon Fried Chicken\",\"Friend of a Farmer\",\"The Smile\",\"Blue Ribbon Fried Chicken\",\"Bareburger\",\"Shake Shack\",\"Schnipper's Quality Kitchen\",\"Shake Shack\",\"Shake Shack\",\"The Odeon\",\"Shake Shack\",\"Shake Shack\",\"Blue Ribbon Fried Chicken\",\"Shake Shack\",\"5 Napkin Burger\",\"The Meatball Shop\",\"Five Guys Burgers and Fries\",\"Shake Shack\",\"Shake Shack\",\"J. G. Melon\",\"Melt Shop\",\"J. G. Melon\",\"Lucky's Famous Burgers\",\"J. G. Melon\",\"Westville Hudson\",\"Five Guys Burgers and Fries\",\"J. G. Melon\",\"Delicatessen\",\"Five Guys Burgers and Fries\",\"Shake Shack\",\"Shake Shack\",\"Shake Shack\",\"Blue Ribbon Fried Chicken\",\"Blue Ribbon Fried Chicken\",\"Shake Shack\",\"Friend of a Farmer\",\"Blue Ribbon Fried Chicken\",\"Shake Shack\",\"Cafeteria\",\"Shake Shack\",\"Blue Ribbon Fried Chicken\",\"Shake Shack\",\"Shake Shack\",\"5 Napkin Burger\",\"Shake Shack\",\"S'MAC\",\"Five Guys Burgers and Fries\",\"Blue Ribbon Fried Chicken\",\"Westville Hudson\",\"Shake Shack\",\"Shake Shack\",\"Blue Ribbon Fried Chicken\",\"Shake Shack\",\"Rye House\",\"Shake Shack\",\"S'MAC\",\"Shake Shack\",\"P.J. Clarke's\",\"The Smile\",\"Shake Shack\",\"Blue Ribbon Brooklyn\",\"5 Napkin Burger\",\"Shake Shack\",\"J. G. Melon\",\"Blue Ribbon Fried Chicken\",\"The Smile\",\"Blue Ribbon Fried Chicken\",\"Blue Ribbon Fried Chicken\",\"Blue Ribbon Fried Chicken\",\"Shake Shack\",\"Shake Shack\",\"Westville Hudson\",\"Delicatessen\",\"Sarabeth's West\",\"Cafeteria\",\"Shake Shack\",\"Shake Shack\",\"Shake Shack\",\"DuMont Burger\",\"S'MAC\",\"J. G. Melon\",\"Shake Shack\",\"Blue Ribbon Fried Chicken\",\"Shake Shack\",\"DuMont Burger\",\"'wichcraft\",\"Shake Shack\",\"Shake Shack\",\"Melt Shop\",\"The Meatball Shop\",\"Shake Shack\",\"Shake Shack\",\"The Meatball Shop\",\"Shake Shack\",\"Shake Shack\",\"The Smile\"],\"xaxis\":\"x\",\"y\":[1,1,1,1,1,1,1,1,1,1,1,1,1,1,1,1,1,1,1,1,1,1,1,1,1,1,1,1,1,1,1,1,1,1,1,1,1,1,1,1,1,1,1,1,1,1,1,1,1,1,1,1,1,1,1,1,1,1,1,1,1,1,1,1,1,1,1,1,1,1,1,1,1,1,1,1,1,1,1,1,1,1,1,1,1,1,1,1,1,1,1,1,1,1,1,1,1,1,1,1,1,1,1,1,1,1,1,1,1,1,1,1,1,1,1,1,1,1,1,1,1,1,1,1,1,1,1,1,1,1,1,1,1,1,1,1,1,1,1,1,1,1,1,1,1,1,1,1,1,1,1,1,1,1,1,1,1,1,1,1,1,1,1,1,1,1,1,1,1,1,1,1,1,1,1,1,1,1,1,1,1,1,1,1,1,1,1,1,1,1,1,1,1,1,1,1,1,1,1,1,1,1,1,1,1,1,1,1,1,1,1,1,1,1,1,1,1,1,1,1,1,1,1,1,1,1,1,1,1,1,1,1,1,1,1,1,1,1,1,1,1,1,1,1,1,1,1,1,1,1,1,1,1,1,1,1,1,1,1,1,1,1,1,1,1,1,1,1,1,1,1,1,1,1,1,1,1,1,1,1,1,1,1,1,1,1,1,1,1,1,1,1,1,1,1,1,1,1,1,1,1,1,1,1,1,1,1,1,1,1,1,1,1,1,1,1,1,1,1,1,1,1,1,1,1,1,1,1,1,1,1,1,1,1,1,1,1,1,1,1,1,1,1,1,1,1,1,1,1,1,1,1,1,1,1,1,1,1,1,1,1,1,1,1,1,1,1,1,1,1,1,1,1,1,1,1,1,1,1,1,1,1,1,1,1,1,1,1,1,1,1,1,1,1,1,1,1,1,1,1,1,1,1,1,1,1,1,1,1,1,1,1,1,1,1,1,1,1,1,1,1,1,1,1,1,1,1,1,1,1,1,1,1,1,1,1,1,1,1,1,1,1,1,1,1,1,1,1,1,1,1,1,1,1,1,1,1,1,1,1,1,1,1,1,1,1,1,1,1,1,1,1,1,1,1,1,1,1,1,1,1,1,1,1,1,1,1,1,1,1,1,1,1,1,1,1,1,1,1,1,1,1,1,1,1,1,1,1,1,1,1,1,1,1,1,1,1,1,1,1,1,1,1,1,1,1,1,1,1,1,1,1,1,1,1,1,1,1,1,1,1,1,1,1,1,1,1,1,1,1,1,1,1,1,1,1,1,1,1,1,1,1,1,1,1,1,1,1,1,1,1,1,1,1,1,1,1,1,1,1,1,1,1,1],\"yaxis\":\"y\",\"type\":\"histogram\"},{\"alignmentgroup\":\"True\",\"bingroup\":\"x\",\"histfunc\":\"sum\",\"hovertemplate\":\"cuisine_type=Indian\\u003cbr\\u003erestaurant_name=%{x}\\u003cbr\\u003esum of y=%{y}\\u003cextra\\u003e\\u003c\\u002fextra\\u003e\",\"legendgroup\":\"Indian\",\"marker\":{\"color\":\"#FFA15A\",\"pattern\":{\"shape\":\"\"}},\"name\":\"Indian\",\"offsetgroup\":\"Indian\",\"orientation\":\"v\",\"showlegend\":true,\"x\":[\"Tamarind TriBeCa\",\"Anjappar Chettinad\",\"Bukhara Grill\",\"The Kati Roll Company\",\"Haandi\",\"The Kati Roll Company\",\"Chote Nawab\",\"Tamarind TriBeCa\",\"The Kati Roll Company\",\"The Kati Roll Company\",\"indikitch\",\"Amma\",\"Tamarind TriBeCa\",\"Bhatti Indian Grill\",\"Amma\",\"Haveli Indian Restaurant\",\"Tamarind TriBeCa\",\"The Kati Roll Company\",\"Tamarind TriBeCa\",\"The Kati Roll Company\",\"Saravanaa Bhavan\",\"indikitch\",\"The Kati Roll Company\",\"Tamarind TriBeCa\",\"Chola Eclectic Indian Cuisine\",\"indikitch\",\"Junoon\",\"Tamarind TriBeCa\",\"Tamarind TriBeCa\",\"Saravanaa Bhavan\",\"Tamarind TriBeCa\",\"Amma\",\"Tamarind TriBeCa\",\"Junoon\",\"Saravanaa Bhavan\",\"The Kati Roll Company\",\"The Kati Roll Company\",\"Bhatti Indian Grill\",\"Bukhara Grill\",\"The MasalaWala\",\"Haandi\",\"The Kati Roll Company\",\"Tamarind TriBeCa\",\"Tamarind TriBeCa\",\"Amma\",\"indikitch\",\"Tamarind TriBeCa\",\"The Kati Roll Company\",\"Junoon\",\"The Kati Roll Company\",\"Tamarind TriBeCa\",\"Tamarind TriBeCa\",\"Haveli Indian Restaurant\",\"Tamarind TriBeCa\",\"The Kati Roll Company\",\"Junoon\",\"Saravanaa Bhavan\",\"Tamarind TriBeCa\",\"Tamarind TriBeCa\",\"Tamarind TriBeCa\",\"Tamarind TriBeCa\",\"Tamarind TriBeCa\",\"Tamarind TriBeCa\",\"The Kati Roll Company\",\"Saravanaa Bhavan\",\"Tamarind TriBeCa\",\"Junoon\",\"Tamarind TriBeCa\",\"Tamarind TriBeCa\",\"The Kati Roll Company\",\"Tamarind TriBeCa\",\"Tamarind TriBeCa\",\"The Kati Roll Company\"],\"xaxis\":\"x\",\"y\":[1,1,1,1,1,1,1,1,1,1,1,1,1,1,1,1,1,1,1,1,1,1,1,1,1,1,1,1,1,1,1,1,1,1,1,1,1,1,1,1,1,1,1,1,1,1,1,1,1,1,1,1,1,1,1,1,1,1,1,1,1,1,1,1,1,1,1,1,1,1,1,1,1],\"yaxis\":\"y\",\"type\":\"histogram\"},{\"alignmentgroup\":\"True\",\"bingroup\":\"x\",\"histfunc\":\"sum\",\"hovertemplate\":\"cuisine_type=Italian\\u003cbr\\u003erestaurant_name=%{x}\\u003cbr\\u003esum of y=%{y}\\u003cextra\\u003e\\u003c\\u002fextra\\u003e\",\"legendgroup\":\"Italian\",\"marker\":{\"color\":\"#19d3f3\",\"pattern\":{\"shape\":\"\"}},\"name\":\"Italian\",\"offsetgroup\":\"Italian\",\"orientation\":\"v\",\"showlegend\":true,\"x\":[\"The Meatball Shop\",\"The Meatball Shop\",\"Otto Enoteca Pizzeria\",\"Vezzo Thin Crust Pizza\",\"Parm\",\"The Meatball Shop\",\"The Meatball Shop\",\"Bistango\",\"Osteria Morini\",\"Parm\",\"The Meatball Shop\",\"The Meatball Shop\",\"Otto Enoteca Pizzeria\",\"Rubirosa\",\"The Meatball Shop\",\"Otto Enoteca Pizzeria\",\"Parm\",\"Osteria Morini\",\"Parm\",\"The Meatball Shop\",\"Otto Enoteca Pizzeria\",\"The Meatball Shop\",\"The Meatball Shop\",\"Parm\",\"The Meatball Shop\",\"Rubirosa\",\"Otto Enoteca Pizzeria\",\"Parm\",\"The Meatball Shop\",\"Pepe Giallo\",\"The Meatball Shop\",\"The Meatball Shop\",\"Piccolo Angolo\",\"Pepe Rosso To Go\",\"Parm\",\"Osteria Morini\",\"Rubirosa\",\"The Meatball Shop\",\"Pepe Rosso To Go\",\"Bistango\",\"The Meatball Shop\",\"Tarallucci e Vino Restaurant\",\"The Meatball Shop\",\"The Meatball Shop\",\"The Meatball Shop\",\"The Meatball Shop\",\"Otto Enoteca Pizzeria\",\"The Meatball Shop\",\"Parm\",\"The Meatball Shop\",\"The Meatball Shop\",\"The Meatball Shop\",\"Rubirosa\",\"Rubirosa\",\"da Umberto\",\"The Meatball Shop\",\"Parm\",\"Parm\",\"Osteria Morini\",\"The Meatball Shop\",\"Pepe Rosso To Go\",\"The Meatball Shop\",\"Osteria Morini\",\"The Meatball Shop\",\"The Meatball Shop\",\"The Meatball Shop\",\"The Meatball Shop\",\"Tarallucci e Vino Restaurant\",\"The Meatball Shop\",\"The Meatball Shop\",\"Otto Enoteca Pizzeria\",\"The Meatball Shop\",\"The Meatball Shop\",\"Osteria Morini\",\"Osteria Morini\",\"The Meatball Shop\",\"Posto\",\"The Meatball Shop\",\"Pepe Rosso To Go\",\"Parm\",\"da Umberto\",\"UVA Wine Bar & Restaurant\",\"The Meatball Shop\",\"The Meatball Shop\",\"The Meatball Shop\",\"The Meatball Shop\",\"Rubirosa\",\"Rubirosa\",\"Parm\",\"Rubirosa\",\"Parm\",\"Serafina Fabulous Pizza\",\"The Meatball Shop\",\"Gaia Italian Cafe\",\"Parm\",\"Piccolo Angolo\",\"Parm\",\"Parm\",\"Rubirosa\",\"The Meatball Shop\",\"Osteria Morini\",\"The Meatball Shop\",\"Rubirosa\",\"Otto Enoteca Pizzeria\",\"Rubirosa\",\"Parm\",\"The Meatball Shop\",\"da Umberto\",\"Parm\",\"Tony's Di Napoli\",\"Cipriani Le Specialita\",\"The Meatball Shop\",\"The Meatball Shop\",\"The Meatball Shop\",\"Tony's Di Napoli\",\"The Meatball Shop\",\"Rubirosa\",\"UVA Wine Bar & Restaurant\",\"Parm\",\"The Meatball Shop\",\"The Meatball Shop\",\"The Meatball Shop\",\"Parm\",\"Otto Enoteca Pizzeria\",\"Parm\",\"The Meatball Shop\",\"The Meatball Shop\",\"Parm\",\"Rubirosa\",\"The Meatball Shop\",\"Rubirosa\",\"Parm\",\"Zero Otto Nove\",\"The Meatball Shop\",\"The Meatball Shop\",\"Parm\",\"The Meatball Shop\",\"Parm\",\"Parm\",\"La Follia\",\"The Meatball Shop\",\"Rubirosa\",\"Serafina Fabulous Pizza\",\"Tony's Di Napoli\",\"Tony's Di Napoli\",\"Parm\",\"Parm\",\"The Meatball Shop\",\"Vezzo Thin Crust Pizza\",\"Vezzo Thin Crust Pizza\",\"Parm\",\"The Meatball Shop\",\"Carmine's\",\"Parm\",\"The Meatball Shop\",\"Rubirosa\",\"Aurora\",\"Parm\",\"Rubirosa\",\"Osteria Morini\",\"The Meatball Shop\",\"Parm\",\"Rubirosa\",\"The Meatball Shop\",\"Pepe Rosso To Go\",\"Parm\",\"Parm\",\"Parm\",\"Tony's Di Napoli\",\"The Meatball Shop\",\"Parm\",\"Aurora\",\"Pepe Rosso To Go\",\"Serafina Fabulous Pizza\",\"Rubirosa\",\"Osteria Morini\",\"The Meatball Shop\",\"The Meatball Shop\",\"The Meatball Shop\",\"The Meatball Shop\",\"Parm\",\"Parm\",\"Olive Garden\",\"The Meatball Shop\",\"Rubirosa\",\"Parm\",\"The Meatball Shop\",\"Serafina Fabulous Pizza\",\"Parm\",\"Parm\",\"Parm\",\"Otto Enoteca Pizzeria\",\"Parm\",\"Rubirosa\",\"Rubirosa\",\"Pepe Rosso To Go\",\"Parm\",\"Rubirosa\",\"Galli Restaurant\",\"The Meatball Shop\",\"Parm\",\"Parm\",\"The Meatball Shop\",\"Parm\",\"The Meatball Shop\",\"The Meatball Shop\",\"Parm\",\"The Meatball Shop\",\"Rubirosa\",\"The Meatball Shop\",\"Parm\",\"Rubirosa\",\"Parm\",\"Otto Enoteca Pizzeria\",\"The Meatball Shop\",\"Parm\",\"Parm\",\"Osteria Morini\",\"Il Bambino\",\"Parm\",\"The Meatball Shop\",\"Parm\",\"The Meatball Shop\",\"The Meatball Shop\",\"Rubirosa\",\"Lamarca Pasta\",\"Parm\",\"Parm\",\"The Meatball Shop\",\"Rubirosa\",\"Parm\",\"Rubirosa\",\"The Meatball Shop\",\"The Meatball Shop\",\"Parm\",\"The Meatball Shop\",\"The Meatball Shop\",\"Rubirosa\",\"The Meatball Shop\",\"The Meatball Shop\",\"Rubirosa\",\"Carmine's\",\"Paul & Jimmy's\",\"Vezzo Thin Crust Pizza\",\"The Meatball Shop\",\"The Meatball Shop\",\"The Meatball Shop\",\"Olive Garden\",\"The Meatball Shop\",\"The Meatball Shop\",\"The Meatball Shop\",\"The Meatball Shop\",\"Rubirosa\",\"Rubirosa\",\"The Meatball Shop\",\"Vezzo Thin Crust Pizza\",\"The Meatball Shop\",\"The Meatball Shop\",\"Parm\",\"The Meatball Shop\",\"The Meatball Shop\",\"Parm\",\"Parm\",\"Coppola's East\",\"Serafina Fabulous Pizza\",\"Osteria Morini\",\"Carmine's\",\"The Meatball Shop\",\"Emporio\",\"Parm\",\"Parm\",\"Osteria Morini\",\"Otto Enoteca Pizzeria\",\"Rubirosa\",\"The Meatball Shop\",\"Rubirosa\",\"Parm\",\"Parm\",\"Rubirosa\",\"Le Zie 2000 Trattoria\",\"The Meatball Shop\",\"The Meatball Shop\",\"The Meatball Shop\",\"Parm\",\"The Meatball Shop\",\"Rubirosa\",\"The Meatball Shop\",\"Zero Otto Nove\",\"Frank Restaurant\",\"Osteria Morini\",\"The Meatball Shop\",\"Rubirosa\",\"Parm\",\"Parm\",\"The Meatball Shop\",\"The Meatball Shop\",\"The Meatball Shop\",\"The Meatball Shop\"],\"xaxis\":\"x\",\"y\":[1,1,1,1,1,1,1,1,1,1,1,1,1,1,1,1,1,1,1,1,1,1,1,1,1,1,1,1,1,1,1,1,1,1,1,1,1,1,1,1,1,1,1,1,1,1,1,1,1,1,1,1,1,1,1,1,1,1,1,1,1,1,1,1,1,1,1,1,1,1,1,1,1,1,1,1,1,1,1,1,1,1,1,1,1,1,1,1,1,1,1,1,1,1,1,1,1,1,1,1,1,1,1,1,1,1,1,1,1,1,1,1,1,1,1,1,1,1,1,1,1,1,1,1,1,1,1,1,1,1,1,1,1,1,1,1,1,1,1,1,1,1,1,1,1,1,1,1,1,1,1,1,1,1,1,1,1,1,1,1,1,1,1,1,1,1,1,1,1,1,1,1,1,1,1,1,1,1,1,1,1,1,1,1,1,1,1,1,1,1,1,1,1,1,1,1,1,1,1,1,1,1,1,1,1,1,1,1,1,1,1,1,1,1,1,1,1,1,1,1,1,1,1,1,1,1,1,1,1,1,1,1,1,1,1,1,1,1,1,1,1,1,1,1,1,1,1,1,1,1,1,1,1,1,1,1,1,1,1,1,1,1,1,1,1,1,1,1,1,1,1,1,1,1,1,1,1,1,1,1,1,1,1,1,1,1,1,1,1,1,1,1,1,1,1,1,1,1],\"yaxis\":\"y\",\"type\":\"histogram\"},{\"alignmentgroup\":\"True\",\"bingroup\":\"x\",\"histfunc\":\"sum\",\"hovertemplate\":\"cuisine_type=Mediterranean\\u003cbr\\u003erestaurant_name=%{x}\\u003cbr\\u003esum of y=%{y}\\u003cextra\\u003e\\u003c\\u002fextra\\u003e\",\"legendgroup\":\"Mediterranean\",\"marker\":{\"color\":\"#FF6692\",\"pattern\":{\"shape\":\"\"}},\"name\":\"Mediterranean\",\"offsetgroup\":\"Mediterranean\",\"orientation\":\"v\",\"showlegend\":true,\"x\":[\"Barbounia\",\"Pylos\",\"Jack's Wife Freda\",\"Mamoun's Falafel\",\"Barbounia\",\"Barbounia\",\"Jack's Wife Freda\",\"Pylos\",\"Jack's Wife Freda\",\"Mamoun's Falafel\",\"Mamoun's Falafel\",\"Jack's Wife Freda\",\"Jack's Wife Freda\",\"Jack's Wife Freda\",\"Pylos\",\"Mamoun's Falafel\",\"Olea\",\"Jack's Wife Freda\",\"Jack's Wife Freda\",\"Barbounia\",\"Mamoun's Falafel\",\"Jack's Wife Freda\",\"Jack's Wife Freda\",\"Jack's Wife Freda\",\"Jack's Wife Freda\",\"Barbounia\",\"Jack's Wife Freda\",\"Jack's Wife Freda\",\"Pylos\",\"Jack's Wife Freda\",\"Barbounia\",\"Jack's Wife Freda\",\"Jack's Wife Freda\",\"Olea\",\"Jack's Wife Freda\",\"Pylos\",\"Jack's Wife Freda\",\"Jack's Wife Freda\",\"Mamoun's Falafel\",\"Jack's Wife Freda\",\"Jack's Wife Freda\",\"Jack's Wife Freda\",\"Jack's Wife Freda\",\"Olea\",\"Mamoun's Falafel\",\"Jack's Wife Freda\"],\"xaxis\":\"x\",\"y\":[1,1,1,1,1,1,1,1,1,1,1,1,1,1,1,1,1,1,1,1,1,1,1,1,1,1,1,1,1,1,1,1,1,1,1,1,1,1,1,1,1,1,1,1,1,1],\"yaxis\":\"y\",\"type\":\"histogram\"},{\"alignmentgroup\":\"True\",\"bingroup\":\"x\",\"histfunc\":\"sum\",\"hovertemplate\":\"cuisine_type=Chinese\\u003cbr\\u003erestaurant_name=%{x}\\u003cbr\\u003esum of y=%{y}\\u003cextra\\u003e\\u003c\\u002fextra\\u003e\",\"legendgroup\":\"Chinese\",\"marker\":{\"color\":\"#B6E880\",\"pattern\":{\"shape\":\"\"}},\"name\":\"Chinese\",\"offsetgroup\":\"Chinese\",\"orientation\":\"v\",\"showlegend\":true,\"x\":[\"Big Wong Restaurant \\u008c_\\u00a4\\u00be\\u00d1\\u00bc\",\"RedFarm Hudson\",\"RedFarm Broadway\",\"RedFarm Broadway\",\"RedFarm Hudson\",\"Prosperity Dumpling\",\"RedFarm Broadway\",\"RedFarm Hudson\",\"Han Dynasty\",\"RedFarm Hudson\",\"Xi'an Famous Foods\",\"Joe's Shanghai \\u008e_\\u00c0\\u008e\\u00fc\\u00a3\\u00be\\u00f7\\u00b4\",\"Caf\\u00cc\\u00a9 China\",\"RedFarm Broadway\",\"RedFarm Hudson\",\"RedFarm Hudson\",\"Caf\\u00cc\\u00a9 China\",\"RedFarm Hudson\",\"RedFarm Broadway\",\"RedFarm Broadway\",\"RedFarm Broadway\",\"RedFarm Broadway\",\"Han Dynasty\",\"Prosperity Dumpling\",\"RedFarm Broadway\",\"Han Dynasty\",\"Han Dynasty\",\"Han Dynasty\",\"Han Dynasty\",\"Han Dynasty\",\"Han Dynasty\",\"Vanessa's Dumplings\",\"Han Dynasty\",\"Vanessa's Dumplings\",\"RedFarm Broadway\",\"RedFarm Broadway\",\"RedFarm Hudson\",\"RedFarm Hudson\",\"RedFarm Broadway\",\"Vanessa's Dumpling House\",\"RedFarm Broadway\",\"RedFarm Hudson\",\"RedFarm Hudson\",\"RedFarm Broadway\",\"RedFarm Hudson\",\"Han Dynasty\",\"Vanessa's Dumpling House\",\"Vanessa's Dumplings\",\"RedFarm Hudson\",\"Caf\\u00cc\\u00a9 China\",\"RedFarm Broadway\",\"RedFarm Broadway\",\"Vanessa's Dumpling House\",\"RedFarm Broadway\",\"RedFarm Hudson\",\"Han Dynasty\",\"Han Dynasty\",\"RedFarm Hudson\",\"RedFarm Hudson\",\"RedFarm Broadway\",\"RedFarm Hudson\",\"Han Dynasty\",\"RedFarm Hudson\",\"Wo Hop Restaurant\",\"Xi'an Famous Foods\",\"Vanessa's Dumpling House\",\"RedFarm Broadway\",\"RedFarm Hudson\",\"Han Dynasty\",\"RedFarm Broadway\",\"RedFarm Broadway\",\"Caf\\u00cc\\u00a9 China\",\"Vanessa's Dumplings\",\"RedFarm Broadway\",\"Prosperity Dumpling\",\"RedFarm Hudson\",\"Hot Kitchen\",\"Han Dynasty\",\"Han Dynasty\",\"RedFarm Broadway\",\"RedFarm Hudson\",\"Vanessa's Dumplings\",\"Han Dynasty\",\"RedFarm Hudson\",\"Vanessa's Dumplings\",\"RedFarm Hudson\",\"Han Dynasty\",\"Xi'an Famous Foods\",\"RedFarm Broadway\",\"RedFarm Broadway\",\"RedFarm Hudson\",\"Han Dynasty\",\"RedFarm Broadway\",\"RedFarm Hudson\",\"RedFarm Broadway\",\"RedFarm Hudson\",\"Han Dynasty\",\"RedFarm Hudson\",\"Han Dynasty\",\"Vanessa's Dumpling House\",\"Han Dynasty\",\"RedFarm Broadway\",\"Joe's Shanghai \\u008e_\\u00c0\\u008e\\u00fc\\u00a3\\u00be\\u00f7\\u00b4\",\"RedFarm Hudson\",\"RedFarm Hudson\",\"RedFarm Broadway\",\"RedFarm Hudson\",\"Hot Kitchen\",\"Han Dynasty\",\"Xi'an Famous Foods\",\"RedFarm Broadway\",\"Han Dynasty\",\"RedFarm Hudson\",\"Philippe Chow\",\"RedFarm Broadway\",\"Han Dynasty\",\"Han Dynasty\",\"Han Dynasty\",\"Vanessa's Dumpling House\",\"Vanessa's Dumplings\",\"RedFarm Hudson\",\"RedFarm Hudson\",\"RedFarm Broadway\",\"RedFarm Broadway\",\"RedFarm Hudson\",\"Han Dynasty\",\"RedFarm Hudson\",\"RedFarm Hudson\",\"RedFarm Broadway\",\"Han Dynasty\",\"RedFarm Hudson\",\"Xi'an Famous Foods\",\"Han Dynasty\",\"RedFarm Broadway\",\"RedFarm Broadway\",\"RedFarm Hudson\",\"RedFarm Hudson\",\"Han Dynasty\",\"Han Dynasty\",\"RedFarm Hudson\",\"Vanessa's Dumpling House\",\"RedFarm Broadway\",\"Han Dynasty\",\"Han Dynasty\",\"RedFarm Broadway\",\"Han Dynasty\",\"RedFarm Broadway\",\"RedFarm Hudson\",\"RedFarm Broadway\",\"RedFarm Broadway\",\"Joe's Shanghai \\u008e_\\u00c0\\u008e\\u00fc\\u00a3\\u00be\\u00f7\\u00b4\",\"RedFarm Broadway\",\"Vanessa's Dumpling House\",\"RedFarm Hudson\",\"Grand Sichuan International\",\"Vanessa's Dumplings\",\"Han Dynasty\",\"RedFarm Hudson\",\"RedFarm Broadway\",\"RedFarm Broadway\",\"Han Dynasty\",\"Vanessa's Dumplings\",\"RedFarm Broadway\",\"RedFarm Broadway\",\"RedFarm Broadway\",\"RedFarm Hudson\",\"Han Dynasty\",\"RedFarm Hudson\",\"RedFarm Broadway\",\"RedFarm Hudson\",\"RedFarm Hudson\",\"RedFarm Broadway\",\"RedFarm Hudson\",\"RedFarm Hudson\",\"Grand Sichuan International\",\"Xi'an Famous Foods\",\"Joe's Shanghai \\u008e_\\u00c0\\u008e\\u00fc\\u00a3\\u00be\\u00f7\\u00b4\",\"Vanessa's Dumplings\",\"RedFarm Broadway\",\"Hunan Manor\",\"RedFarm Hudson\",\"Han Dynasty\",\"RedFarm Broadway\",\"RedFarm Hudson\",\"RedFarm Broadway\",\"Caf\\u00cc\\u00a9 China\",\"Wa Jeal\",\"RedFarm Broadway\",\"RedFarm Hudson\",\"RedFarm Broadway\",\"Vanessa's Dumplings\",\"Han Dynasty\",\"Xi'an Famous Foods\",\"RedFarm Broadway\",\"Han Dynasty\",\"RedFarm Broadway\",\"Han Dynasty\",\"Han Dynasty\",\"Vanessa's Dumplings\",\"Han Dynasty\",\"Xi'an Famous Foods\",\"RedFarm Hudson\",\"RedFarm Broadway\",\"Vanessa's Dumplings\",\"Grand Sichuan International\",\"Grand Sichuan International\",\"RedFarm Hudson\",\"Vanessa's Dumpling House\",\"Han Dynasty\",\"Caf\\u00cc\\u00a9 China\",\"RedFarm Hudson\",\"Xi'an Famous Foods\",\"RedFarm Broadway\",\"RedFarm Broadway\",\"Han Dynasty\"],\"xaxis\":\"x\",\"y\":[1,1,1,1,1,1,1,1,1,1,1,1,1,1,1,1,1,1,1,1,1,1,1,1,1,1,1,1,1,1,1,1,1,1,1,1,1,1,1,1,1,1,1,1,1,1,1,1,1,1,1,1,1,1,1,1,1,1,1,1,1,1,1,1,1,1,1,1,1,1,1,1,1,1,1,1,1,1,1,1,1,1,1,1,1,1,1,1,1,1,1,1,1,1,1,1,1,1,1,1,1,1,1,1,1,1,1,1,1,1,1,1,1,1,1,1,1,1,1,1,1,1,1,1,1,1,1,1,1,1,1,1,1,1,1,1,1,1,1,1,1,1,1,1,1,1,1,1,1,1,1,1,1,1,1,1,1,1,1,1,1,1,1,1,1,1,1,1,1,1,1,1,1,1,1,1,1,1,1,1,1,1,1,1,1,1,1,1,1,1,1,1,1,1,1,1,1,1,1,1,1,1,1,1,1,1,1,1,1,1,1,1,1,1,1],\"yaxis\":\"y\",\"type\":\"histogram\"},{\"alignmentgroup\":\"True\",\"bingroup\":\"x\",\"histfunc\":\"sum\",\"hovertemplate\":\"cuisine_type=Middle Eastern\\u003cbr\\u003erestaurant_name=%{x}\\u003cbr\\u003esum of y=%{y}\\u003cextra\\u003e\\u003c\\u002fextra\\u003e\",\"legendgroup\":\"Middle Eastern\",\"marker\":{\"color\":\"#FF97FF\",\"pattern\":{\"shape\":\"\"}},\"name\":\"Middle Eastern\",\"offsetgroup\":\"Middle Eastern\",\"orientation\":\"v\",\"showlegend\":true,\"x\":[\"Cafe Mogador\",\"Cafe Mogador\",\"Cafe Mogador\",\"ilili Restaurant\",\"Cafe Mogador\",\"ilili Restaurant\",\"ilili Restaurant\",\"Hummus Place\",\"ilili Restaurant\",\"Cafe Mogador\",\"Balade\",\"ilili Restaurant\",\"ilili Restaurant\",\"Ravagh Persian Grill\",\"Cafe Mogador\",\"ilili Restaurant\",\"ilili Restaurant\",\"ilili Restaurant\",\"Cafe Mogador\",\"12 Chairs\",\"12 Chairs\",\"Cafe Mogador\",\"ilili Restaurant\",\"Cafe Mogador\",\"ilili Restaurant\",\"Cafe Mogador\",\"Ravagh Persian Grill\",\"Cafe Mogador\",\"ilili Restaurant\",\"ilili Restaurant\",\"Cafe Mogador\",\"Cafe Mogador\",\"Byblos Restaurant\",\"Hummus Place\",\"Cafe Mogador\",\"Cafe Mogador\",\"Byblos Restaurant\",\"12 Chairs\",\"Cafe Mogador\",\"12 Chairs\",\"Cafe Mogador\",\"Ravagh Persian Grill\",\"ilili Restaurant\",\"ilili Restaurant\",\"ilili Restaurant\",\"Cafe Mogador\",\"ilili Restaurant\",\"Hummus Place\",\"ilili Restaurant\"],\"xaxis\":\"x\",\"y\":[1,1,1,1,1,1,1,1,1,1,1,1,1,1,1,1,1,1,1,1,1,1,1,1,1,1,1,1,1,1,1,1,1,1,1,1,1,1,1,1,1,1,1,1,1,1,1,1,1],\"yaxis\":\"y\",\"type\":\"histogram\"},{\"alignmentgroup\":\"True\",\"bingroup\":\"x\",\"histfunc\":\"sum\",\"hovertemplate\":\"cuisine_type=Thai\\u003cbr\\u003erestaurant_name=%{x}\\u003cbr\\u003esum of y=%{y}\\u003cextra\\u003e\\u003c\\u002fextra\\u003e\",\"legendgroup\":\"Thai\",\"marker\":{\"color\":\"#FECB52\",\"pattern\":{\"shape\":\"\"}},\"name\":\"Thai\",\"offsetgroup\":\"Thai\",\"orientation\":\"v\",\"showlegend\":true,\"x\":[\"Klong\",\"Pongsri Thai\",\"Song Thai Restaurant & Bar\",\"Pinto Nouveau Thai Bistro\",\"Lantern Thai Kitchen\",\"Room Service\",\"Spice Thai\",\"Room Service\",\"Lantern Thai Kitchen\",\"Pongsri Thai\",\"Rohm Thai\",\"Lantern Thai Kitchen\",\"Pinto Nouveau Thai Bistro\",\"Room Service\",\"Hampton Chutney Co.\",\"Lantern Thai Kitchen\",\"Song Thai Restaurant & Bar\",\"Pinto Nouveau Thai Bistro\",\"Pinto Nouveau Thai Bistro\"],\"xaxis\":\"x\",\"y\":[1,1,1,1,1,1,1,1,1,1,1,1,1,1,1,1,1,1,1],\"yaxis\":\"y\",\"type\":\"histogram\"},{\"alignmentgroup\":\"True\",\"bingroup\":\"x\",\"histfunc\":\"sum\",\"hovertemplate\":\"cuisine_type=Southern\\u003cbr\\u003erestaurant_name=%{x}\\u003cbr\\u003esum of y=%{y}\\u003cextra\\u003e\\u003c\\u002fextra\\u003e\",\"legendgroup\":\"Southern\",\"marker\":{\"color\":\"#636efa\",\"pattern\":{\"shape\":\"\"}},\"name\":\"Southern\",\"offsetgroup\":\"Southern\",\"orientation\":\"v\",\"showlegend\":true,\"x\":[\"Hill Country Fried Chicken\",\"Hill Country Fried Chicken\",\"Amy Ruth's\",\"Hill Country Fried Chicken\",\"Hill Country Fried Chicken\",\"Hill Country Fried Chicken\",\"Hill Country Fried Chicken\",\"Hill Country Fried Chicken\",\"Amy Ruth's\",\"Hill Country Fried Chicken\",\"Hill Country Fried Chicken\",\"Hill Country Fried Chicken\",\"Hill Country Fried Chicken\",\"Hill Country Fried Chicken\",\"Hill Country Fried Chicken\",\"Hill Country Fried Chicken\",\"Amy Ruth's\"],\"xaxis\":\"x\",\"y\":[1,1,1,1,1,1,1,1,1,1,1,1,1,1,1,1,1],\"yaxis\":\"y\",\"type\":\"histogram\"},{\"alignmentgroup\":\"True\",\"bingroup\":\"x\",\"histfunc\":\"sum\",\"hovertemplate\":\"cuisine_type=French\\u003cbr\\u003erestaurant_name=%{x}\\u003cbr\\u003esum of y=%{y}\\u003cextra\\u003e\\u003c\\u002fextra\\u003e\",\"legendgroup\":\"French\",\"marker\":{\"color\":\"#EF553B\",\"pattern\":{\"shape\":\"\"}},\"name\":\"French\",\"offsetgroup\":\"French\",\"orientation\":\"v\",\"showlegend\":true,\"x\":[\"Balthazar Boulangerie\",\"L'Express\",\"Balthazar Boulangerie\",\"Balthazar Boulangerie\",\"Balthazar Boulangerie\",\"L'Express\",\"Balthazar Boulangerie\",\"Balthazar Boulangerie\",\"L'Express\",\"Le Grainne Cafe\",\"L'Express\",\"L'Express\",\"Balthazar Boulangerie\",\"Balthazar Boulangerie\",\"Le Grainne Cafe\",\"Balthazar Boulangerie\",\"L'Express\",\"Balthazar Boulangerie\"],\"xaxis\":\"x\",\"y\":[1,1,1,1,1,1,1,1,1,1,1,1,1,1,1,1,1,1],\"yaxis\":\"y\",\"type\":\"histogram\"},{\"alignmentgroup\":\"True\",\"bingroup\":\"x\",\"histfunc\":\"sum\",\"hovertemplate\":\"cuisine_type=Spanish\\u003cbr\\u003erestaurant_name=%{x}\\u003cbr\\u003esum of y=%{y}\\u003cextra\\u003e\\u003c\\u002fextra\\u003e\",\"legendgroup\":\"Spanish\",\"marker\":{\"color\":\"#00cc96\",\"pattern\":{\"shape\":\"\"}},\"name\":\"Spanish\",\"offsetgroup\":\"Spanish\",\"orientation\":\"v\",\"showlegend\":true,\"x\":[\"Boqueria\",\"Boqueria\",\"Socarrat Paella Bar\",\"Boqueria\",\"Boqueria\",\"Despa\\u00cc\\u00b1a\",\"Boqueria\",\"Boqueria\",\"Boqueria\",\"Boqueria\",\"Boqueria\",\"Despa\\u00cc\\u00b1a\"],\"xaxis\":\"x\",\"y\":[1,1,1,1,1,1,1,1,1,1,1,1],\"yaxis\":\"y\",\"type\":\"histogram\"},{\"alignmentgroup\":\"True\",\"bingroup\":\"x\",\"histfunc\":\"sum\",\"hovertemplate\":\"cuisine_type=Vietnamese\\u003cbr\\u003erestaurant_name=%{x}\\u003cbr\\u003esum of y=%{y}\\u003cextra\\u003e\\u003c\\u002fextra\\u003e\",\"legendgroup\":\"Vietnamese\",\"marker\":{\"color\":\"#ab63fa\",\"pattern\":{\"shape\":\"\"}},\"name\":\"Vietnamese\",\"offsetgroup\":\"Vietnamese\",\"orientation\":\"v\",\"showlegend\":true,\"x\":[\"Xe May Sandwich Shop\",\"Xe May Sandwich Shop\",\"V-Nam Cafe\",\"V-Nam Cafe\",\"Nha Trang One\",\"V-Nam Cafe\",\"V-Nam Cafe\"],\"xaxis\":\"x\",\"y\":[1,1,1,1,1,1,1],\"yaxis\":\"y\",\"type\":\"histogram\"}],                        {\"template\":{\"data\":{\"histogram2dcontour\":[{\"type\":\"histogram2dcontour\",\"colorbar\":{\"outlinewidth\":0,\"ticks\":\"\"},\"colorscale\":[[0.0,\"#0d0887\"],[0.1111111111111111,\"#46039f\"],[0.2222222222222222,\"#7201a8\"],[0.3333333333333333,\"#9c179e\"],[0.4444444444444444,\"#bd3786\"],[0.5555555555555556,\"#d8576b\"],[0.6666666666666666,\"#ed7953\"],[0.7777777777777778,\"#fb9f3a\"],[0.8888888888888888,\"#fdca26\"],[1.0,\"#f0f921\"]]}],\"choropleth\":[{\"type\":\"choropleth\",\"colorbar\":{\"outlinewidth\":0,\"ticks\":\"\"}}],\"histogram2d\":[{\"type\":\"histogram2d\",\"colorbar\":{\"outlinewidth\":0,\"ticks\":\"\"},\"colorscale\":[[0.0,\"#0d0887\"],[0.1111111111111111,\"#46039f\"],[0.2222222222222222,\"#7201a8\"],[0.3333333333333333,\"#9c179e\"],[0.4444444444444444,\"#bd3786\"],[0.5555555555555556,\"#d8576b\"],[0.6666666666666666,\"#ed7953\"],[0.7777777777777778,\"#fb9f3a\"],[0.8888888888888888,\"#fdca26\"],[1.0,\"#f0f921\"]]}],\"heatmap\":[{\"type\":\"heatmap\",\"colorbar\":{\"outlinewidth\":0,\"ticks\":\"\"},\"colorscale\":[[0.0,\"#0d0887\"],[0.1111111111111111,\"#46039f\"],[0.2222222222222222,\"#7201a8\"],[0.3333333333333333,\"#9c179e\"],[0.4444444444444444,\"#bd3786\"],[0.5555555555555556,\"#d8576b\"],[0.6666666666666666,\"#ed7953\"],[0.7777777777777778,\"#fb9f3a\"],[0.8888888888888888,\"#fdca26\"],[1.0,\"#f0f921\"]]}],\"heatmapgl\":[{\"type\":\"heatmapgl\",\"colorbar\":{\"outlinewidth\":0,\"ticks\":\"\"},\"colorscale\":[[0.0,\"#0d0887\"],[0.1111111111111111,\"#46039f\"],[0.2222222222222222,\"#7201a8\"],[0.3333333333333333,\"#9c179e\"],[0.4444444444444444,\"#bd3786\"],[0.5555555555555556,\"#d8576b\"],[0.6666666666666666,\"#ed7953\"],[0.7777777777777778,\"#fb9f3a\"],[0.8888888888888888,\"#fdca26\"],[1.0,\"#f0f921\"]]}],\"contourcarpet\":[{\"type\":\"contourcarpet\",\"colorbar\":{\"outlinewidth\":0,\"ticks\":\"\"}}],\"contour\":[{\"type\":\"contour\",\"colorbar\":{\"outlinewidth\":0,\"ticks\":\"\"},\"colorscale\":[[0.0,\"#0d0887\"],[0.1111111111111111,\"#46039f\"],[0.2222222222222222,\"#7201a8\"],[0.3333333333333333,\"#9c179e\"],[0.4444444444444444,\"#bd3786\"],[0.5555555555555556,\"#d8576b\"],[0.6666666666666666,\"#ed7953\"],[0.7777777777777778,\"#fb9f3a\"],[0.8888888888888888,\"#fdca26\"],[1.0,\"#f0f921\"]]}],\"surface\":[{\"type\":\"surface\",\"colorbar\":{\"outlinewidth\":0,\"ticks\":\"\"},\"colorscale\":[[0.0,\"#0d0887\"],[0.1111111111111111,\"#46039f\"],[0.2222222222222222,\"#7201a8\"],[0.3333333333333333,\"#9c179e\"],[0.4444444444444444,\"#bd3786\"],[0.5555555555555556,\"#d8576b\"],[0.6666666666666666,\"#ed7953\"],[0.7777777777777778,\"#fb9f3a\"],[0.8888888888888888,\"#fdca26\"],[1.0,\"#f0f921\"]]}],\"mesh3d\":[{\"type\":\"mesh3d\",\"colorbar\":{\"outlinewidth\":0,\"ticks\":\"\"}}],\"scatter\":[{\"fillpattern\":{\"fillmode\":\"overlay\",\"size\":10,\"solidity\":0.2},\"type\":\"scatter\"}],\"parcoords\":[{\"type\":\"parcoords\",\"line\":{\"colorbar\":{\"outlinewidth\":0,\"ticks\":\"\"}}}],\"scatterpolargl\":[{\"type\":\"scatterpolargl\",\"marker\":{\"colorbar\":{\"outlinewidth\":0,\"ticks\":\"\"}}}],\"bar\":[{\"error_x\":{\"color\":\"#2a3f5f\"},\"error_y\":{\"color\":\"#2a3f5f\"},\"marker\":{\"line\":{\"color\":\"#E5ECF6\",\"width\":0.5},\"pattern\":{\"fillmode\":\"overlay\",\"size\":10,\"solidity\":0.2}},\"type\":\"bar\"}],\"scattergeo\":[{\"type\":\"scattergeo\",\"marker\":{\"colorbar\":{\"outlinewidth\":0,\"ticks\":\"\"}}}],\"scatterpolar\":[{\"type\":\"scatterpolar\",\"marker\":{\"colorbar\":{\"outlinewidth\":0,\"ticks\":\"\"}}}],\"histogram\":[{\"marker\":{\"pattern\":{\"fillmode\":\"overlay\",\"size\":10,\"solidity\":0.2}},\"type\":\"histogram\"}],\"scattergl\":[{\"type\":\"scattergl\",\"marker\":{\"colorbar\":{\"outlinewidth\":0,\"ticks\":\"\"}}}],\"scatter3d\":[{\"type\":\"scatter3d\",\"line\":{\"colorbar\":{\"outlinewidth\":0,\"ticks\":\"\"}},\"marker\":{\"colorbar\":{\"outlinewidth\":0,\"ticks\":\"\"}}}],\"scattermapbox\":[{\"type\":\"scattermapbox\",\"marker\":{\"colorbar\":{\"outlinewidth\":0,\"ticks\":\"\"}}}],\"scatterternary\":[{\"type\":\"scatterternary\",\"marker\":{\"colorbar\":{\"outlinewidth\":0,\"ticks\":\"\"}}}],\"scattercarpet\":[{\"type\":\"scattercarpet\",\"marker\":{\"colorbar\":{\"outlinewidth\":0,\"ticks\":\"\"}}}],\"carpet\":[{\"aaxis\":{\"endlinecolor\":\"#2a3f5f\",\"gridcolor\":\"white\",\"linecolor\":\"white\",\"minorgridcolor\":\"white\",\"startlinecolor\":\"#2a3f5f\"},\"baxis\":{\"endlinecolor\":\"#2a3f5f\",\"gridcolor\":\"white\",\"linecolor\":\"white\",\"minorgridcolor\":\"white\",\"startlinecolor\":\"#2a3f5f\"},\"type\":\"carpet\"}],\"table\":[{\"cells\":{\"fill\":{\"color\":\"#EBF0F8\"},\"line\":{\"color\":\"white\"}},\"header\":{\"fill\":{\"color\":\"#C8D4E3\"},\"line\":{\"color\":\"white\"}},\"type\":\"table\"}],\"barpolar\":[{\"marker\":{\"line\":{\"color\":\"#E5ECF6\",\"width\":0.5},\"pattern\":{\"fillmode\":\"overlay\",\"size\":10,\"solidity\":0.2}},\"type\":\"barpolar\"}],\"pie\":[{\"automargin\":true,\"type\":\"pie\"}]},\"layout\":{\"autotypenumbers\":\"strict\",\"colorway\":[\"#636efa\",\"#EF553B\",\"#00cc96\",\"#ab63fa\",\"#FFA15A\",\"#19d3f3\",\"#FF6692\",\"#B6E880\",\"#FF97FF\",\"#FECB52\"],\"font\":{\"color\":\"#2a3f5f\"},\"hovermode\":\"closest\",\"hoverlabel\":{\"align\":\"left\"},\"paper_bgcolor\":\"white\",\"plot_bgcolor\":\"#E5ECF6\",\"polar\":{\"bgcolor\":\"#E5ECF6\",\"angularaxis\":{\"gridcolor\":\"white\",\"linecolor\":\"white\",\"ticks\":\"\"},\"radialaxis\":{\"gridcolor\":\"white\",\"linecolor\":\"white\",\"ticks\":\"\"}},\"ternary\":{\"bgcolor\":\"#E5ECF6\",\"aaxis\":{\"gridcolor\":\"white\",\"linecolor\":\"white\",\"ticks\":\"\"},\"baxis\":{\"gridcolor\":\"white\",\"linecolor\":\"white\",\"ticks\":\"\"},\"caxis\":{\"gridcolor\":\"white\",\"linecolor\":\"white\",\"ticks\":\"\"}},\"coloraxis\":{\"colorbar\":{\"outlinewidth\":0,\"ticks\":\"\"}},\"colorscale\":{\"sequential\":[[0.0,\"#0d0887\"],[0.1111111111111111,\"#46039f\"],[0.2222222222222222,\"#7201a8\"],[0.3333333333333333,\"#9c179e\"],[0.4444444444444444,\"#bd3786\"],[0.5555555555555556,\"#d8576b\"],[0.6666666666666666,\"#ed7953\"],[0.7777777777777778,\"#fb9f3a\"],[0.8888888888888888,\"#fdca26\"],[1.0,\"#f0f921\"]],\"sequentialminus\":[[0.0,\"#0d0887\"],[0.1111111111111111,\"#46039f\"],[0.2222222222222222,\"#7201a8\"],[0.3333333333333333,\"#9c179e\"],[0.4444444444444444,\"#bd3786\"],[0.5555555555555556,\"#d8576b\"],[0.6666666666666666,\"#ed7953\"],[0.7777777777777778,\"#fb9f3a\"],[0.8888888888888888,\"#fdca26\"],[1.0,\"#f0f921\"]],\"diverging\":[[0,\"#8e0152\"],[0.1,\"#c51b7d\"],[0.2,\"#de77ae\"],[0.3,\"#f1b6da\"],[0.4,\"#fde0ef\"],[0.5,\"#f7f7f7\"],[0.6,\"#e6f5d0\"],[0.7,\"#b8e186\"],[0.8,\"#7fbc41\"],[0.9,\"#4d9221\"],[1,\"#276419\"]]},\"xaxis\":{\"gridcolor\":\"white\",\"linecolor\":\"white\",\"ticks\":\"\",\"title\":{\"standoff\":15},\"zerolinecolor\":\"white\",\"automargin\":true,\"zerolinewidth\":2},\"yaxis\":{\"gridcolor\":\"white\",\"linecolor\":\"white\",\"ticks\":\"\",\"title\":{\"standoff\":15},\"zerolinecolor\":\"white\",\"automargin\":true,\"zerolinewidth\":2},\"scene\":{\"xaxis\":{\"backgroundcolor\":\"#E5ECF6\",\"gridcolor\":\"white\",\"linecolor\":\"white\",\"showbackground\":true,\"ticks\":\"\",\"zerolinecolor\":\"white\",\"gridwidth\":2},\"yaxis\":{\"backgroundcolor\":\"#E5ECF6\",\"gridcolor\":\"white\",\"linecolor\":\"white\",\"showbackground\":true,\"ticks\":\"\",\"zerolinecolor\":\"white\",\"gridwidth\":2},\"zaxis\":{\"backgroundcolor\":\"#E5ECF6\",\"gridcolor\":\"white\",\"linecolor\":\"white\",\"showbackground\":true,\"ticks\":\"\",\"zerolinecolor\":\"white\",\"gridwidth\":2}},\"shapedefaults\":{\"line\":{\"color\":\"#2a3f5f\"}},\"annotationdefaults\":{\"arrowcolor\":\"#2a3f5f\",\"arrowhead\":0,\"arrowwidth\":1},\"geo\":{\"bgcolor\":\"white\",\"landcolor\":\"#E5ECF6\",\"subunitcolor\":\"white\",\"showland\":true,\"showlakes\":true,\"lakecolor\":\"white\"},\"title\":{\"x\":0.05},\"mapbox\":{\"style\":\"light\"}}},\"xaxis\":{\"anchor\":\"y\",\"domain\":[0.0,1.0],\"title\":{\"text\":\"restaurant_name\"}},\"yaxis\":{\"anchor\":\"x\",\"domain\":[0.0,1.0],\"title\":{\"text\":\"Number of orders\"}},\"legend\":{\"title\":{\"text\":\"cuisine_type\"},\"tracegroupgap\":0},\"margin\":{\"t\":60},\"barmode\":\"relative\"},                        {\"responsive\": true}                    ).then(function(){\n",
              "                            \n",
              "var gd = document.getElementById('20f9cf03-261f-4aa7-93d6-1acccc62c9ed');\n",
              "var x = new MutationObserver(function (mutations, observer) {{\n",
              "        var display = window.getComputedStyle(gd).display;\n",
              "        if (!display || display === 'none') {{\n",
              "            console.log([gd, 'removed!']);\n",
              "            Plotly.purge(gd);\n",
              "            observer.disconnect();\n",
              "        }}\n",
              "}});\n",
              "\n",
              "// Listen for the removal of the full notebook cells\n",
              "var notebookContainer = gd.closest('#notebook-container');\n",
              "if (notebookContainer) {{\n",
              "    x.observe(notebookContainer, {childList: true});\n",
              "}}\n",
              "\n",
              "// Listen for the clearing of the current output cell\n",
              "var outputEl = gd.closest('.output');\n",
              "if (outputEl) {{\n",
              "    x.observe(outputEl, {childList: true});\n",
              "}}\n",
              "\n",
              "                        })                };                            </script>        </div>\n",
              "</body>\n",
              "</html>"
            ]
          },
          "metadata": {}
        }
      ]
    },
    {
      "cell_type": "markdown",
      "source": [
        "**Observations:** About the top five restaurants:\n",
        "The top five restaurants are Shake Shack with 219 orders, The Meatball Shop with 132 orders, Blue Ribbon Sushi with 119 orders, Blue Ribbon Fried Chicken with 96 orders, and Parm with 68 orders. There are actually only seven restaurants with more than fifty orders a piece, and only 21 restaurants with more than 20 orders a piece. Of the 178 restaurants, the top 5 restaurants account for one third of the orders placed."
      ],
      "metadata": {
        "id": "K4A_RS7t4XVI"
      }
    },
    {
      "cell_type": "markdown",
      "metadata": {
        "id": "gWPMqGq0JY_U"
      },
      "source": [
        "### **Question 8**: Which is the most popular cuisine on weekends? [1 mark]"
      ]
    },
    {
      "cell_type": "code",
      "execution_count": null,
      "metadata": {
        "id": "c-Xnus3VJY_U",
        "colab": {
          "base_uri": "https://localhost:8080/",
          "height": 450
        },
        "outputId": "de112d08-024a-4632-cdcd-dbebd904c9d3"
      },
      "outputs": [
        {
          "output_type": "display_data",
          "data": {
            "text/plain": [
              "<Figure size 640x480 with 1 Axes>"
            ],
            "image/png": "[encoded data removed]"
          },
          "metadata": {}
        }
      ],
      "source": [
        "#number of orders and types of cuisines in general\n",
        "sns.histplot(data=df, x='day_of_the_week',hue='cuisine_type');"
      ]
    },
    {
      "cell_type": "code",
      "source": [
        "#number of orders and cuisine_type by day of the week\n",
        "plt.figure(figsize=(10,5))\n",
        "plt.xticks(rotation=90)\n",
        "sns.countplot(data=df, x='cuisine_type', hue='day_of_the_week');"
      ],
      "metadata": {
        "colab": {
          "base_uri": "https://localhost:8080/",
          "height": 554
        },
        "id": "F3GfeRfU3m4S",
        "outputId": "e45d3a8e-7463-4518-bfbe-30036439aa8f"
      },
      "execution_count": null,
      "outputs": [
        {
          "output_type": "display_data",
          "data": {
            "text/plain": [
              "<Figure size 1000x500 with 1 Axes>"
            ],
            "image/png": "[encoded data removed]"
          },
          "metadata": {}
        }
      ]
    },
    {
      "cell_type": "code",
      "source": [
        "#number of orders and cuisine_type by day of the week\n",
        "his=px.histogram(df, x='cuisine_type', y= (df.groupby(['restaurant_name']).value_counts()), color='day_of_the_week')\n",
        "his.update_yaxes(title_text=\"Number of orders\")\n",
        "his.show()"
      ],
      "metadata": {
        "colab": {
          "base_uri": "https://localhost:8080/",
          "height": 542
        },
        "id": "WMxgXCioUM6q",
        "outputId": "333f4e65-1ae7-4cd8-bbf6-7d5f9978f7ae"
      },
      "execution_count": null,
      "outputs": [
        {
          "output_type": "display_data",
          "data": {
            "text/html": [
              "<html>\n",
              "<head><meta charset=\"utf-8\" /></head>\n",
              "<body>\n",
              "    <div>            <script src=\"https://cdnjs.cloudflare.com/ajax/libs/mathjax/2.7.5/MathJax.js?config=TeX-AMS-MML_SVG\"></script><script type=\"text/javascript\">if (window.MathJax && window.MathJax.Hub && window.MathJax.Hub.Config) {window.MathJax.Hub.Config({SVG: {font: \"STIX-Web\"}});}</script>                <script type=\"text/javascript\">window.PlotlyConfig = {MathJaxConfig: 'local'};</script>\n",
              "        <script charset=\"utf-8\" src=\"https://cdn.plot.ly/plotly-2.24.1.min.js\"></script>                <div id=\"0b2e0c0f-82ea-4add-b21e-33ad2ef60a32\" class=\"plotly-graph-div\" style=\"height:525px; width:100%;\"></div>            <script type=\"text/javascript\">                                    window.PLOTLYENV=window.PLOTLYENV || {};                                    if (document.getElementById(\"0b2e0c0f-82ea-4add-b21e-33ad2ef60a32\")) {                    Plotly.newPlot(                        \"0b2e0c0f-82ea-4add-b21e-33ad2ef60a32\",                        [{\"alignmentgroup\":\"True\",\"bingroup\":\"x\",\"histfunc\":\"sum\",\"hovertemplate\":\"day_of_the_week=Weekend\\u003cbr\\u003ecuisine_type=%{x}\\u003cbr\\u003esum of y=%{y}\\u003cextra\\u003e\\u003c\\u002fextra\\u003e\",\"legendgroup\":\"Weekend\",\"marker\":{\"color\":\"#636efa\",\"pattern\":{\"shape\":\"\"}},\"name\":\"Weekend\",\"offsetgroup\":\"Weekend\",\"orientation\":\"v\",\"showlegend\":true,\"x\":[\"Korean\",\"Japanese\",\"American\",\"Italian\",\"Mexican\",\"American\",\"Mediterranean\",\"American\",\"Japanese\",\"Japanese\",\"Chinese\",\"Japanese\",\"American\",\"American\",\"Mexican\",\"Italian\",\"Italian\",\"Indian\",\"Thai\",\"Japanese\",\"Italian\",\"Japanese\",\"American\",\"Mexican\",\"Japanese\",\"Chinese\",\"American\",\"American\",\"Italian\",\"American\",\"American\",\"Southern\",\"Italian\",\"American\",\"Japanese\",\"Chinese\",\"Mediterranean\",\"Mediterranean\",\"Chinese\",\"American\",\"Japanese\",\"Mexican\",\"Chinese\",\"Japanese\",\"Italian\",\"American\",\"American\",\"American\",\"Italian\",\"Japanese\",\"Italian\",\"Japanese\",\"Indian\",\"Chinese\",\"Chinese\",\"American\",\"Mexican\",\"Italian\",\"Mexican\",\"Southern\",\"Indian\",\"Chinese\",\"Mexican\",\"American\",\"American\",\"Italian\",\"Japanese\",\"American\",\"Italian\",\"Japanese\",\"Japanese\",\"Chinese\",\"Italian\",\"Japanese\",\"American\",\"Japanese\",\"Japanese\",\"Italian\",\"American\",\"American\",\"American\",\"French\",\"Italian\",\"Italian\",\"Chinese\",\"American\",\"Chinese\",\"Chinese\",\"Italian\",\"Chinese\",\"Japanese\",\"Italian\",\"Spanish\",\"American\",\"Japanese\",\"Thai\",\"Japanese\",\"American\",\"Italian\",\"Chinese\",\"American\",\"Japanese\",\"American\",\"American\",\"American\",\"Japanese\",\"Chinese\",\"Japanese\",\"Indian\",\"Indian\",\"Italian\",\"Indian\",\"Japanese\",\"Thai\",\"Mediterranean\",\"Middle Eastern\",\"American\",\"Chinese\",\"Mediterranean\",\"Chinese\",\"American\",\"Southern\",\"Indian\",\"Italian\",\"Chinese\",\"Italian\",\"Mexican\",\"American\",\"American\",\"Japanese\",\"Japanese\",\"Japanese\",\"American\",\"Italian\",\"Japanese\",\"Chinese\",\"Southern\",\"Chinese\",\"American\",\"American\",\"Mediterranean\",\"American\",\"Chinese\",\"French\",\"Italian\",\"Mexican\",\"American\",\"Chinese\",\"Japanese\",\"Chinese\",\"American\",\"Japanese\",\"Japanese\",\"American\",\"American\",\"Italian\",\"Italian\",\"American\",\"Chinese\",\"Indian\",\"Japanese\",\"Indian\",\"American\",\"Japanese\",\"American\",\"Southern\",\"Italian\",\"Chinese\",\"American\",\"Italian\",\"Italian\",\"Japanese\",\"Japanese\",\"French\",\"Japanese\",\"Chinese\",\"Japanese\",\"American\",\"American\",\"American\",\"American\",\"Italian\",\"Italian\",\"Indian\",\"American\",\"American\",\"American\",\"Italian\",\"Chinese\",\"American\",\"Italian\",\"American\",\"Chinese\",\"Japanese\",\"Japanese\",\"American\",\"Japanese\",\"American\",\"Chinese\",\"Mexican\",\"Italian\",\"American\",\"Chinese\",\"Chinese\",\"American\",\"Chinese\",\"Korean\",\"American\",\"Italian\",\"Chinese\",\"American\",\"Italian\",\"Italian\",\"Italian\",\"Japanese\",\"American\",\"Indian\",\"American\",\"American\",\"American\",\"American\",\"Mexican\",\"American\",\"Italian\",\"American\",\"American\",\"Mexican\",\"American\",\"American\",\"Italian\",\"Japanese\",\"Chinese\",\"Japanese\",\"Southern\",\"American\",\"American\",\"Chinese\",\"Italian\",\"Middle Eastern\",\"Japanese\",\"Japanese\",\"Chinese\",\"American\",\"American\",\"American\",\"Italian\",\"Italian\",\"Italian\",\"Japanese\",\"American\",\"Japanese\",\"Japanese\",\"Japanese\",\"Chinese\",\"Middle Eastern\",\"Mediterranean\",\"Japanese\",\"American\",\"American\",\"American\",\"Japanese\",\"American\",\"American\",\"Vietnamese\",\"Japanese\",\"Indian\",\"Chinese\",\"Southern\",\"American\",\"Japanese\",\"American\",\"American\",\"Japanese\",\"Mexican\",\"American\",\"American\",\"Japanese\",\"Mexican\",\"Chinese\",\"American\",\"Japanese\",\"American\",\"American\",\"American\",\"Spanish\",\"Italian\",\"American\",\"American\",\"Mediterranean\",\"American\",\"American\",\"American\",\"Italian\",\"American\",\"Italian\",\"Japanese\",\"Chinese\",\"Chinese\",\"American\",\"Japanese\",\"Chinese\",\"American\",\"Mediterranean\",\"Middle Eastern\",\"Italian\",\"Japanese\",\"Italian\",\"American\",\"Italian\",\"Italian\",\"Middle Eastern\",\"American\",\"Japanese\",\"Japanese\",\"Middle Eastern\",\"American\",\"Japanese\",\"American\",\"American\",\"Japanese\",\"American\",\"Italian\",\"Chinese\",\"Indian\",\"Japanese\",\"Japanese\",\"Japanese\",\"Korean\",\"Mexican\",\"Chinese\",\"Japanese\",\"Japanese\",\"Italian\",\"American\",\"Chinese\",\"Japanese\",\"Japanese\",\"Italian\",\"American\",\"Mexican\",\"Japanese\",\"Chinese\",\"Japanese\",\"American\",\"Chinese\",\"Italian\",\"Chinese\",\"Italian\",\"Japanese\",\"Italian\",\"Indian\",\"Japanese\",\"Japanese\",\"Japanese\",\"Japanese\",\"American\",\"Chinese\",\"American\",\"American\",\"American\",\"American\",\"American\",\"Thai\",\"Italian\",\"Japanese\",\"Thai\",\"American\",\"Japanese\",\"Chinese\",\"American\",\"Japanese\",\"Italian\",\"Mediterranean\",\"Japanese\",\"Japanese\",\"Italian\",\"Italian\",\"American\",\"Japanese\",\"American\",\"Italian\",\"Chinese\",\"Japanese\",\"Italian\",\"American\",\"Italian\",\"American\",\"Italian\",\"American\",\"American\",\"Japanese\",\"Chinese\",\"American\",\"Mexican\",\"Japanese\",\"Italian\",\"French\",\"Japanese\",\"American\",\"American\",\"Middle Eastern\",\"Chinese\",\"American\",\"Indian\",\"Japanese\",\"Japanese\",\"Italian\",\"Chinese\",\"Japanese\",\"Chinese\",\"Italian\",\"Japanese\",\"Thai\",\"Japanese\",\"Mediterranean\",\"Italian\",\"American\",\"Japanese\",\"American\",\"American\",\"Chinese\",\"Middle Eastern\",\"Japanese\",\"Italian\",\"Indian\",\"Japanese\",\"Chinese\",\"Mediterranean\",\"Chinese\",\"American\",\"Japanese\",\"Italian\",\"Japanese\",\"Indian\",\"Chinese\",\"Chinese\",\"American\",\"American\",\"Chinese\",\"American\",\"Indian\",\"Chinese\",\"Chinese\",\"Italian\",\"Italian\",\"American\",\"Middle Eastern\",\"Thai\",\"Chinese\",\"Japanese\",\"American\",\"Japanese\",\"Chinese\",\"American\",\"Japanese\",\"Chinese\",\"Mexican\",\"American\",\"Mediterranean\",\"Japanese\",\"Japanese\",\"Japanese\",\"Japanese\",\"Italian\",\"American\",\"Chinese\",\"Italian\",\"American\",\"Middle Eastern\",\"American\",\"Korean\",\"Chinese\",\"American\",\"Chinese\",\"Japanese\",\"Mexican\",\"Mediterranean\",\"Japanese\",\"Japanese\",\"Mexican\",\"Spanish\",\"Italian\",\"Korean\",\"Indian\",\"American\",\"American\",\"Italian\",\"Chinese\",\"American\",\"Chinese\",\"Italian\",\"American\",\"American\",\"Japanese\",\"Japanese\",\"Japanese\",\"American\",\"Italian\",\"Japanese\",\"Mexican\",\"Chinese\",\"Japanese\",\"Japanese\",\"Japanese\",\"Japanese\",\"American\",\"Mediterranean\",\"American\",\"American\",\"Japanese\",\"American\",\"Mexican\",\"American\",\"American\",\"Italian\",\"Chinese\",\"American\",\"Japanese\",\"American\",\"Japanese\",\"Mexican\",\"Chinese\",\"Italian\",\"Italian\",\"American\",\"Japanese\",\"Italian\",\"Chinese\",\"American\",\"American\",\"Chinese\",\"Japanese\",\"American\",\"Italian\",\"Italian\",\"American\",\"Indian\",\"Vietnamese\",\"Korean\",\"Japanese\",\"Italian\",\"Japanese\",\"Japanese\",\"Japanese\",\"Chinese\",\"Japanese\",\"Middle Eastern\",\"American\",\"Italian\",\"Japanese\",\"Japanese\",\"Japanese\",\"American\",\"Middle Eastern\",\"Mexican\",\"American\",\"American\",\"Japanese\",\"American\",\"American\",\"American\",\"Southern\",\"Italian\",\"Italian\",\"Japanese\",\"Indian\",\"American\",\"Japanese\",\"Japanese\",\"Italian\",\"Japanese\",\"Japanese\",\"Japanese\",\"Japanese\",\"Italian\",\"Japanese\",\"American\",\"Chinese\",\"Italian\",\"Japanese\",\"American\",\"Chinese\",\"American\",\"American\",\"American\",\"American\",\"American\",\"Japanese\",\"Italian\",\"Japanese\",\"American\",\"American\",\"Chinese\",\"Japanese\",\"Mexican\",\"American\",\"Japanese\",\"Japanese\",\"Japanese\",\"Japanese\",\"Japanese\",\"Chinese\",\"American\",\"Mediterranean\",\"American\",\"American\",\"Japanese\",\"American\",\"American\",\"American\",\"Korean\",\"Italian\",\"American\",\"Japanese\",\"Mediterranean\",\"Japanese\",\"American\",\"American\",\"American\",\"Japanese\",\"American\",\"Chinese\",\"Japanese\",\"American\",\"Japanese\",\"Japanese\",\"American\",\"Italian\",\"Japanese\",\"Japanese\",\"American\",\"Italian\",\"Italian\",\"Indian\",\"Japanese\",\"Japanese\",\"Chinese\",\"Italian\",\"Middle Eastern\",\"American\",\"Japanese\",\"Japanese\",\"American\",\"Chinese\",\"Chinese\",\"Italian\",\"Thai\",\"American\",\"American\",\"Japanese\",\"Italian\",\"American\",\"Indian\",\"Chinese\",\"Japanese\",\"Italian\",\"American\",\"Japanese\",\"Japanese\",\"Italian\",\"American\",\"Chinese\",\"Indian\",\"Japanese\",\"Japanese\",\"Mexican\",\"Middle Eastern\",\"Japanese\",\"American\",\"Japanese\",\"Indian\",\"Chinese\",\"Japanese\",\"Italian\",\"American\",\"Japanese\",\"Chinese\",\"American\",\"Chinese\",\"Middle Eastern\",\"Japanese\",\"Japanese\",\"American\",\"Chinese\",\"American\",\"Chinese\",\"Chinese\",\"Japanese\",\"American\",\"American\",\"American\",\"Japanese\",\"Chinese\",\"Italian\",\"American\",\"Mexican\",\"Mexican\",\"Mediterranean\",\"Japanese\",\"Thai\",\"American\",\"Italian\",\"American\",\"Chinese\",\"Japanese\",\"American\",\"American\",\"Japanese\",\"Italian\",\"American\",\"Italian\",\"Indian\",\"American\",\"American\",\"American\",\"Japanese\",\"Japanese\",\"American\",\"American\",\"Japanese\",\"Japanese\",\"Japanese\",\"American\",\"Italian\",\"American\",\"Southern\",\"Japanese\",\"Japanese\",\"American\",\"Italian\",\"Japanese\",\"American\",\"Japanese\",\"Italian\",\"Chinese\",\"American\",\"Italian\",\"Indian\",\"American\",\"Indian\",\"American\",\"Mediterranean\",\"Italian\",\"Mexican\",\"American\",\"American\",\"Japanese\",\"Japanese\",\"Japanese\",\"Japanese\",\"Italian\",\"Japanese\",\"Italian\",\"Indian\",\"Japanese\",\"Italian\",\"Chinese\",\"Italian\",\"Middle Eastern\",\"Japanese\",\"Italian\",\"Japanese\",\"Mexican\",\"Italian\",\"Japanese\",\"Japanese\",\"American\",\"Chinese\",\"American\",\"Indian\",\"American\",\"Japanese\",\"American\",\"American\",\"Japanese\",\"Italian\",\"Indian\",\"Japanese\",\"American\",\"Japanese\",\"Chinese\",\"Chinese\",\"Middle Eastern\",\"American\",\"Japanese\",\"Italian\",\"Indian\",\"American\",\"Middle Eastern\",\"Japanese\",\"Italian\",\"Japanese\",\"Japanese\",\"Mexican\",\"American\",\"Indian\",\"Japanese\",\"American\",\"Japanese\",\"Japanese\",\"Chinese\",\"Italian\",\"Chinese\",\"Italian\",\"Italian\",\"American\",\"Chinese\",\"Chinese\",\"Japanese\",\"Japanese\",\"Indian\",\"Italian\",\"Mexican\",\"Italian\",\"Korean\",\"Italian\",\"American\",\"Mediterranean\",\"Japanese\",\"Japanese\",\"Chinese\",\"Japanese\",\"Italian\",\"Japanese\",\"Chinese\",\"American\",\"American\",\"Japanese\",\"Mediterranean\",\"American\",\"Italian\",\"American\",\"American\",\"Italian\",\"American\",\"Japanese\",\"Japanese\",\"French\",\"American\",\"American\",\"Japanese\",\"American\",\"Chinese\",\"Italian\",\"Indian\",\"American\",\"American\",\"Japanese\",\"Mexican\",\"American\",\"Italian\",\"American\",\"American\",\"Japanese\",\"Japanese\",\"Japanese\",\"American\",\"Italian\",\"Japanese\",\"American\",\"American\",\"Japanese\",\"Japanese\",\"Japanese\",\"Italian\",\"Italian\",\"Indian\",\"American\",\"Japanese\",\"Japanese\",\"American\",\"American\",\"Japanese\",\"Japanese\",\"American\",\"American\",\"American\",\"American\",\"Italian\",\"Italian\",\"American\",\"Indian\",\"Chinese\",\"American\",\"American\",\"Japanese\",\"Italian\",\"American\",\"Chinese\",\"Japanese\",\"Chinese\",\"American\",\"Italian\",\"American\",\"Japanese\",\"American\",\"Middle Eastern\",\"Chinese\",\"Japanese\",\"Chinese\",\"Middle Eastern\",\"Chinese\",\"Italian\",\"Middle Eastern\",\"Japanese\",\"Indian\",\"Korean\",\"American\",\"Japanese\",\"Mexican\",\"Japanese\",\"American\",\"American\",\"American\",\"American\",\"Japanese\",\"Italian\",\"American\",\"Vietnamese\",\"Japanese\",\"Thai\",\"Japanese\",\"American\",\"Italian\",\"American\",\"Japanese\",\"Chinese\",\"Middle Eastern\",\"American\",\"American\",\"American\",\"Italian\",\"Japanese\",\"Thai\",\"American\",\"Japanese\",\"Japanese\",\"American\",\"Italian\",\"Mediterranean\",\"Middle Eastern\",\"Japanese\",\"Japanese\",\"American\",\"Spanish\",\"American\",\"Japanese\",\"American\",\"Thai\",\"American\",\"Japanese\",\"French\",\"Japanese\",\"Mexican\",\"Japanese\",\"Japanese\",\"American\",\"Chinese\",\"Indian\",\"American\",\"Thai\",\"American\",\"American\",\"Middle Eastern\",\"Japanese\",\"Chinese\",\"Chinese\",\"Southern\",\"American\",\"Italian\",\"Middle Eastern\",\"American\",\"Indian\",\"Italian\",\"American\",\"Japanese\",\"American\",\"Mexican\",\"American\",\"Japanese\",\"Japanese\",\"Japanese\",\"Japanese\",\"Mediterranean\",\"Italian\",\"Mexican\",\"American\",\"American\",\"Japanese\",\"Japanese\",\"American\",\"American\",\"Chinese\",\"Chinese\",\"Japanese\",\"Japanese\",\"American\",\"American\",\"Chinese\",\"Japanese\",\"Italian\",\"American\",\"American\",\"Italian\",\"Mediterranean\",\"American\",\"American\",\"Chinese\",\"Italian\",\"Japanese\",\"Mexican\",\"Chinese\",\"American\",\"American\",\"Chinese\",\"Italian\",\"Middle Eastern\",\"Chinese\",\"American\",\"Middle Eastern\",\"Thai\",\"Chinese\",\"American\",\"American\",\"American\",\"American\",\"Japanese\",\"Italian\",\"Japanese\",\"Japanese\",\"Japanese\",\"American\",\"American\",\"French\",\"Chinese\",\"American\",\"Mexican\",\"Chinese\",\"Italian\",\"Italian\",\"Italian\",\"American\",\"Italian\",\"Japanese\",\"Italian\",\"Chinese\",\"Spanish\",\"Japanese\",\"Japanese\",\"Italian\",\"Japanese\",\"Italian\",\"French\",\"Mexican\",\"Mexican\",\"Japanese\",\"American\",\"Italian\",\"Mexican\",\"Italian\",\"Japanese\",\"Korean\",\"Mexican\",\"American\",\"Japanese\",\"Chinese\",\"American\",\"Japanese\",\"Italian\",\"Italian\",\"Italian\",\"Japanese\",\"Japanese\",\"American\",\"Indian\",\"Italian\",\"Italian\",\"Japanese\",\"Japanese\",\"Mediterranean\",\"Spanish\",\"Italian\",\"Italian\",\"American\",\"Italian\",\"Italian\",\"Spanish\",\"Italian\",\"American\",\"Japanese\",\"Italian\",\"Spanish\",\"Japanese\",\"American\",\"Italian\",\"Italian\",\"Japanese\",\"American\",\"Chinese\",\"American\",\"Mediterranean\",\"Thai\",\"American\",\"Japanese\",\"Italian\",\"Japanese\",\"Indian\",\"Japanese\",\"French\",\"Italian\",\"Italian\",\"Japanese\",\"Italian\",\"Mexican\",\"American\",\"American\",\"Korean\",\"American\",\"Mexican\",\"Chinese\",\"Vietnamese\",\"American\",\"Spanish\",\"American\",\"Japanese\",\"Japanese\",\"Italian\",\"Mediterranean\",\"Indian\",\"Italian\",\"Japanese\",\"Chinese\",\"Chinese\",\"American\",\"American\",\"Italian\",\"Chinese\",\"Japanese\",\"Italian\",\"American\",\"Spanish\",\"American\",\"Middle Eastern\",\"Chinese\",\"American\",\"Italian\",\"Japanese\",\"Japanese\",\"Japanese\",\"American\",\"Japanese\",\"American\",\"Chinese\",\"Italian\",\"American\",\"American\",\"American\",\"American\",\"American\",\"Chinese\",\"Japanese\",\"American\",\"French\",\"Mexican\",\"American\",\"American\",\"American\",\"Chinese\",\"Japanese\",\"American\",\"Japanese\",\"American\",\"Italian\",\"Italian\",\"American\",\"Italian\",\"Japanese\",\"American\",\"Japanese\",\"Middle Eastern\",\"Japanese\",\"American\",\"American\",\"American\",\"American\",\"Italian\",\"Japanese\",\"Japanese\",\"American\",\"American\",\"American\",\"American\",\"American\",\"Indian\",\"Japanese\",\"Mexican\",\"American\",\"American\",\"American\",\"Mexican\",\"Italian\",\"Chinese\",\"Mediterranean\",\"Japanese\",\"American\",\"Japanese\",\"American\",\"American\",\"Chinese\",\"American\",\"Italian\",\"American\",\"Japanese\",\"Spanish\",\"Italian\",\"Japanese\",\"Italian\",\"Italian\",\"Japanese\",\"American\",\"Mediterranean\",\"Italian\",\"Indian\",\"Southern\",\"American\",\"Mexican\",\"Italian\",\"Japanese\",\"Japanese\",\"American\",\"Chinese\",\"Japanese\",\"Chinese\",\"Chinese\",\"Italian\",\"Chinese\",\"Chinese\",\"Italian\",\"American\",\"Chinese\",\"American\",\"American\",\"American\",\"Indian\",\"Italian\",\"American\",\"French\",\"Chinese\",\"American\",\"Chinese\",\"Chinese\",\"Italian\",\"Chinese\",\"Indian\",\"Italian\",\"American\",\"Japanese\",\"Japanese\",\"American\",\"American\",\"Chinese\",\"Japanese\",\"Indian\",\"Chinese\",\"American\",\"Chinese\",\"Chinese\",\"Middle Eastern\",\"American\",\"Mexican\",\"Japanese\",\"French\",\"American\",\"Mediterranean\",\"Japanese\",\"Chinese\",\"Italian\",\"Japanese\",\"American\",\"Middle Eastern\",\"American\",\"Japanese\",\"American\",\"American\",\"American\",\"Middle Eastern\",\"American\",\"Mexican\",\"Italian\",\"American\",\"Mediterranean\",\"American\",\"Japanese\",\"American\",\"American\",\"Mexican\",\"American\",\"Chinese\",\"Japanese\",\"American\",\"Japanese\",\"Chinese\",\"American\",\"Japanese\",\"Japanese\",\"American\",\"French\",\"Italian\",\"Japanese\",\"Indian\",\"Italian\",\"Chinese\",\"Japanese\",\"American\",\"Chinese\",\"Japanese\",\"Chinese\",\"Japanese\",\"American\",\"American\",\"Mediterranean\",\"Japanese\",\"American\",\"Italian\",\"Japanese\",\"American\",\"Japanese\",\"Italian\",\"Japanese\",\"Chinese\",\"Japanese\",\"Chinese\",\"Japanese\",\"American\",\"American\",\"American\",\"Japanese\",\"American\",\"American\",\"American\",\"American\",\"American\",\"American\",\"American\",\"Italian\",\"Japanese\",\"American\",\"Chinese\",\"Mexican\",\"American\",\"Japanese\"],\"xaxis\":\"x\",\"y\":[1,1,1,1,1,1,1,1,1,1,1,1,1,1,1,1,1,1,1,1,1,1,1,1,1,1,1,1,1,1,1,1,1,1,1,1,1,1,1,1,1,1,1,1,1,1,1,1,1,1,1,1,1,1,1,1,1,1,1,1,1,1,1,1,1,1,1,1,1,1,1,1,1,1,1,1,1,1,1,1,1,1,1,1,1,1,1,1,1,1,1,1,1,1,1,1,1,1,1,1,1,1,1,1,1,1,1,1,1,1,1,1,1,1,1,1,1,1,1,1,1,1,1,1,1,1,1,1,1,1,1,1,1,1,1,1,1,1,1,1,1,1,1,1,1,1,1,1,1,1,1,1,1,1,1,1,1,1,1,1,1,1,1,1,1,1,1,1,1,1,1,1,1,1,1,1,1,1,1,1,1,1,1,1,1,1,1,1,1,1,1,1,1,1,1,1,1,1,1,1,1,1,1,1,1,1,1,1,1,1,1,1,1,1,1,1,1,1,1,1,1,1,1,1,1,1,1,1,1,1,1,1,1,1,1,1,1,1,1,1,1,1,1,1,1,1,1,1,1,1,1,1,1,1,1,1,1,1,1,1,1,1,1,1,1,1,1,1,1,1,1,1,1,1,1,1,1,1,1,1,1,1,1,1,1,1,1,1,1,1,1,1,1,1,1,1,1,1,1,1,1,1,1,1,1,1,1,1,1,1,1,1,1,1,1,1,1,1,1,1,1,1,1,1,1,1,1,1,1,1,1,1,1,1,1,1,1,1,1,1,1,1,1,1,1,1,1,1,1,1,1,1,1,1,1,1,1,1,1,1,1,1,1,1,1,1,1,1,1,1,1,1,1,1,1,1,1,1,1,1,1,1,1,1,1,1,1,1,1,1,1,1,1,1,1,1,1,1,1,1,1,1,1,1,1,1,1,1,1,1,1,1,1,1,1,1,1,1,1,1,1,1,1,1,1,1,1,1,1,1,1,1,1,1,1,1,1,1,1,1,1,1,1,1,1,1,1,1,1,1,1,1,1,1,1,1,1,1,1,1,1,1,1,1,1,1,1,1,1,1,1,1,1,1,1,1,1,1,1,1,1,1,1,1,1,1,1,1,1,1,1,1,1,1,1,1,1,1,1,1,1,1,1,1,1,1,1,1,1,1,1,1,1,1,1,1,1,1,1,1,1,1,1,1,1,1,1,1,1,1,1,1,1,1,1,1,1,1,1,1,1,1,1,1,1,1,1,1,1,1,1,1,1,1,1,1,1,1,1,1,1,1,1,1,1,1,1,1,1,1,1,1,1,1,1,1,1,1,1,1,1,1,1,1,1,1,1,1,1,1,1,1,1,1,1,1,1,1,1,1,1,1,1,1,1,1,1,1,1,1,1,1,1,1,1,1,1,1,1,1,1,1,1,1,1,1,1,1,1,1,1,1,1,1,1,1,1,1,1,1,1,1,1,1,1,1,1,1,1,1,1,1,1,1,1,1,1,1,1,1,1,1,1,1,1,1,1,1,1,1,1,1,1,1,1,1,1,1,1,1,1,1,1,1,1,1,1,1,1,1,1,1,1,1,1,1,1,1,1,1,1,1,1,1,1,1,1,1,1,1,1,1,1,1,1,1,1,1,1,1,1,1,1,1,1,1,1,1,1,1,1,1,1,1,1,1,1,1,1,1,1,1,1,1,1,1,1,1,1,1,1,1,1,1,1,1,1,1,1,1,1,1,1,1,1,1,1,1,1,1,1,1,1,1,1,1,1,1,1,1,1,1,1,1,1,1,1,1,1,1,1,1,1,1,1,1,1,1,1,1,1,1,1,1,1,1,1,1,1,1,1,1,1,1,1,1,1,1,1,1,1,1,1,1,1,1,1,1,1,1,1,1,1,1,1,1,1,1,1,1,1,1,1,1,1,1,1,1,1,1,1,1,1,1,1,1,1,1,1,1,1,1,1,1,1,1,1,1,1,1,1,1,1,1,1,1,1,1,1,1,1,1,1,1,1,1,1,1,1,1,1,1,1,1,1,1,1,1,1,1,1,1,1,1,1,1,1,1,1,1,1,1,1,1,1,1,1,1,1,1,1,1,1,1,1,1,1,1,1,1,1,1,1,1,1,1,1,1,1,1,1,1,1,1,1,1,1,1,1,1,1,1,1,1,1,1,1,1,1,1,1,1,1,1,1,1,1,1,1,1,1,1,1,1,1,1,1,1,1,1,1,1,1,1,1,1,1,1,1,1,1,1,1,1,1,1,1,1,1,1,1,1,1,1,1,1,1,1,1,1,1,1,1,1,1,1,1,1,1,1,1,1,1,1,1,1,1,1,1,1,1,1,1,1,1,1,1,1,1,1,1,1,1,1,1,1,1,1,1,1,1,1,1,1,1,1,1,1,1,1,1,1,1,1,1,1,1,1,1,1,1,1,1,1,1,1,1,1,1,1,1,1,1,1,1,1,1,1,1,1,1,1,1,1,1,1,1,1,1,1,1,1,1,1,1,1,1,1,1,1,1,1,1,1,1,1,1,1,1,1,1,1,1,1,1,1,1,1,1,1,1,1,1,1,1,1,1,1,1,1,1,1,1,1,1,1,1,1,1,1,1,1,1,1,1,1,1,1,1,1,1,1,1,1,1,1,1,1,1,1,1,1,1,1,1,1,1,1,1,1,1,1,1,1,1,1,1,1,1,1,1,1,1,1,1,1,1,1,1,1,1,1,1,1,1,1,1,1,1,1,1,1,1,1,1,1,1,1,1,1,1,1,1,1,1,1,1,1,1,1,1,1,1,1,1,1,1,1,1,1,1,1,1,1,1,1,1,1,1,1,1,1,1,1,1,1,1,1,1,1,1,1,1,1,1,1,1,1,1,1,1,1,1,1,1,1,1,1,1,1,1,1,1,1,1,1,1,1,1,1,1,1,1,1,1,1,1,1,1,1,1,1,1,1,1,1,1,1,1,1,1,1,1,1,1,1,1,1,1,1,1,1,1,1,1,1,1,1,1,1,1,1,1,1,1,1,1,1,1,1,1,1,1,1,1,1,1,1,1,1,1],\"yaxis\":\"y\",\"type\":\"histogram\"},{\"alignmentgroup\":\"True\",\"bingroup\":\"x\",\"histfunc\":\"sum\",\"hovertemplate\":\"day_of_the_week=Weekday\\u003cbr\\u003ecuisine_type=%{x}\\u003cbr\\u003esum of y=%{y}\\u003cextra\\u003e\\u003c\\u002fextra\\u003e\",\"legendgroup\":\"Weekday\",\"marker\":{\"color\":\"#EF553B\",\"pattern\":{\"shape\":\"\"}},\"name\":\"Weekday\",\"offsetgroup\":\"Weekday\",\"orientation\":\"v\",\"showlegend\":true,\"x\":[\"Mexican\",\"American\",\"Indian\",\"Mediterranean\",\"Indian\",\"Indian\",\"Chinese\",\"American\",\"American\",\"Middle Eastern\",\"Middle Eastern\",\"Italian\",\"Japanese\",\"American\",\"Japanese\",\"Italian\",\"Japanese\",\"American\",\"Japanese\",\"Chinese\",\"American\",\"American\",\"American\",\"American\",\"Indian\",\"American\",\"American\",\"Japanese\",\"Italian\",\"Japanese\",\"American\",\"Chinese\",\"American\",\"American\",\"Mexican\",\"American\",\"American\",\"American\",\"Italian\",\"Thai\",\"American\",\"American\",\"Japanese\",\"Japanese\",\"Japanese\",\"Chinese\",\"American\",\"Japanese\",\"Italian\",\"American\",\"Japanese\",\"American\",\"Italian\",\"Chinese\",\"American\",\"Italian\",\"Italian\",\"Italian\",\"Italian\",\"Japanese\",\"Chinese\",\"Japanese\",\"American\",\"American\",\"American\",\"Italian\",\"American\",\"American\",\"Japanese\",\"Japanese\",\"American\",\"Chinese\",\"Chinese\",\"Indian\",\"Japanese\",\"Japanese\",\"Mexican\",\"Japanese\",\"Japanese\",\"Italian\",\"American\",\"Chinese\",\"Italian\",\"Japanese\",\"Italian\",\"Italian\",\"Thai\",\"Middle Eastern\",\"Japanese\",\"Chinese\",\"Italian\",\"Japanese\",\"Japanese\",\"French\",\"Chinese\",\"American\",\"American\",\"Mexican\",\"Italian\",\"Japanese\",\"Indian\",\"American\",\"Mexican\",\"Mexican\",\"American\",\"American\",\"Chinese\",\"American\",\"American\",\"Thai\",\"Italian\",\"Italian\",\"Chinese\",\"Chinese\",\"American\",\"American\",\"American\",\"Middle Eastern\",\"Japanese\",\"American\",\"Indian\",\"American\",\"Italian\",\"American\",\"Mexican\",\"Japanese\",\"Japanese\",\"American\",\"Indian\",\"American\",\"American\",\"Italian\",\"Mexican\",\"Indian\",\"Japanese\",\"American\",\"American\",\"Mexican\",\"Japanese\",\"Middle Eastern\",\"Italian\",\"Italian\",\"Mediterranean\",\"Chinese\",\"Japanese\",\"Japanese\",\"American\",\"American\",\"Mediterranean\",\"Japanese\",\"Mexican\",\"Japanese\",\"Japanese\",\"American\",\"American\",\"Italian\",\"Chinese\",\"Italian\",\"Mediterranean\",\"American\",\"Italian\",\"American\",\"Japanese\",\"Thai\",\"Italian\",\"Japanese\",\"Italian\",\"Japanese\",\"Indian\",\"American\",\"Italian\",\"Chinese\",\"Southern\",\"American\",\"American\",\"American\",\"Mediterranean\",\"Japanese\",\"Vietnamese\",\"Italian\",\"American\",\"American\",\"Southern\",\"Mexican\",\"Italian\",\"American\",\"American\",\"American\",\"Chinese\",\"Japanese\",\"Italian\",\"American\",\"Italian\",\"American\",\"Italian\",\"American\",\"Mexican\",\"Italian\",\"Chinese\",\"American\",\"American\",\"Japanese\",\"Indian\",\"American\",\"Mexican\",\"Chinese\",\"Italian\",\"American\",\"Japanese\",\"Italian\",\"Chinese\",\"Chinese\",\"Indian\",\"Japanese\",\"Chinese\",\"Japanese\",\"Italian\",\"American\",\"Italian\",\"American\",\"American\",\"Italian\",\"Chinese\",\"Japanese\",\"Japanese\",\"Italian\",\"American\",\"Japanese\",\"American\",\"Japanese\",\"Italian\",\"Middle Eastern\",\"Japanese\",\"American\",\"Southern\",\"Japanese\",\"French\",\"Japanese\",\"Chinese\",\"Mediterranean\",\"Italian\",\"American\",\"Indian\",\"Italian\",\"Mexican\",\"Indian\",\"Japanese\",\"Japanese\",\"Japanese\",\"American\",\"Italian\",\"Chinese\",\"American\",\"Middle Eastern\",\"Japanese\",\"Indian\",\"Italian\",\"Chinese\",\"Chinese\",\"Japanese\",\"Japanese\",\"Italian\",\"American\",\"Southern\",\"Japanese\",\"American\",\"Japanese\",\"Chinese\",\"Italian\",\"Mediterranean\",\"American\",\"Japanese\",\"Japanese\",\"American\",\"American\",\"American\",\"American\",\"Japanese\",\"Italian\",\"Middle Eastern\",\"Italian\",\"Japanese\",\"Japanese\",\"Japanese\",\"American\",\"Mexican\",\"Italian\",\"Indian\",\"Italian\",\"Japanese\",\"Japanese\",\"Italian\",\"Japanese\",\"American\",\"Japanese\",\"American\",\"American\",\"Japanese\",\"Italian\",\"Japanese\",\"Japanese\",\"Middle Eastern\",\"American\",\"American\",\"American\",\"American\",\"American\",\"Italian\",\"Middle Eastern\",\"American\",\"Italian\",\"Japanese\",\"Italian\",\"American\",\"American\",\"American\",\"Spanish\",\"American\",\"Japanese\",\"Italian\",\"Japanese\",\"American\",\"Japanese\",\"American\",\"Vietnamese\",\"Japanese\",\"Chinese\",\"Chinese\",\"Japanese\",\"Japanese\",\"American\",\"American\",\"Vietnamese\",\"Southern\",\"Japanese\",\"American\",\"American\",\"Mediterranean\",\"Indian\",\"Japanese\",\"Indian\",\"Indian\",\"Japanese\",\"American\",\"Indian\",\"American\",\"Mexican\",\"American\",\"Japanese\",\"American\",\"Japanese\",\"American\",\"Japanese\",\"American\",\"American\",\"Italian\",\"American\",\"American\",\"Japanese\",\"Japanese\",\"Japanese\",\"Italian\",\"Italian\",\"American\",\"American\",\"American\",\"Italian\",\"Japanese\",\"Italian\",\"French\",\"Japanese\",\"Japanese\",\"Japanese\",\"Italian\",\"Japanese\",\"Mexican\",\"American\",\"Chinese\",\"Japanese\",\"Japanese\",\"Chinese\",\"Italian\",\"American\",\"Japanese\",\"Mexican\",\"Japanese\",\"Mexican\",\"Chinese\",\"American\",\"American\",\"American\",\"American\",\"American\",\"Japanese\",\"American\",\"American\",\"Mediterranean\",\"Mexican\",\"Japanese\",\"American\",\"Chinese\",\"Italian\",\"Japanese\",\"American\",\"Korean\",\"American\",\"American\",\"Italian\",\"Middle Eastern\",\"Chinese\",\"Middle Eastern\",\"American\",\"Mexican\",\"French\",\"Italian\",\"American\",\"American\",\"American\",\"Chinese\",\"Chinese\",\"Japanese\",\"Italian\",\"American\",\"Japanese\",\"American\",\"American\",\"Mediterranean\",\"Japanese\",\"Chinese\",\"American\",\"American\",\"Italian\",\"American\",\"American\",\"Japanese\",\"Japanese\",\"Chinese\",\"Italian\",\"Japanese\",\"Japanese\",\"American\",\"American\",\"Indian\",\"American\",\"Chinese\",\"American\",\"Mexican\",\"American\",\"Indian\",\"Japanese\",\"Indian\",\"Japanese\",\"American\",\"Middle Eastern\",\"Chinese\",\"American\",\"Italian\",\"Japanese\",\"Italian\",\"Japanese\",\"Japanese\",\"Chinese\",\"Chinese\",\"American\",\"Japanese\",\"Japanese\",\"Italian\",\"Japanese\",\"Mediterranean\",\"Middle Eastern\",\"American\",\"American\",\"Italian\",\"Italian\",\"Japanese\",\"Japanese\",\"Japanese\",\"Italian\",\"Chinese\",\"Japanese\",\"Mediterranean\",\"Italian\",\"Japanese\",\"Italian\",\"Italian\",\"Italian\",\"Chinese\",\"Italian\",\"Mediterranean\",\"Japanese\",\"Chinese\",\"Middle Eastern\",\"Indian\",\"Japanese\",\"American\",\"Chinese\",\"American\",\"Italian\",\"American\",\"Chinese\",\"American\",\"Italian\",\"Japanese\",\"American\",\"Japanese\",\"Middle Eastern\",\"American\",\"Japanese\",\"Middle Eastern\",\"American\",\"Japanese\",\"American\",\"Japanese\",\"Japanese\",\"Chinese\",\"Japanese\",\"American\",\"French\",\"Italian\",\"Italian\",\"American\",\"Mexican\",\"Japanese\",\"Italian\",\"American\",\"Japanese\",\"Japanese\",\"Mexican\",\"American\",\"Italian\",\"Italian\",\"Japanese\",\"Italian\",\"Chinese\",\"Korean\",\"Japanese\",\"American\",\"American\",\"American\",\"Southern\",\"Italian\",\"American\",\"Japanese\",\"American\",\"Chinese\",\"Japanese\",\"Mediterranean\"],\"xaxis\":\"x\",\"y\":[1,1,1,1,1,1,1,1,1,1,1,1,1,1,1,1,1,1,1,1,1,1,1,1,1,1,1,1,1,1,1,1,1,1,1,1,1,1,1,1,1,1,1,1,1,1,1,1,1,1,1,1,1,1,1,1,1,1,1,1,1,1,1,1,1,1,1,1,1,1,1,1,1,1,1,1,1,1,1,1,1,1,1,1,1,1,1,1,1,1,1,1,1,1,1,1,1,1,1,1,1,1,1,1,1,1,1,1,1,1,1,1,1,1,1,1,1,1,1,1,1,1,1,1,1,1,1,1,1,1,1,1,1,1,1,1,1,1,1,1,1,1,1,1,1,1,1,1,1,1,1,1,1,1,1,1,1,1,1,1,1,1,1,1,1,1,1,1,1,1,1,1,1,1,1,1,1,1,1,1,1,1,1,1,1,1,1,1,1,1,1,1,1,1,1,1,1,1,1,1,1,1,1,1,1,1,1,1,1,1,1,1,1,1,1,1,1,1,1,1,1,1,1,1,1,1,1,1,1,1,1,1,1,1,1,1,1,1,1,1,1,1,1,1,1,1,1,1,1,1,1,1,1,1,1,1,1,1,1,1,1,1,1,1,1,1,1,1,1,1,1,1,1,1,1,1,1,1,1,1,1,1,1,1,1,1,1,1,1,1,1,1,1,1,1,1,1,1,1,1,1,1,1,1,1,1,1,1,1,1,1,1,1,1,1,1,1,1,1,1,1,1,1,1,1,1,1,1,1,1,1,1,1,1,1,1,1,1,1,1,1,1,1,1,1,1,1,1,1,1,1,1,1,1,1,1,1,1,1,1,1,1,1,1,1,1,1,1,1,1,1,1,1,1,1,1,1,1,1,1,1,1,1,1,1,1,1,1,1,1,1,1,1,1,1,1,1,1,1,1,1,1,1,1,1,1,1,1,1,1,1,1,1,1,1,1,1,1,1,1,1,1,1,1,1,1,1,1,1,1,1,1,1,1,1,1,1,1,1,1,1,1,1,1,1,1,1,1,1,1,1,1,1,1,1,1,1,1,1,1,1,1,1,1,1,1,1,1,1,1,1,1,1,1,1,1,1,1,1,1,1,1,1,1,1,1,1,1,1,1,1,1,1,1,1,1,1,1,1,1,1,1,1,1,1,1,1,1,1,1,1,1,1,1,1,1,1,1,1,1,1,1,1,1,1,1,1,1,1,1,1,1,1,1,1,1,1,1,1,1,1,1,1,1,1,1,1],\"yaxis\":\"y\",\"type\":\"histogram\"}],                        {\"template\":{\"data\":{\"histogram2dcontour\":[{\"type\":\"histogram2dcontour\",\"colorbar\":{\"outlinewidth\":0,\"ticks\":\"\"},\"colorscale\":[[0.0,\"#0d0887\"],[0.1111111111111111,\"#46039f\"],[0.2222222222222222,\"#7201a8\"],[0.3333333333333333,\"#9c179e\"],[0.4444444444444444,\"#bd3786\"],[0.5555555555555556,\"#d8576b\"],[0.6666666666666666,\"#ed7953\"],[0.7777777777777778,\"#fb9f3a\"],[0.8888888888888888,\"#fdca26\"],[1.0,\"#f0f921\"]]}],\"choropleth\":[{\"type\":\"choropleth\",\"colorbar\":{\"outlinewidth\":0,\"ticks\":\"\"}}],\"histogram2d\":[{\"type\":\"histogram2d\",\"colorbar\":{\"outlinewidth\":0,\"ticks\":\"\"},\"colorscale\":[[0.0,\"#0d0887\"],[0.1111111111111111,\"#46039f\"],[0.2222222222222222,\"#7201a8\"],[0.3333333333333333,\"#9c179e\"],[0.4444444444444444,\"#bd3786\"],[0.5555555555555556,\"#d8576b\"],[0.6666666666666666,\"#ed7953\"],[0.7777777777777778,\"#fb9f3a\"],[0.8888888888888888,\"#fdca26\"],[1.0,\"#f0f921\"]]}],\"heatmap\":[{\"type\":\"heatmap\",\"colorbar\":{\"outlinewidth\":0,\"ticks\":\"\"},\"colorscale\":[[0.0,\"#0d0887\"],[0.1111111111111111,\"#46039f\"],[0.2222222222222222,\"#7201a8\"],[0.3333333333333333,\"#9c179e\"],[0.4444444444444444,\"#bd3786\"],[0.5555555555555556,\"#d8576b\"],[0.6666666666666666,\"#ed7953\"],[0.7777777777777778,\"#fb9f3a\"],[0.8888888888888888,\"#fdca26\"],[1.0,\"#f0f921\"]]}],\"heatmapgl\":[{\"type\":\"heatmapgl\",\"colorbar\":{\"outlinewidth\":0,\"ticks\":\"\"},\"colorscale\":[[0.0,\"#0d0887\"],[0.1111111111111111,\"#46039f\"],[0.2222222222222222,\"#7201a8\"],[0.3333333333333333,\"#9c179e\"],[0.4444444444444444,\"#bd3786\"],[0.5555555555555556,\"#d8576b\"],[0.6666666666666666,\"#ed7953\"],[0.7777777777777778,\"#fb9f3a\"],[0.8888888888888888,\"#fdca26\"],[1.0,\"#f0f921\"]]}],\"contourcarpet\":[{\"type\":\"contourcarpet\",\"colorbar\":{\"outlinewidth\":0,\"ticks\":\"\"}}],\"contour\":[{\"type\":\"contour\",\"colorbar\":{\"outlinewidth\":0,\"ticks\":\"\"},\"colorscale\":[[0.0,\"#0d0887\"],[0.1111111111111111,\"#46039f\"],[0.2222222222222222,\"#7201a8\"],[0.3333333333333333,\"#9c179e\"],[0.4444444444444444,\"#bd3786\"],[0.5555555555555556,\"#d8576b\"],[0.6666666666666666,\"#ed7953\"],[0.7777777777777778,\"#fb9f3a\"],[0.8888888888888888,\"#fdca26\"],[1.0,\"#f0f921\"]]}],\"surface\":[{\"type\":\"surface\",\"colorbar\":{\"outlinewidth\":0,\"ticks\":\"\"},\"colorscale\":[[0.0,\"#0d0887\"],[0.1111111111111111,\"#46039f\"],[0.2222222222222222,\"#7201a8\"],[0.3333333333333333,\"#9c179e\"],[0.4444444444444444,\"#bd3786\"],[0.5555555555555556,\"#d8576b\"],[0.6666666666666666,\"#ed7953\"],[0.7777777777777778,\"#fb9f3a\"],[0.8888888888888888,\"#fdca26\"],[1.0,\"#f0f921\"]]}],\"mesh3d\":[{\"type\":\"mesh3d\",\"colorbar\":{\"outlinewidth\":0,\"ticks\":\"\"}}],\"scatter\":[{\"fillpattern\":{\"fillmode\":\"overlay\",\"size\":10,\"solidity\":0.2},\"type\":\"scatter\"}],\"parcoords\":[{\"type\":\"parcoords\",\"line\":{\"colorbar\":{\"outlinewidth\":0,\"ticks\":\"\"}}}],\"scatterpolargl\":[{\"type\":\"scatterpolargl\",\"marker\":{\"colorbar\":{\"outlinewidth\":0,\"ticks\":\"\"}}}],\"bar\":[{\"error_x\":{\"color\":\"#2a3f5f\"},\"error_y\":{\"color\":\"#2a3f5f\"},\"marker\":{\"line\":{\"color\":\"#E5ECF6\",\"width\":0.5},\"pattern\":{\"fillmode\":\"overlay\",\"size\":10,\"solidity\":0.2}},\"type\":\"bar\"}],\"scattergeo\":[{\"type\":\"scattergeo\",\"marker\":{\"colorbar\":{\"outlinewidth\":0,\"ticks\":\"\"}}}],\"scatterpolar\":[{\"type\":\"scatterpolar\",\"marker\":{\"colorbar\":{\"outlinewidth\":0,\"ticks\":\"\"}}}],\"histogram\":[{\"marker\":{\"pattern\":{\"fillmode\":\"overlay\",\"size\":10,\"solidity\":0.2}},\"type\":\"histogram\"}],\"scattergl\":[{\"type\":\"scattergl\",\"marker\":{\"colorbar\":{\"outlinewidth\":0,\"ticks\":\"\"}}}],\"scatter3d\":[{\"type\":\"scatter3d\",\"line\":{\"colorbar\":{\"outlinewidth\":0,\"ticks\":\"\"}},\"marker\":{\"colorbar\":{\"outlinewidth\":0,\"ticks\":\"\"}}}],\"scattermapbox\":[{\"type\":\"scattermapbox\",\"marker\":{\"colorbar\":{\"outlinewidth\":0,\"ticks\":\"\"}}}],\"scatterternary\":[{\"type\":\"scatterternary\",\"marker\":{\"colorbar\":{\"outlinewidth\":0,\"ticks\":\"\"}}}],\"scattercarpet\":[{\"type\":\"scattercarpet\",\"marker\":{\"colorbar\":{\"outlinewidth\":0,\"ticks\":\"\"}}}],\"carpet\":[{\"aaxis\":{\"endlinecolor\":\"#2a3f5f\",\"gridcolor\":\"white\",\"linecolor\":\"white\",\"minorgridcolor\":\"white\",\"startlinecolor\":\"#2a3f5f\"},\"baxis\":{\"endlinecolor\":\"#2a3f5f\",\"gridcolor\":\"white\",\"linecolor\":\"white\",\"minorgridcolor\":\"white\",\"startlinecolor\":\"#2a3f5f\"},\"type\":\"carpet\"}],\"table\":[{\"cells\":{\"fill\":{\"color\":\"#EBF0F8\"},\"line\":{\"color\":\"white\"}},\"header\":{\"fill\":{\"color\":\"#C8D4E3\"},\"line\":{\"color\":\"white\"}},\"type\":\"table\"}],\"barpolar\":[{\"marker\":{\"line\":{\"color\":\"#E5ECF6\",\"width\":0.5},\"pattern\":{\"fillmode\":\"overlay\",\"size\":10,\"solidity\":0.2}},\"type\":\"barpolar\"}],\"pie\":[{\"automargin\":true,\"type\":\"pie\"}]},\"layout\":{\"autotypenumbers\":\"strict\",\"colorway\":[\"#636efa\",\"#EF553B\",\"#00cc96\",\"#ab63fa\",\"#FFA15A\",\"#19d3f3\",\"#FF6692\",\"#B6E880\",\"#FF97FF\",\"#FECB52\"],\"font\":{\"color\":\"#2a3f5f\"},\"hovermode\":\"closest\",\"hoverlabel\":{\"align\":\"left\"},\"paper_bgcolor\":\"white\",\"plot_bgcolor\":\"#E5ECF6\",\"polar\":{\"bgcolor\":\"#E5ECF6\",\"angularaxis\":{\"gridcolor\":\"white\",\"linecolor\":\"white\",\"ticks\":\"\"},\"radialaxis\":{\"gridcolor\":\"white\",\"linecolor\":\"white\",\"ticks\":\"\"}},\"ternary\":{\"bgcolor\":\"#E5ECF6\",\"aaxis\":{\"gridcolor\":\"white\",\"linecolor\":\"white\",\"ticks\":\"\"},\"baxis\":{\"gridcolor\":\"white\",\"linecolor\":\"white\",\"ticks\":\"\"},\"caxis\":{\"gridcolor\":\"white\",\"linecolor\":\"white\",\"ticks\":\"\"}},\"coloraxis\":{\"colorbar\":{\"outlinewidth\":0,\"ticks\":\"\"}},\"colorscale\":{\"sequential\":[[0.0,\"#0d0887\"],[0.1111111111111111,\"#46039f\"],[0.2222222222222222,\"#7201a8\"],[0.3333333333333333,\"#9c179e\"],[0.4444444444444444,\"#bd3786\"],[0.5555555555555556,\"#d8576b\"],[0.6666666666666666,\"#ed7953\"],[0.7777777777777778,\"#fb9f3a\"],[0.8888888888888888,\"#fdca26\"],[1.0,\"#f0f921\"]],\"sequentialminus\":[[0.0,\"#0d0887\"],[0.1111111111111111,\"#46039f\"],[0.2222222222222222,\"#7201a8\"],[0.3333333333333333,\"#9c179e\"],[0.4444444444444444,\"#bd3786\"],[0.5555555555555556,\"#d8576b\"],[0.6666666666666666,\"#ed7953\"],[0.7777777777777778,\"#fb9f3a\"],[0.8888888888888888,\"#fdca26\"],[1.0,\"#f0f921\"]],\"diverging\":[[0,\"#8e0152\"],[0.1,\"#c51b7d\"],[0.2,\"#de77ae\"],[0.3,\"#f1b6da\"],[0.4,\"#fde0ef\"],[0.5,\"#f7f7f7\"],[0.6,\"#e6f5d0\"],[0.7,\"#b8e186\"],[0.8,\"#7fbc41\"],[0.9,\"#4d9221\"],[1,\"#276419\"]]},\"xaxis\":{\"gridcolor\":\"white\",\"linecolor\":\"white\",\"ticks\":\"\",\"title\":{\"standoff\":15},\"zerolinecolor\":\"white\",\"automargin\":true,\"zerolinewidth\":2},\"yaxis\":{\"gridcolor\":\"white\",\"linecolor\":\"white\",\"ticks\":\"\",\"title\":{\"standoff\":15},\"zerolinecolor\":\"white\",\"automargin\":true,\"zerolinewidth\":2},\"scene\":{\"xaxis\":{\"backgroundcolor\":\"#E5ECF6\",\"gridcolor\":\"white\",\"linecolor\":\"white\",\"showbackground\":true,\"ticks\":\"\",\"zerolinecolor\":\"white\",\"gridwidth\":2},\"yaxis\":{\"backgroundcolor\":\"#E5ECF6\",\"gridcolor\":\"white\",\"linecolor\":\"white\",\"showbackground\":true,\"ticks\":\"\",\"zerolinecolor\":\"white\",\"gridwidth\":2},\"zaxis\":{\"backgroundcolor\":\"#E5ECF6\",\"gridcolor\":\"white\",\"linecolor\":\"white\",\"showbackground\":true,\"ticks\":\"\",\"zerolinecolor\":\"white\",\"gridwidth\":2}},\"shapedefaults\":{\"line\":{\"color\":\"#2a3f5f\"}},\"annotationdefaults\":{\"arrowcolor\":\"#2a3f5f\",\"arrowhead\":0,\"arrowwidth\":1},\"geo\":{\"bgcolor\":\"white\",\"landcolor\":\"#E5ECF6\",\"subunitcolor\":\"white\",\"showland\":true,\"showlakes\":true,\"lakecolor\":\"white\"},\"title\":{\"x\":0.05},\"mapbox\":{\"style\":\"light\"}}},\"xaxis\":{\"anchor\":\"y\",\"domain\":[0.0,1.0],\"title\":{\"text\":\"cuisine_type\"}},\"yaxis\":{\"anchor\":\"x\",\"domain\":[0.0,1.0],\"title\":{\"text\":\"Number of orders\"}},\"legend\":{\"title\":{\"text\":\"day_of_the_week\"},\"tracegroupgap\":0},\"margin\":{\"t\":60},\"barmode\":\"relative\"},                        {\"responsive\": true}                    ).then(function(){\n",
              "                            \n",
              "var gd = document.getElementById('0b2e0c0f-82ea-4add-b21e-33ad2ef60a32');\n",
              "var x = new MutationObserver(function (mutations, observer) {{\n",
              "        var display = window.getComputedStyle(gd).display;\n",
              "        if (!display || display === 'none') {{\n",
              "            console.log([gd, 'removed!']);\n",
              "            Plotly.purge(gd);\n",
              "            observer.disconnect();\n",
              "        }}\n",
              "}});\n",
              "\n",
              "// Listen for the removal of the full notebook cells\n",
              "var notebookContainer = gd.closest('#notebook-container');\n",
              "if (notebookContainer) {{\n",
              "    x.observe(notebookContainer, {childList: true});\n",
              "}}\n",
              "\n",
              "// Listen for the clearing of the current output cell\n",
              "var outputEl = gd.closest('.output');\n",
              "if (outputEl) {{\n",
              "    x.observe(outputEl, {childList: true});\n",
              "}}\n",
              "\n",
              "                        })                };                            </script>        </div>\n",
              "</body>\n",
              "</html>"
            ]
          },
          "metadata": {}
        }
      ]
    },
    {
      "cell_type": "code",
      "source": [
        "#sorting number of orders by day of the week, then type of cuisine\n",
        "popular_cuisine=df.groupby(['day_of_the_week'])['cuisine_type'].value_counts(ascending=False)\n",
        "popular_cuisine"
      ],
      "metadata": {
        "colab": {
          "base_uri": "https://localhost:8080/"
        },
        "id": "eyp2grZf0nCc",
        "outputId": "9c4f91c9-15e3-4d23-9187-92faef456d72"
      },
      "execution_count": null,
      "outputs": [
        {
          "output_type": "execute_result",
          "data": {
            "text/plain": [
              "day_of_the_week  cuisine_type  \n",
              "Weekday          American          169\n",
              "                 Japanese          135\n",
              "                 Italian            91\n",
              "                 Chinese            52\n",
              "                 Indian             24\n",
              "                 Mexican            24\n",
              "                 Middle Eastern     17\n",
              "                 Mediterranean      14\n",
              "                 Southern            6\n",
              "                 French              5\n",
              "                 Thai                4\n",
              "                 Vietnamese          3\n",
              "                 Korean              2\n",
              "                 Spanish             1\n",
              "Weekend          American          415\n",
              "                 Japanese          335\n",
              "                 Italian           207\n",
              "                 Chinese           163\n",
              "                 Mexican            53\n",
              "                 Indian             49\n",
              "                 Mediterranean      32\n",
              "                 Middle Eastern     32\n",
              "                 Thai               15\n",
              "                 French             13\n",
              "                 Korean             11\n",
              "                 Southern           11\n",
              "                 Spanish            11\n",
              "                 Vietnamese          4\n",
              "Name: cuisine_type, dtype: int64"
            ]
          },
          "metadata": {},
          "execution_count": 136
        }
      ]
    },
    {
      "cell_type": "markdown",
      "source": [
        "**Observations:** About the most popular cuisine on weekends:\n",
        "American cuisine is easily the most popular cuisine type with over 400 orders on the weekend, followed by Japanese with almost 350 orders, and much further behind, Italian cuisine with just over two hundred orders. The same hierachy dominates weekdays as well, but with less than half of the same number of orders.  "
      ],
      "metadata": {
        "id": "ZRJ5Vku93DUv"
      }
    },
    {
      "cell_type": "markdown",
      "metadata": {
        "id": "88xgTqkxJY_U"
      },
      "source": [
        "### **Question 9**: What percentage of the orders cost more than 20 dollars? [2 marks]"
      ]
    },
    {
      "cell_type": "code",
      "execution_count": null,
      "metadata": {
        "id": "OTpHyTdzJY_U",
        "colab": {
          "base_uri": "https://localhost:8080/",
          "height": 450
        },
        "outputId": "13b9854d-32dc-4c29-a338-e98c6d421495"
      },
      "outputs": [
        {
          "output_type": "display_data",
          "data": {
            "text/plain": [
              "<Figure size 640x480 with 1 Axes>"
            ],
            "image/png": "[encoded data removed]"
          },
          "metadata": {}
        }
      ],
      "source": [
        "sns.boxplot(data=df,x='cost_of_the_order', hue='day_of_the_week');"
      ]
    },
    {
      "cell_type": "code",
      "source": [
        "sns.histplot(data=df, x=\"cost_of_the_order\",bins=6,kde=True);\n"
      ],
      "metadata": {
        "colab": {
          "base_uri": "https://localhost:8080/",
          "height": 450
        },
        "id": "j5_NhKA4ZR9O",
        "outputId": "a889554b-a485-45a4-a74e-6aa7d7db3642"
      },
      "execution_count": null,
      "outputs": [
        {
          "output_type": "display_data",
          "data": {
            "text/plain": [
              "<Figure size 640x480 with 1 Axes>"
            ],
            "image/png": "[encoded data removed]"
          },
          "metadata": {}
        }
      ]
    },
    {
      "cell_type": "code",
      "source": [
        "#number of orders over $20 divided by total number of orders to get percentage\n",
        "df[df['cost_of_the_order']>20].shape[0]/df.shape[0]"
      ],
      "metadata": {
        "colab": {
          "base_uri": "https://localhost:8080/"
        },
        "id": "0DKbY_1ClCKd",
        "outputId": "571bd786-4870-411d-801a-45ab0f1c3d60"
      },
      "execution_count": null,
      "outputs": [
        {
          "output_type": "execute_result",
          "data": {
            "text/plain": [
              "0.2924130663856691"
            ]
          },
          "metadata": {},
          "execution_count": 97
        }
      ]
    },
    {
      "cell_type": "markdown",
      "metadata": {
        "id": "77KNAC5zJY_U"
      },
      "source": [
        "**Observations:** About orders placed over 20 dollars:\n",
        "\n"
      ]
    },
    {
      "cell_type": "markdown",
      "metadata": {
        "id": "HFyHn7hsJY_V"
      },
      "source": [
        "### **Question 10**: What is the mean order delivery time? [1 mark]"
      ]
    },
    {
      "cell_type": "code",
      "source": [
        "#the mean, or average delivery time\n",
        "print(f'The average delivery time is',round(df['delivery_time'].mean()),'minutes.')"
      ],
      "metadata": {
        "colab": {
          "base_uri": "https://localhost:8080/"
        },
        "id": "ouUChqCq8eW-",
        "outputId": "7b98c84e-7f9b-4b9e-f451-08bc0648d0ee"
      },
      "execution_count": null,
      "outputs": [
        {
          "output_type": "stream",
          "name": "stdout",
          "text": [
            "The average delivery time is 24 minutes.\n"
          ]
        }
      ]
    },
    {
      "cell_type": "code",
      "execution_count": null,
      "metadata": {
        "id": "cyFL13hNJY_V",
        "colab": {
          "base_uri": "https://localhost:8080/",
          "height": 450
        },
        "outputId": "7aa03662-d860-42a6-f445-a9235f465514"
      },
      "outputs": [
        {
          "output_type": "display_data",
          "data": {
            "text/plain": [
              "<Figure size 640x480 with 1 Axes>"
            ],
            "image/png": "[encoded data removed]"
          },
          "metadata": {}
        }
      ],
      "source": [
        "#In a normal distribution, the median is usually close to the mean; the median here is 25 minutes.\n",
        "sns.boxplot(data=df, x='delivery_time');"
      ]
    },
    {
      "cell_type": "markdown",
      "metadata": {
        "id": "F35SRV-HJY_V"
      },
      "source": [
        "**Observations: **About the mean delivery time:\n",
        "\n"
      ]
    },
    {
      "cell_type": "markdown",
      "metadata": {
        "id": "48IjaOuDJY_V"
      },
      "source": [
        "### **Question 11:** The company has decided to give 20% discount vouchers to the top 5 most frequent customers. Find the IDs of these customers and the number of orders they placed. [1 mark]"
      ]
    },
    {
      "cell_type": "code",
      "source": [
        "cust_freq = df['customer_id'].value_counts(ascending=False)\n",
        "print(cust_freq.head(15))"
      ],
      "metadata": {
        "id": "Hz8-DE4Zge0j",
        "colab": {
          "base_uri": "https://localhost:8080/"
        },
        "outputId": "129f91a5-c661-4ce5-9592-7520719029e5"
      },
      "execution_count": null,
      "outputs": [
        {
          "output_type": "stream",
          "name": "stdout",
          "text": [
            "52832     13\n",
            "47440     10\n",
            "83287      9\n",
            "250494     8\n",
            "259341     7\n",
            "82041      7\n",
            "65009      7\n",
            "276192     7\n",
            "97079      6\n",
            "97991      6\n",
            "107909     6\n",
            "275689     6\n",
            "60052      6\n",
            "115213     6\n",
            "301032     5\n",
            "Name: customer_id, dtype: int64\n"
          ]
        }
      ]
    },
    {
      "cell_type": "markdown",
      "metadata": {
        "id": "9tWVwfX6JY_V"
      },
      "source": [
        "#### Observations:\n"
      ]
    },
    {
      "cell_type": "markdown",
      "metadata": {
        "id": "AfIc2jPaJY_V"
      },
      "source": [
        "### Multivariate Analysis"
      ]
    },
    {
      "cell_type": "markdown",
      "metadata": {
        "id": "iqiS0RT_JY_V"
      },
      "source": [
        "### **Question 12**: Perform a multivariate analysis to explore relationships between the important variables in the dataset. (It is a good idea to explore relations between numerical variables as well as relations between numerical and categorical variables) [10 marks]\n"
      ]
    },
    {
      "cell_type": "code",
      "execution_count": null,
      "metadata": {
        "id": "3qt4MCNTJY_V"
      },
      "outputs": [],
      "source": [
        "# Write the code here"
      ]
    },
    {
      "cell_type": "markdown",
      "metadata": {
        "id": "YLkMf09YJY_V"
      },
      "source": [
        "### **Question 13:** The company wants to provide a promotional offer in the advertisement of the restaurants. The condition to get the offer is that the restaurants must have a rating count of more than 50 and the average rating should be greater than 4. Find the restaurants fulfilling the criteria to get the promotional offer. [3 marks]"
      ]
    },
    {
      "cell_type": "code",
      "source": [
        "#code to count number of ratings\n",
        "df['rating'].value_counts()"
      ],
      "metadata": {
        "colab": {
          "base_uri": "https://localhost:8080/"
        },
        "id": "gwUiLcKPQEC9",
        "outputId": "841973c2-e005-4c3c-eb67-2034eaaa76b9"
      },
      "execution_count": null,
      "outputs": [
        {
          "output_type": "execute_result",
          "data": {
            "text/plain": [
              "Not given    736\n",
              "5            588\n",
              "4            386\n",
              "3            188\n",
              "Name: rating, dtype: int64"
            ]
          },
          "metadata": {},
          "execution_count": 79
        }
      ]
    },
    {
      "cell_type": "code",
      "source": [
        "#Create a group with only restaurant names and ratings\n",
        "promo_group = df.loc[:,['restaurant_name','order_id','rating']].copy();\n",
        "print(promo_group)"
      ],
      "metadata": {
        "colab": {
          "base_uri": "https://localhost:8080/"
        },
        "id": "wrc5N-_LU7gX",
        "outputId": "aeac1711-b73b-4150-f6fb-99abe212c7c3"
      },
      "execution_count": null,
      "outputs": [
        {
          "output_type": "stream",
          "name": "stdout",
          "text": [
            "                            restaurant_name  order_id     rating\n",
            "0                                   Hangawi   1477147  Not given\n",
            "1                 Blue Ribbon Sushi Izakaya   1477685  Not given\n",
            "2                               Cafe Habana   1477070          5\n",
            "3                 Blue Ribbon Fried Chicken   1477334          3\n",
            "4                          Dirty Bird to Go   1478249          4\n",
            "...                                     ...       ...        ...\n",
            "1893  Chipotle Mexican Grill $1.99 Delivery   1476701          5\n",
            "1894                              The Smile   1477421          5\n",
            "1895                      Blue Ribbon Sushi   1477819  Not given\n",
            "1896                      Jack's Wife Freda   1477513          5\n",
            "1897                      Blue Ribbon Sushi   1478056  Not given\n",
            "\n",
            "[1898 rows x 3 columns]\n"
          ]
        }
      ]
    },
    {
      "cell_type": "code",
      "source": [
        "#change 'Not given' str to Nan\n",
        "promo_group['rating'] = promo_group['rating'].replace(['Not given'],np.nan)\n",
        "print(promo_group)"
      ],
      "metadata": {
        "colab": {
          "base_uri": "https://localhost:8080/"
        },
        "id": "sJRXDj0sZb33",
        "outputId": "b0963cfa-a593-42ae-ff95-88b32fef1bcd"
      },
      "execution_count": null,
      "outputs": [
        {
          "output_type": "stream",
          "name": "stdout",
          "text": [
            "                            restaurant_name  order_id rating\n",
            "0                                   Hangawi   1477147    NaN\n",
            "1                 Blue Ribbon Sushi Izakaya   1477685    NaN\n",
            "2                               Cafe Habana   1477070      5\n",
            "3                 Blue Ribbon Fried Chicken   1477334      3\n",
            "4                          Dirty Bird to Go   1478249      4\n",
            "...                                     ...       ...    ...\n",
            "1893  Chipotle Mexican Grill $1.99 Delivery   1476701      5\n",
            "1894                              The Smile   1477421      5\n",
            "1895                      Blue Ribbon Sushi   1477819    NaN\n",
            "1896                      Jack's Wife Freda   1477513      5\n",
            "1897                      Blue Ribbon Sushi   1478056    NaN\n",
            "\n",
            "[1898 rows x 3 columns]\n"
          ]
        }
      ]
    },
    {
      "cell_type": "code",
      "source": [
        "#check for empty cells; those will get dropped for this question\n",
        "promo_group.isnull().sum()\n",
        "#promo_group.info()"
      ],
      "metadata": {
        "colab": {
          "base_uri": "https://localhost:8080/"
        },
        "id": "FpwXvDN4cXWk",
        "outputId": "4a5c0ee7-1875-41b5-aed7-fff5290e4088"
      },
      "execution_count": null,
      "outputs": [
        {
          "output_type": "execute_result",
          "data": {
            "text/plain": [
              "restaurant_name      0\n",
              "order_id             0\n",
              "rating             736\n",
              "dtype: int64"
            ]
          },
          "metadata": {},
          "execution_count": 111
        }
      ]
    },
    {
      "cell_type": "code",
      "source": [
        "#all rows with no rating have been dropped; notice we went from 1898 rows, to 1162, or 736 fewer.\n",
        "promo_group.dropna(subset=['rating']).reset_index(inplace=False)\n",
        "promo_group.tail()"
      ],
      "metadata": {
        "colab": {
          "base_uri": "https://localhost:8080/",
          "height": 206
        },
        "id": "cxeEoODgdrHv",
        "outputId": "f9857294-8ddb-4445-e821-24974b695d33"
      },
      "execution_count": null,
      "outputs": [
        {
          "output_type": "execute_result",
          "data": {
            "text/plain": [
              "                            restaurant_name  order_id  rating\n",
              "1893  Chipotle Mexican Grill $1.99 Delivery   1476701    5.00\n",
              "1894                              The Smile   1477421    5.00\n",
              "1895                      Blue Ribbon Sushi   1477819     NaN\n",
              "1896                      Jack's Wife Freda   1477513    5.00\n",
              "1897                      Blue Ribbon Sushi   1478056     NaN"
            ],
            "text/html": [
              "\n",
              "  <div id=\"df-d037dd2f-839a-4d6a-b928-f950ae665a88\" class=\"colab-df-container\">\n",
              "    <div>\n",
              "<style scoped>\n",
              "    .dataframe tbody tr th:only-of-type {\n",
              "        vertical-align: middle;\n",
              "    }\n",
              "\n",
              "    .dataframe tbody tr th {\n",
              "        vertical-align: top;\n",
              "    }\n",
              "\n",
              "    .dataframe thead th {\n",
              "        text-align: right;\n",
              "    }\n",
              "</style>\n",
              "<table border=\"1\" class=\"dataframe\">\n",
              "  <thead>\n",
              "    <tr style=\"text-align: right;\">\n",
              "      <th></th>\n",
              "      <th>restaurant_name</th>\n",
              "      <th>order_id</th>\n",
              "      <th>rating</th>\n",
              "    </tr>\n",
              "  </thead>\n",
              "  <tbody>\n",
              "    <tr>\n",
              "      <th>1893</th>\n",
              "      <td>Chipotle Mexican Grill $1.99 Delivery</td>\n",
              "      <td>1476701</td>\n",
              "      <td>5.00</td>\n",
              "    </tr>\n",
              "    <tr>\n",
              "      <th>1894</th>\n",
              "      <td>The Smile</td>\n",
              "      <td>1477421</td>\n",
              "      <td>5.00</td>\n",
              "    </tr>\n",
              "    <tr>\n",
              "      <th>1895</th>\n",
              "      <td>Blue Ribbon Sushi</td>\n",
              "      <td>1477819</td>\n",
              "      <td>NaN</td>\n",
              "    </tr>\n",
              "    <tr>\n",
              "      <th>1896</th>\n",
              "      <td>Jack's Wife Freda</td>\n",
              "      <td>1477513</td>\n",
              "      <td>5.00</td>\n",
              "    </tr>\n",
              "    <tr>\n",
              "      <th>1897</th>\n",
              "      <td>Blue Ribbon Sushi</td>\n",
              "      <td>1478056</td>\n",
              "      <td>NaN</td>\n",
              "    </tr>\n",
              "  </tbody>\n",
              "</table>\n",
              "</div>\n",
              "    <div class=\"colab-df-buttons\">\n",
              "\n",
              "  <div class=\"colab-df-container\">\n",
              "    <button class=\"colab-df-convert\" onclick=\"convertToInteractive('df-d037dd2f-839a-4d6a-b928-f950ae665a88')\"\n",
              "            title=\"Convert this dataframe to an interactive table.\"\n",
              "            style=\"display:none;\">\n",
              "\n",
              "  <svg xmlns=\"http://www.w3.org/2000/svg\" height=\"24px\" viewBox=\"0 -960 960 960\">\n",
              "    <path d=\"M120-120v-720h720v720H120Zm60-500h600v-160H180v160Zm220 220h160v-160H400v160Zm0 220h160v-160H400v160ZM180-400h160v-160H180v160Zm440 0h160v-160H620v160ZM180-180h160v-160H180v160Zm440 0h160v-160H620v160Z\"/>\n",
              "  </svg>\n",
              "    </button>\n",
              "\n",
              "  <style>\n",
              "    .colab-df-container {\n",
              "      display:flex;\n",
              "      gap: 12px;\n",
              "    }\n",
              "\n",
              "    .colab-df-convert {\n",
              "      background-color: #E8F0FE;\n",
              "      border: none;\n",
              "      border-radius: 50%;\n",
              "      cursor: pointer;\n",
              "      display: none;\n",
              "      fill: #1967D2;\n",
              "      height: 32px;\n",
              "      padding: 0 0 0 0;\n",
              "      width: 32px;\n",
              "    }\n",
              "\n",
              "    .colab-df-convert:hover {\n",
              "      background-color: #E2EBFA;\n",
              "      box-shadow: 0px 1px 2px rgba(60, 64, 67, 0.3), 0px 1px 3px 1px rgba(60, 64, 67, 0.15);\n",
              "      fill: #174EA6;\n",
              "    }\n",
              "\n",
              "    .colab-df-buttons div {\n",
              "      margin-bottom: 4px;\n",
              "    }\n",
              "\n",
              "    [theme=dark] .colab-df-convert {\n",
              "      background-color: #3B4455;\n",
              "      fill: #D2E3FC;\n",
              "    }\n",
              "\n",
              "    [theme=dark] .colab-df-convert:hover {\n",
              "      background-color: #434B5C;\n",
              "      box-shadow: 0px 1px 3px 1px rgba(0, 0, 0, 0.15);\n",
              "      filter: drop-shadow(0px 1px 2px rgba(0, 0, 0, 0.3));\n",
              "      fill: #FFFFFF;\n",
              "    }\n",
              "  </style>\n",
              "\n",
              "    <script>\n",
              "      const buttonEl =\n",
              "        document.querySelector('#df-d037dd2f-839a-4d6a-b928-f950ae665a88 button.colab-df-convert');\n",
              "      buttonEl.style.display =\n",
              "        google.colab.kernel.accessAllowed ? 'block' : 'none';\n",
              "\n",
              "      async function convertToInteractive(key) {\n",
              "        const element = document.querySelector('#df-d037dd2f-839a-4d6a-b928-f950ae665a88');\n",
              "        const dataTable =\n",
              "          await google.colab.kernel.invokeFunction('convertToInteractive',\n",
              "                                                    [key], {});\n",
              "        if (!dataTable) return;\n",
              "\n",
              "        const docLinkHtml = 'Like what you see? Visit the ' +\n",
              "          '<a target=\"_blank\" href=https://colab.research.google.com/notebooks/data_table.ipynb>data table notebook</a>'\n",
              "          + ' to learn more about interactive tables.';\n",
              "        element.innerHTML = '';\n",
              "        dataTable['output_type'] = 'display_data';\n",
              "        await google.colab.output.renderOutput(dataTable, element);\n",
              "        const docLink = document.createElement('div');\n",
              "        docLink.innerHTML = docLinkHtml;\n",
              "        element.appendChild(docLink);\n",
              "      }\n",
              "    </script>\n",
              "  </div>\n",
              "\n",
              "\n",
              "<div id=\"df-c8547939-8cf4-4f27-96ba-40dd89febd73\">\n",
              "  <button class=\"colab-df-quickchart\" onclick=\"quickchart('df-c8547939-8cf4-4f27-96ba-40dd89febd73')\"\n",
              "            title=\"Suggest charts\"\n",
              "            style=\"display:none;\">\n",
              "\n",
              "<svg xmlns=\"http://www.w3.org/2000/svg\" height=\"24px\"viewBox=\"0 0 24 24\"\n",
              "     width=\"24px\">\n",
              "    <g>\n",
              "        <path d=\"M19 3H5c-1.1 0-2 .9-2 2v14c0 1.1.9 2 2 2h14c1.1 0 2-.9 2-2V5c0-1.1-.9-2-2-2zM9 17H7v-7h2v7zm4 0h-2V7h2v10zm4 0h-2v-4h2v4z\"/>\n",
              "    </g>\n",
              "</svg>\n",
              "  </button>\n",
              "\n",
              "<style>\n",
              "  .colab-df-quickchart {\n",
              "      --bg-color: #E8F0FE;\n",
              "      --fill-color: #1967D2;\n",
              "      --hover-bg-color: #E2EBFA;\n",
              "      --hover-fill-color: #174EA6;\n",
              "      --disabled-fill-color: #AAA;\n",
              "      --disabled-bg-color: #DDD;\n",
              "  }\n",
              "\n",
              "  [theme=dark] .colab-df-quickchart {\n",
              "      --bg-color: #3B4455;\n",
              "      --fill-color: #D2E3FC;\n",
              "      --hover-bg-color: #434B5C;\n",
              "      --hover-fill-color: #FFFFFF;\n",
              "      --disabled-bg-color: #3B4455;\n",
              "      --disabled-fill-color: #666;\n",
              "  }\n",
              "\n",
              "  .colab-df-quickchart {\n",
              "    background-color: var(--bg-color);\n",
              "    border: none;\n",
              "    border-radius: 50%;\n",
              "    cursor: pointer;\n",
              "    display: none;\n",
              "    fill: var(--fill-color);\n",
              "    height: 32px;\n",
              "    padding: 0;\n",
              "    width: 32px;\n",
              "  }\n",
              "\n",
              "  .colab-df-quickchart:hover {\n",
              "    background-color: var(--hover-bg-color);\n",
              "    box-shadow: 0 1px 2px rgba(60, 64, 67, 0.3), 0 1px 3px 1px rgba(60, 64, 67, 0.15);\n",
              "    fill: var(--button-hover-fill-color);\n",
              "  }\n",
              "\n",
              "  .colab-df-quickchart-complete:disabled,\n",
              "  .colab-df-quickchart-complete:disabled:hover {\n",
              "    background-color: var(--disabled-bg-color);\n",
              "    fill: var(--disabled-fill-color);\n",
              "    box-shadow: none;\n",
              "  }\n",
              "\n",
              "  .colab-df-spinner {\n",
              "    border: 2px solid var(--fill-color);\n",
              "    border-color: transparent;\n",
              "    border-bottom-color: var(--fill-color);\n",
              "    animation:\n",
              "      spin 1s steps(1) infinite;\n",
              "  }\n",
              "\n",
              "  @keyframes spin {\n",
              "    0% {\n",
              "      border-color: transparent;\n",
              "      border-bottom-color: var(--fill-color);\n",
              "      border-left-color: var(--fill-color);\n",
              "    }\n",
              "    20% {\n",
              "      border-color: transparent;\n",
              "      border-left-color: var(--fill-color);\n",
              "      border-top-color: var(--fill-color);\n",
              "    }\n",
              "    30% {\n",
              "      border-color: transparent;\n",
              "      border-left-color: var(--fill-color);\n",
              "      border-top-color: var(--fill-color);\n",
              "      border-right-color: var(--fill-color);\n",
              "    }\n",
              "    40% {\n",
              "      border-color: transparent;\n",
              "      border-right-color: var(--fill-color);\n",
              "      border-top-color: var(--fill-color);\n",
              "    }\n",
              "    60% {\n",
              "      border-color: transparent;\n",
              "      border-right-color: var(--fill-color);\n",
              "    }\n",
              "    80% {\n",
              "      border-color: transparent;\n",
              "      border-right-color: var(--fill-color);\n",
              "      border-bottom-color: var(--fill-color);\n",
              "    }\n",
              "    90% {\n",
              "      border-color: transparent;\n",
              "      border-bottom-color: var(--fill-color);\n",
              "    }\n",
              "  }\n",
              "</style>\n",
              "\n",
              "  <script>\n",
              "    async function quickchart(key) {\n",
              "      const quickchartButtonEl =\n",
              "        document.querySelector('#' + key + ' button');\n",
              "      quickchartButtonEl.disabled = true;  // To prevent multiple clicks.\n",
              "      quickchartButtonEl.classList.add('colab-df-spinner');\n",
              "      try {\n",
              "        const charts = await google.colab.kernel.invokeFunction(\n",
              "            'suggestCharts', [key], {});\n",
              "      } catch (error) {\n",
              "        console.error('Error during call to suggestCharts:', error);\n",
              "      }\n",
              "      quickchartButtonEl.classList.remove('colab-df-spinner');\n",
              "      quickchartButtonEl.classList.add('colab-df-quickchart-complete');\n",
              "    }\n",
              "    (() => {\n",
              "      let quickchartButtonEl =\n",
              "        document.querySelector('#df-c8547939-8cf4-4f27-96ba-40dd89febd73 button');\n",
              "      quickchartButtonEl.style.display =\n",
              "        google.colab.kernel.accessAllowed ? 'block' : 'none';\n",
              "    })();\n",
              "  </script>\n",
              "</div>\n",
              "\n",
              "    </div>\n",
              "  </div>\n"
            ],
            "application/vnd.google.colaboratory.intrinsic+json": {
              "type": "dataframe",
              "summary": "{\n  \"name\": \"promo_group\",\n  \"rows\": 5,\n  \"fields\": [\n    {\n      \"column\": \"restaurant_name\",\n      \"properties\": {\n        \"dtype\": \"string\",\n        \"num_unique_values\": 4,\n        \"samples\": [\n          \"The Smile\",\n          \"Jack's Wife Freda\",\n          \"Chipotle Mexican Grill $1.99 Delivery\"\n        ],\n        \"semantic_type\": \"\",\n        \"description\": \"\"\n      }\n    },\n    {\n      \"column\": \"order_id\",\n      \"properties\": {\n        \"dtype\": \"number\",\n        \"std\": 513,\n        \"min\": 1476701,\n        \"max\": 1478056,\n        \"num_unique_values\": 5,\n        \"samples\": [\n          1477421,\n          1478056,\n          1477819\n        ],\n        \"semantic_type\": \"\",\n        \"description\": \"\"\n      }\n    },\n    {\n      \"column\": \"rating\",\n      \"properties\": {\n        \"dtype\": \"number\",\n        \"std\": 0.0,\n        \"min\": 5.0,\n        \"max\": 5.0,\n        \"num_unique_values\": 1,\n        \"samples\": [\n          5.0\n        ],\n        \"semantic_type\": \"\",\n        \"description\": \"\"\n      }\n    }\n  ]\n}"
            }
          },
          "metadata": {},
          "execution_count": 122
        }
      ]
    },
    {
      "cell_type": "code",
      "source": [
        "#change the 'rating' column type to a float\n",
        "promo_group['rating']=promo_group['rating'].astype(float)\n",
        "promo_group.info()"
      ],
      "metadata": {
        "colab": {
          "base_uri": "https://localhost:8080/"
        },
        "id": "EoNFEpcNks60",
        "outputId": "9d309cea-2cc9-434a-cfd6-c452275d769a"
      },
      "execution_count": null,
      "outputs": [
        {
          "output_type": "stream",
          "name": "stdout",
          "text": [
            "<class 'pandas.core.frame.DataFrame'>\n",
            "RangeIndex: 1898 entries, 0 to 1897\n",
            "Data columns (total 3 columns):\n",
            " #   Column           Non-Null Count  Dtype  \n",
            "---  ------           --------------  -----  \n",
            " 0   restaurant_name  1898 non-null   object \n",
            " 1   order_id         1898 non-null   int64  \n",
            " 2   rating           1162 non-null   float64\n",
            "dtypes: float64(1), int64(1), object(1)\n",
            "memory usage: 44.6+ KB\n"
          ]
        }
      ]
    },
    {
      "cell_type": "code",
      "source": [
        "#Here is the number of ratings each (178) restaurant has:\n",
        "r_cnt = promo_group.groupby(['restaurant_name'])['rating'].nunique()\n",
        "print(r_cnt)\n",
        "r_cnt.max()\n",
        "r_cnt.value_counts()"
      ],
      "metadata": {
        "colab": {
          "base_uri": "https://localhost:8080/"
        },
        "id": "jzTATVLHsboV",
        "outputId": "27106764-895a-4d1c-d489-798d7364cb01"
      },
      "execution_count": null,
      "outputs": [
        {
          "output_type": "stream",
          "name": "stdout",
          "text": [
            "restaurant_name\n",
            "'wichcraft          1\n",
            "12 Chairs           2\n",
            "5 Napkin Burger     2\n",
            "67 Burger           1\n",
            "Alidoro             0\n",
            "                   ..\n",
            "Zero Otto Nove      1\n",
            "brgr                1\n",
            "da Umberto          1\n",
            "ilili Restaurant    3\n",
            "indikitch           2\n",
            "Name: rating, Length: 178, dtype: int64\n"
          ]
        },
        {
          "output_type": "execute_result",
          "data": {
            "text/plain": [
              "1    74\n",
              "3    43\n",
              "2    39\n",
              "0    22\n",
              "Name: rating, dtype: int64"
            ]
          },
          "metadata": {},
          "execution_count": 133
        }
      ]
    },
    {
      "cell_type": "code",
      "source": [
        "promo_group.groupby(['restaurant_name'])['rating'].count().sort_values(ascending=False)"
      ],
      "metadata": {
        "colab": {
          "base_uri": "https://localhost:8080/"
        },
        "id": "CbWURIqfX6Fj",
        "outputId": "619c42b0-c9d6-4090-d54c-d65eed41ad02"
      },
      "execution_count": null,
      "outputs": [
        {
          "output_type": "execute_result",
          "data": {
            "text/plain": [
              "restaurant_name\n",
              "Shake Shack                  133\n",
              "The Meatball Shop             84\n",
              "Blue Ribbon Sushi             73\n",
              "Blue Ribbon Fried Chicken     64\n",
              "RedFarm Broadway              41\n",
              "                            ... \n",
              "Market Table                   0\n",
              "Paul & Jimmy's                 0\n",
              "Room Service                   0\n",
              "Rohm Thai                      0\n",
              "Lamarca Pasta                  0\n",
              "Name: rating, Length: 178, dtype: int64"
            ]
          },
          "metadata": {},
          "execution_count": 223
        }
      ]
    },
    {
      "cell_type": "code",
      "source": [
        "#Here is the list of 178 restaurants with their average rating:\n",
        "avg_r = promo_group.groupby(['restaurant_name'])['rating'].mean()\n",
        "print(avg_r)\n",
        "avg_r.min()\n",
        "avg_r.value_counts()"
      ],
      "metadata": {
        "colab": {
          "base_uri": "https://localhost:8080/"
        },
        "id": "GLYsXgY1hy1O",
        "outputId": "be4218ca-9f77-456a-fd58-6bbe3a574668"
      },
      "execution_count": null,
      "outputs": [
        {
          "output_type": "stream",
          "name": "stdout",
          "text": [
            "restaurant_name\n",
            "'wichcraft         5.00\n",
            "12 Chairs          4.50\n",
            "5 Napkin Burger    4.00\n",
            "67 Burger          5.00\n",
            "Alidoro             NaN\n",
            "                   ... \n",
            "Zero Otto Nove     4.00\n",
            "brgr               3.00\n",
            "da Umberto         5.00\n",
            "ilili Restaurant   4.15\n",
            "indikitch          4.50\n",
            "Name: rating, Length: 178, dtype: float64\n"
          ]
        },
        {
          "output_type": "execute_result",
          "data": {
            "text/plain": [
              "5.00    47\n",
              "4.00    29\n",
              "4.50    10\n",
              "3.00     8\n",
              "4.67     7\n",
              "3.50     5\n",
              "4.33     5\n",
              "4.25     3\n",
              "4.71     2\n",
              "4.42     2\n",
              "4.56     2\n",
              "4.27     2\n",
              "4.15     2\n",
              "4.75     2\n",
              "4.20     2\n",
              "4.24     1\n",
              "4.62     1\n",
              "4.24     1\n",
              "4.36     1\n",
              "4.40     1\n",
              "4.70     1\n",
              "4.88     1\n",
              "4.51     1\n",
              "3.75     1\n",
              "4.28     1\n",
              "3.67     1\n",
              "4.12     1\n",
              "4.18     1\n",
              "4.36     1\n",
              "4.13     1\n",
              "4.30     1\n",
              "4.86     1\n",
              "4.35     1\n",
              "4.32     1\n",
              "4.43     1\n",
              "4.60     1\n",
              "3.25     1\n",
              "4.59     1\n",
              "4.22     1\n",
              "4.33     1\n",
              "3.33     1\n",
              "4.06     1\n",
              "4.29     1\n",
              "Name: rating, dtype: int64"
            ]
          },
          "metadata": {},
          "execution_count": 132
        }
      ]
    },
    {
      "cell_type": "code",
      "source": [
        "#find number of restaurants with ratings averaging above  (see q 7 for the 6 restaurants that have more than 50 orders)"
      ],
      "metadata": {
        "id": "LSbE5LYgAFl1"
      },
      "execution_count": null,
      "outputs": []
    },
    {
      "cell_type": "code",
      "source": [
        "#aggregation method of finding both rating average and number of ratings for each restaurant\n",
        "selected=promo_group.groupby(promo_group['restaurant_name'])['rating'].agg(['mean','count'])\n",
        "selected[selected['count']>50].sort_values(by='count',ascending=False)"
      ],
      "metadata": {
        "colab": {
          "base_uri": "https://localhost:8080/",
          "height": 206
        },
        "id": "pR5DnXe-Uod5",
        "outputId": "4c81ee25-fe01-4742-c1ab-5beb7eb79fb3"
      },
      "execution_count": null,
      "outputs": [
        {
          "output_type": "execute_result",
          "data": {
            "text/plain": [
              "                           mean  count\n",
              "restaurant_name                       \n",
              "Shake Shack                4.28    133\n",
              "The Meatball Shop          4.51     84\n",
              "Blue Ribbon Sushi          4.22     73\n",
              "Blue Ribbon Fried Chicken  4.33     64"
            ],
            "text/html": [
              "\n",
              "  <div id=\"df-b958e891-3782-424d-9619-901486b8e21e\" class=\"colab-df-container\">\n",
              "    <div>\n",
              "<style scoped>\n",
              "    .dataframe tbody tr th:only-of-type {\n",
              "        vertical-align: middle;\n",
              "    }\n",
              "\n",
              "    .dataframe tbody tr th {\n",
              "        vertical-align: top;\n",
              "    }\n",
              "\n",
              "    .dataframe thead th {\n",
              "        text-align: right;\n",
              "    }\n",
              "</style>\n",
              "<table border=\"1\" class=\"dataframe\">\n",
              "  <thead>\n",
              "    <tr style=\"text-align: right;\">\n",
              "      <th></th>\n",
              "      <th>mean</th>\n",
              "      <th>count</th>\n",
              "    </tr>\n",
              "    <tr>\n",
              "      <th>restaurant_name</th>\n",
              "      <th></th>\n",
              "      <th></th>\n",
              "    </tr>\n",
              "  </thead>\n",
              "  <tbody>\n",
              "    <tr>\n",
              "      <th>Shake Shack</th>\n",
              "      <td>4.28</td>\n",
              "      <td>133</td>\n",
              "    </tr>\n",
              "    <tr>\n",
              "      <th>The Meatball Shop</th>\n",
              "      <td>4.51</td>\n",
              "      <td>84</td>\n",
              "    </tr>\n",
              "    <tr>\n",
              "      <th>Blue Ribbon Sushi</th>\n",
              "      <td>4.22</td>\n",
              "      <td>73</td>\n",
              "    </tr>\n",
              "    <tr>\n",
              "      <th>Blue Ribbon Fried Chicken</th>\n",
              "      <td>4.33</td>\n",
              "      <td>64</td>\n",
              "    </tr>\n",
              "  </tbody>\n",
              "</table>\n",
              "</div>\n",
              "    <div class=\"colab-df-buttons\">\n",
              "\n",
              "  <div class=\"colab-df-container\">\n",
              "    <button class=\"colab-df-convert\" onclick=\"convertToInteractive('df-b958e891-3782-424d-9619-901486b8e21e')\"\n",
              "            title=\"Convert this dataframe to an interactive table.\"\n",
              "            style=\"display:none;\">\n",
              "\n",
              "  <svg xmlns=\"http://www.w3.org/2000/svg\" height=\"24px\" viewBox=\"0 -960 960 960\">\n",
              "    <path d=\"M120-120v-720h720v720H120Zm60-500h600v-160H180v160Zm220 220h160v-160H400v160Zm0 220h160v-160H400v160ZM180-400h160v-160H180v160Zm440 0h160v-160H620v160ZM180-180h160v-160H180v160Zm440 0h160v-160H620v160Z\"/>\n",
              "  </svg>\n",
              "    </button>\n",
              "\n",
              "  <style>\n",
              "    .colab-df-container {\n",
              "      display:flex;\n",
              "      gap: 12px;\n",
              "    }\n",
              "\n",
              "    .colab-df-convert {\n",
              "      background-color: #E8F0FE;\n",
              "      border: none;\n",
              "      border-radius: 50%;\n",
              "      cursor: pointer;\n",
              "      display: none;\n",
              "      fill: #1967D2;\n",
              "      height: 32px;\n",
              "      padding: 0 0 0 0;\n",
              "      width: 32px;\n",
              "    }\n",
              "\n",
              "    .colab-df-convert:hover {\n",
              "      background-color: #E2EBFA;\n",
              "      box-shadow: 0px 1px 2px rgba(60, 64, 67, 0.3), 0px 1px 3px 1px rgba(60, 64, 67, 0.15);\n",
              "      fill: #174EA6;\n",
              "    }\n",
              "\n",
              "    .colab-df-buttons div {\n",
              "      margin-bottom: 4px;\n",
              "    }\n",
              "\n",
              "    [theme=dark] .colab-df-convert {\n",
              "      background-color: #3B4455;\n",
              "      fill: #D2E3FC;\n",
              "    }\n",
              "\n",
              "    [theme=dark] .colab-df-convert:hover {\n",
              "      background-color: #434B5C;\n",
              "      box-shadow: 0px 1px 3px 1px rgba(0, 0, 0, 0.15);\n",
              "      filter: drop-shadow(0px 1px 2px rgba(0, 0, 0, 0.3));\n",
              "      fill: #FFFFFF;\n",
              "    }\n",
              "  </style>\n",
              "\n",
              "    <script>\n",
              "      const buttonEl =\n",
              "        document.querySelector('#df-b958e891-3782-424d-9619-901486b8e21e button.colab-df-convert');\n",
              "      buttonEl.style.display =\n",
              "        google.colab.kernel.accessAllowed ? 'block' : 'none';\n",
              "\n",
              "      async function convertToInteractive(key) {\n",
              "        const element = document.querySelector('#df-b958e891-3782-424d-9619-901486b8e21e');\n",
              "        const dataTable =\n",
              "          await google.colab.kernel.invokeFunction('convertToInteractive',\n",
              "                                                    [key], {});\n",
              "        if (!dataTable) return;\n",
              "\n",
              "        const docLinkHtml = 'Like what you see? Visit the ' +\n",
              "          '<a target=\"_blank\" href=https://colab.research.google.com/notebooks/data_table.ipynb>data table notebook</a>'\n",
              "          + ' to learn more about interactive tables.';\n",
              "        element.innerHTML = '';\n",
              "        dataTable['output_type'] = 'display_data';\n",
              "        await google.colab.output.renderOutput(dataTable, element);\n",
              "        const docLink = document.createElement('div');\n",
              "        docLink.innerHTML = docLinkHtml;\n",
              "        element.appendChild(docLink);\n",
              "      }\n",
              "    </script>\n",
              "  </div>\n",
              "\n",
              "\n",
              "<div id=\"df-4a3a73ab-69d1-432b-a1f5-d2f424e050a9\">\n",
              "  <button class=\"colab-df-quickchart\" onclick=\"quickchart('df-4a3a73ab-69d1-432b-a1f5-d2f424e050a9')\"\n",
              "            title=\"Suggest charts\"\n",
              "            style=\"display:none;\">\n",
              "\n",
              "<svg xmlns=\"http://www.w3.org/2000/svg\" height=\"24px\"viewBox=\"0 0 24 24\"\n",
              "     width=\"24px\">\n",
              "    <g>\n",
              "        <path d=\"M19 3H5c-1.1 0-2 .9-2 2v14c0 1.1.9 2 2 2h14c1.1 0 2-.9 2-2V5c0-1.1-.9-2-2-2zM9 17H7v-7h2v7zm4 0h-2V7h2v10zm4 0h-2v-4h2v4z\"/>\n",
              "    </g>\n",
              "</svg>\n",
              "  </button>\n",
              "\n",
              "<style>\n",
              "  .colab-df-quickchart {\n",
              "      --bg-color: #E8F0FE;\n",
              "      --fill-color: #1967D2;\n",
              "      --hover-bg-color: #E2EBFA;\n",
              "      --hover-fill-color: #174EA6;\n",
              "      --disabled-fill-color: #AAA;\n",
              "      --disabled-bg-color: #DDD;\n",
              "  }\n",
              "\n",
              "  [theme=dark] .colab-df-quickchart {\n",
              "      --bg-color: #3B4455;\n",
              "      --fill-color: #D2E3FC;\n",
              "      --hover-bg-color: #434B5C;\n",
              "      --hover-fill-color: #FFFFFF;\n",
              "      --disabled-bg-color: #3B4455;\n",
              "      --disabled-fill-color: #666;\n",
              "  }\n",
              "\n",
              "  .colab-df-quickchart {\n",
              "    background-color: var(--bg-color);\n",
              "    border: none;\n",
              "    border-radius: 50%;\n",
              "    cursor: pointer;\n",
              "    display: none;\n",
              "    fill: var(--fill-color);\n",
              "    height: 32px;\n",
              "    padding: 0;\n",
              "    width: 32px;\n",
              "  }\n",
              "\n",
              "  .colab-df-quickchart:hover {\n",
              "    background-color: var(--hover-bg-color);\n",
              "    box-shadow: 0 1px 2px rgba(60, 64, 67, 0.3), 0 1px 3px 1px rgba(60, 64, 67, 0.15);\n",
              "    fill: var(--button-hover-fill-color);\n",
              "  }\n",
              "\n",
              "  .colab-df-quickchart-complete:disabled,\n",
              "  .colab-df-quickchart-complete:disabled:hover {\n",
              "    background-color: var(--disabled-bg-color);\n",
              "    fill: var(--disabled-fill-color);\n",
              "    box-shadow: none;\n",
              "  }\n",
              "\n",
              "  .colab-df-spinner {\n",
              "    border: 2px solid var(--fill-color);\n",
              "    border-color: transparent;\n",
              "    border-bottom-color: var(--fill-color);\n",
              "    animation:\n",
              "      spin 1s steps(1) infinite;\n",
              "  }\n",
              "\n",
              "  @keyframes spin {\n",
              "    0% {\n",
              "      border-color: transparent;\n",
              "      border-bottom-color: var(--fill-color);\n",
              "      border-left-color: var(--fill-color);\n",
              "    }\n",
              "    20% {\n",
              "      border-color: transparent;\n",
              "      border-left-color: var(--fill-color);\n",
              "      border-top-color: var(--fill-color);\n",
              "    }\n",
              "    30% {\n",
              "      border-color: transparent;\n",
              "      border-left-color: var(--fill-color);\n",
              "      border-top-color: var(--fill-color);\n",
              "      border-right-color: var(--fill-color);\n",
              "    }\n",
              "    40% {\n",
              "      border-color: transparent;\n",
              "      border-right-color: var(--fill-color);\n",
              "      border-top-color: var(--fill-color);\n",
              "    }\n",
              "    60% {\n",
              "      border-color: transparent;\n",
              "      border-right-color: var(--fill-color);\n",
              "    }\n",
              "    80% {\n",
              "      border-color: transparent;\n",
              "      border-right-color: var(--fill-color);\n",
              "      border-bottom-color: var(--fill-color);\n",
              "    }\n",
              "    90% {\n",
              "      border-color: transparent;\n",
              "      border-bottom-color: var(--fill-color);\n",
              "    }\n",
              "  }\n",
              "</style>\n",
              "\n",
              "  <script>\n",
              "    async function quickchart(key) {\n",
              "      const quickchartButtonEl =\n",
              "        document.querySelector('#' + key + ' button');\n",
              "      quickchartButtonEl.disabled = true;  // To prevent multiple clicks.\n",
              "      quickchartButtonEl.classList.add('colab-df-spinner');\n",
              "      try {\n",
              "        const charts = await google.colab.kernel.invokeFunction(\n",
              "            'suggestCharts', [key], {});\n",
              "      } catch (error) {\n",
              "        console.error('Error during call to suggestCharts:', error);\n",
              "      }\n",
              "      quickchartButtonEl.classList.remove('colab-df-spinner');\n",
              "      quickchartButtonEl.classList.add('colab-df-quickchart-complete');\n",
              "    }\n",
              "    (() => {\n",
              "      let quickchartButtonEl =\n",
              "        document.querySelector('#df-4a3a73ab-69d1-432b-a1f5-d2f424e050a9 button');\n",
              "      quickchartButtonEl.style.display =\n",
              "        google.colab.kernel.accessAllowed ? 'block' : 'none';\n",
              "    })();\n",
              "  </script>\n",
              "</div>\n",
              "\n",
              "    </div>\n",
              "  </div>\n"
            ],
            "application/vnd.google.colaboratory.intrinsic+json": {
              "type": "dataframe",
              "summary": "{\n  \"name\": \"selected[selected['count']>50]\",\n  \"rows\": 4,\n  \"fields\": [\n    {\n      \"column\": \"mean\",\n      \"properties\": {\n        \"dtype\": \"number\",\n        \"std\": 0.1264678402938812,\n        \"min\": 4.219178082191781,\n        \"max\": 4.511904761904762,\n        \"num_unique_values\": 4,\n        \"samples\": [\n          4.511904761904762,\n          4.328125,\n          4.2781954887218046\n        ],\n        \"semantic_type\": \"\",\n        \"description\": \"\"\n      }\n    },\n    {\n      \"column\": \"count\",\n      \"properties\": {\n        \"dtype\": \"number\",\n        \"std\": 30,\n        \"min\": 64,\n        \"max\": 133,\n        \"num_unique_values\": 4,\n        \"samples\": [\n          84,\n          64,\n          133\n        ],\n        \"semantic_type\": \"\",\n        \"description\": \"\"\n      }\n    }\n  ]\n}"
            }
          },
          "metadata": {},
          "execution_count": 234
        }
      ]
    },
    {
      "cell_type": "markdown",
      "metadata": {
        "id": "10uryUMhJY_V"
      },
      "source": [
        "#### Observations:\n"
      ]
    },
    {
      "cell_type": "markdown",
      "metadata": {
        "id": "1gvWBkRUJY_V"
      },
      "source": [
        "### **Question 14:** The company charges the restaurant 25% on the orders having cost greater than 20 dollars and 15% on the orders having cost greater than 5 dollars. Find the net revenue generated by the company across all orders. [3 marks]"
      ]
    },
    {
      "cell_type": "code",
      "execution_count": null,
      "metadata": {
        "id": "rEjbnTNEJY_W"
      },
      "outputs": [],
      "source": [
        "# Write the code here"
      ]
    },
    {
      "cell_type": "markdown",
      "metadata": {
        "id": "XHCEJgH0JY_W"
      },
      "source": [
        "#### Observations:\n"
      ]
    },
    {
      "cell_type": "markdown",
      "metadata": {
        "id": "pRlVW-oeJY_W"
      },
      "source": [
        "### **Question 15:** The company wants to analyze the total time required to deliver the food. What percentage of orders take more than 60 minutes to get delivered from the time the order is placed? (The food has to be prepared and then delivered.) [2 marks]"
      ]
    },
    {
      "cell_type": "code",
      "execution_count": null,
      "metadata": {
        "id": "zxoTrxfLJY_W",
        "colab": {
          "base_uri": "https://localhost:8080/",
          "height": 211
        },
        "outputId": "bcb25aed-5c45-476f-f11e-742719e00684"
      },
      "outputs": [
        {
          "output_type": "error",
          "ename": "SyntaxError",
          "evalue": "closing parenthesis ')' does not match opening parenthesis '[' (<ipython-input-153-1e26f68b34fb>, line 1)",
          "traceback": [
            "\u001b[0;31m---------------------------------------------------------------------------\u001b[0m",
            "\u001b[0;31mSyntaxError\u001b[0m                               Traceback (most recent call last)",
            "\u001b[0;32m/usr/local/lib/python3.10/dist-packages/IPython/core/compilerop.py\u001b[0m in \u001b[0;36mast_parse\u001b[0;34m(self, source, filename, symbol)\u001b[0m\n\u001b[1;32m     99\u001b[0m         \u001b[0mArguments\u001b[0m \u001b[0mare\u001b[0m \u001b[0mexactly\u001b[0m \u001b[0mthe\u001b[0m \u001b[0msame\u001b[0m \u001b[0;32mas\u001b[0m \u001b[0mast\u001b[0m\u001b[0;34m.\u001b[0m\u001b[0mparse\u001b[0m \u001b[0;34m(\u001b[0m\u001b[0;32min\u001b[0m \u001b[0mthe\u001b[0m \u001b[0mstandard\u001b[0m \u001b[0mlibrary\u001b[0m\u001b[0;34m)\u001b[0m\u001b[0;34m,\u001b[0m\u001b[0;34m\u001b[0m\u001b[0;34m\u001b[0m\u001b[0m\n\u001b[1;32m    100\u001b[0m         and are passed to the built-in compile function.\"\"\"\n\u001b[0;32m--> 101\u001b[0;31m         \u001b[0;32mreturn\u001b[0m \u001b[0mcompile\u001b[0m\u001b[0;34m(\u001b[0m\u001b[0msource\u001b[0m\u001b[0;34m,\u001b[0m \u001b[0mfilename\u001b[0m\u001b[0;34m,\u001b[0m \u001b[0msymbol\u001b[0m\u001b[0;34m,\u001b[0m \u001b[0mself\u001b[0m\u001b[0;34m.\u001b[0m\u001b[0mflags\u001b[0m \u001b[0;34m|\u001b[0m \u001b[0mPyCF_ONLY_AST\u001b[0m\u001b[0;34m,\u001b[0m \u001b[0;36m1\u001b[0m\u001b[0;34m)\u001b[0m\u001b[0;34m\u001b[0m\u001b[0;34m\u001b[0m\u001b[0m\n\u001b[0m\u001b[1;32m    102\u001b[0m \u001b[0;34m\u001b[0m\u001b[0m\n\u001b[1;32m    103\u001b[0m     \u001b[0;32mdef\u001b[0m \u001b[0mreset_compiler_flags\u001b[0m\u001b[0;34m(\u001b[0m\u001b[0mself\u001b[0m\u001b[0;34m)\u001b[0m\u001b[0;34m:\u001b[0m\u001b[0;34m\u001b[0m\u001b[0;34m\u001b[0m\u001b[0m\n",
            "\u001b[0;31mSyntaxError\u001b[0m: closing parenthesis ')' does not match opening parenthesis '[' (<ipython-input-153-1e26f68b34fb>, line 1)"
          ]
        }
      ],
      "source": [
        "total_time=[['food_preparation_time'])['delivery_time'].sum()))]\n",
        "total_time"
      ]
    },
    {
      "cell_type": "markdown",
      "metadata": {
        "id": "iqzBXn2yJY_W"
      },
      "source": [
        "#### Observations:\n"
      ]
    },
    {
      "cell_type": "markdown",
      "metadata": {
        "id": "bUd6cYpPJY_W"
      },
      "source": [
        "### **Question 16:** The company wants to analyze the delivery time of the orders on weekdays and weekends. How does the mean delivery time vary during weekdays and weekends? [2 marks]"
      ]
    },
    {
      "cell_type": "code",
      "execution_count": null,
      "metadata": {
        "id": "pIU5xZZ6JY_W"
      },
      "outputs": [],
      "source": [
        "# Write the code here"
      ]
    },
    {
      "cell_type": "markdown",
      "metadata": {
        "id": "8H-ODxbVJY_W"
      },
      "source": [
        "#### Observations:\n"
      ]
    },
    {
      "cell_type": "markdown",
      "metadata": {
        "id": "17roJywaJY_W"
      },
      "source": [
        "### Conclusion and Recommendations"
      ]
    },
    {
      "cell_type": "markdown",
      "metadata": {
        "id": "ZdX2Wz4FJY_W"
      },
      "source": [
        "### **Question 17:** What are your conclusions from the analysis? What recommendations would you like to share to help improve the business? (You can use cuisine type and feedback ratings to drive your business recommendations.) [6 marks]"
      ]
    },
    {
      "cell_type": "markdown",
      "metadata": {
        "id": "VTugVsL4Ddz-"
      },
      "source": [
        "### Conclusions:\n",
        "*  "
      ]
    },
    {
      "cell_type": "markdown",
      "source": [
        "### Recommendations:\n",
        "\n",
        "*  "
      ],
      "metadata": {
        "id": "PWnsI0i_guWJ"
      }
    },
    {
      "cell_type": "markdown",
      "source": [
        "---"
      ],
      "metadata": {
        "id": "tSoucKKbg9Hc"
      }
    }
  ],
  "metadata": {
    "colab": {
      "collapsed_sections": [
        "c3kenV4vJY_Q",
        "pF_92MN6JY_S",
        "MnJo7MWrJY_S",
        "cw3l58z_JY_T",
        "0RHZnugBJY_U",
        "GdPku9U0TdSH",
        "l2vXJRK9e7Ib",
        "N7Hk0B2NT0dT",
        "SFj6WOhUT7W_",
        "z9p13nZWUDs_",
        "K9CqA5H_JY_U",
        "gWPMqGq0JY_U",
        "88xgTqkxJY_U",
        "HFyHn7hsJY_V",
        "48IjaOuDJY_V"
      ],
      "provenance": []
    },
    "kernelspec": {
      "display_name": "Python 3 (ipykernel)",
      "language": "python",
      "name": "python3"
    },
    "language_info": {
      "codemirror_mode": {
        "name": "ipython",
        "version": 3
      },
      "file_extension": ".py",
      "mimetype": "text/x-python",
      "name": "python",
      "nbconvert_exporter": "python",
      "pygments_lexer": "ipython3",
      "version": "3.9.7"
    }
  },
  "nbformat": 4,
  "nbformat_minor": 0
}